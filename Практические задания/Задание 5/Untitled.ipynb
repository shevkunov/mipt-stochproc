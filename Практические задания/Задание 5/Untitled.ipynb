{
 "cells": [
  {
   "cell_type": "code",
   "execution_count": 11,
   "metadata": {
    "collapsed": false
   },
   "outputs": [
    {
     "data": {
      "image/png": "[encoded data removed]",
      "text/plain": [
       "<matplotlib.figure.Figure at 0x7f8945d7c1d0>"
      ]
     },
     "metadata": {},
     "output_type": "display_data"
    }
   ],
   "source": [
    "import numpy as np\n",
    "import matplotlib.pyplot as plt\n",
    "d = np.array([0.28,\n",
    "0.40,\n",
    "0.40,\n",
    "0.54,\n",
    "0.74,\n",
    "0.76,\n",
    "0.80,\n",
    "0.80,\n",
    "0.84,\n",
    "0.60,\n",
    "0.95,\n",
    "1.00,\n",
    "1.01,\n",
    "1.02,\n",
    "1.03,\n",
    "1.12,\n",
    "1.15,\n",
    "1.30,\n",
    "1.33,\n",
    "1.09,\n",
    "1.38,\n",
    "1.41,\n",
    "1.52,\n",
    "1.54,\n",
    "1.71,\n",
    "1.92,\n",
    "2.01,\n",
    "2.02,\n",
    "2.30,\n",
    "2.50,\n",
    "2.55])\n",
    "\n",
    "plt.figure(figsize=(10,5))\n",
    "plt.scatter(d, np.zeros(len(d)), color=\"red\")\n",
    "plt.hist(d, bins=8)\n",
    "plt.show()"
   ]
  },
  {
   "cell_type": "code",
   "execution_count": null,
   "metadata": {
    "collapsed": true
   },
   "outputs": [],
   "source": []
  }
 ],
 "metadata": {
  "kernelspec": {
   "display_name": "Python 3",
   "language": "python",
   "name": "python3"
  },
  "language_info": {
   "codemirror_mode": {
    "name": "ipython",
    "version": 3
   },
   "file_extension": ".py",
   "mimetype": "text/x-python",
   "name": "python",
   "nbconvert_exporter": "python",
   "pygments_lexer": "ipython3",
   "version": "3.5.2"
  }
 },
 "nbformat": 4,
 "nbformat_minor": 2
}
