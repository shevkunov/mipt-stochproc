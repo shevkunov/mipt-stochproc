{
 "cells": [
  {
   "cell_type": "markdown",
   "metadata": {
    "deletable": true,
    "editable": true
   },
   "source": [
    "# Случайные процессы. Прикладной поток.\n",
    "## Практическое задание 1\n",
    "\n",
    "**Правила:**\n",
    "\n",
    "* Выполненную работу нужно отправить на почту `probability.diht@yandex.ru`, указав тему письма `\"[СП17] Фамилия Имя - Задание 1\"`. Квадратные скобки обязательны. Вместо `Фамилия Имя` нужно подставить свои фамилию и имя.\n",
    "* Прислать нужно ноутбук и его pdf-версию. Названия файлов должны быть такими: `1.N.ipynb` и `1.N.pdf`, где `N` - ваш номер из таблицы с оценками.\n",
    "* Никакой код из данного задания при проверке запускаться не будет.\n",
    "* Дедлайн и система оценивания будут объявлены позже."
   ]
  },
  {
   "cell_type": "markdown",
   "metadata": {
    "deletable": true,
    "editable": true
   },
   "source": [
    "<IMG SRC=\"https://www.wikitree.com/images/wikitree-logo.png\">\n",
    "\n",
    "\n",
    "В Британской империи в Викторианскую эпоху (1837—1901) было обращено внимание на вымирание аристократических фамилий. В связи с этим в своей статье в The Educational Times в 1873 году Гальтон поставил вопрос о вероятности вымирания фамилии. Решение этого вопроса нашел Ватсон и вместе в 1874 году они написали статью \"On the probability of the extinction of families\".\n",
    "На сайте <a href=\"http://wikitree.com\">wikitree.com</a> в свободно распространяемом формате собрано большое количество данных о родословных различных людей. В коллекции есть как люди, жившие во времена поздней античности, так и наши современники. На основе некоторой части этих данных вам предстоит провести исследование о вымирании фамилий.\n",
    "\n",
    "Вам предоставляются несколько файлов, в которых содержатся данные о некоторых родословных. Вам предстоит проводить исследование на нескольких из этих файлов (каких именно, см. в таблице). Формат файлов следующий:\n",
    "\n",
    "`generation \\t name \\t gender \\t birthday \\t deathdate \\t parents \\t siblings \\t spouses \\t children`\n",
    "\n",
    "Эти данные означают номер поколения, фамилию, пол, дату рождения, дату смерти, родителей, братьев и сестер, супруг, детей соответственно. Если какая-то характеристика неизвестна (кроме номера поколения и фамилии), вместо нее ставится пустая подстрока. Если каких-то характеристик несколько, то они разделены через \";\". Все люди представлены некоторым идентификатором `<id>`, который соответствует адресу `http://www.wikitree.com/wiki/<id>`. Например, идентификатор `Romanov-29` соответствует адресу <a href=\"http://www.wikitree.com/wiki/Romanov-29\">`http://www.wikitree.com/wiki/Romanov-29`</a>. В файле родословные отделяются друг от друга пустой строкой.\n",
    "\n",
    "Для облегчения вашей работы мы предоставляем вам код, который считывает данные из этого файла и преобразует их в список ветвящихся процессов. Каждый ветвящийся процесс содержит список списков, в каждом из которых содержатся все люди из соответствующего поколения. Обратите внимание, что одни и те же родословные могут попасть в разные файлы. В таком случае их можно считать разными, но при желании вы можете удалить копии.\n",
    "\n",
    "В предоставленных данных в каждой родословной для каждого мужчины на следующем поколении содержатся все его дети, которые были указаны на сайте. Для женщин дети в данной родословной не указаны. Это связано с тем, что женщины обычно меняют свою фамилию, когда выходят замуж, тем самым, они переходят в другую ветку. С точки зрения ветвящихся процессов, нужно иметь в виду, что если у мужчины родилось 3 мальчика и 4 девочки, то у него 3 потомка как продолжателя фамилии.\n",
    "\n",
    "Ваша задача --- исследовать процесс вымирания фамилий на основе предложенных данных. В данном задании вам предстоит сделать оценку закона размножения, а в следующем задании --- провести остальной анализ."
   ]
  },
  {
   "cell_type": "code",
   "execution_count": 1,
   "metadata": {
    "collapsed": false,
    "deletable": true,
    "editable": true
   },
   "outputs": [],
   "source": [
    "import numpy as np\n",
    "import scipy.stats as sps\n",
    "from collections import Counter  # это может пригодиться\n",
    "from BranchingProcess import Person, BranchingProcess, read_from_files\n",
    "\n",
    "import matplotlib.pyplot as plt\n",
    "from matplotlib import rcParams\n",
    "rcParams.update({'font.size': 16})\n",
    "%matplotlib inline"
   ]
  },
  {
   "cell_type": "markdown",
   "metadata": {
    "deletable": true,
    "editable": true
   },
   "source": [
    "## 1. Описательный анализ\n",
    "\n",
    "Большая часть кода, необходимая для проведения данного анализа, является технической и основывается на работе с пакетом `BranchingProcess`. Поэтому данный код полностью вам выдается, вам нужно только выполнить его, подставить имена файлов. Кроме того, код анализа позволит вам лучше понять структуру данных.\n",
    "\n",
    "Считайте данные с помощью предложенного кода. Посчитайте количество родословных."
   ]
  },
  {
   "cell_type": "code",
   "execution_count": 2,
   "metadata": {
    "collapsed": false,
    "deletable": true,
    "editable": true
   },
   "outputs": [
    {
     "name": "stdout",
     "output_type": "stream",
     "text": [
      "594 Шевкунов Кирилл Сергеевич АД\t-=-\tP O N I C R T J S E\n",
      "\n"
     ]
    }
   ],
   "source": [
    "with open(\"Варианты.txt\", \"r\") as f:\n",
    "    for s in f.readlines():\n",
    "        if (\"Шевкунов\" in s):\n",
    "            print(s)"
   ]
  },
  {
   "cell_type": "code",
   "execution_count": 3,
   "metadata": {
    "collapsed": false,
    "deletable": true,
    "editable": true
   },
   "outputs": [
    {
     "name": "stdout",
     "output_type": "stream",
     "text": [
      "./data/P.txt\n",
      "./data/O.txt\n",
      "./data/N.txt\n",
      "./data/I.txt\n",
      "./data/C.txt\n",
      "./data/R.txt\n",
      "./data/T.txt\n",
      "./data/J.txt\n",
      "./data/S.txt\n",
      "./data/E.txt\n"
     ]
    }
   ],
   "source": [
    "first_letters = \"P O N I C R T J S E\"\n",
    "fn_prefix = \"./data/\"\n",
    "fn_postfix = \".txt\"\n",
    "file_names = []\n",
    "for c in first_letters:\n",
    "    if c != \" \":\n",
    "        file_names.append(fn_prefix + c + fn_postfix)\n",
    "\n",
    "for v in file_names:\n",
    "    print(v)"
   ]
  },
  {
   "cell_type": "code",
   "execution_count": 4,
   "metadata": {
    "collapsed": false,
    "deletable": true,
    "editable": true,
    "scrolled": true
   },
   "outputs": [
    {
     "name": "stdout",
     "output_type": "stream",
     "text": [
      "55337\n"
     ]
    }
   ],
   "source": [
    "processes = read_from_files(file_names)\n",
    "print(len(processes))"
   ]
  },
  {
   "cell_type": "markdown",
   "metadata": {
    "deletable": true,
    "editable": true
   },
   "source": [
    "В имеющихся данных очень много людей, про которых известно лишь то, что они когда-то существовали. Обычно их фамилия неизвестна (вместо фамилии у них может стоять, к примеру, `B-290`), а у некоторых из них неизвестен даже пол, не говоря уже о родителях и детях. Такие данные стоит удалить.\n",
    "\n",
    "Удалите все процессы, состоящие только из одного поколения (в котором, естественно, будет только один человек).\n",
    "Сколько осталось процессов?"
   ]
  },
  {
   "cell_type": "code",
   "execution_count": 5,
   "metadata": {
    "collapsed": false,
    "deletable": true,
    "editable": true
   },
   "outputs": [
    {
     "name": "stdout",
     "output_type": "stream",
     "text": [
      "15841\n"
     ]
    }
   ],
   "source": [
    "for i in range(len(processes))[::-1]:\n",
    "    if len(processes[i].generations) < 2:\n",
    "        del processes[i]\n",
    "\n",
    "print(len(processes))"
   ]
  },
  {
   "cell_type": "markdown",
   "metadata": {
    "deletable": true,
    "editable": true
   },
   "source": [
    "Для лучшего понимания задачи и предложенных данных посчитайте следующие характеристики: минимальное, максимальное и среднее число поколений в роду, год рождения самого старого и самого молодого человека, среднюю продолжительность жизни."
   ]
  },
  {
   "cell_type": "code",
   "execution_count": 6,
   "metadata": {
    "collapsed": false,
    "deletable": true,
    "editable": true
   },
   "outputs": [
    {
     "name": "stdout",
     "output_type": "stream",
     "text": [
      "___GENERATION__\n",
      "Murdoch-533\tmale\t1740--\t1822-Feb-18\t\t\tRodger-269;Ross-7636\tMurdoch-527;Murdoch-534;Murdoch-535;Murdoch-536;Murdoch-537;Murdoch-538\n",
      "___GENERATION__\n",
      "Murdoch-527\tmale\t1792-Mar-28\t1852-Jun-05\tMurdoch-533;Rodger-269\tMurdoch-534;Murdoch-535;Murdoch-536;Murdoch-537;Murdoch-538\tRichardson-9305\tMurdoch-515;Murdoch-528\n",
      "Murdoch-534\tmale\t1800-Mar-08\t\tMurdoch-533;Ross-7636\tMurdoch-527;Murdoch-535;Murdoch-536;Murdoch-537;Murdoch-538\t\t\n",
      "Murdoch-535\tfemale\t1804-Feb-11\t\tMurdoch-533;Ross-7636\tMurdoch-527;Murdoch-534;Murdoch-536;Murdoch-537;Murdoch-538\t\t\n",
      "Murdoch-536\tfemale\t1806-Jan-26\t1863--\tMurdoch-533;Ross-7636\tMurdoch-527;Murdoch-534;Murdoch-535;Murdoch-537;Murdoch-538\tJamieson-955\tJamieson-956;Jamieson-957;Jamieson-958;Jamieson-959;Jamieson-960;Jamieson-961;Jamieson-962\n",
      "Murdoch-537\tfemale\t1807-Dec-13\t\tMurdoch-533;Ross-7636\tMurdoch-527;Murdoch-534;Murdoch-535;Murdoch-536;Murdoch-538\t\t\n",
      "Murdoch-538\tmale\t1809-Oct-12\t\tMurdoch-533;Ross-7636\tMurdoch-527;Murdoch-534;Murdoch-535;Murdoch-536;Murdoch-537\t\t\n",
      "___GENERATION__\n",
      "Murdoch-515\tmale\t1816-Feb-09\t1864-Jul-24\tMurdoch-527;McWhinnie-15\tMurdoch-528\tMcConnell-1855\tMurdoch-529;Murdoch-530;Murdoch-531;Murdoch-532;Murdoch-513\n",
      "Murdoch-528\tmale\t1828--\t1873-Jun-17\tMurdoch-527;Richardson-9305\tMurdoch-515\t\t\n",
      "___GENERATION__\n",
      "Murdoch-529\tmale\t1849--\t1925-Dec-26\tMurdoch-515;McConnell-1855\tMurdoch-530;Murdoch-531;Murdoch-532;Murdoch-513\tWallace-7710\tMurdoch-678\n",
      "Murdoch-530\tmale\t1852--\t1878-Aug-07\tMurdoch-515;McConnell-1855\tMurdoch-529;Murdoch-531;Murdoch-532;Murdoch-513\t\t\n",
      "Murdoch-531\tmale\t1854--\t1885-Jun-22\tMurdoch-515;McConnell-1855\tMurdoch-529;Murdoch-530;Murdoch-532;Murdoch-513\tWilson-35755;Wilson-34382\tMurdoch-740;Murdoch-742;Murdoch-743;Murdoch-716\n",
      "Murdoch-532\tmale\t1856-Jan-28\t1869-Sep-28\tMurdoch-515;McConnell-1855\tMurdoch-529;Murdoch-530;Murdoch-531;Murdoch-513\t\t\n",
      "Murdoch-513\tmale\t1858-Dec-09\t1931-Dec-13\tMurdoch-515;McConnell-1855\tMurdoch-529;Murdoch-530;Murdoch-531;Murdoch-532\tHutchinson-2956\tMurdoch-514;M-1000\n",
      "___GENERATION__\n",
      "Murdoch-678\tmale\t1884--\t1959-Apr-26\tMurdoch-529;Wallace-7710\t\tFletcher-5489\tMurdoch-679\n",
      "Murdoch-740\tmale\t1879--\t\tMurdoch-531;Wilson-34382\tMurdoch-742;Murdoch-743;Murdoch-716\t\t\n",
      "Murdoch-742\tfemale\t1879--\t\tMurdoch-531;Wilson-34382\tMurdoch-740;Murdoch-743;Murdoch-716\tGeorge-4712\t\n",
      "Murdoch-743\tmale\t1880--\t1945--\tMurdoch-531;Wilson-34382\tMurdoch-740;Murdoch-742;Murdoch-716\tWebb-9670\t\n",
      "Murdoch-716\tfemale\t1886-Jan-07\t1947-Sep-22\tMurdoch-531;Wilson-34382\tMurdoch-740;Murdoch-742;Murdoch-743\tFraser-3629\tFraser-2380\n",
      "Murdoch-514\tfemale\t1899--\t1932-Jul-01\tMurdoch-513;Hutchinson-2956\tM-1000\t\t\n",
      "M-1000\tmale\t\t\tMurdoch-513;Hutchinson-2956\tMurdoch-514\t\tP-445\n",
      "___GENERATION__\n",
      "Murdoch-679\tfemale\t1916-Oct-19\t2013-Oct-09\tMurdoch-678;Fletcher-5489\t\tHarvey-6695\t\n",
      "P-445\tfemale\t\t\tM-1000\t\t\t\n"
     ]
    }
   ],
   "source": [
    "# Пробный вывод для лучшего понимания происходящего\n",
    "# str(processes[0])\n",
    "for generation in processes[0].generations:\n",
    "    print(\"___GENERATION__\")\n",
    "    for man in generation:\n",
    "        print(man)"
   ]
  },
  {
   "cell_type": "code",
   "execution_count": 7,
   "metadata": {
    "collapsed": false,
    "deletable": true,
    "editable": true
   },
   "outputs": [
    {
     "name": "stdout",
     "output_type": "stream",
     "text": [
      "Минимальное число поколений в роду: 2\n",
      "Максимальное число поколений в роду: 81\n",
      "Среднее число поколений в роду: 3.4\n",
      "Год рождения самого старого: 1\n",
      "Год рождения самого молодого: 2000\n"
     ]
    }
   ],
   "source": [
    "generation_counts = []\n",
    "years = []\n",
    "\n",
    "for pedigree in processes:\n",
    "    generation_counts.append(len(pedigree.generations))\n",
    "    \n",
    "    for generation in pedigree.generations:\n",
    "        for person in generation:\n",
    "            if person.birthday != '':\n",
    "                years.append(person.birthday.split('-')[0])\n",
    "\n",
    "years = np.array(years, dtype=int)\n",
    "print('Минимальное число поколений в роду:', min(generation_counts))\n",
    "print('Максимальное число поколений в роду:', max(generation_counts))\n",
    "print('Среднее число поколений в роду:', round(np.mean(generation_counts), 1))\n",
    "print('Год рождения самого старого:', min(years))\n",
    "print('Год рождения самого молодого:', max(years))"
   ]
  },
  {
   "cell_type": "markdown",
   "metadata": {
    "deletable": true,
    "editable": true
   },
   "source": [
    "Постройте гистограмму зависимости количества поколений в родословной от количества родословных.\n",
    "На следующем графике отложите на временной оси года рождения всех людей."
   ]
  },
  {
   "cell_type": "code",
   "execution_count": 8,
   "metadata": {
    "collapsed": false,
    "deletable": true,
    "editable": true
   },
   "outputs": [
    {
     "data": {
      "image/png": "[encoded data removed]",
      "text/plain": [
       "<matplotlib.figure.Figure at 0x7f3be0b07278>"
      ]
     },
     "metadata": {},
     "output_type": "display_data"
    },
    {
     "data": {
      "image/png": "[encoded data removed]",
      "text/plain": [
       "<matplotlib.figure.Figure at 0x7f3bae496470>"
      ]
     },
     "metadata": {},
     "output_type": "display_data"
    }
   ],
   "source": [
    "plt.figure(figsize=(10, 4))\n",
    "plt.hist(generation_counts, bins=80)\n",
    "plt.xlabel('generations count in pedigree')\n",
    "plt.ylabel('count of pedigree') # было pedogree\n",
    "plt.show()\n",
    "\n",
    "plt.figure(figsize=(15, 1))\n",
    "plt.scatter(years, np.zeros_like(years), alpha=0.2)\n",
    "plt.xlabel('years')\n",
    "plt.show()"
   ]
  },
  {
   "cell_type": "code",
   "execution_count": 9,
   "metadata": {
    "collapsed": false,
    "deletable": true,
    "editable": true
   },
   "outputs": [
    {
     "data": {
      "image/png": "[encoded data removed]",
      "text/plain": [
       "<matplotlib.figure.Figure at 0x7f3bae2cb6d8>"
      ]
     },
     "metadata": {},
     "output_type": "display_data"
    },
    {
     "data": {
      "image/png": "[encoded data removed]",
      "text/plain": [
       "<matplotlib.figure.Figure at 0x7f3badcb44a8>"
      ]
     },
     "metadata": {},
     "output_type": "display_data"
    }
   ],
   "source": [
    "plt.figure(figsize=(14, 6)) # was figsize=(10,4)\n",
    "plt.ylim(ymax=1000)\n",
    "plt.hist(generation_counts, bins=80)\n",
    "plt.xlabel('generations count in pedigree')\n",
    "plt.ylabel('count of pedigree') # было pedogree\n",
    "\n",
    "plt.show()\n",
    "\n",
    "plt.figure(figsize=(15, 1))\n",
    "plt.scatter(years, np.zeros_like(years), alpha=0.025) # was alpha=0.2\n",
    "plt.xlabel('years')\n",
    "plt.show()"
   ]
  },
  {
   "cell_type": "markdown",
   "metadata": {
    "deletable": true,
    "editable": true
   },
   "source": [
    "Посчитайте среднюю продолжительность жизни."
   ]
  },
  {
   "cell_type": "code",
   "execution_count": 10,
   "metadata": {
    "collapsed": false,
    "deletable": true,
    "editable": true
   },
   "outputs": [
    {
     "name": "stdout",
     "output_type": "stream",
     "text": [
      "56.56\n"
     ]
    }
   ],
   "source": [
    "ages = []\n",
    "for pedigree in processes:\n",
    "    for generation in pedigree.generations:\n",
    "        for person in generation:\n",
    "            if person.birthday != '' and person.deathdate != '':\n",
    "                ages.append(int(person.deathdate.split('-')[0]) - \\\n",
    "                            int(person.birthday.split('-')[0]))\n",
    "\n",
    "### !  В коде выше мы берём разность года рождения и года смерти, \n",
    "### ! т.е. продолжительности жизни оценена с ошибкой до года,\n",
    "### ! хотя среднее должно пострадать не сильно\n",
    "\n",
    "mean_age = np.mean(ages)\n",
    "print(round(mean_age, 2))"
   ]
  },
  {
   "cell_type": "markdown",
   "metadata": {
    "deletable": true,
    "editable": true
   },
   "source": [
    "## 2. Оценка закона размножения\n",
    "\n",
    "Для начала предположим, что все выданные вам процессы являются частью одного большого процесса с общим предком. В следующем задании рассмотрим так же случай, когда все процессы являются разными.\n",
    "\n",
    "Чтобы проводить какой-либо анализ ветвящегося процесса нужно некоторым образом оценить закон размножения. Кажется,  что для этого достаточно посчитать количество сыновей у каждого человека, получив тем самым выборку неотрицательных целых чисел. Однако, проблема в том, что данные неполные, в частности, некоторые поля могут быть не заполнены. Тем не менее обычно у человека указаны либо все дети, либо не указаны вообще. \n",
    "Таким образом, условно мы можем разделить выборку на две части: поле детей заполнено (в т.ч. если у человека на самом деле нет детей), поле детей незаполнено. Если бы первая часть выборки была бы полностью известна, что распределение можно оценить по ней. Нам же неизвестен размер выборки и количество нулевых элементов в ней. Количество положительных элементов известно.\n",
    "\n",
    "\n",
    "**Математическая постановка задачи**\n",
    "\n",
    "$\\mathsf{P}_\\theta$ --- неизвестное распределение из некоторого класса распределений $\\mathcal{P}$ на $\\mathbb{Z}_+$.\n",
    "\n",
    "$X_1, ..., X_n$ --- выборка из распределения $\\mathsf{P}_\\theta$, причем $n$ и количество нулей в выборке неизвестны. \n",
    "\n",
    "$Y_1, ..., Y_s$ --- положительная подвыборка, которая полностью нам известна. В нашей задаче $Y_j$ --- количество сыновей у $j$-го человека среди тех, у кого есть хотя бы один сын.\n",
    "\n",
    "Оценку параметра $\\theta$ можно найти методом максимального правдоподобия:\n",
    "\n",
    "$$\\prod_{i=1}^s \\mathsf{P}_\\theta (Y_i \\left| Y_i > 0 \\right) \\to \\max_\\theta$$ \n",
    "\n",
    "В качестве классов распределений $\\mathcal{P}$ рассмотрите пуассоновское и геометрическое распределения. По желанию можете рассмотреть другие классы распределений, осмысленные в данной задаче\n",
    "\n",
    "**Внимание!** Применение метода `fit` из `scipy.stats` является некорректным в данной задаче, поскольку рассматривается усеченная выборка. Задачу максимизации нужно решить явно, выписав все формулы (которые тоже нужно прислать вместе с кодом).\n",
    "\n",
    "После оценки параметров проведите проверку принадлежности неизвестного распределения рассматриваемому семейству распределений $\\mathcal{P}$ с помощью критерия хи-квадрат, взяв для для него то распределение из $\\mathcal{P}$, которое соответствует оценке максимального правдоподобия. Постарайтесь учесть все особенности проверки гипотез, которые обсуждались на семинаре. Для каждого класса постройте также график частот и функции $\\mathsf{P}_\\theta (y \\left| Y > 0 \\right).$"
   ]
  },
  {
   "cell_type": "markdown",
   "metadata": {
    "deletable": true,
    "editable": true
   },
   "source": [
    "____________________"
   ]
  },
  {
   "cell_type": "markdown",
   "metadata": {
    "deletable": true,
    "editable": true
   },
   "source": [
    "### Оценка ММП"
   ]
  },
  {
   "cell_type": "markdown",
   "metadata": {
    "deletable": true,
    "editable": true
   },
   "source": [
    "#### 1.Геометрическое распределение\n",
    "\n",
    "$P_p(X = n) = (1 - p)^n p$ (Геометрическое распределение с нулём, $X \\in \\{0, 1, 2, ...\\}$)\n",
    "\n",
    "Для положительных $Y_i$ имеем:\n",
    "$P_p(Y_i | Y_i > 0) = \\frac{P(Y_i)}{P(Y_i > 0)} = \\frac{P(Y_i)}{1 - P(Y_i = 0)} \n",
    "= \\frac{(1 - p)^n p}{1 - p} = (1 - p)^{n - 1} p $, т.е. положительные $Y_i$ распределены по геометрическому распределению без нуля.\n",
    "\n",
    "$$\\prod\\limits_{i=1}^s P_p(Y_i | Y_i > 0) = \\prod\\limits_{i=1}^s (1 - p)^{Y_i - 1} p \n",
    "= (1-p) ^ {\\sum\\limits_{i=1}^s{Y_i} - s} p^s $$\n",
    "\n",
    "$$\\Rightarrow (\\sum\\limits_{i=1}^s{Y_i} - s) \\ln{(1-p)} + s \\ln{p}$$\n",
    "Возьмём производную для нахождения точки максимума (из вида логарифмической функции правдоподобия ясно, что при $p \\in [0, 1]$ и положительных $Y_i$ (коэффициенты при логарифмах неотрицательны) наблюдается один максимум):\n",
    "\n",
    "$$ (\\sum\\limits_{i=1}^s{Y_i} - s) \\frac{-1}{1-p} + \\frac{s}{p} =: 0 $$\n",
    "$$ \\frac{s}{1-p} - \\frac{\\sum\\limits_{i=1}^s{Y_i}}{1-p} + \\frac{s}{p} = 0$$ \n",
    "$$ \\frac{sp + s - sp}{(1-p)p} = \\frac{\\sum\\limits_{i=1}^s{Y_i}}{1-p}$$ \n",
    "$$ p = \\frac{s}{\\sum\\limits_{i=1}^s{Y_i}} = \\frac{1}{\\overline{Y}}$$"
   ]
  },
  {
   "cell_type": "markdown",
   "metadata": {
    "deletable": true,
    "editable": true
   },
   "source": [
    "**Итого:** $ p^* = 1/\\overline{Y}$ - оценка по ММП для геометрического распределения"
   ]
  },
  {
   "cell_type": "markdown",
   "metadata": {
    "deletable": true,
    "editable": true
   },
   "source": [
    "#### 2.Пуассоновское распределение\n",
    "\n",
    "$P_\\lambda(X = k) = \\frac{\\lambda^k}{k!} e^{-\\lambda}$; $P_\\lambda(X = 0) = e^{-\\lambda}$; $P_\\lambda(X > 0) = 1 - e^{-\\lambda}$\n",
    "\n",
    "$$\\prod\\limits_{i=1}^s P_\\lambda(Y_i | Y_i > 0)\n",
    "= \\prod\\limits_{i=1}^s \\frac{\\frac{\\lambda^{Y_i}}{{Y_i}!} e^{-\\lambda}}{1 - e^{-\\lambda}}\n",
    "= \\frac{\\frac{\\lambda^{\\sum\\limits_{i=1}^s{Y_i}}}{\\prod\\limits_{i=1}^s {Y_i}!} e^{-\\lambda n}}{(1 - e^{-\\lambda})^n}$$\n",
    "\n",
    "$$\\Rightarrow L(\\lambda, Y) = \\sum\\limits_{i=1}^s{Y_i} \\ln{\\lambda} - n \\lambda - \\ln(\\prod\\limits_{i=1}^s {Y_i}!) - n \\ln(1 - e^{-\\lambda})$$\n",
    "\n",
    "$$\\Rightarrow L'(\\lambda, Y) = \\sum\\limits_{i=1}^s{Y_i} \\frac{1}{\\lambda} - n - n \\frac{e^{-\\lambda}}{(1 - e^{-\\lambda})} \n",
    "= \\sum\\limits_{i=1}^s{Y_i} \\frac{1}{\\lambda} - \\frac{n}{(1 - e^{-\\lambda})} =: 0$$\n",
    "Оценка по ММП достигается в корне:\n",
    "$$ \\overline{Y} = \\frac{\\lambda}{(1 - e^{-\\lambda})}$$"
   ]
  },
  {
   "cell_type": "markdown",
   "metadata": {
    "deletable": true,
    "editable": true
   },
   "source": [
    "Получена возрастающая на $\\lambda \\in (0, + \\infty)$ функция ($\\frac{d}{dx} \\frac{x}{(1 - e^{-x})} = \\frac{e^x (-x + e^x - 1)}{(e^x - 1)^2} > 0$), при этом $\\overline{Y} \\geq s \\geq 1$, а $\\lim\\limits_{\\lambda \\rightarrow +0} (\\frac{\\lambda}{(1 - e^{-\\lambda})}) = 1$ (по Тейлору), значит у этого уравнения есть корень, при том один. Его можно найти двоичным поиском или поиском по сетке."
   ]
  },
  {
   "cell_type": "markdown",
   "metadata": {
    "deletable": true,
    "editable": true
   },
   "source": [
    "**Итого:** Оценка по ММП достигается в корне (он выражается только через страшные функции и его предлагается искать численными методами, благо функция хорошо для этого подходит):\n",
    "$$ \\overline{Y} = \\frac{\\lambda}{(1 - e^{-\\lambda})}$$"
   ]
  },
  {
   "cell_type": "markdown",
   "metadata": {
    "deletable": true,
    "editable": true
   },
   "source": [
    "_______"
   ]
  },
  {
   "cell_type": "markdown",
   "metadata": {
    "deletable": true,
    "editable": true
   },
   "source": [
    "### Проверка теоретических выкладок практическим методом (самодеятельность)\n",
    "Для проверки предлагается взять числа из некоторых геометрического и пуассоновского распределения и вычислить оценку ММП по сгенерированным данным, сравнить её с исходным параметром \"на глаз\" (разумно было бы провести проверку множество раз с различными параметрами и размерами выборок, проверяя стат. значимость, например, тем же тестом хи-квадрат, но этот раздел не требуется, его просто жалко удалять)"
   ]
  },
  {
   "cell_type": "code",
   "execution_count": 11,
   "metadata": {
    "collapsed": true,
    "deletable": true,
    "editable": true
   },
   "outputs": [],
   "source": [
    "import scipy.stats as sps\n",
    "import scipy.optimize\n",
    "import numpy as np # слишком долго листать на верх"
   ]
  },
  {
   "cell_type": "code",
   "execution_count": 12,
   "metadata": {
    "collapsed": false,
    "deletable": true,
    "editable": true
   },
   "outputs": [
    {
     "name": "stdout",
     "output_type": "stream",
     "text": [
      "[775 786 785 809 754 704 778 839 794 760]\n",
      "[775 786 785 809 754 704 778 839 794 760]\n"
     ]
    },
    {
     "data": {
      "text/plain": [
       "    fjac: array([[-1.]])\n",
       "     fun: array([ 0.])\n",
       " message: 'The solution converged.'\n",
       "    nfev: 5\n",
       "     qtf: array([ 174.81])\n",
       "       r: array([-1.])\n",
       "  status: 1\n",
       " success: True\n",
       "       x: array([ 776.81])"
      ]
     },
     "execution_count": 12,
     "metadata": {},
     "output_type": "execute_result"
    }
   ],
   "source": [
    "X = sps.poisson(mu=777.).rvs(size=1000)\n",
    "Y = np.array([x for x in X if x > 0])\n",
    "\n",
    "print(X[:10])\n",
    "print(Y[:10])\n",
    "\n",
    "def f(x):\n",
    "    return x / (1. - np.exp( - x)) - Y.mean()\n",
    "\n",
    "scipy.optimize.root(f,2.) # найденный x должен ~= mu"
   ]
  },
  {
   "cell_type": "markdown",
   "metadata": {
    "deletable": true,
    "editable": true
   },
   "source": [
    "______________"
   ]
  },
  {
   "cell_type": "code",
   "execution_count": 13,
   "metadata": {
    "collapsed": false,
    "deletable": true,
    "editable": true,
    "scrolled": true
   },
   "outputs": [
    {
     "name": "stdout",
     "output_type": "stream",
     "text": [
      "p =  0.6843440638275746\n"
     ]
    },
    {
     "data": {
      "image/png": "[encoded data removed]",
      "text/plain": [
       "<matplotlib.figure.Figure at 0x7f3badb8bf60>"
      ]
     },
     "metadata": {},
     "output_type": "display_data"
    },
    {
     "name": "stdout",
     "output_type": "stream",
     "text": [
      "X[:15] = [0 1 1 1 0 2 3 0 0 0 0 1 1 0 0]\n",
      "Y[:10] = [1 1 1 2 3 1 1 2 3 1]\n"
     ]
    }
   ],
   "source": [
    "p = 0.1 + np.random.rand() * 0.8 # ~ U[0.1, 0.9]\n",
    "print(\"p = \", p)\n",
    "X = sps.geom(p=p).rvs(size=10000) - 1\n",
    "Y = np.array([x for x in X if x > 0])\n",
    "plt.ylim(ymax=3500)\n",
    "plt.xlim(xmax=20)\n",
    "plt.hist(X, bins = 40)\n",
    "plt.show()\n",
    "print(\"X[:15] =\", X[:15])\n",
    "print(\"Y[:10] =\", Y[:10])"
   ]
  },
  {
   "cell_type": "code",
   "execution_count": 14,
   "metadata": {
    "collapsed": false,
    "deletable": true,
    "editable": true
   },
   "outputs": [
    {
     "name": "stdout",
     "output_type": "stream",
     "text": [
      "p =  0.6843440638275746\n",
      "theta =  0.683517417162\n"
     ]
    }
   ],
   "source": [
    "theta = 1. / np.array(Y).mean()\n",
    "print(\"p = \", p)\n",
    "print(\"theta = \", theta) # должны быть приблизительно равны"
   ]
  },
  {
   "cell_type": "markdown",
   "metadata": {
    "deletable": true,
    "editable": true
   },
   "source": [
    "_____________________"
   ]
  },
  {
   "cell_type": "markdown",
   "metadata": {
    "deletable": true,
    "editable": true
   },
   "source": [
    "### Обработка данных"
   ]
  },
  {
   "cell_type": "markdown",
   "metadata": {
    "deletable": true,
    "editable": true
   },
   "source": [
    "Составим, для начала Y"
   ]
  },
  {
   "cell_type": "code",
   "execution_count": 15,
   "metadata": {
    "collapsed": false,
    "deletable": true,
    "editable": true
   },
   "outputs": [],
   "source": [
    "male = set()\n",
    "\n",
    "Y_names = list()\n",
    "for pedigree in processes:\n",
    "    for generation in pedigree.generations:\n",
    "        for person in generation:\n",
    "            if person.gender == \"male\":\n",
    "                male.add(person.name)\n",
    "\n",
    "# male"
   ]
  },
  {
   "cell_type": "code",
   "execution_count": 16,
   "metadata": {
    "collapsed": false,
    "deletable": true,
    "editable": true
   },
   "outputs": [
    {
     "name": "stdout",
     "output_type": "stream",
     "text": [
      "[3, 2, 5, 1, 2, 1, 1, 1, 1, 2]\n"
     ]
    }
   ],
   "source": [
    "Y = list()\n",
    "\n",
    "for pedigree in processes:\n",
    "    for generation in pedigree.generations:\n",
    "        for person in generation:\n",
    "            if person.gender == \"male\":\n",
    "                child_cnt = 0\n",
    "                for child in person.children:\n",
    "                    if child in male:\n",
    "                        child_cnt += 1\n",
    "                if (child_cnt > 0):\n",
    "                    Y.append(child_cnt)\n",
    "print(Y[:10])"
   ]
  },
  {
   "cell_type": "code",
   "execution_count": 17,
   "metadata": {
    "collapsed": false,
    "deletable": true,
    "editable": true
   },
   "outputs": [
    {
     "name": "stdout",
     "output_type": "stream",
     "text": [
      "len(Y) 49266\n"
     ]
    }
   ],
   "source": [
    "print(\"len(Y)\", len(Y))\n",
    "Y_data_mean = np.array(Y).mean()"
   ]
  },
  {
   "cell_type": "markdown",
   "metadata": {
    "deletable": true,
    "editable": true
   },
   "source": [
    "_____\n",
    "Найдём оценку ММП для пуассоновского распределения:"
   ]
  },
  {
   "cell_type": "code",
   "execution_count": 18,
   "metadata": {
    "collapsed": false,
    "deletable": true,
    "editable": true
   },
   "outputs": [
    {
     "data": {
      "text/plain": [
       "    fjac: array([[-1.]])\n",
       "     fun: array([  8.88178420e-16])\n",
       " message: 'The solution converged.'\n",
       "    nfev: 8\n",
       "     qtf: array([ -1.01263575e-09])\n",
       "       r: array([-0.77214533])\n",
       "  status: 1\n",
       " success: True\n",
       "       x: array([ 1.80957111])"
      ]
     },
     "execution_count": 18,
     "metadata": {},
     "output_type": "execute_result"
    }
   ],
   "source": [
    "def poiss_tf(x):\n",
    "    assert type(Y) == list # вдруг \n",
    "    return x / (1. - np.exp(-x)) - Y_data_mean\n",
    "result = scipy.optimize.root(poiss_tf, 20.)\n",
    "result"
   ]
  },
  {
   "cell_type": "code",
   "execution_count": 19,
   "metadata": {
    "collapsed": false,
    "deletable": true,
    "editable": true
   },
   "outputs": [
    {
     "data": {
      "text/plain": [
       "1.8095711098638814"
      ]
     },
     "execution_count": 19,
     "metadata": {},
     "output_type": "execute_result"
    }
   ],
   "source": [
    "mu_data = result.x[0]\n",
    "mu_data"
   ]
  },
  {
   "cell_type": "markdown",
   "metadata": {
    "deletable": true,
    "editable": true
   },
   "source": [
    "_____\n",
    "Найдём оценку ММП для геометрического распределения:"
   ]
  },
  {
   "cell_type": "code",
   "execution_count": 20,
   "metadata": {
    "collapsed": false,
    "deletable": true,
    "editable": true
   },
   "outputs": [
    {
     "data": {
      "text/plain": [
       "0.46214025740122316"
      ]
     },
     "execution_count": 20,
     "metadata": {},
     "output_type": "execute_result"
    }
   ],
   "source": [
    "p_data = 1. / Y_data_mean\n",
    "p_data"
   ]
  },
  {
   "cell_type": "markdown",
   "metadata": {
    "deletable": true,
    "editable": true
   },
   "source": [
    "___________"
   ]
  },
  {
   "cell_type": "code",
   "execution_count": 21,
   "metadata": {
    "collapsed": false,
    "deletable": true,
    "editable": true
   },
   "outputs": [
    {
     "name": "stdout",
     "output_type": "stream",
     "text": [
      "49266\n"
     ]
    }
   ],
   "source": [
    "from scipy.stats import chisquare\n",
    "print(len(Y))"
   ]
  },
  {
   "cell_type": "markdown",
   "metadata": {
    "deletable": true,
    "editable": true
   },
   "source": [
    "Применим тест хи-квадрат для полученных данных. Как обсуждалось на семинаре, большой размер выборки нежелателен, в силу ряда причин. Предложено было использовать выборки по сто элементов, что мы и сделаем."
   ]
  },
  {
   "cell_type": "code",
   "execution_count": 22,
   "metadata": {
    "collapsed": true,
    "deletable": true,
    "editable": true
   },
   "outputs": [],
   "source": [
    "from math import factorial"
   ]
  },
  {
   "cell_type": "code",
   "execution_count": 23,
   "metadata": {
    "collapsed": false,
    "deletable": true,
    "editable": true
   },
   "outputs": [
    {
     "name": "stdout",
     "output_type": "stream",
     "text": [
      "Количество отцов с (i+1) детьми =  [ 54.  20.   8.   6.   5.   4.   1.   0.   1.   1.]\n"
     ]
    }
   ],
   "source": [
    "sub_Y = np.array(np.array(Y)[sps.randint.rvs(0, len(Y), size=100)])\n",
    "\n",
    "\n",
    "def to_freq_table(sub_Y, ddof=1):\n",
    "    Y_table = np.zeros(np.array(sub_Y).max() + 1)\n",
    "    for y in sub_Y:\n",
    "        Y_table[y] += 1\n",
    "\n",
    "    \n",
    "    YY = []\n",
    "    for i in range(ddof, len(Y_table)):\n",
    "        if (Y_table[i] < 5):\n",
    "            YY = Y_table[ddof:i]\n",
    "            YY[-1] += Y_table[i:].sum()\n",
    "            break\n",
    "    return YY\n",
    "\n",
    "def sum_up(sub_Y, ddof=1):\n",
    "    Y_table = np.zeros(np.array(sub_Y).max() + 1)\n",
    "    for y in sub_Y:\n",
    "        Y_table[y] += 1\n",
    "    return Y_table[ddof:]\n",
    "\n",
    "def round_up_five(Y):\n",
    "    for i in range(len(Y)):\n",
    "        if Y[i] < 5.:\n",
    "            if (np.array(Y[i:]).sum() >= 5.):\n",
    "                YY = Y[:]\n",
    "                YY[i] = np.array(Y[i:]).sum()\n",
    "                return YY[:(i+1)]\n",
    "            else:\n",
    "                YY = Y[:]\n",
    "                YY[i-1] += np.array(Y[i:]).sum()\n",
    "                return YY[:i]\n",
    "    return Y\n",
    "\n",
    "def round_up(Y, l):\n",
    "    assert len(Y) >= l\n",
    "    YY_temp = np.array(Y)\n",
    "    YY_temp[l-1] += np.array(YY_temp[l:]).sum()\n",
    "    return YY_temp[:l]\n",
    "\n",
    "YY = sum_up(sub_Y)\n",
    "\n",
    "print(\"Количество отцов с (i+1) детьми = \", YY)\n",
    "\n",
    "#print(\"Количество отцов с (i+1) детьми, с увеличенными группами = \", round_up_five(YY))\n",
    "\n",
    "# p_data = 1. / sub_Y.mean()"
   ]
  },
  {
   "cell_type": "code",
   "execution_count": 24,
   "metadata": {
    "collapsed": false,
    "deletable": true,
    "editable": true
   },
   "outputs": [
    {
     "name": "stdout",
     "output_type": "stream",
     "text": [
      "YY (данные выборки для теста) =  [ 54.  20.   8.   6.   5.   4.   1.   0.   1.   1.]\n",
      "YY (укрупнённые для геометрического распределения) =  [ 54.  20.   8.   6.  12.]\n",
      "YY (укрупнённые для пуассоновского распределения) =  [ 54.  20.   8.  18.]\n",
      "geom (теоретическая выборка из геометрического) =  [ 46.21402574  24.85666399  13.3693989    7.19086145   8.36904993]\n",
      "pois (теоретическая выборка из пуассоновского) =  [ 35.42741384  32.05421229  19.33479217  13.1835817 ]\n",
      "[ 54.  20.   8.   6.  12.]\n",
      "\n",
      "Тест для геометрического:\n",
      " Power_divergenceResult(statistic=6.1896513248478771, pvalue=0.18542560672191974)\n",
      "\n",
      "Тест для пуассоновского:\n",
      " Power_divergenceResult(statistic=22.674117629895377, pvalue=4.7217791342859939e-05)\n"
     ]
    }
   ],
   "source": [
    "geom = []\n",
    "pois = []\n",
    "\n",
    "def geom_cond_pmf(x,p):\n",
    "    q = 1. - p\n",
    "    return q ** (x - 1) * p\n",
    "\n",
    "\n",
    "def pois_cond_pmf(x,mu):\n",
    "    e = np.exp(- mu)\n",
    "    return mu ** x * e / (1. - e) / (factorial(x))\n",
    "\n",
    "i = 1\n",
    "while (geom_cond_pmf(x=i, p=p_data)*YY.sum() >= 5.):\n",
    "    geom.append(geom_cond_pmf(x=i, p=p_data))\n",
    "    i += 1\n",
    "    \n",
    "    \n",
    "i = 1\n",
    "while (pois_cond_pmf(x=i, mu=mu_data)*YY.sum() >= 5.):\n",
    "    pois.append(pois_cond_pmf(x=i, mu=mu_data))\n",
    "    i += 1\n",
    "    \n",
    "geom.append(1. - np.array(geom).sum())\n",
    "if (geom[-1]*YY.sum() < 5.):\n",
    "    geom[-2] += geom[-1]\n",
    "    del geom[-1]\n",
    "    \n",
    "pois.append(1. - np.array(pois).sum())\n",
    "if (pois[-1]*YY.sum() < 5.):\n",
    "    pois[-2] += pois[-1]\n",
    "    del pois[-1]\n",
    "    \n",
    "    \n",
    "geom = np.array(geom) * YY.sum()\n",
    "pois = np.array(pois) * YY.sum()\n",
    "print(\"YY (данные выборки для теста) = \", YY)\n",
    "print(\"YY (укрупнённые для геометрического распределения) = \", round_up(YY, len(geom)))\n",
    "print(\"YY (укрупнённые для пуассоновского распределения) = \", round_up(YY, len(pois)))\n",
    "\n",
    "print(\"geom (теоретическая выборка из геометрического) = \", geom)\n",
    "print(\"pois (теоретическая выборка из пуассоновского) = \", pois)\n",
    "\n",
    "print(round_up(YY, len(geom)))\n",
    "print(\"\\nТест для геометрического:\\n\", sps.chisquare(round_up(YY, len(geom)), geom))\n",
    "print(\"\\nТест для пуассоновского:\\n\", sps.chisquare(round_up(YY, len(pois)), pois))"
   ]
  },
  {
   "cell_type": "code",
   "execution_count": 25,
   "metadata": {
    "collapsed": false,
    "deletable": true,
    "editable": true
   },
   "outputs": [
    {
     "data": {
      "text/plain": [
       "6.1896513248478771"
      ]
     },
     "execution_count": 25,
     "metadata": {},
     "output_type": "execute_result"
    }
   ],
   "source": [
    "# вычисленная руками для самопроверки статистика \n",
    "((round_up(YY, len(geom)) - geom) ** 2 / geom).sum()"
   ]
  },
  {
   "cell_type": "markdown",
   "metadata": {
    "collapsed": true,
    "deletable": true,
    "editable": true
   },
   "source": [
    "** Итого: ** при уровне значимости $\\alpha = 0.05$ (он определён заранее, хотя впервые фигурирует здесь) \n",
    "\n",
    "- в первом тесте нулевая гипотеза, состоящая в том, что законом размножения является геометрическое распределение с оценённым выше параметром (на самом деле, некоторое его угрубление), не может быть отвергнута (pvalue > $\\alpha$)\n",
    "\n",
    "- во втором тесте нулевая гипотеза, состоящая в том, что законом размножения является пуассоновское распределение с оценённым выше параметром (на самом деле, некоторое его угрубление), должно быть от вергнуто (pvalue < $\\alpha$)"
   ]
  },
  {
   "cell_type": "markdown",
   "metadata": {
    "deletable": true,
    "editable": true
   },
   "source": [
    "________________________\n",
    "### Графики:"
   ]
  },
  {
   "cell_type": "code",
   "execution_count": 54,
   "metadata": {
    "collapsed": false,
    "deletable": true,
    "editable": true
   },
   "outputs": [
    {
     "data": {
      "image/png": "[encoded data removed]",
      "text/plain": [
       "<matplotlib.figure.Figure at 0x7f3ba50b9b70>"
      ]
     },
     "metadata": {},
     "output_type": "display_data"
    },
    {
     "data": {
      "image/png": "[encoded data removed]",
      "text/plain": [
       "<matplotlib.figure.Figure at 0x7f3ba5d8f828>"
      ]
     },
     "metadata": {},
     "output_type": "display_data"
    },
    {
     "data": {
      "image/png": "[encoded data removed]",
      "text/plain": [
       "<matplotlib.figure.Figure at 0x7f3ba49d5780>"
      ]
     },
     "metadata": {},
     "output_type": "display_data"
    },
    {
     "name": "stdout",
     "output_type": "stream",
     "text": [
      "!!! Данные для теста хи-квадрат: !!!\n"
     ]
    },
    {
     "data": {
      "image/png": "[encoded data removed]",
      "text/plain": [
       "<matplotlib.figure.Figure at 0x7f3ba41ad9b0>"
      ]
     },
     "metadata": {},
     "output_type": "display_data"
    },
    {
     "name": "stdout",
     "output_type": "stream",
     "text": [
      "Те же графики наоборот:\n"
     ]
    },
    {
     "data": {
      "image/png": "[encoded data removed]",
      "text/plain": [
       "<matplotlib.figure.Figure at 0x7f3ba177c518>"
      ]
     },
     "metadata": {},
     "output_type": "display_data"
    }
   ],
   "source": [
    "P_geom = [geom_cond_pmf(x,p_data) for x in range(1, 11)]\n",
    "P_pois = [pois_cond_pmf(x,mu_data) for x in range(1, 11)]\n",
    "\n",
    "plt.figure(figsize=(14,7))\n",
    "\n",
    "plt.subplot(221)\n",
    "plt.hist(range(10), weights=P_geom, ls='solid', ec='black')\n",
    "plt.title(\"$\\\\mathsf{P}_\\\\theta (y \\\\left| Y > 0 \\\\right)$ для геометрического\")\n",
    "plt.xticks(np.linspace(0.5, 8.5, 10), range(1, 11))\n",
    "\n",
    "plt.subplot(222)\n",
    "plt.hist(range(10), weights=P_pois, ls='solid', ec='black')\n",
    "plt.title(\"$\\\\mathsf{P}_\\\\theta (y \\\\left| Y > 0 \\\\right)$ для пуассоновского\")\n",
    "plt.xticks(np.linspace(0.5, 8.5, 10), range(1, 11))\n",
    "\n",
    "\n",
    "def top_ten(X):\n",
    "    X = list(X)\n",
    "    while (len(X) < 10):\n",
    "        X.append(0)\n",
    "    return np.array(X[:10])\n",
    "\n",
    "plt.show()\n",
    "plt.figure(figsize=(14,7))\n",
    "\n",
    "plt.subplot(221)\n",
    "FT = top_ten(to_freq_table(Y))\n",
    "FT = FT / FT.sum() * 100.\n",
    "plt.hist(range(10), weights=FT, ls='solid', ec='black')\n",
    "plt.title(\"Частотная таблица (число родителей с k сыновьями\\n \" +\n",
    "          \"на 100 человек, среди тех, у кого они есть) по всей выборке\")\n",
    "plt.xticks(np.linspace(0.5, 8.5, 10), range(1, 11))\n",
    "\n",
    "plt.show()\n",
    "plt.figure(figsize=(14,7))\n",
    "\n",
    "\n",
    "plt.subplot(221)\n",
    "FT = [sps.geom(p=p_data).pmf(i+1)*100 for i in range(0, 10)]\n",
    "plt.hist(range(10), weights=FT, ls='solid', ec='black')\n",
    "plt.title(\"Частотная таблица (число родителей с k сыновьями\\n на\" + \n",
    "          \" 100 человек, среди ВСЕХ) при геометрическом\\n\" +\n",
    "          \"распределении из теории и оценки ММП\")\n",
    "plt.xticks(np.linspace(0.5, 8.5, 10), range(0, 10))\n",
    "\n",
    "plt.subplot(222)\n",
    "FT = [sps.poisson(mu=mu_data).pmf(i)*100 for i in range(0, 10)]\n",
    "plt.hist(range(10), weights=FT, ls='solid', ec='black')\n",
    "plt.title(\"Частотная таблица (число родителей с k сыновьями\\n на 100 человек, \" +\n",
    "          \"среди ВСЕХ) при пуассоновском\\n\" +\n",
    "          \"распределении из теории и оценки ММП\")\n",
    "plt.xticks(np.linspace(0.5, 8.5, 10), range(0, 10))\n",
    "\n",
    "plt.show()\n",
    "\n",
    "print(\"!!! Данные для теста хи-квадрат: !!!\")\n",
    "\n",
    "hor_len = 0.95\n",
    "plt.figure(figsize=(14,7))\n",
    "plt.subplot(221)\n",
    "plt.hist(range(10), weights=top_ten(round_up(YY, len(geom))), ls='solid', ec='black')\n",
    "x_grid = np.linspace(0., 8., 10)\n",
    "plt.hlines(top_ten(geom), x_grid, x_grid+hor_len, color=\"red\")\n",
    "plt.title(\"Частотная таблица (число родителей с k сыновьями\\n\" + \n",
    "          \" на 100 человек, среди тех, у кого они есть) по сокращённой\\n\"\n",
    "          +\" выборке (сжато под геометрическое: последняя\\nгруппа включает все последующие)\" +\n",
    "          \"\\n[теоретическое сжатое геометрическое\\n показано красными полосами]\")\n",
    "plt.xticks(np.linspace(0.5, 8.5, 10), range(1, 11))\n",
    "plt.subplot(222)\n",
    "plt.hist(range(10), weights=top_ten(round_up(YY, len(pois))), ls='solid', ec='black')\n",
    "x_grid = np.linspace(0., 8., 10)\n",
    "plt.hlines(top_ten(pois), x_grid, x_grid+hor_len, color=\"red\")\n",
    "plt.title(\"Частотная таблица (число родителей с k сыновьями\\n\" + \n",
    "          \" на 100 человек, среди тех, у кого они есть) по сокращённой\\n\"\n",
    "          +\" выборке (сжато под пуассоновское: последняя\\nгруппа включает все последующие)\" +\n",
    "          \"\\n[теоретическое сжатое пуассоновское\\n показано красными полосами]\")\n",
    "plt.xticks(np.linspace(0.5, 8.5, 10), range(1, 11))\n",
    "plt.show()\n",
    "\n",
    "print(\"Те же графики наоборот:\")\n",
    "plt.figure(figsize=(14,7))\n",
    "plt.subplot(221)\n",
    "plt.hist(range(10), weights=top_ten(geom), ls='solid', ec='black', color=\"red\")\n",
    "x_grid = np.linspace(0., 8., 10)\n",
    "plt.hlines(top_ten(round_up(YY, len(geom))), x_grid, x_grid+hor_len, color=\"navy\")\n",
    "plt.title(\"Частотная таблица (число родителей с k сыновьями\\n\" +\n",
    "          \" на 100 человек, среди тех, у кого они есть) по теоретическому\\n\"\n",
    "          +\" геометрическому распределению\\n(сокращена до np >= 5:\" +\n",
    "          \" последняя\\nгруппа включает все последующие)\" +\n",
    "          \"\\n[укрупнённая выборка\\n показана синими полосами]\")\n",
    "plt.xticks(np.linspace(0.5, 8.5, 10), range(1, 11))\n",
    "plt.subplot(222)\n",
    "plt.hist(range(10), weights=top_ten(pois), ls='solid', ec='black', color=\"red\")\n",
    "x_grid = np.linspace(0., 8., 10)\n",
    "plt.hlines(top_ten(round_up(YY, len(pois))), x_grid, x_grid+hor_len, color=\"navy\")\n",
    "plt.title(\"Частотная таблица (число родителей с k сыновьями\\n\" +\n",
    "          \" на 100 человек, среди тех, у кого они есть) по теоретическому\\n\"\n",
    "          +\" пуассоновскому распределению\\n(сокращена до np >= 5:\" +\n",
    "          \" последняя\\nгруппа включает все последующие)\" +\n",
    "          \"\\n[укрупнённая выборка\\n показана синими полосами]\")\n",
    "plt.xticks(np.linspace(0.5, 8.5, 10), range(1, 11)) \n",
    "plt.show()"
   ]
  },
  {
   "cell_type": "markdown",
   "metadata": {
    "deletable": true,
    "editable": true
   },
   "source": [
    "Комментарий к графикам: видно, что геометрическое распределение приближает лучше, и что условная вероятность подсчитана приблизительно корректно (можно вырезать участок из графика с нулями в детях и растянуть их на относительное изменение числа человек в сумме - получится график для условной вероятности)"
   ]
  },
  {
   "cell_type": "markdown",
   "metadata": {
    "deletable": true,
    "editable": true
   },
   "source": [
    "_________________________\n",
    "Построим графики $P_\\theta(Y | Y>0)$, численно считая, что это функция от действительного, а не натурального (с нулём) числа, отмечая значения при целочисленном аргументе точками. (ещё один график для красоты, чтоб был)"
   ]
  },
  {
   "cell_type": "code",
   "execution_count": 27,
   "metadata": {
    "collapsed": false,
    "deletable": true,
    "editable": true
   },
   "outputs": [
    {
     "data": {
      "image/png": "[encoded data removed]",
      "text/plain": [
       "<matplotlib.figure.Figure at 0x7f3bab2f6518>"
      ]
     },
     "metadata": {},
     "output_type": "display_data"
    }
   ],
   "source": [
    "plt.figure(figsize=(14,7))\n",
    "from math import gamma\n",
    "def pois_cond_pmf_gamma(x,mu):\n",
    "    e = np.exp(- mu)\n",
    "    return mu ** x * e / (1. - e) / (gamma(x+1))\n",
    "\n",
    "\n",
    "plt.subplot(211)\n",
    "grid = np.linspace(1, 11, 1000)\n",
    "n_grid = np.arange(1, 11, 1)\n",
    "\n",
    "plt.plot(grid, [geom_cond_pmf(x,p_data) for x in grid], label=\n",
    "         \"$\\\\mathsf{P}_\\\\theta (y \\\\left| Y > 0 \\\\right)$ для геометрического\")\n",
    "plt.scatter(n_grid, [geom_cond_pmf(x,p_data) for x in n_grid], color=\"red\")\n",
    "plt.legend()\n",
    "plt.subplot(212)\n",
    "plt.plot(grid, [pois_cond_pmf_gamma(x,mu_data) for x in grid], label=\n",
    "         \"$\\\\mathsf{P}_\\\\theta (y \\\\left| Y > 0 \\\\right)$ для пуассоновского\\n\" +\n",
    "         \" (при использовании гамма-функции вместо факториала)\")\n",
    "plt.scatter(n_grid, [pois_cond_pmf(x,mu_data) for x in n_grid], color=\"red\")\n",
    "plt.legend()\n",
    "plt.show()"
   ]
  },
  {
   "cell_type": "markdown",
   "metadata": {
    "deletable": true,
    "editable": true
   },
   "source": [
    "### Множественное тестирование"
   ]
  },
  {
   "cell_type": "code",
   "execution_count": 32,
   "metadata": {
    "collapsed": false,
    "deletable": true,
    "editable": true
   },
   "outputs": [
    {
     "name": "stdout",
     "output_type": "stream",
     "text": [
      "[0.10077754172364231, 1.090711796599586e-08]\n"
     ]
    },
    {
     "data": {
      "text/plain": [
       "array([[  1.28773922e-01,   4.70213026e-05],\n",
       "       [  1.17260032e-01,   5.70785105e-08],\n",
       "       [  4.15037553e-02,   1.96099515e-04],\n",
       "       [  7.39719369e-01,   1.14823347e-04],\n",
       "       [  1.48828731e-01,   5.30099508e-05],\n",
       "       [  4.80687051e-02,   2.06355126e-05],\n",
       "       [  4.96189385e-01,   1.24164639e-05],\n",
       "       [  3.59361990e-02,   7.36005249e-09]])"
      ]
     },
     "execution_count": 32,
     "metadata": {},
     "output_type": "execute_result"
    }
   ],
   "source": [
    "def get_pval(Y, size=100, text=False):\n",
    "    sub_Y = np.array(np.array(Y)[sps.randint.rvs(0, len(Y), size=100)])\n",
    "    \n",
    "    p_data = 1. / sub_Y.mean()\n",
    "    def f(x):\n",
    "        return x / (1. - np.exp( - x)) - sub_Y.mean()\n",
    "\n",
    "    mu_data = scipy.optimize.root(f,2.).x[0]\n",
    "\n",
    "    \n",
    "    def to_freq_table(sub_Y, ddof=1):\n",
    "        Y_table = np.zeros(np.array(sub_Y).max() + 1)\n",
    "        for y in sub_Y:\n",
    "            Y_table[y] += 1\n",
    "\n",
    "\n",
    "        YY = []\n",
    "        for i in range(ddof, len(Y_table)):\n",
    "            if (Y_table[i] < 5):\n",
    "                YY = Y_table[ddof:i]\n",
    "                YY[-1] += Y_table[i:].sum()\n",
    "                break\n",
    "        return YY\n",
    "\n",
    "    def sum_up(sub_Y, ddof=1):\n",
    "        Y_table = np.zeros(np.array(sub_Y).max() + 1)\n",
    "        for y in sub_Y:\n",
    "            Y_table[y] += 1\n",
    "        return Y_table[ddof:]\n",
    "\n",
    "    def round_up_five(Y):\n",
    "        for i in range(len(Y)):\n",
    "            if Y[i] < 5.:\n",
    "                if (np.array(Y[i:]).sum() >= 5.):\n",
    "                    YY = Y[:]\n",
    "                    YY[i] = np.array(Y[i:]).sum()\n",
    "                    return YY[:(i+1)]\n",
    "                else:\n",
    "                    YY = Y[:]\n",
    "                    YY[i-1] += np.array(Y[i:]).sum()\n",
    "                    return YY[:i]\n",
    "        return Y\n",
    "\n",
    "    def round_up(Y, l):\n",
    "        assert len(Y) >= l\n",
    "        YY_temp = np.array(Y)\n",
    "        YY_temp[l-1] += np.array(YY_temp[l:]).sum()\n",
    "        return YY_temp[:l]\n",
    "\n",
    "    YY = sum_up(sub_Y)\n",
    "\n",
    "    if (text):\n",
    "        print(\"Количество отцов с (i+1) детьми = \", YY)\n",
    "    #print(\"Количество отцов с (i+1) детьми, с увеличенными группами = \", round_up_five(YY))\n",
    "    \n",
    "    geom = []\n",
    "    pois = []\n",
    "\n",
    "    def geom_cond_pmf(x,p):\n",
    "        q = 1. - p\n",
    "        return q ** (x - 1) * p\n",
    "\n",
    "\n",
    "    def pois_cond_pmf(x,mu):\n",
    "        e = np.exp(- mu)\n",
    "        return mu ** x * e / (1. - e) / (factorial(x))\n",
    "\n",
    "    i = 1\n",
    "    while (geom_cond_pmf(x=i, p=p_data)*YY.sum() >= 5.):\n",
    "        geom.append(geom_cond_pmf(x=i, p=p_data))\n",
    "        i += 1\n",
    "\n",
    "\n",
    "    i = 1\n",
    "    while (pois_cond_pmf(x=i, mu=mu_data)*YY.sum() >= 5.):\n",
    "        pois.append(pois_cond_pmf(x=i, mu=mu_data))\n",
    "        i += 1\n",
    "\n",
    "    geom.append(1. - np.array(geom).sum())\n",
    "    if (geom[-1]*YY.sum() < 5.):\n",
    "        geom[-2] += geom[-1]\n",
    "        del geom[-1]\n",
    "\n",
    "    pois.append(1. - np.array(pois).sum())\n",
    "    if (pois[-1]*YY.sum() < 5.):\n",
    "        pois[-2] += pois[-1]\n",
    "        del pois[-1]\n",
    "\n",
    "\n",
    "    geom = np.array(geom) * YY.sum()\n",
    "    pois = np.array(pois) * YY.sum()\n",
    "    if (text):\n",
    "        print(\"YY (данные выборки для теста) = \", YY)\n",
    "        print(\"YY (укрупнённые для геометрического распределения) = \", round_up(YY, len(geom)))\n",
    "        print(\"YY (укрупнённые для пуассоновского распределения) = \", round_up(YY, len(pois)))\n",
    "\n",
    "        print(\"geom (теоретическая выборка из геометрического) = \", geom)\n",
    "        print(\"pois (теоретическая выборка из пуассоновского) = \", pois)\n",
    "\n",
    "        print(round_up(YY, len(geom)))\n",
    "    pval_geom = sps.chisquare(round_up(YY, len(geom)), geom).pvalue\n",
    "    pval_pois = sps.chisquare(round_up(YY, len(pois)), pois).pvalue\n",
    "    \n",
    "    if (text):\n",
    "        print(\"\\nТест для геометрического:\\n\", pval_geom)\n",
    "        print(\"\\nТест для пуассоновского:\\n\", pval_pois)\n",
    "    return [pval_geom, pval_pois]\n",
    "\n",
    "print(get_pval(Y))\n",
    "pvals = np.array([get_pval(Y) for i in range(8)])\n",
    "pvals"
   ]
  },
  {
   "cell_type": "code",
   "execution_count": 33,
   "metadata": {
    "collapsed": false,
    "deletable": true,
    "editable": true
   },
   "outputs": [],
   "source": [
    "pvals_geom = pvals[:, 0]\n",
    "pvals_pois = pvals[:, 1]"
   ]
  },
  {
   "cell_type": "markdown",
   "metadata": {
    "deletable": true,
    "editable": true
   },
   "source": [
    "Протестируем на восьми различных выборках гипотезу о том, что распределение - геометрическое."
   ]
  },
  {
   "cell_type": "code",
   "execution_count": 34,
   "metadata": {
    "collapsed": false,
    "deletable": true,
    "editable": true
   },
   "outputs": [
    {
     "data": {
      "text/plain": [
       "(array([False, False, False, False, False, False, False, False], dtype=bool),\n",
       " array([ 1.        ,  0.93808025,  0.33203004,  1.        ,  1.        ,\n",
       "         0.38454964,  1.        ,  0.28748959]),\n",
       " 0.0063911509545450107,\n",
       " 0.00625)"
      ]
     },
     "execution_count": 34,
     "metadata": {},
     "output_type": "execute_result"
    }
   ],
   "source": [
    "from statsmodels.sandbox.stats.multicomp import multipletests\n",
    "multipletests(pvals_geom, alpha=0.05, method='bonferroni')"
   ]
  },
  {
   "cell_type": "markdown",
   "metadata": {
    "deletable": true,
    "editable": true
   },
   "source": [
    "Теперь протестируем гипотезу о том, что распределение - пуассоновское."
   ]
  },
  {
   "cell_type": "code",
   "execution_count": 35,
   "metadata": {
    "collapsed": false,
    "deletable": true,
    "editable": true
   },
   "outputs": [
    {
     "data": {
      "text/plain": [
       "(array([ True,  True,  True,  True,  True,  True,  True,  True], dtype=bool),\n",
       " array([  3.76170421e-04,   4.56628084e-07,   1.56879612e-03,\n",
       "          9.18586775e-04,   4.24079606e-04,   1.65084101e-04,\n",
       "          9.93317112e-05,   5.88804200e-08]),\n",
       " 0.0063911509545450107,\n",
       " 0.00625)"
      ]
     },
     "execution_count": 35,
     "metadata": {},
     "output_type": "execute_result"
    }
   ],
   "source": [
    "multipletests(pvals_pois, alpha=0.05, method='bonferroni')"
   ]
  },
  {
   "cell_type": "markdown",
   "metadata": {
    "deletable": true,
    "editable": true
   },
   "source": [
    "Теперь протестируем 16 гипотез одновременно, первые восемь - за геометрическое, последние восемь - за пуассоновское. При этом (в методе Бонферрони) гипотезы, которые не отвергались будут не отвергаться, но те, что отвергались могут начать не отвергаться. При проверке большого числа гипотез этим методом падает мощность и использование этого метода не рекомендуется."
   ]
  },
  {
   "cell_type": "code",
   "execution_count": 38,
   "metadata": {
    "collapsed": false,
    "deletable": true,
    "editable": true
   },
   "outputs": [
    {
     "data": {
      "text/plain": [
       "(array([False, False, False, False, False, False, False, False,  True,\n",
       "         True,  True,  True,  True,  True,  True,  True], dtype=bool),\n",
       " array([  1.00000000e+00,   1.00000000e+00,   6.64060084e-01,\n",
       "          1.00000000e+00,   1.00000000e+00,   7.69099281e-01,\n",
       "          1.00000000e+00,   5.74979184e-01,   7.52340842e-04,\n",
       "          9.13256168e-07,   3.13759224e-03,   1.83717355e-03,\n",
       "          8.48159213e-04,   3.30168201e-04,   1.98663422e-04,\n",
       "          1.17760840e-07]),\n",
       " 0.0032006977101884937,\n",
       " 0.003125)"
      ]
     },
     "execution_count": 38,
     "metadata": {},
     "output_type": "execute_result"
    }
   ],
   "source": [
    "pvals_all = list(pvals_geom) + list(pvals_pois)\n",
    "multipletests(pvals_all, alpha=0.05, method='bonferroni')"
   ]
  },
  {
   "cell_type": "markdown",
   "metadata": {
    "deletable": true,
    "editable": true
   },
   "source": [
    "**Вывод:** множественное тестирование по варианту, предложенному на семинаре, демонстрирует аналогичный ответ:\n",
    "- в первом тесте нулевая гипотеза, соответствующая геометрическому распределению **не** отвергается на данном $\\alpha$ (все 8 тестов на различных подвыборках не отвергают гипотезу)\n",
    "- во втором тесте нулевая гипотеза, соответствующая пуассоновскому распределению отвергается на данном $\\alpha$\n",
    "(единогласно отвергнута всеми 8 тестами)\n",
    "- при одновременной проверке 16 гипотез с поправкой по методу Бонферрони результаты не меняются.\n",
    "\n",
    "Замечание: число гипотез для множественного тестирования выбрано 8, т.к. метод Бонферрони не рекомендуется использовать при большем числе гипотез из-за потери мощности (сложно отвергнуть неверные гипотезы)."
   ]
  },
  {
   "cell_type": "code",
   "execution_count": null,
   "metadata": {
    "collapsed": true,
    "deletable": true,
    "editable": true
   },
   "outputs": [],
   "source": []
  },
  {
   "cell_type": "code",
   "execution_count": null,
   "metadata": {
    "collapsed": true,
    "deletable": true,
    "editable": true
   },
   "outputs": [],
   "source": []
  }
 ],
 "metadata": {
  "kernelspec": {
   "display_name": "Python 3",
   "language": "python",
   "name": "python3"
  },
  "language_info": {
   "codemirror_mode": {
    "name": "ipython",
    "version": 3
   },
   "file_extension": ".py",
   "mimetype": "text/x-python",
   "name": "python",
   "nbconvert_exporter": "python",
   "pygments_lexer": "ipython3",
   "version": "3.5.2"
  }
 },
 "nbformat": 4,
 "nbformat_minor": 0
}
