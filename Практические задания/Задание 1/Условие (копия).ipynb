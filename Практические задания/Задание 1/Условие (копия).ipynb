{
 "cells": [
  {
   "cell_type": "markdown",
   "metadata": {
    "deletable": true,
    "editable": true
   },
   "source": [
    "# Случайные процессы. Прикладной поток.\n",
    "## Практическое задание 1\n",
    "\n",
    "**Правила:**\n",
    "\n",
    "* Выполненную работу нужно отправить на почту `probability.diht@yandex.ru`, указав тему письма `\"[СП17] Фамилия Имя - Задание 1\"`. Квадратные скобки обязательны. Вместо `Фамилия Имя` нужно подставить свои фамилию и имя.\n",
    "* Прислать нужно ноутбук и его pdf-версию. Названия файлов должны быть такими: `1.N.ipynb` и `1.N.pdf`, где `N` - ваш номер из таблицы с оценками.\n",
    "* Никакой код из данного задания при проверке запускаться не будет.\n",
    "* Дедлайн и система оценивания будут объявлены позже."
   ]
  },
  {
   "cell_type": "markdown",
   "metadata": {
    "deletable": true,
    "editable": true
   },
   "source": [
    "<IMG SRC=\"https://www.wikitree.com/images/wikitree-logo.png\">\n",
    "\n",
    "\n",
    "В Британской империи в Викторианскую эпоху (1837—1901) было обращено внимание на вымирание аристократических фамилий. В связи с этим в своей статье в The Educational Times в 1873 году Гальтон поставил вопрос о вероятности вымирания фамилии. Решение этого вопроса нашел Ватсон и вместе в 1874 году они написали статью \"On the probability of the extinction of families\".\n",
    "На сайте <a href=\"http://wikitree.com\">wikitree.com</a> в свободно распространяемом формате собрано большое количество данных о родословных различных людей. В коллекции есть как люди, жившие во времена поздней античности, так и наши современники. На основе некоторой части этих данных вам предстоит провести исследование о вымирании фамилий.\n",
    "\n",
    "Вам предоставляются несколько файлов, в которых содержатся данные о некоторых родословных. Вам предстоит проводить исследование на нескольких из этих файлов (каких именно, см. в таблице). Формат файлов следующий:\n",
    "\n",
    "`generation \\t name \\t gender \\t birthday \\t deathdate \\t parents \\t siblings \\t spouses \\t children`\n",
    "\n",
    "Эти данные означают номер поколения, фамилию, пол, дату рождения, дату смерти, родителей, братьев и сестер, супруг, детей соответственно. Если какая-то характеристика неизвестна (кроме номера поколения и фамилии), вместо нее ставится пустая подстрока. Если каких-то характеристик несколько, то они разделены через \";\". Все люди представлены некоторым идентификатором `<id>`, который соответствует адресу `http://www.wikitree.com/wiki/<id>`. Например, идентификатор `Romanov-29` соответствует адресу <a href=\"http://www.wikitree.com/wiki/Romanov-29\">`http://www.wikitree.com/wiki/Romanov-29`</a>. В файле родословные отделяются друг от друга пустой строкой.\n",
    "\n",
    "Для облегчения вашей работы мы предоставляем вам код, который считывает данные из этого файла и преобразует их в список ветвящихся процессов. Каждый ветвящийся процесс содержит список списков, в каждом из которых содержатся все люди из соответствующего поколения. Обратите внимание, что одни и те же родословные могут попасть в разные файлы. В таком случае их можно считать разными, но при желании вы можете удалить копии.\n",
    "\n",
    "В предоставленных данных в каждой родословной для каждого мужчины на следующем поколении содержатся все его дети, которые были указаны на сайте. Для женщин дети в данной родословной не указаны. Это связано с тем, что женщины обычно меняют свою фамилию, когда выходят замуж, тем самым, они переходят в другую ветку. С точки зрения ветвящихся процессов, нужно иметь в виду, что если у мужчины родилось 3 мальчика и 4 девочки, то у него 3 потомка как продолжателя фамилии.\n",
    "\n",
    "Ваша задача --- исследовать процесс вымирания фамилий на основе предложенных данных. В данном задании вам предстоит сделать оценку закона размножения, а в следующем задании --- провести остальной анализ."
   ]
  },
  {
   "cell_type": "code",
   "execution_count": 16,
   "metadata": {
    "collapsed": false,
    "deletable": true,
    "editable": true
   },
   "outputs": [],
   "source": [
    "import numpy as np\n",
    "import scipy.stats as sps\n",
    "from collections import Counter  # это может пригодиться\n",
    "from BranchingProcess import Person, BranchingProcess, read_from_files\n",
    "\n",
    "import matplotlib.pyplot as plt\n",
    "from matplotlib import rcParams\n",
    "rcParams.update({'font.size': 16})\n",
    "%matplotlib inline"
   ]
  },
  {
   "cell_type": "markdown",
   "metadata": {
    "deletable": true,
    "editable": true
   },
   "source": [
    "## 1. Описательный анализ\n",
    "\n",
    "Большая часть кода, необходимая для проведения данного анализа, является технической и основывается на работе с пакетом `BranchingProcess`. Поэтому данный код полностью вам выдается, вам нужно только выполнить его, подставить имена файлов. Кроме того, код анализа позволит вам лучше понять структуру данных.\n",
    "\n",
    "Считайте данные с помощью предложенного кода. Посчитайте количество родословных."
   ]
  },
  {
   "cell_type": "code",
   "execution_count": 269,
   "metadata": {
    "collapsed": false,
    "deletable": true,
    "editable": true
   },
   "outputs": [
    {
     "name": "stdout",
     "output_type": "stream",
     "text": [
      "594 Шевкунов Кирилл Сергеевич АД\t-=-\tP O N I C R T J S E\n",
      "\n"
     ]
    }
   ],
   "source": [
    "with open(\"Варианты.txt\", \"r\") as f:\n",
    "    for s in f.readlines():\n",
    "        if (\"Шевкунов\" in s):\n",
    "            print(s)"
   ]
  },
  {
   "cell_type": "code",
   "execution_count": 23,
   "metadata": {
    "collapsed": false,
    "deletable": true,
    "editable": true
   },
   "outputs": [
    {
     "name": "stdout",
     "output_type": "stream",
     "text": [
      "./data/P.txt\n",
      "./data/O.txt\n",
      "./data/N.txt\n",
      "./data/I.txt\n",
      "./data/C.txt\n",
      "./data/R.txt\n",
      "./data/T.txt\n",
      "./data/J.txt\n",
      "./data/S.txt\n",
      "./data/E.txt\n"
     ]
    }
   ],
   "source": [
    "first_letters = \"P O N I C R T J S E\"\n",
    "fn_prefix = \"./data/\"\n",
    "fn_postfix = \".txt\"\n",
    "file_names = []\n",
    "for c in first_letters:\n",
    "    if c != \" \":\n",
    "        file_names.append(fn_prefix + c + fn_postfix)\n",
    "\n",
    "for v in file_names:\n",
    "    print(v)"
   ]
  },
  {
   "cell_type": "code",
   "execution_count": 24,
   "metadata": {
    "collapsed": false,
    "deletable": true,
    "editable": true,
    "scrolled": true
   },
   "outputs": [
    {
     "name": "stdout",
     "output_type": "stream",
     "text": [
      "55337\n"
     ]
    }
   ],
   "source": [
    "processes = read_from_files(file_names)\n",
    "print(len(processes))"
   ]
  },
  {
   "cell_type": "markdown",
   "metadata": {
    "deletable": true,
    "editable": true
   },
   "source": [
    "В имеющихся данных очень много людей, про которых известно лишь то, что они когда-то существовали. Обычно их фамилия неизвестна (вместо фамилии у них может стоять, к примеру, `B-290`), а у некоторых из них неизвестен даже пол, не говоря уже о родителях и детях. Такие данные стоит удалить.\n",
    "\n",
    "Удалите все процессы, состоящие только из одного поколения (в котором, естественно, будет только один человек).\n",
    "Сколько осталось процессов?"
   ]
  },
  {
   "cell_type": "code",
   "execution_count": 25,
   "metadata": {
    "collapsed": false,
    "deletable": true,
    "editable": true
   },
   "outputs": [
    {
     "name": "stdout",
     "output_type": "stream",
     "text": [
      "15841\n"
     ]
    }
   ],
   "source": [
    "for i in range(len(processes))[::-1]:\n",
    "    if len(processes[i].generations) < 2:\n",
    "        del processes[i]\n",
    "\n",
    "print(len(processes))"
   ]
  },
  {
   "cell_type": "markdown",
   "metadata": {
    "deletable": true,
    "editable": true
   },
   "source": [
    "Для лучшего понимания задачи и предложенных данных посчитайте следующие характеристики: минимальное, максимальное и среднее число поколений в роду, год рождения самого старого и самого молодого человека, среднюю продолжительность жизни."
   ]
  },
  {
   "cell_type": "code",
   "execution_count": 26,
   "metadata": {
    "collapsed": false,
    "deletable": true,
    "editable": true
   },
   "outputs": [
    {
     "name": "stdout",
     "output_type": "stream",
     "text": [
      "___GENERATION__\n",
      "Murdoch-533\tmale\t1740--\t1822-Feb-18\t\t\tRodger-269;Ross-7636\tMurdoch-527;Murdoch-534;Murdoch-535;Murdoch-536;Murdoch-537;Murdoch-538\n",
      "___GENERATION__\n",
      "Murdoch-527\tmale\t1792-Mar-28\t1852-Jun-05\tMurdoch-533;Rodger-269\tMurdoch-534;Murdoch-535;Murdoch-536;Murdoch-537;Murdoch-538\tRichardson-9305\tMurdoch-515;Murdoch-528\n",
      "Murdoch-534\tmale\t1800-Mar-08\t\tMurdoch-533;Ross-7636\tMurdoch-527;Murdoch-535;Murdoch-536;Murdoch-537;Murdoch-538\t\t\n",
      "Murdoch-535\tfemale\t1804-Feb-11\t\tMurdoch-533;Ross-7636\tMurdoch-527;Murdoch-534;Murdoch-536;Murdoch-537;Murdoch-538\t\t\n",
      "Murdoch-536\tfemale\t1806-Jan-26\t1863--\tMurdoch-533;Ross-7636\tMurdoch-527;Murdoch-534;Murdoch-535;Murdoch-537;Murdoch-538\tJamieson-955\tJamieson-956;Jamieson-957;Jamieson-958;Jamieson-959;Jamieson-960;Jamieson-961;Jamieson-962\n",
      "Murdoch-537\tfemale\t1807-Dec-13\t\tMurdoch-533;Ross-7636\tMurdoch-527;Murdoch-534;Murdoch-535;Murdoch-536;Murdoch-538\t\t\n",
      "Murdoch-538\tmale\t1809-Oct-12\t\tMurdoch-533;Ross-7636\tMurdoch-527;Murdoch-534;Murdoch-535;Murdoch-536;Murdoch-537\t\t\n",
      "___GENERATION__\n",
      "Murdoch-515\tmale\t1816-Feb-09\t1864-Jul-24\tMurdoch-527;McWhinnie-15\tMurdoch-528\tMcConnell-1855\tMurdoch-529;Murdoch-530;Murdoch-531;Murdoch-532;Murdoch-513\n",
      "Murdoch-528\tmale\t1828--\t1873-Jun-17\tMurdoch-527;Richardson-9305\tMurdoch-515\t\t\n",
      "___GENERATION__\n",
      "Murdoch-529\tmale\t1849--\t1925-Dec-26\tMurdoch-515;McConnell-1855\tMurdoch-530;Murdoch-531;Murdoch-532;Murdoch-513\tWallace-7710\tMurdoch-678\n",
      "Murdoch-530\tmale\t1852--\t1878-Aug-07\tMurdoch-515;McConnell-1855\tMurdoch-529;Murdoch-531;Murdoch-532;Murdoch-513\t\t\n",
      "Murdoch-531\tmale\t1854--\t1885-Jun-22\tMurdoch-515;McConnell-1855\tMurdoch-529;Murdoch-530;Murdoch-532;Murdoch-513\tWilson-35755;Wilson-34382\tMurdoch-740;Murdoch-742;Murdoch-743;Murdoch-716\n",
      "Murdoch-532\tmale\t1856-Jan-28\t1869-Sep-28\tMurdoch-515;McConnell-1855\tMurdoch-529;Murdoch-530;Murdoch-531;Murdoch-513\t\t\n",
      "Murdoch-513\tmale\t1858-Dec-09\t1931-Dec-13\tMurdoch-515;McConnell-1855\tMurdoch-529;Murdoch-530;Murdoch-531;Murdoch-532\tHutchinson-2956\tMurdoch-514;M-1000\n",
      "___GENERATION__\n",
      "Murdoch-678\tmale\t1884--\t1959-Apr-26\tMurdoch-529;Wallace-7710\t\tFletcher-5489\tMurdoch-679\n",
      "Murdoch-740\tmale\t1879--\t\tMurdoch-531;Wilson-34382\tMurdoch-742;Murdoch-743;Murdoch-716\t\t\n",
      "Murdoch-742\tfemale\t1879--\t\tMurdoch-531;Wilson-34382\tMurdoch-740;Murdoch-743;Murdoch-716\tGeorge-4712\t\n",
      "Murdoch-743\tmale\t1880--\t1945--\tMurdoch-531;Wilson-34382\tMurdoch-740;Murdoch-742;Murdoch-716\tWebb-9670\t\n",
      "Murdoch-716\tfemale\t1886-Jan-07\t1947-Sep-22\tMurdoch-531;Wilson-34382\tMurdoch-740;Murdoch-742;Murdoch-743\tFraser-3629\tFraser-2380\n",
      "Murdoch-514\tfemale\t1899--\t1932-Jul-01\tMurdoch-513;Hutchinson-2956\tM-1000\t\t\n",
      "M-1000\tmale\t\t\tMurdoch-513;Hutchinson-2956\tMurdoch-514\t\tP-445\n",
      "___GENERATION__\n",
      "Murdoch-679\tfemale\t1916-Oct-19\t2013-Oct-09\tMurdoch-678;Fletcher-5489\t\tHarvey-6695\t\n",
      "P-445\tfemale\t\t\tM-1000\t\t\t\n"
     ]
    }
   ],
   "source": [
    "# Пробный вывод для лучшего понимания происходящего\n",
    "# str(processes[0])\n",
    "for generation in processes[0].generations:\n",
    "    print(\"___GENERATION__\")\n",
    "    for man in generation:\n",
    "        print(man)"
   ]
  },
  {
   "cell_type": "code",
   "execution_count": 27,
   "metadata": {
    "collapsed": false,
    "deletable": true,
    "editable": true
   },
   "outputs": [
    {
     "name": "stdout",
     "output_type": "stream",
     "text": [
      "Минимальное число поколений в роду: 2\n",
      "Максимальное число поколений в роду: 81\n",
      "Среднее число поколений в роду: 3.4\n",
      "Год рождения самого старого: 1\n",
      "Год рождения самого молодого: 2000\n"
     ]
    }
   ],
   "source": [
    "generation_counts = []\n",
    "years = []\n",
    "\n",
    "for pedigree in processes:\n",
    "    generation_counts.append(len(pedigree.generations))\n",
    "    \n",
    "    for generation in pedigree.generations:\n",
    "        for person in generation:\n",
    "            if person.birthday != '':\n",
    "                years.append(person.birthday.split('-')[0])\n",
    "\n",
    "years = np.array(years, dtype=int)\n",
    "print('Минимальное число поколений в роду:', min(generation_counts))\n",
    "print('Максимальное число поколений в роду:', max(generation_counts))\n",
    "print('Среднее число поколений в роду:', round(np.mean(generation_counts), 1))\n",
    "print('Год рождения самого старого:', min(years))\n",
    "print('Год рождения самого молодого:', max(years))"
   ]
  },
  {
   "cell_type": "markdown",
   "metadata": {
    "deletable": true,
    "editable": true
   },
   "source": [
    "Постройте гистограмму зависимости количества поколений в родословной от количества родословных.\n",
    "На следующем графике отложите на временной оси года рождения всех людей."
   ]
  },
  {
   "cell_type": "code",
   "execution_count": 28,
   "metadata": {
    "collapsed": false,
    "deletable": true,
    "editable": true
   },
   "outputs": [
    {
     "data": {
      "image/png": "[encoded data removed]",
      "text/plain": [
       "<matplotlib.figure.Figure at 0x7f62c5af1128>"
      ]
     },
     "metadata": {},
     "output_type": "display_data"
    },
    {
     "data": {
      "image/png": "[encoded data removed]",
      "text/plain": [
       "<matplotlib.figure.Figure at 0x7f62c5c65198>"
      ]
     },
     "metadata": {},
     "output_type": "display_data"
    }
   ],
   "source": [
    "plt.figure(figsize=(10, 4))\n",
    "plt.hist(generation_counts, bins=80)\n",
    "plt.xlabel('generations count in pedigree')\n",
    "plt.ylabel('count of pedigree') # было pedogree\n",
    "plt.show()\n",
    "\n",
    "plt.figure(figsize=(15, 1))\n",
    "plt.scatter(years, np.zeros_like(years), alpha=0.2)\n",
    "plt.xlabel('years')\n",
    "plt.show()"
   ]
  },
  {
   "cell_type": "code",
   "execution_count": 29,
   "metadata": {
    "collapsed": false,
    "deletable": true,
    "editable": true
   },
   "outputs": [
    {
     "data": {
      "image/png": "[encoded data removed]",
      "text/plain": [
       "<matplotlib.figure.Figure at 0x7f62c5c3a588>"
      ]
     },
     "metadata": {},
     "output_type": "display_data"
    },
    {
     "data": {
      "image/png": "[encoded data removed]",
      "text/plain": [
       "<matplotlib.figure.Figure at 0x7f62c5b7ac18>"
      ]
     },
     "metadata": {},
     "output_type": "display_data"
    }
   ],
   "source": [
    "plt.figure(figsize=(14, 6)) # was figsize=(10,4)\n",
    "plt.ylim(ymax=1000)\n",
    "plt.hist(generation_counts, bins=80)\n",
    "plt.xlabel('generations count in pedigree')\n",
    "plt.ylabel('count of pedigree') # было pedogree\n",
    "\n",
    "plt.show()\n",
    "\n",
    "plt.figure(figsize=(15, 1))\n",
    "plt.scatter(years, np.zeros_like(years), alpha=0.025) # was alpha=0.2\n",
    "plt.xlabel('years')\n",
    "plt.show()"
   ]
  },
  {
   "cell_type": "markdown",
   "metadata": {
    "deletable": true,
    "editable": true
   },
   "source": [
    "Посчитайте среднюю продолжительность жизни."
   ]
  },
  {
   "cell_type": "code",
   "execution_count": 30,
   "metadata": {
    "collapsed": false,
    "deletable": true,
    "editable": true
   },
   "outputs": [
    {
     "name": "stdout",
     "output_type": "stream",
     "text": [
      "56.56\n"
     ]
    }
   ],
   "source": [
    "ages = []\n",
    "for pedigree in processes:\n",
    "    for generation in pedigree.generations:\n",
    "        for person in generation:\n",
    "            if person.birthday != '' and person.deathdate != '':\n",
    "                ages.append(int(person.deathdate.split('-')[0]) - \\\n",
    "                            int(person.birthday.split('-')[0]))\n",
    "\n",
    "### !  В коде выше мы берём разность года рождения и года смерти, \n",
    "### ! т.е. продолжительности жизни оценена с ошибкой до года,\n",
    "### ! хотя среднее должно пострадать не сильно\n",
    "\n",
    "mean_age = np.mean(ages)\n",
    "print(round(mean_age, 2))"
   ]
  },
  {
   "cell_type": "markdown",
   "metadata": {
    "deletable": true,
    "editable": true
   },
   "source": [
    "## 2. Оценка закона размножения\n",
    "\n",
    "Для начала предположим, что все выданные вам процессы являются частью одного большого процесса с общим предком. В следующем задании рассмотрим так же случай, когда все процессы являются разными.\n",
    "\n",
    "Чтобы проводить какой-либо анализ ветвящегося процесса нужно некоторым образом оценить закон размножения. Кажется,  что для этого достаточно посчитать количество сыновей у каждого человека, получив тем самым выборку неотрицательных целых чисел. Однако, проблема в том, что данные неполные, в частности, некоторые поля могут быть не заполнены. Тем не менее обычно у человека указаны либо все дети, либо не указаны вообще. \n",
    "Таким образом, условно мы можем разделить выборку на две части: поле детей заполнено (в т.ч. если у человека на самом деле нет детей), поле детей незаполнено. Если бы первая часть выборки была бы полностью известна, что распределение можно оценить по ней. Нам же неизвестен размер выборки и количество нулевых элементов в ней. Количество положительных элементов известно.\n",
    "\n",
    "\n",
    "**Математическая постановка задачи**\n",
    "\n",
    "$\\mathsf{P}_\\theta$ --- неизвестное распределение из некоторого класса распределений $\\mathcal{P}$ на $\\mathbb{Z}_+$.\n",
    "\n",
    "$X_1, ..., X_n$ --- выборка из распределения $\\mathsf{P}_\\theta$, причем $n$ и количество нулей в выборке неизвестны. \n",
    "\n",
    "$Y_1, ..., Y_s$ --- положительная подвыборка, которая полностью нам известна. В нашей задаче $Y_j$ --- количество сыновей у $j$-го человека среди тех, у кого есть хотя бы один сын.\n",
    "\n",
    "Оценку параметра $\\theta$ можно найти методом максимального правдоподобия:\n",
    "\n",
    "$$\\prod_{i=1}^s \\mathsf{P}_\\theta (Y_i \\left| Y_i > 0 \\right) \\to \\max_\\theta$$ \n",
    "\n",
    "В качестве классов распределений $\\mathcal{P}$ рассмотрите пуассоновское и геометрическое распределения. По желанию можете рассмотреть другие классы распределений, осмысленные в данной задаче\n",
    "\n",
    "**Внимание!** Применение метода `fit` из `scipy.stats` является некорректным в данной задаче, поскольку рассматривается усеченная выборка. Задачу максимизации нужно решить явно, выписав все формулы (которые тоже нужно прислать вместе с кодом).\n",
    "\n",
    "После оценки параметров проведите проверку принадлежности неизвестного распределения рассматриваемому семейству распределений $\\mathcal{P}$ с помощью критерия хи-квадрат, взяв для для него то распределение из $\\mathcal{P}$, которое соответствует оценке максимального правдоподобия. Постарайтесь учесть все особенности проверки гипотез, которые обсуждались на семинаре. Для каждого класса постройте также график частот и функции $\\mathsf{P}_\\theta (y \\left| Y > 0 \\right).$"
   ]
  },
  {
   "cell_type": "markdown",
   "metadata": {
    "deletable": true,
    "editable": true
   },
   "source": [
    "____________________"
   ]
  },
  {
   "cell_type": "markdown",
   "metadata": {},
   "source": [
    "### Оценка ММП"
   ]
  },
  {
   "cell_type": "markdown",
   "metadata": {},
   "source": [
    "#### 1.Геометрическое распределение\n",
    "\n",
    "$P_p(X = n) = (1 - p)^n p$ (Геометрическое распределение с нулём, $X \\in \\{0, 1, 2, ...\\}$)\n",
    "\n",
    "Для положительных $Y_i$ имеем:\n",
    "$P_p(Y_i | Y_i > 0) = \\frac{P(Y_i)}{P(Y_i > 0)} = \\frac{P(Y_i)}{1 - P(Y_i = 0)} \n",
    "= \\frac{(1 - p)^n p}{1 - p} = (1 - p)^{n - 1} p $, т.е. положительные $Y_i$ распределены по геометрическому распределению без нуля.\n",
    "\n",
    "$$\\prod\\limits_{i=1}^s P_p(Y_i | Y_i > 0) = \\prod\\limits_{i=1}^s (1 - p)^{Y_i - 1} p \n",
    "= (1-p) ^ {\\sum\\limits_{i=1}^s{Y_i} - s} p^s $$\n",
    "\n",
    "$$\\Rightarrow (\\sum\\limits_{i=1}^s{Y_i} - s) \\ln{(1-p)} + s \\ln{p}$$\n",
    "Возьмём производную для нахождения точки максимума (из вида логарифмической функции правдоподобия ясно, что при $p \\in [0, 1]$ и положительных $Y_i$ (коэффициенты при логарифмах неотрицательны) наблюдается один максимум):\n",
    "\n",
    "$$ (\\sum\\limits_{i=1}^s{Y_i} - s) \\frac{-1}{1-p} + \\frac{s}{p} =: 0 $$\n",
    "$$ \\frac{s}{1-p} - \\frac{\\sum\\limits_{i=1}^s{Y_i}}{1-p} + \\frac{s}{p} = 0$$ \n",
    "$$ \\frac{sp + s - sp}{(1-p)p} = \\frac{\\sum\\limits_{i=1}^s{Y_i}}{1-p}$$ \n",
    "$$ p = \\frac{s}{\\sum\\limits_{i=1}^s{Y_i}} = \\frac{1}{\\overline{Y}}$$"
   ]
  },
  {
   "cell_type": "markdown",
   "metadata": {},
   "source": [
    "**Итого:** $ p^* = 1/\\overline{Y}$ - оценка по ММП для геометрического распределения"
   ]
  },
  {
   "cell_type": "markdown",
   "metadata": {},
   "source": [
    "#### 2.Пуассоновское распределение\n",
    "\n",
    "$P_\\lambda(X = k) = \\frac{\\lambda^k}{k!} e^{-\\lambda}$; $P_\\lambda(X = 0) = e^{-\\lambda}$; $P_\\lambda(X > 0) = 1 - e^{-\\lambda}$\n",
    "\n",
    "$$\\prod\\limits_{i=1}^s P_\\lambda(Y_i | Y_i > 0)\n",
    "= \\prod\\limits_{i=1}^s \\frac{\\frac{\\lambda^{Y_i}}{{Y_i}!} e^{-\\lambda}}{1 - e^{-\\lambda}}\n",
    "= \\frac{\\frac{\\lambda^{\\sum\\limits_{i=1}^s{Y_i}}}{\\prod\\limits_{i=1}^s {Y_i}!} e^{-\\lambda n}}{(1 - e^{-\\lambda})^n}$$\n",
    "\n",
    "$$\\Rightarrow L(\\lambda, Y) = \\sum\\limits_{i=1}^s{Y_i} \\ln{\\lambda} - n \\lambda - \\ln(\\prod\\limits_{i=1}^s {Y_i}!) - n \\ln(1 - e^{-\\lambda})$$\n",
    "\n",
    "$$\\Rightarrow L'(\\lambda, Y) = \\sum\\limits_{i=1}^s{Y_i} \\frac{1}{\\lambda} - n - n \\frac{e^{-\\lambda}}{(1 - e^{-\\lambda})} \n",
    "= \\sum\\limits_{i=1}^s{Y_i} \\frac{1}{\\lambda} - \\frac{n}{(1 - e^{-\\lambda})} =: 0$$\n",
    "Оценка по ММП достигается в корне:\n",
    "$$ \\overline{Y} = \\frac{\\lambda}{(1 - e^{-\\lambda})}$$"
   ]
  },
  {
   "cell_type": "markdown",
   "metadata": {},
   "source": [
    "Получена возрастающая на $\\lambda \\in (0, + \\infty)$ функция ($\\frac{d}{dx} \\frac{x}{(1 - e^{-x})} = \\frac{e^x (-x + e^x - 1)}{(e^x - 1)^2} > 0$), при этом $\\overline{Y} \\geq s \\geq 1$, а $\\lim\\limits_{\\lambda \\rightarrow +0} (\\frac{\\lambda}{(1 - e^{-\\lambda})}) = 1$ (по Тейлору), значит у этого уравнения есть корень, при том один. Его можно найти двоичным поиском или поиском по сетке."
   ]
  },
  {
   "cell_type": "markdown",
   "metadata": {},
   "source": [
    "**Итого:** Оценка по ММП достигается в корне (он выражается только через страшные функции и его предлагается искать численными методами, благо функция хорошо для этого подходит):\n",
    "$$ \\overline{Y} = \\frac{\\lambda}{(1 - e^{-\\lambda})}$$"
   ]
  },
  {
   "cell_type": "markdown",
   "metadata": {},
   "source": [
    "_______"
   ]
  },
  {
   "cell_type": "markdown",
   "metadata": {},
   "source": [
    "### Проверка теоретических выкладок практическим методом (самодеятельность)\n",
    "Для проверки предлагается взять числа из некоторых геометрического и пуассоновского распределения и вычислить оценку ММП по сгенерированным данным, сравнить её с исходным параметром \"на глаз\" (разумно было бы провести проверку множество раз с различными параметрами и размерами выборок, проверяя стат. значимость, например, тем же тестом хи-квадрат, но этот раздел не требуется, его просто жалко удалять)"
   ]
  },
  {
   "cell_type": "code",
   "execution_count": 14,
   "metadata": {
    "collapsed": true
   },
   "outputs": [],
   "source": [
    "import scipy.stats as sps\n",
    "import scipy.optimize\n",
    "import numpy as np # слишком долго листать на верх"
   ]
  },
  {
   "cell_type": "code",
   "execution_count": 13,
   "metadata": {
    "collapsed": false,
    "deletable": true,
    "editable": true
   },
   "outputs": [
    {
     "name": "stdout",
     "output_type": "stream",
     "text": [
      "[762 737 780 776 797 784 759 809 749 813]\n",
      "[762 737 780 776 797 784 759 809 749 813]\n"
     ]
    },
    {
     "data": {
      "text/plain": [
       "    fjac: array([[-1.]])\n",
       "     fun: array([ 0.])\n",
       " message: 'The solution converged.'\n",
       "    nfev: 5\n",
       "     qtf: array([ 175.125])\n",
       "       r: array([-1.])\n",
       "  status: 1\n",
       " success: True\n",
       "       x: array([ 777.125])"
      ]
     },
     "execution_count": 13,
     "metadata": {},
     "output_type": "execute_result"
    }
   ],
   "source": [
    "X = sps.poisson(mu=777.).rvs(size=1000)\n",
    "Y = np.array([x for x in X if x > 0])\n",
    "\n",
    "print(X[:10])\n",
    "print(Y[:10])\n",
    "\n",
    "def f(x):\n",
    "    return x / (1. - np.exp( - x)) - Y.mean()\n",
    "\n",
    "scipy.optimize.root(f,2.) # найденный x должен ~= mu"
   ]
  },
  {
   "cell_type": "markdown",
   "metadata": {
    "deletable": true,
    "editable": true
   },
   "source": [
    "______________"
   ]
  },
  {
   "cell_type": "code",
   "execution_count": 19,
   "metadata": {
    "collapsed": false,
    "deletable": true,
    "editable": true,
    "scrolled": true
   },
   "outputs": [
    {
     "name": "stdout",
     "output_type": "stream",
     "text": [
      "p =  0.5374137464214082\n"
     ]
    },
    {
     "data": {
      "image/png": "[encoded data removed]",
      "text/plain": [
       "<matplotlib.figure.Figure at 0x7f62c5c8f8d0>"
      ]
     },
     "metadata": {},
     "output_type": "display_data"
    },
    {
     "name": "stdout",
     "output_type": "stream",
     "text": [
      "X[:15] = [0 0 0 0 0 0 0 4 0 0 2 3 1 3 1]\n",
      "Y[:10] = [4 2 3 1 3 1 1 2 3 2]\n"
     ]
    }
   ],
   "source": [
    "p = 0.1 + np.random.rand() * 0.8 # ~ U[0.1, 0.9]\n",
    "print(\"p = \", p)\n",
    "X = sps.geom(p=p).rvs(size=10000) - 1\n",
    "Y = np.array([x for x in X if x > 0])\n",
    "plt.ylim(ymax=3500)\n",
    "plt.xlim(xmax=20)\n",
    "plt.hist(X, bins = 40)\n",
    "plt.show()\n",
    "print(\"X[:15] =\", X[:15])\n",
    "print(\"Y[:10] =\", Y[:10])"
   ]
  },
  {
   "cell_type": "code",
   "execution_count": 21,
   "metadata": {
    "collapsed": false,
    "deletable": true,
    "editable": true
   },
   "outputs": [
    {
     "name": "stdout",
     "output_type": "stream",
     "text": [
      "p =  0.5374137464214082\n",
      "theta =  0.544880785414\n"
     ]
    }
   ],
   "source": [
    "theta = 1. / np.array(Y).mean()\n",
    "print(\"p = \", p)\n",
    "print(\"theta = \", theta) # должны быть приблизительно равны"
   ]
  },
  {
   "cell_type": "markdown",
   "metadata": {
    "deletable": true,
    "editable": true
   },
   "source": [
    "_____________________"
   ]
  },
  {
   "cell_type": "markdown",
   "metadata": {},
   "source": [
    "### Обработка данных"
   ]
  },
  {
   "cell_type": "markdown",
   "metadata": {
    "deletable": true,
    "editable": true
   },
   "source": [
    "Составим, для начала Y"
   ]
  },
  {
   "cell_type": "code",
   "execution_count": 42,
   "metadata": {
    "collapsed": false,
    "deletable": true,
    "editable": true
   },
   "outputs": [
    {
     "data": {
      "text/plain": [
       "{'Deer-166',\n",
       " 'Samoilov-2',\n",
       " 'Sabourin-175',\n",
       " 'Packer-915',\n",
       " 'Hrolfsson-10',\n",
       " 'Nahrgang-21',\n",
       " 'Ochsenreither-23',\n",
       " 'Ober-60',\n",
       " 'Dyer-5013',\n",
       " 'Fairchild-744',\n",
       " 'Öhri-19',\n",
       " 'Inglehart-26',\n",
       " 'Sackrison-3',\n",
       " 'Sampson-1451',\n",
       " 'Saeger-21',\n",
       " 'Ochs-136',\n",
       " 'Naden-25',\n",
       " 'Taft-425',\n",
       " 'Bjørnsson-145',\n",
       " 'Taylor-31908',\n",
       " 'Nauchleer-11',\n",
       " 'Sample-469',\n",
       " 'Oakes-720',\n",
       " 'Ely-902',\n",
       " 'Taffe-2',\n",
       " 'Padgett-374',\n",
       " 'Samaha-308',\n",
       " 'Bass-441',\n",
       " 'Eddy-855',\n",
       " 'Ebaugh-21',\n",
       " 'Damas-2',\n",
       " 'Tryon-566',\n",
       " 'Saloger-2',\n",
       " 'Eales-57',\n",
       " 'Safford-136',\n",
       " 'Oberg-126',\n",
       " 'Rackliffe-19',\n",
       " 'Pauw-314',\n",
       " 'Olafsson-7',\n",
       " 'Earnest-147',\n",
       " 'Salera-4',\n",
       " 'Odenbaugh-79',\n",
       " 'Cynwrig-13',\n",
       " 'Easterbrook-100',\n",
       " 'Estey-168',\n",
       " 'Salmen-19',\n",
       " 'Dyer-742',\n",
       " 'Hoddy-38',\n",
       " 'Nathan-86',\n",
       " 'Phillips-2160',\n",
       " 'Rabe-130',\n",
       " 'Eagle-64',\n",
       " 'Samson-428',\n",
       " 'Polk-128',\n",
       " 'Rabbitt-7',\n",
       " 'Taylor-145',\n",
       " 'Easterling-160',\n",
       " 'Ximenez-1',\n",
       " 'Buckland-1409',\n",
       " 'Padden-44',\n",
       " 'Windle-81',\n",
       " 'Pace-38',\n",
       " 'Safford-92',\n",
       " 'Buckland-2699',\n",
       " 'Nedrow-890',\n",
       " 'Asturias-32',\n",
       " 'Kinman-420',\n",
       " 'Eastin-112',\n",
       " 'Eberharter-6',\n",
       " 'Tatlock-78',\n",
       " 'Olivier-1423',\n",
       " 'Smythe-224',\n",
       " 'Dyer-4944',\n",
       " 'Estes-2094',\n",
       " 'Van_der_Walt-584',\n",
       " 'Spangrudlien-8',\n",
       " 'Leftwich-9',\n",
       " 'Salmon-178',\n",
       " 'Salmon-587',\n",
       " 'Cabral-226',\n",
       " 'Samborne-42',\n",
       " 'Oberholzer-110',\n",
       " 'Naffin-13',\n",
       " 'Eblen-26',\n",
       " 'Weems-284',\n",
       " 'Naab-443',\n",
       " 'Cady-60',\n",
       " 'Strong-463',\n",
       " 'Paauw-10',\n",
       " 'Buchanan-731',\n",
       " 'Salomon-81',\n",
       " 'Buckland-2568',\n",
       " 'Padilla-65',\n",
       " 'Olivier-1185',\n",
       " 'Napier-69',\n",
       " 'Pelletier-1576',\n",
       " 'St_John-501',\n",
       " 'Easterly-34',\n",
       " 'Sanford-415',\n",
       " 'Esparza-63',\n",
       " 'Olivier-1375',\n",
       " 'Aiken-359',\n",
       " 'Odell-684',\n",
       " 'Eagles-58',\n",
       " 'Neal-1399',\n",
       " 'Buchanan-1308',\n",
       " \"O'Neall-73\",\n",
       " 'Wilson-26482',\n",
       " 'Navarre-299',\n",
       " 'Ingram-1174',\n",
       " 'Dyer-4856',\n",
       " 'Phillips-15892',\n",
       " 'Ingram-2230',\n",
       " 'Easley-760',\n",
       " 'Eagar-20',\n",
       " \"O'Brien-894\",\n",
       " 'East-950',\n",
       " 'Sacks-85',\n",
       " 'Napoli-51',\n",
       " 'Naff-120',\n",
       " 'Ap_Elgudy-1',\n",
       " 'Aubigny-14',\n",
       " 'Salyer-234',\n",
       " 'Saunders-1231',\n",
       " 'Metcalfe-644',\n",
       " 'Taekes-14',\n",
       " 'Neigh-2',\n",
       " 'Eaton-4182',\n",
       " 'Oathout-5',\n",
       " 'Uaridnach-1',\n",
       " 'Oakes-550',\n",
       " \"O'connel-12\",\n",
       " 'Narváez-31',\n",
       " 'Nedrow-1002',\n",
       " 'Rachow-1',\n",
       " 'Packham-128',\n",
       " 'Tabak-130',\n",
       " 'Ingvarsson-15',\n",
       " 'Saffell-223',\n",
       " 'Ehry-25',\n",
       " 'Neale-460',\n",
       " 'Ingram-2422',\n",
       " 'Cadwell-58',\n",
       " 'Salley-191',\n",
       " 'Nazarowski-1',\n",
       " 'Dyer-1033',\n",
       " 'Neal-2854',\n",
       " 'Sabin-473',\n",
       " 'Sabin-391',\n",
       " 'Tackett-256',\n",
       " 'Early-160',\n",
       " 'Sabatka-3',\n",
       " 'Sanders-1493',\n",
       " 'Pacent-6',\n",
       " 'Ingalls-1008',\n",
       " 'Cadieux-81',\n",
       " 'Tagler-2',\n",
       " 'Ibarra-93',\n",
       " 'Nason-243',\n",
       " 'Dyer-274',\n",
       " 'Sabic-6',\n",
       " 'Lacy-261',\n",
       " 'Eason-618',\n",
       " 'Morgan-12299',\n",
       " 'Salisbury-1009',\n",
       " 'Easton-582',\n",
       " 'Early-9',\n",
       " 'Guderian-19',\n",
       " 'Taft-239',\n",
       " 'Oeth-14',\n",
       " 'Nagel-51',\n",
       " 'Polk-81',\n",
       " 'Bishir-85',\n",
       " 'Eagles-423',\n",
       " 'Nettrouer-105',\n",
       " 'Dyer-6527',\n",
       " 'Neil-603',\n",
       " 'Taft-118',\n",
       " 'Ballard-1072',\n",
       " 'Ebinger-12',\n",
       " 'Newton-1330',\n",
       " 'Schall-70',\n",
       " 'Ibelin-52',\n",
       " 'Eaton-1043',\n",
       " 'Holst-150',\n",
       " 'Sabin-249',\n",
       " 'Cartmell-523',\n",
       " 'Navarre-349',\n",
       " 'Rackham-495',\n",
       " 'Nachtmann-2',\n",
       " 'Ryan-2814',\n",
       " 'Salkeld-211',\n",
       " 'Cartmell-564',\n",
       " 'Nes-40',\n",
       " 'Eagan-135',\n",
       " 'DeBulgaria-8',\n",
       " 'S²rhuus-2',\n",
       " 'Ice-105',\n",
       " 'Osoriz-2',\n",
       " 'Eagle-144',\n",
       " 'C-679',\n",
       " 'Dyer-987',\n",
       " 'Neill-440',\n",
       " 'Naubert-3',\n",
       " 'Neville-2147',\n",
       " 'Eads-113',\n",
       " 'Easley-575',\n",
       " 'O’Brien-12',\n",
       " 'DeCroxton-1',\n",
       " 'Iannarelli-70',\n",
       " 'Cafe-3',\n",
       " 'Tabeau-17',\n",
       " 'Benedix-48',\n",
       " 'Dyer-2549',\n",
       " 'Buckland-534',\n",
       " 'Phillips-11049',\n",
       " 'Cartmell-428',\n",
       " 'Tailleur-16',\n",
       " 'Ilsley-32',\n",
       " 'Nail-119',\n",
       " 'Salas-98',\n",
       " 'Salyer-413',\n",
       " 'Granillo-69',\n",
       " 'De_Iñiguez-26',\n",
       " 'Odiorne-18',\n",
       " 'Sackett-895',\n",
       " 'Eade-37',\n",
       " 'Paddock-775',\n",
       " 'Nedrow-292',\n",
       " 'De_Kary-2',\n",
       " 'Oettle-4',\n",
       " 'Tacey-16',\n",
       " 'Sabin-238',\n",
       " 'Oakley-907',\n",
       " 'Corsa-169',\n",
       " 'Rack-53',\n",
       " 'Sakarintalo-4',\n",
       " 'Sain-71',\n",
       " 'Andersen_Moanes-4',\n",
       " 'Ingham-260',\n",
       " 'Prowse-243',\n",
       " 'Baker-7442',\n",
       " 'Sponheim-27',\n",
       " 'Nedrow-398',\n",
       " 'Eyves-8',\n",
       " 'Olsen-3913',\n",
       " 'Ingraham-500',\n",
       " 'Jackson-9581',\n",
       " 'Tryon-1480',\n",
       " 'Nealey-6',\n",
       " 'Assersson-2',\n",
       " 'Neesom-3',\n",
       " 'Ingmann-4',\n",
       " 'Newton-1642',\n",
       " 'Salter-356',\n",
       " 'Ehmann-18',\n",
       " 'Buckland-2797',\n",
       " 'Blevins-1206',\n",
       " 'Probinus-2',\n",
       " 'Eavey-32',\n",
       " 'Buckland-1039',\n",
       " 'Neale-327',\n",
       " 'Salley-93',\n",
       " 'Nachtigahl-3',\n",
       " 'Peltier-246',\n",
       " 'Salemi-36',\n",
       " 'Saman-19',\n",
       " 'Eaton-1125',\n",
       " 'Naish-89',\n",
       " 'Wernicke-14',\n",
       " 'Nathe-10',\n",
       " 'Rayburn-401',\n",
       " 'Dyer-927',\n",
       " 'Villalobos-146',\n",
       " 'Reber-28',\n",
       " 'Nel-809',\n",
       " 'Schulte-433',\n",
       " 'Haraldsson-217',\n",
       " 'Cady-104',\n",
       " 'Salas_Lopez-3',\n",
       " 'Sampson-891',\n",
       " 'Tryon-847',\n",
       " 'Salmons-42',\n",
       " 'Bass-1098',\n",
       " 'Oehm-9',\n",
       " 'Forster-945',\n",
       " 'Oddsen-8',\n",
       " 'Cadd-85',\n",
       " 'Eaton-2277',\n",
       " 'Cartmell-131',\n",
       " 'Naesmyth-11',\n",
       " 'Saggio-5',\n",
       " 'Fitz_Randolph-324',\n",
       " 'Salvaggio-121',\n",
       " 'Dyer-3425',\n",
       " 'Green-4995',\n",
       " 'Taffinder-7',\n",
       " 'Dell-341',\n",
       " 'Habsburg-Lorraine-6',\n",
       " 'Sammons-297',\n",
       " 'Packer-500',\n",
       " 'Rabon-21',\n",
       " 'Ballard-929',\n",
       " 'Eaves-141',\n",
       " 'Oumun-1',\n",
       " 'Nauholz-6',\n",
       " 'Caccamise-12',\n",
       " 'Odell-24',\n",
       " 'Needham-510',\n",
       " 'Beaumont-701',\n",
       " 'Neale-849',\n",
       " 'Nedrow-732',\n",
       " 'Zacuta-3',\n",
       " 'Matheson-274',\n",
       " 'Almqvist-18',\n",
       " 'Cartmell-98',\n",
       " 'Nation-10',\n",
       " 'Normandie-124',\n",
       " 'Tabb-73',\n",
       " 'Ibach-17',\n",
       " 'Offerhaus-21',\n",
       " 'Rackley-101',\n",
       " 'Olivier-631',\n",
       " 'Pacitti-22',\n",
       " 'Salgot-2',\n",
       " 'Imel-89',\n",
       " 'Radcliff-108',\n",
       " 'Dyer-7216',\n",
       " 'Idleman-17',\n",
       " 'Ilbrink-134',\n",
       " 'Murray-6937',\n",
       " 'Darcy-64',\n",
       " 'Racette-58',\n",
       " 'Neikamp-10',\n",
       " 'Salisburry-2',\n",
       " 'Taipale-46',\n",
       " 'Fairchild-963',\n",
       " 'Samaha-1118',\n",
       " 'Duncan-2564',\n",
       " 'Of_Luxembourg-34',\n",
       " 'Dyer-5592',\n",
       " 'Рюрикович-35',\n",
       " 'Sjursen-33',\n",
       " 'Inlow-8',\n",
       " 'Neville-2223',\n",
       " 'Cowell-279',\n",
       " 'UNKNOWN-100865',\n",
       " 'Landman-194',\n",
       " 'Tacey-11',\n",
       " 'Easterday-119',\n",
       " 'Naudian-3',\n",
       " 'Folkesson-15',\n",
       " 'Racano-16',\n",
       " 'Fitz_Randolph-173',\n",
       " 'Greene-122',\n",
       " 'Earea-16',\n",
       " 'Sampson-2244',\n",
       " 'Clary-16',\n",
       " 'Nagel-576',\n",
       " 'Neilson-568',\n",
       " 'Burnett-1093',\n",
       " 'Randolph-522',\n",
       " 'Boakes-119',\n",
       " 'Curwen-95',\n",
       " 'Iceton-15',\n",
       " 'Musgueneung-1',\n",
       " 'De_Trujillo-2',\n",
       " 'Eby-246',\n",
       " 'Cadle-25',\n",
       " 'Tadlock-23',\n",
       " 'Buckland-2584',\n",
       " 'Cady-204',\n",
       " 'Saman-15',\n",
       " 'Neely-108',\n",
       " 'Roberts-1185',\n",
       " 'Sainsbury-79',\n",
       " 'Bruce-2887',\n",
       " 'Yeazle-20',\n",
       " 'Sadler-1194',\n",
       " 'Neely-423',\n",
       " 'Cadwalader-33',\n",
       " 'Palmer-3897',\n",
       " 'Farquharson-76',\n",
       " 'Needs-151',\n",
       " 'Dyer-5325',\n",
       " 'Neale-839',\n",
       " 'Ignatz-13',\n",
       " 'Nash-2789',\n",
       " 'Phillips-13498',\n",
       " 'Oddsson-7',\n",
       " 'Home-6',\n",
       " 'ODonnell-49',\n",
       " 'Alma-19',\n",
       " 'Gaston-237',\n",
       " 'Newton-6051',\n",
       " 'Wessex-362',\n",
       " 'Strouse-134',\n",
       " 'Oblak-17',\n",
       " 'Heath-2004',\n",
       " 'Taliaferro-38',\n",
       " 'Rackley-92',\n",
       " 'Easterling-165',\n",
       " 'Morgan-7059',\n",
       " 'Neild-20',\n",
       " 'Cabe-87',\n",
       " 'J²rmeland-4',\n",
       " 'Naude-517',\n",
       " 'Eames-367',\n",
       " 'Lapointe-731',\n",
       " 'Errey-228',\n",
       " 'Naylor-120',\n",
       " 'Pacheco-216',\n",
       " 'Phillips-11330',\n",
       " 'Salazar-130',\n",
       " 'Pacey-115',\n",
       " 'Pachovský-28',\n",
       " 'Easton-525',\n",
       " 'Naish-85',\n",
       " 'Rolfe-433',\n",
       " 'Fitz_Randolph-256',\n",
       " 'Salisbury-293',\n",
       " 'Dyer-2208',\n",
       " 'Odem-84',\n",
       " 'Nadolski-7',\n",
       " 'Robar-107',\n",
       " 'Dyer-3113',\n",
       " 'Padden-70',\n",
       " 'Nagel-175',\n",
       " 'McKinley-185',\n",
       " 'Peden-466',\n",
       " 'Sass-85',\n",
       " 'Eaton-4157',\n",
       " 'Heath-559',\n",
       " 'Ratcliff-351',\n",
       " 'Cadet-42',\n",
       " 'Rackham-160',\n",
       " 'Salisbury-395',\n",
       " 'Pauw-66',\n",
       " 'Dyer-4089',\n",
       " 'Nannesz-2',\n",
       " 'Phillips-9981',\n",
       " 'Sachsen-Lauenburg-3',\n",
       " 'Sahr-14',\n",
       " 'Salyer-717',\n",
       " 'Neale-871',\n",
       " 'Sallee-230',\n",
       " 'Ilbrink-117',\n",
       " 'Oakley-660',\n",
       " 'Dyer-6602',\n",
       " 'Nason-203',\n",
       " 'Napier-877',\n",
       " 'Easterly-78',\n",
       " 'Walter-217',\n",
       " 'Dyfnwall-6',\n",
       " 'Sala-120',\n",
       " 'Brown-31418',\n",
       " 'Green-3304',\n",
       " 'Sajonc-8',\n",
       " 'Sadolin-8',\n",
       " 'Ebert-353',\n",
       " 'OConnor-44',\n",
       " 'LaPoint-98',\n",
       " 'Ratcliff-535',\n",
       " 'Sanborn-596',\n",
       " 'Porphyrogennetos-6',\n",
       " 'Neufmarché-25',\n",
       " 'Tackes-61',\n",
       " 'Navarro-138',\n",
       " 'Nagle-449',\n",
       " 'Nasca-16',\n",
       " 'Early-209',\n",
       " 'Loftie-Eaton-65',\n",
       " 'Bourbon-67',\n",
       " 'Tackett-280',\n",
       " 'Neill-227',\n",
       " 'Ebel-56',\n",
       " 'Earley-31',\n",
       " 'Buckland-1998',\n",
       " 'Raybun-3',\n",
       " 'Sage-315',\n",
       " 'Nel-431',\n",
       " 'Cadwell-69',\n",
       " 'Need-4',\n",
       " 'Boakes-178',\n",
       " 'Taft-58',\n",
       " 'Pauw-177',\n",
       " 'Nase-3',\n",
       " 'Oakley-563',\n",
       " 'Valois-42',\n",
       " 'Olivier-1606',\n",
       " 'Easley-471',\n",
       " 'Sackett-854',\n",
       " 'Sampson-993',\n",
       " 'Jensen-531',\n",
       " 'Salisbury-791',\n",
       " 'Dyer-6376',\n",
       " 'Eaton-782',\n",
       " 'Sample-539',\n",
       " 'Jönsson-2650',\n",
       " 'Sage-200',\n",
       " 'Nash-1344',\n",
       " 'Idyle-7',\n",
       " 'Butler-754',\n",
       " 'Collins-8675',\n",
       " 'Dyer-2396',\n",
       " 'Neeley-106',\n",
       " 'Cady-1395',\n",
       " 'Illugason-3',\n",
       " 'Paddack-7',\n",
       " 'Eastwood-24',\n",
       " 'Oehler-53',\n",
       " 'Pacey-114',\n",
       " 'Zandstra-35',\n",
       " 'Gullord-3',\n",
       " 'Neemann-9',\n",
       " 'Eaton-2761',\n",
       " 'Oakes-529',\n",
       " 'Packard-146',\n",
       " 'Oberg-119',\n",
       " 'Idleman-2',\n",
       " 'Salmon-877',\n",
       " \"O'Boyle-93\",\n",
       " 'Neff-982',\n",
       " 'Eagleton-23',\n",
       " 'Jones-28148',\n",
       " 'Sage-165',\n",
       " 'Nagel-186',\n",
       " 'Phillips-9874',\n",
       " 'Phillips-9936',\n",
       " 'Taylor-8249',\n",
       " 'Imron-7',\n",
       " 'Sadd-50',\n",
       " 'Ealy-108',\n",
       " 'Tatlock-27',\n",
       " 'Morgan-625',\n",
       " 'Tryon-497',\n",
       " 'Iñiguez-46',\n",
       " 'Paarmann-12',\n",
       " 'Odland-38',\n",
       " 'Nearhoof-97',\n",
       " 'Sanford-401',\n",
       " 'Salliotte-4',\n",
       " 'Samaha-1105',\n",
       " 'Pelletier-1434',\n",
       " 'Samaha-1122',\n",
       " 'East-400',\n",
       " 'Dell-414',\n",
       " 'Dyer-6596',\n",
       " 'Phillips-8552',\n",
       " 'Nattrass-39',\n",
       " 'Nally-92',\n",
       " 'Narag-2',\n",
       " 'Needles-65',\n",
       " 'Rand-961',\n",
       " 'Billung-117',\n",
       " 'Doak-255',\n",
       " 'Clary-62',\n",
       " 'Bardson-5',\n",
       " \"O'Brien-362\",\n",
       " 'Piast-61',\n",
       " 'Ealbeck-9',\n",
       " 'Ingram-2224',\n",
       " 'Inglis-871',\n",
       " 'Sallans-7',\n",
       " 'Gonzalez_de_Castilla-1',\n",
       " 'Samborn-1',\n",
       " 'Odom-786',\n",
       " 'Dunbar-2160',\n",
       " 'Fern-21',\n",
       " 'Taff-24',\n",
       " 'Errey-112',\n",
       " 'Phillips-13669',\n",
       " 'Saltzman-88',\n",
       " 'Ockendon-5',\n",
       " 'Eaton-792',\n",
       " 'Dyer-515',\n",
       " 'Eanes-28',\n",
       " 'Eaton-4388',\n",
       " 'Pack-639',\n",
       " 'Earle-269',\n",
       " 'Imel-127',\n",
       " 'St_John-517',\n",
       " 'Eavey-8',\n",
       " 'Easley-597',\n",
       " 'Ainsworth-194',\n",
       " 'Eastman-778',\n",
       " 'Catt-47',\n",
       " 'Ilykovics-5',\n",
       " 'Ross-7748',\n",
       " 'Paddock-219',\n",
       " 'Dyer-5806',\n",
       " 'Ochoa-178',\n",
       " 'Napoleon-Bonaparte-2',\n",
       " 'Clavering-78',\n",
       " 'Devereaux-27',\n",
       " 'Whittington-452',\n",
       " 'Iddins-5',\n",
       " 'OConnor-180',\n",
       " 'Bult-22',\n",
       " 'Salazar-281',\n",
       " 'Salverda-39',\n",
       " 'Ihász-14',\n",
       " 'Sabourin-153',\n",
       " 'Salisbury-611',\n",
       " 'Ames-1033',\n",
       " 'Naqvi-2',\n",
       " 'Taft-231',\n",
       " 'Stanley-1484',\n",
       " 'Oakes-682',\n",
       " 'Eagles-271',\n",
       " 'Naismith-60',\n",
       " 'UNKNOWN-111754',\n",
       " 'Saam-18',\n",
       " 'Sainz_de_Santiago-22',\n",
       " 'Salvas-25',\n",
       " 'Nätynki-22',\n",
       " 'Illig-14',\n",
       " 'Ebling-8',\n",
       " 'Saunders-1228',\n",
       " 'Tomasson-3',\n",
       " 'Pace-844',\n",
       " 'Ice-80',\n",
       " 'Nantes-44',\n",
       " 'Imlay-48',\n",
       " 'Eatton-8',\n",
       " 'Iden-23',\n",
       " 'Cockerham-288',\n",
       " 'Oates-741',\n",
       " 'Oblenis-63',\n",
       " 'Dyer-5154',\n",
       " 'Eastop-18',\n",
       " 'Eaves-302',\n",
       " 'Inglis-595',\n",
       " 'Sadler-1129',\n",
       " 'Samaha-448',\n",
       " 'Rackham-400',\n",
       " 'Napoli-16',\n",
       " 'Easler-43',\n",
       " 'Eavenson-39',\n",
       " 'Samis-19',\n",
       " \"O'Bannon-166\",\n",
       " 'Oattes-11',\n",
       " 'Phillips-11203',\n",
       " 'Greene-1913',\n",
       " 'Nagel-68',\n",
       " 'Dyer-5786',\n",
       " 'Rábago-86',\n",
       " 'Samaha-954',\n",
       " 'Sanders-1802',\n",
       " 'Neil-694',\n",
       " 'Eanes-31',\n",
       " 'Earp-176',\n",
       " 'Oehler-22',\n",
       " 'Racey-2',\n",
       " 'Neave-119',\n",
       " 'Siffert-12',\n",
       " 'Coursen-25',\n",
       " 'Sammons-12',\n",
       " 'Claes-72',\n",
       " 'Nations-317',\n",
       " 'De_la_Mota_Padilla-4',\n",
       " 'Nafziger-38',\n",
       " 'Nash-4411',\n",
       " 'Nätynkiniemi-2',\n",
       " 'Newton-792',\n",
       " 'Easton-132',\n",
       " 'Neville-57',\n",
       " 'Sales-264',\n",
       " 'Needles-177',\n",
       " 'Neale-792',\n",
       " 'Oehrlein-19',\n",
       " 'Neal-2742',\n",
       " 'Paddock-1133',\n",
       " 'Dutton-123',\n",
       " 'Easton-331',\n",
       " 'Naylor-128',\n",
       " 'Sager-46',\n",
       " 'Dyer-3127',\n",
       " 'Taylor-19297',\n",
       " 'Padilla-122',\n",
       " 'Paddock-799',\n",
       " 'Earp-162',\n",
       " 'Paddock-601',\n",
       " 'Estes-1958',\n",
       " 'Packard-698',\n",
       " 'Prouse-155',\n",
       " 'Ebi-1',\n",
       " 'Napier-846',\n",
       " 'Sadler-715',\n",
       " 'Spann-160',\n",
       " 'Easey-23',\n",
       " 'Odiam-1',\n",
       " 'Grene-2',\n",
       " 'Tackett-488',\n",
       " 'Paddack-36',\n",
       " 'Vehkapera-2',\n",
       " 'Neczkarz-6',\n",
       " 'Samford-78',\n",
       " 'Öchsler-4',\n",
       " 'Buckland-103',\n",
       " 'Ide-163',\n",
       " 'Pauw-349',\n",
       " 'Oakley-1042',\n",
       " 'Oberste-1',\n",
       " 'Taylor-12224',\n",
       " 'Nau-45',\n",
       " 'Neidermier-3',\n",
       " 'Sampson-1959',\n",
       " 'Ingles-123',\n",
       " 'Neevel-4',\n",
       " 'Talbot-545',\n",
       " 'Salter-723',\n",
       " 'Saunders-420',\n",
       " 'Salmans-43',\n",
       " 'Pace-1222',\n",
       " 'Imler-128',\n",
       " 'Information-4',\n",
       " 'Sampson-2082',\n",
       " 'Saunders-5207',\n",
       " 'Torkelsen_Kvelvåg-1',\n",
       " \"O'Brien-1725\",\n",
       " 'Oertli-312',\n",
       " 'Morgan-9263',\n",
       " 'Sampson-487',\n",
       " 'Buckland-2637',\n",
       " 'Oaks-312',\n",
       " 'Samples-308',\n",
       " 'Bass-688',\n",
       " 'Nash-1938',\n",
       " 'Sadowski-6',\n",
       " 'Phillips-1673',\n",
       " 'Neff-410',\n",
       " 'Nance-691',\n",
       " 'Sabedra-1',\n",
       " 'Eastman-594',\n",
       " 'Oattes-13',\n",
       " 'Eames-490',\n",
       " 'Ingebrigtsen-48',\n",
       " 'Padget-39',\n",
       " 'Eastlack-9',\n",
       " 'Wemyss-53',\n",
       " 'N-276',\n",
       " 'Sadrakula-3',\n",
       " 'Nathey-4',\n",
       " 'Egerton-90',\n",
       " 'Iles-108',\n",
       " 'Stuteville-21',\n",
       " 'Nel-937',\n",
       " 'UNKNOWN-98518',\n",
       " 'Svyatoslavich-9',\n",
       " 'Ebenstein-35',\n",
       " 'Sampson-2100',\n",
       " 'Neil-743',\n",
       " 'Cheek-396',\n",
       " 'Sollers-55',\n",
       " 'McManus-961',\n",
       " 'Eastman-183',\n",
       " 'Cadwell-118',\n",
       " 'Packard-746',\n",
       " 'Salmons-312',\n",
       " 'Padilla_Iguina-1',\n",
       " 'Eaton-214',\n",
       " 'Peltier-504',\n",
       " 'OBrien-18',\n",
       " 'Palmer-4261',\n",
       " 'Arglwydd_Rhys-1',\n",
       " 'Pace-711',\n",
       " 'Taylor-8508',\n",
       " 'Karlsson-312',\n",
       " 'Ingram-1113',\n",
       " 'Green-3429',\n",
       " 'R-573',\n",
       " 'Lecky-52',\n",
       " 'Eble-42',\n",
       " 'Safrit-18',\n",
       " 'Neef-47',\n",
       " 'IJpelaar-1',\n",
       " 'Inglis-766',\n",
       " 'Casey-1246',\n",
       " 'Pacitti-7',\n",
       " 'De_Melo-43',\n",
       " 'Woodhead-89',\n",
       " 'Eastman-415',\n",
       " 'Smyth-13',\n",
       " 'Peden-20',\n",
       " 'Raath-88',\n",
       " 'Dyer-6433',\n",
       " 'Newton-2279',\n",
       " 'Salazar-185',\n",
       " 'Jacoby-77',\n",
       " 'Sadler-380',\n",
       " 'Natorp-2',\n",
       " 'Sanborn-236',\n",
       " 'Saint_Julien-19',\n",
       " 'Létourneau-82',\n",
       " 'Neal-1180',\n",
       " 'Nederhoed-22',\n",
       " 'Saldivar-26',\n",
       " 'Jędruczek-3',\n",
       " 'Sammons-153',\n",
       " 'Oberholzer-107',\n",
       " 'Nicaise-172',\n",
       " 'Eagles-306',\n",
       " 'Oakley-878',\n",
       " 'Neilson-129',\n",
       " 'Taylor-17352',\n",
       " 'Earnest-13',\n",
       " 'Taggart-28',\n",
       " 'Nash-3477',\n",
       " 'Dyer-4544',\n",
       " 'Greene-3566',\n",
       " 'Konink-28',\n",
       " 'Eunydd-4',\n",
       " 'Salandre-1',\n",
       " 'Ras-75',\n",
       " 'Taylor-200',\n",
       " 'Nadeau-160',\n",
       " 'Salyer-371',\n",
       " 'Sackett-151',\n",
       " 'Coursen-196',\n",
       " 'Ingmire-48',\n",
       " 'Eagle-28',\n",
       " 'Obuchowski-5',\n",
       " 'Saunders-203',\n",
       " 'Neal-1832',\n",
       " 'Ebaugh-30',\n",
       " 'Dorey-59',\n",
       " 'Oertli-236',\n",
       " 'Strong-813',\n",
       " 'Ingram-2405',\n",
       " 'Naquin-23',\n",
       " 'Mainz-1',\n",
       " 'Sample-508',\n",
       " 'Neel-459',\n",
       " 'Ilka-3',\n",
       " 'Ingram-2574',\n",
       " 'Sage-204',\n",
       " 'Roberts-360',\n",
       " 'Nation-243',\n",
       " 'Earle-655',\n",
       " 'Earhart-57',\n",
       " 'Saylor-342',\n",
       " 'Salvaggio-152',\n",
       " 'Sackett-183',\n",
       " 'Samaha-639',\n",
       " 'Oelenkamp-2',\n",
       " 'Neethling-95',\n",
       " 'Rhodri-22',\n",
       " 'Corsa-64',\n",
       " 'Van_der_Walt-1625',\n",
       " 'Eagle-210',\n",
       " 'Nettrouer-55',\n",
       " 'Iiams-16',\n",
       " 'Cacciatore-5',\n",
       " 'Indenbirker-8',\n",
       " 'Van_der_Walt-648',\n",
       " 'Taber-15',\n",
       " 'McManus-1238',\n",
       " 'Odjick-2',\n",
       " 'Salomens-2',\n",
       " 'Newton-1423',\n",
       " 'Saunders-4662',\n",
       " 'Ingram-528',\n",
       " 'Babitzke-1',\n",
       " 'Salkini-23',\n",
       " 'Larsson-2645',\n",
       " 'Eby-454',\n",
       " 'Cadman-3',\n",
       " 'Eberle-3',\n",
       " 'Uotila-47',\n",
       " 'Morgan-12210',\n",
       " 'Eby-241',\n",
       " 'Yamana-1',\n",
       " 'Ingersoll-542',\n",
       " 'Inglehart-38',\n",
       " 'Salvage-16',\n",
       " 'Padilla-7',\n",
       " 'Palmer-8128',\n",
       " 'Neely-542',\n",
       " 'Audet-99',\n",
       " 'Easson-35',\n",
       " 'Duff-1166',\n",
       " 'Hale-1847',\n",
       " 'Ockerse-39',\n",
       " 'Tabor-714',\n",
       " 'Packard-120',\n",
       " 'Salzer-45',\n",
       " 'Taiani-8',\n",
       " 'Howdyshell-78',\n",
       " 'Gulbrandsen-19',\n",
       " 'Nordlund-82',\n",
       " 'Rackley-226',\n",
       " 'Samis-53',\n",
       " 'Munk-151',\n",
       " 'Neill-322',\n",
       " 'Saksa-12',\n",
       " 'Bishir-109',\n",
       " 'Nally-50',\n",
       " 'Sampson-1890',\n",
       " 'Sabath-12',\n",
       " 'Ignatius-180',\n",
       " 'Paden-171',\n",
       " 'Odom-669',\n",
       " 'Salmon-854',\n",
       " 'Sahr-35',\n",
       " 'Eberhardt-81',\n",
       " 'Ignatoff-1',\n",
       " 'Ingle-502',\n",
       " 'Cartmell-502',\n",
       " 'Baker-7351',\n",
       " 'Inkman-13',\n",
       " 'Bergmans-13',\n",
       " 'Nafe-26',\n",
       " 'Van_Nassau-3',\n",
       " 'St_John-131',\n",
       " 'Newton-1407',\n",
       " 'Taillefer-181',\n",
       " 'Napier-1091',\n",
       " 'Earnest-151',\n",
       " 'Caddell-83',\n",
       " 'Morgan-11285',\n",
       " 'Samson-1134',\n",
       " 'Eberhardt-116',\n",
       " 'Olivier-1255',\n",
       " 'Nabholz-6',\n",
       " 'Insley-121',\n",
       " 'Oakshott-4',\n",
       " 'Naumowicz-8',\n",
       " 'Van_der_Walt-1051',\n",
       " 'Samaha-1036',\n",
       " 'Olsen-940',\n",
       " 'Mac_Cairbe-1',\n",
       " 'Odell-151',\n",
       " 'Smith-48891',\n",
       " 'Conchobair-1',\n",
       " 'Ilbrink-139',\n",
       " 'Oakhill-28',\n",
       " 'Fairchild-264',\n",
       " 'Rackliff-67',\n",
       " 'Odell-880',\n",
       " 'Ingersoll-274',\n",
       " 'Nall-271',\n",
       " 'Eacott-22',\n",
       " 'Obets-3',\n",
       " 'Estep-101',\n",
       " 'Sammons-114',\n",
       " 'Taylor-5202',\n",
       " 'Blevins-1004',\n",
       " 'Sanbourn-1',\n",
       " 'Greene-2326',\n",
       " 'Salvaggio-259',\n",
       " 'Padbury-3',\n",
       " 'Prowse-245',\n",
       " 'Earhart-58',\n",
       " 'Bruce-779',\n",
       " 'Naysmith-8',\n",
       " 'Davis-5666',\n",
       " 'Eason-507',\n",
       " 'Ijams-87',\n",
       " 'Blois-12',\n",
       " 'De_Toeni-112',\n",
       " 'Ochoa-71',\n",
       " 'Neilson-24',\n",
       " 'Inglis-774',\n",
       " 'Siefert-63',\n",
       " 'Odegaard-9',\n",
       " 'Morgan-1695',\n",
       " 'Cable-392',\n",
       " 'Niedhammer-14',\n",
       " 'Eastman-1277',\n",
       " 'Finch-1152',\n",
       " 'Salmons-175',\n",
       " 'Wopkes-4',\n",
       " 'Ingalls-394',\n",
       " 'R-180',\n",
       " 'Talbot-1503',\n",
       " 'Samson-453',\n",
       " 'De_Bourbon-19',\n",
       " 'Buckland-378',\n",
       " 'Borissow-37',\n",
       " 'Icehower-2',\n",
       " 'Palmer-3723',\n",
       " 'Earl-715',\n",
       " 'Nash-1443',\n",
       " 'Wessex-19',\n",
       " 'Hall-21666',\n",
       " 'Рюрикович-46',\n",
       " 'Esparza_Ruan-1',\n",
       " 'Pack-572',\n",
       " 'Of_Pontus-2',\n",
       " 'Padgett-614',\n",
       " 'Safrit-48',\n",
       " 'Ibbitson-28',\n",
       " 'Neff-703',\n",
       " 'Earp-346',\n",
       " 'Naegele-15',\n",
       " 'Sadowski-37',\n",
       " 'Tahedl-2',\n",
       " 'Sample-279',\n",
       " 'Illich-18',\n",
       " ...}"
      ]
     },
     "execution_count": 42,
     "metadata": {},
     "output_type": "execute_result"
    }
   ],
   "source": [
    "male = set()\n",
    "\n",
    "Y_names = list()\n",
    "for pedigree in processes:\n",
    "    for generation in pedigree.generations:\n",
    "        for person in generation:\n",
    "            if person.gender == \"male\":\n",
    "                male.add(person.name)\n",
    "\n",
    "male"
   ]
  },
  {
   "cell_type": "code",
   "execution_count": 43,
   "metadata": {
    "collapsed": false,
    "deletable": true,
    "editable": true
   },
   "outputs": [
    {
     "name": "stdout",
     "output_type": "stream",
     "text": [
      "[3, 2, 5, 1, 2, 1, 1, 1, 1, 2]\n"
     ]
    }
   ],
   "source": [
    "Y = list()\n",
    "\n",
    "for pedigree in processes:\n",
    "    for generation in pedigree.generations:\n",
    "        for person in generation:\n",
    "            if person.gender == \"male\":\n",
    "                child_cnt = 0\n",
    "                for child in person.children:\n",
    "                    if child in male:\n",
    "                        child_cnt += 1\n",
    "                if (child_cnt > 0):\n",
    "                    Y.append(child_cnt)\n",
    "print(Y[:10])"
   ]
  },
  {
   "cell_type": "code",
   "execution_count": 44,
   "metadata": {
    "collapsed": false,
    "deletable": true,
    "editable": true
   },
   "outputs": [
    {
     "name": "stdout",
     "output_type": "stream",
     "text": [
      "len(Y) 49266\n"
     ]
    }
   ],
   "source": [
    "print(\"len(Y)\", len(Y))\n",
    "Y_data_mean = np.array(Y).mean()"
   ]
  },
  {
   "cell_type": "markdown",
   "metadata": {
    "deletable": true,
    "editable": true
   },
   "source": [
    "_____\n",
    "Найдём оценку ММП для пуассоновского распределения:"
   ]
  },
  {
   "cell_type": "code",
   "execution_count": 45,
   "metadata": {
    "collapsed": false,
    "deletable": true,
    "editable": true
   },
   "outputs": [
    {
     "data": {
      "text/plain": [
       "    fjac: array([[-1.]])\n",
       "     fun: array([  8.88178420e-16])\n",
       " message: 'The solution converged.'\n",
       "    nfev: 8\n",
       "     qtf: array([ -1.01263575e-09])\n",
       "       r: array([-0.77214533])\n",
       "  status: 1\n",
       " success: True\n",
       "       x: array([ 1.80957111])"
      ]
     },
     "execution_count": 45,
     "metadata": {},
     "output_type": "execute_result"
    }
   ],
   "source": [
    "def poiss_tf(x):\n",
    "    assert type(Y) == list # вдруг \n",
    "    return x / (1. - np.exp(-x)) - Y_data_mean\n",
    "result = scipy.optimize.root(poiss_tf, 20.)\n",
    "result"
   ]
  },
  {
   "cell_type": "code",
   "execution_count": 46,
   "metadata": {
    "collapsed": false,
    "deletable": true,
    "editable": true
   },
   "outputs": [
    {
     "data": {
      "text/plain": [
       "1.8095711098638814"
      ]
     },
     "execution_count": 46,
     "metadata": {},
     "output_type": "execute_result"
    }
   ],
   "source": [
    "mu_data = result.x[0]\n",
    "mu_data"
   ]
  },
  {
   "cell_type": "markdown",
   "metadata": {
    "deletable": true,
    "editable": true
   },
   "source": [
    "_____\n",
    "Найдём оценку ММП для геометрического распределения:"
   ]
  },
  {
   "cell_type": "code",
   "execution_count": 47,
   "metadata": {
    "collapsed": false,
    "deletable": true,
    "editable": true
   },
   "outputs": [
    {
     "data": {
      "text/plain": [
       "0.46214025740122316"
      ]
     },
     "execution_count": 47,
     "metadata": {},
     "output_type": "execute_result"
    }
   ],
   "source": [
    "p_data = 1. / Y_data_mean\n",
    "p_data"
   ]
  },
  {
   "cell_type": "markdown",
   "metadata": {
    "deletable": true,
    "editable": true
   },
   "source": [
    "___________"
   ]
  },
  {
   "cell_type": "code",
   "execution_count": 49,
   "metadata": {
    "collapsed": false,
    "deletable": true,
    "editable": true
   },
   "outputs": [
    {
     "name": "stdout",
     "output_type": "stream",
     "text": [
      "49266\n"
     ]
    }
   ],
   "source": [
    "from scipy.stats import chisquare\n",
    "print(len(Y))"
   ]
  },
  {
   "cell_type": "markdown",
   "metadata": {},
   "source": [
    "Применим тест хи-квадрат для полученных данных. Как обсуждалось на семинаре, большой размер выборки нежелателен, в силу ряда причин. Предложено было использовать выборки по сто элементов, что мы и сделаем."
   ]
  },
  {
   "cell_type": "code",
   "execution_count": 56,
   "metadata": {
    "collapsed": true
   },
   "outputs": [],
   "source": [
    "from math import factorial"
   ]
  },
  {
   "cell_type": "code",
   "execution_count": 73,
   "metadata": {
    "collapsed": false,
    "deletable": true,
    "editable": true
   },
   "outputs": [
    {
     "name": "stdout",
     "output_type": "stream",
     "text": [
      "Количество отцов с i детьми =  [  0.  52.  20.   8.   9.   7.   1.   2.   0.   1.]\n",
      "Количество отцов с (i+1) детьми, с укрупнёнными группами =  [ 52.  20.   8.   9.  11.]\n"
     ]
    }
   ],
   "source": [
    "sub_Y = np.array(np.array(Y)[sps.randint.rvs(0, len(Y), size=100)])\n",
    "Y_table = np.zeros(np.array(sub_Y).max() + 1)\n",
    "for y in sub_Y:\n",
    "    Y_table[y] += 1\n",
    "print(\"Количество отцов с i детьми = \", Y_table)\n",
    "\n",
    "YY = []\n",
    "for i in range(1, len(Y_table)):\n",
    "    if (Y_table[i] < 5):\n",
    "        YY = Y_table[1:i]\n",
    "        YY[-1] += Y_table[i:].sum()\n",
    "        break\n",
    "print(\"Количество отцов с (i+1) детьми, с укрупнёнными группами = \", YY)\n",
    "\n",
    "p_data = 1. / sub_Y.mean()"
   ]
  },
  {
   "cell_type": "code",
   "execution_count": 74,
   "metadata": {
    "collapsed": false,
    "deletable": true,
    "editable": true
   },
   "outputs": [
    {
     "name": "stdout",
     "output_type": "stream",
     "text": [
      "YY (данные выборки для теста) =  [ 52.  20.   8.   9.  11.]\n",
      "geom (теоретическая выборка из геометрического) =  [ 46.2962963   24.86282579  13.35225829   7.17065723   8.31796239]\n",
      "pois (теоретическая выборка из пуассоновского) =  [ 35.42741384  32.05421229  19.33479217   8.74692033   4.43666137]\n",
      "\n",
      "Тест для геометрического:\n",
      " Power_divergenceResult(statistic=5.1307400458940542, pvalue=0.27414388540416162)\n",
      "\n",
      "Тест для пуассоновского:\n",
      " Power_divergenceResult(statistic=28.647190669663502, pvalue=9.2193915440860204e-06)\n"
     ]
    }
   ],
   "source": [
    "geom = []\n",
    "pois = []\n",
    "\n",
    "def geom_cond_pmf(x,p):\n",
    "    q = 1. - p\n",
    "    return q ** (x - 1) * p\n",
    "\n",
    "\n",
    "def pois_cond_pmf(x,mu):\n",
    "    e = np.exp(- mu)\n",
    "    return mu ** x * e / (1. - e) / (factorial(x))\n",
    "\n",
    "for i in range(1, len(YY)):\n",
    "    geom.append(geom_cond_pmf(x=i, p=p_data))\n",
    "    pois.append(pois_cond_pmf(x=i, mu=mu_data))\n",
    "    \n",
    "geom.append(1. - np.array(geom).sum())\n",
    "pois.append(1. - np.array(pois).sum())\n",
    "geom = np.array(geom) * YY.sum()\n",
    "pois = np.array(pois) * YY.sum()\n",
    "print(\"YY (данные выборки для теста) = \", YY)\n",
    "print(\"geom (теоретическая выборка из геометрического) = \", geom)\n",
    "print(\"pois (теоретическая выборка из пуассоновского) = \", pois)\n",
    "\n",
    "\n",
    "print(\"\\nТест для геометрического:\\n\", sps.chisquare(YY, geom))\n",
    "print(\"\\nТест для пуассоновского:\\n\", sps.chisquare(YY, pois))"
   ]
  },
  {
   "cell_type": "code",
   "execution_count": 75,
   "metadata": {
    "collapsed": false,
    "deletable": true,
    "editable": true
   },
   "outputs": [
    {
     "data": {
      "text/plain": [
       "5.1307400458940542"
      ]
     },
     "execution_count": 75,
     "metadata": {},
     "output_type": "execute_result"
    }
   ],
   "source": [
    "# вычисленная руками для самопроверки статистика \n",
    "((YY - geom) ** 2 / geom).sum()"
   ]
  },
  {
   "cell_type": "markdown",
   "metadata": {
    "collapsed": true,
    "deletable": true,
    "editable": true
   },
   "source": [
    "** Итого: ** при уровне значимости $\\alpha = 0.05$ (он определён заранее, хотя впервые фигурирует здесь) \n",
    "\n",
    "- в первом тесте нулевая гипотеза, состоящая в том, что законом размножения является геометрическое распределение с оценённым выше параметром (на самом деле, некоторое его угрубление), не может быть отвергнута (pvalue > $\\alpha$)\n",
    "\n",
    "- во втором тесте нулевая гипотеза, состоящая в том, что законом размножения является пуассоновское распределение с оценённым выше параметром (на самом деле, некоторое его угрубление), должно быть от вергнуто (pvalue < $\\alpha$)"
   ]
  },
  {
   "cell_type": "code",
   "execution_count": null,
   "metadata": {
    "collapsed": true
   },
   "outputs": [],
   "source": []
  }
 ],
 "metadata": {
  "kernelspec": {
   "display_name": "Python 3",
   "language": "python",
   "name": "python3"
  },
  "language_info": {
   "codemirror_mode": {
    "name": "ipython",
    "version": 3
   },
   "file_extension": ".py",
   "mimetype": "text/x-python",
   "name": "python",
   "nbconvert_exporter": "python",
   "pygments_lexer": "ipython3",
   "version": "3.5.2"
  }
 },
 "nbformat": 4,
 "nbformat_minor": 0
}
