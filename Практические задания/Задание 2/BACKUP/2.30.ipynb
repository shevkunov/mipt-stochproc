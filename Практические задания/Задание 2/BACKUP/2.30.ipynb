{
 "cells": [
  {
   "cell_type": "markdown",
   "metadata": {
    "deletable": true,
    "editable": true
   },
   "source": [
    "# Случайные процессы. Прикладной поток.\n",
    "## Практическое задание 2\n",
    "\n",
    "**Правила:**\n",
    "\n",
    "* Выполненную работу нужно отправить на почту `probability.diht@yandex.ru`, указав тему письма `\"[СП17] Фамилия Имя - Задание 2\"`. Квадратные скобки обязательны. Вместо `Фамилия Имя` нужно подставить свои фамилию и имя.\n",
    "* Прислать нужно ноутбук и его pdf-версию. Названия файлов должны быть такими: `2.N.ipynb` и `2.N.pdf`, где `N` - ваш номер из таблицы с оценками.\n",
    "* Никакой код из данного задания при проверке запускаться не будет.\n",
    "* Дедлайн и система оценивания будут объявлены позже."
   ]
  },
  {
   "cell_type": "markdown",
   "metadata": {
    "deletable": true,
    "editable": true
   },
   "source": [
    "<h1><font color = \"red\">Ниже идёт Практическое задание 1. Практическое задание 2 является его продолжением и начинается с аналогичного, выделенного красным, заголовка.</font></h1>"
   ]
  },
  {
   "cell_type": "markdown",
   "metadata": {
    "deletable": true,
    "editable": true
   },
   "source": [
    "<IMG SRC=\"https://www.wikitree.com/images/wikitree-logo.png\">\n",
    "\n",
    "\n",
    "В Британской империи в Викторианскую эпоху (1837—1901) было обращено внимание на вымирание аристократических фамилий. В связи с этим в своей статье в The Educational Times в 1873 году Гальтон поставил вопрос о вероятности вымирания фамилии. Решение этого вопроса нашел Ватсон и вместе в 1874 году они написали статью \"On the probability of the extinction of families\".\n",
    "На сайте <a href=\"http://wikitree.com\">wikitree.com</a> в свободно распространяемом формате собрано большое количество данных о родословных различных людей. В коллекции есть как люди, жившие во времена поздней античности, так и наши современники. На основе некоторой части этих данных вам предстоит провести исследование о вымирании фамилий.\n",
    "\n",
    "Вам предоставляются несколько файлов, в которых содержатся данные о некоторых родословных. Вам предстоит проводить исследование на нескольких из этих файлов (каких именно, см. в таблице). Формат файлов следующий:\n",
    "\n",
    "`generation \\t name \\t gender \\t birthday \\t deathdate \\t parents \\t siblings \\t spouses \\t children`\n",
    "\n",
    "Эти данные означают номер поколения, фамилию, пол, дату рождения, дату смерти, родителей, братьев и сестер, супруг, детей соответственно. Если какая-то характеристика неизвестна (кроме номера поколения и фамилии), вместо нее ставится пустая подстрока. Если каких-то характеристик несколько, то они разделены через \";\". Все люди представлены некоторым идентификатором `<id>`, который соответствует адресу `http://www.wikitree.com/wiki/<id>`. Например, идентификатор `Romanov-29` соответствует адресу <a href=\"http://www.wikitree.com/wiki/Romanov-29\">`http://www.wikitree.com/wiki/Romanov-29`</a>. В файле родословные отделяются друг от друга пустой строкой.\n",
    "\n",
    "Для облегчения вашей работы мы предоставляем вам код, который считывает данные из этого файла и преобразует их в список ветвящихся процессов. Каждый ветвящийся процесс содержит список списков, в каждом из которых содержатся все люди из соответствующего поколения. Обратите внимание, что одни и те же родословные могут попасть в разные файлы. В таком случае их можно считать разными, но при желании вы можете удалить копии.\n",
    "\n",
    "В предоставленных данных в каждой родословной для каждого мужчины на следующем поколении содержатся все его дети, которые были указаны на сайте. Для женщин дети в данной родословной не указаны. Это связано с тем, что женщины обычно меняют свою фамилию, когда выходят замуж, тем самым, они переходят в другую ветку. С точки зрения ветвящихся процессов, нужно иметь в виду, что если у мужчины родилось 3 мальчика и 4 девочки, то у него 3 потомка как продолжателя фамилии.\n",
    "\n",
    "Ваша задача --- исследовать процесс вымирания фамилий на основе предложенных данных. В данном задании вам предстоит сделать оценку закона размножения, а в следующем задании --- провести остальной анализ."
   ]
  },
  {
   "cell_type": "code",
   "execution_count": 14,
   "metadata": {
    "collapsed": false,
    "deletable": true,
    "editable": true
   },
   "outputs": [],
   "source": [
    "import numpy as np\n",
    "import scipy.stats as sps\n",
    "from collections import Counter  # это может пригодиться\n",
    "from BranchingProcess import Person, BranchingProcess, read_from_files\n",
    "\n",
    "import matplotlib.pyplot as plt\n",
    "from matplotlib import rcParams\n",
    "rcParams.update({'font.size': 16})\n",
    "%matplotlib inline"
   ]
  },
  {
   "cell_type": "markdown",
   "metadata": {
    "deletable": true,
    "editable": true
   },
   "source": [
    "## 1. Описательный анализ\n",
    "\n",
    "Большая часть кода, необходимая для проведения данного анализа, является технической и основывается на работе с пакетом `BranchingProcess`. Поэтому данный код полностью вам выдается, вам нужно только выполнить его, подставить имена файлов. Кроме того, код анализа позволит вам лучше понять структуру данных.\n",
    "\n",
    "Считайте данные с помощью предложенного кода. Посчитайте количество родословных."
   ]
  },
  {
   "cell_type": "code",
   "execution_count": 15,
   "metadata": {
    "collapsed": false,
    "deletable": true,
    "editable": true
   },
   "outputs": [
    {
     "name": "stdout",
     "output_type": "stream",
     "text": [
      "594 Шевкунов Кирилл Сергеевич АД\t-=-\tP O N I C R T J S E\n",
      "\n"
     ]
    }
   ],
   "source": [
    "with open(\"Варианты.txt\", \"r\") as f:\n",
    "    for s in f.readlines():\n",
    "        if (\"Шевкунов\" in s):\n",
    "            print(s)"
   ]
  },
  {
   "cell_type": "code",
   "execution_count": 16,
   "metadata": {
    "collapsed": false,
    "deletable": true,
    "editable": true
   },
   "outputs": [
    {
     "name": "stdout",
     "output_type": "stream",
     "text": [
      "./data/P.txt\n",
      "./data/O.txt\n",
      "./data/N.txt\n",
      "./data/I.txt\n",
      "./data/C.txt\n",
      "./data/R.txt\n",
      "./data/T.txt\n",
      "./data/J.txt\n",
      "./data/S.txt\n",
      "./data/E.txt\n"
     ]
    }
   ],
   "source": [
    "first_letters = \"P O N I C R T J S E\"\n",
    "fn_prefix = \"./data/\"\n",
    "fn_postfix = \".txt\"\n",
    "file_names = []\n",
    "for c in first_letters:\n",
    "    if c != \" \":\n",
    "        file_names.append(fn_prefix + c + fn_postfix)\n",
    "\n",
    "for v in file_names:\n",
    "    print(v)"
   ]
  },
  {
   "cell_type": "code",
   "execution_count": 17,
   "metadata": {
    "collapsed": false,
    "deletable": true,
    "editable": true,
    "scrolled": true
   },
   "outputs": [
    {
     "name": "stdout",
     "output_type": "stream",
     "text": [
      "55337\n"
     ]
    }
   ],
   "source": [
    "processes = read_from_files(file_names)\n",
    "print(len(processes))"
   ]
  },
  {
   "cell_type": "markdown",
   "metadata": {
    "deletable": true,
    "editable": true
   },
   "source": [
    "В имеющихся данных очень много людей, про которых известно лишь то, что они когда-то существовали. Обычно их фамилия неизвестна (вместо фамилии у них может стоять, к примеру, `B-290`), а у некоторых из них неизвестен даже пол, не говоря уже о родителях и детях. Такие данные стоит удалить.\n",
    "\n",
    "Удалите все процессы, состоящие только из одного поколения (в котором, естественно, будет только один человек).\n",
    "Сколько осталось процессов?"
   ]
  },
  {
   "cell_type": "code",
   "execution_count": 18,
   "metadata": {
    "collapsed": false,
    "deletable": true,
    "editable": true
   },
   "outputs": [
    {
     "name": "stdout",
     "output_type": "stream",
     "text": [
      "15841\n"
     ]
    }
   ],
   "source": [
    "for i in range(len(processes))[::-1]:\n",
    "    if len(processes[i].generations) < 2:\n",
    "        del processes[i]\n",
    "\n",
    "print(len(processes))"
   ]
  },
  {
   "cell_type": "markdown",
   "metadata": {
    "deletable": true,
    "editable": true
   },
   "source": [
    "Для лучшего понимания задачи и предложенных данных посчитайте следующие характеристики: минимальное, максимальное и среднее число поколений в роду, год рождения самого старого и самого молодого человека, среднюю продолжительность жизни."
   ]
  },
  {
   "cell_type": "code",
   "execution_count": 19,
   "metadata": {
    "collapsed": false,
    "deletable": true,
    "editable": true
   },
   "outputs": [
    {
     "name": "stdout",
     "output_type": "stream",
     "text": [
      "___GENERATION__\n",
      "Murdoch-533\tmale\t1740--\t1822-Feb-18\t\t\tRodger-269;Ross-7636\tMurdoch-527;Murdoch-534;Murdoch-535;Murdoch-536;Murdoch-537;Murdoch-538\n",
      "___GENERATION__\n",
      "Murdoch-527\tmale\t1792-Mar-28\t1852-Jun-05\tMurdoch-533;Rodger-269\tMurdoch-534;Murdoch-535;Murdoch-536;Murdoch-537;Murdoch-538\tRichardson-9305\tMurdoch-515;Murdoch-528\n",
      "Murdoch-534\tmale\t1800-Mar-08\t\tMurdoch-533;Ross-7636\tMurdoch-527;Murdoch-535;Murdoch-536;Murdoch-537;Murdoch-538\t\t\n",
      "Murdoch-535\tfemale\t1804-Feb-11\t\tMurdoch-533;Ross-7636\tMurdoch-527;Murdoch-534;Murdoch-536;Murdoch-537;Murdoch-538\t\t\n",
      "Murdoch-536\tfemale\t1806-Jan-26\t1863--\tMurdoch-533;Ross-7636\tMurdoch-527;Murdoch-534;Murdoch-535;Murdoch-537;Murdoch-538\tJamieson-955\tJamieson-956;Jamieson-957;Jamieson-958;Jamieson-959;Jamieson-960;Jamieson-961;Jamieson-962\n",
      "Murdoch-537\tfemale\t1807-Dec-13\t\tMurdoch-533;Ross-7636\tMurdoch-527;Murdoch-534;Murdoch-535;Murdoch-536;Murdoch-538\t\t\n",
      "Murdoch-538\tmale\t1809-Oct-12\t\tMurdoch-533;Ross-7636\tMurdoch-527;Murdoch-534;Murdoch-535;Murdoch-536;Murdoch-537\t\t\n",
      "___GENERATION__\n",
      "Murdoch-515\tmale\t1816-Feb-09\t1864-Jul-24\tMurdoch-527;McWhinnie-15\tMurdoch-528\tMcConnell-1855\tMurdoch-529;Murdoch-530;Murdoch-531;Murdoch-532;Murdoch-513\n",
      "Murdoch-528\tmale\t1828--\t1873-Jun-17\tMurdoch-527;Richardson-9305\tMurdoch-515\t\t\n",
      "___GENERATION__\n",
      "Murdoch-529\tmale\t1849--\t1925-Dec-26\tMurdoch-515;McConnell-1855\tMurdoch-530;Murdoch-531;Murdoch-532;Murdoch-513\tWallace-7710\tMurdoch-678\n",
      "Murdoch-530\tmale\t1852--\t1878-Aug-07\tMurdoch-515;McConnell-1855\tMurdoch-529;Murdoch-531;Murdoch-532;Murdoch-513\t\t\n",
      "Murdoch-531\tmale\t1854--\t1885-Jun-22\tMurdoch-515;McConnell-1855\tMurdoch-529;Murdoch-530;Murdoch-532;Murdoch-513\tWilson-35755;Wilson-34382\tMurdoch-740;Murdoch-742;Murdoch-743;Murdoch-716\n",
      "Murdoch-532\tmale\t1856-Jan-28\t1869-Sep-28\tMurdoch-515;McConnell-1855\tMurdoch-529;Murdoch-530;Murdoch-531;Murdoch-513\t\t\n",
      "Murdoch-513\tmale\t1858-Dec-09\t1931-Dec-13\tMurdoch-515;McConnell-1855\tMurdoch-529;Murdoch-530;Murdoch-531;Murdoch-532\tHutchinson-2956\tMurdoch-514;M-1000\n",
      "___GENERATION__\n",
      "Murdoch-678\tmale\t1884--\t1959-Apr-26\tMurdoch-529;Wallace-7710\t\tFletcher-5489\tMurdoch-679\n",
      "Murdoch-740\tmale\t1879--\t\tMurdoch-531;Wilson-34382\tMurdoch-742;Murdoch-743;Murdoch-716\t\t\n",
      "Murdoch-742\tfemale\t1879--\t\tMurdoch-531;Wilson-34382\tMurdoch-740;Murdoch-743;Murdoch-716\tGeorge-4712\t\n",
      "Murdoch-743\tmale\t1880--\t1945--\tMurdoch-531;Wilson-34382\tMurdoch-740;Murdoch-742;Murdoch-716\tWebb-9670\t\n",
      "Murdoch-716\tfemale\t1886-Jan-07\t1947-Sep-22\tMurdoch-531;Wilson-34382\tMurdoch-740;Murdoch-742;Murdoch-743\tFraser-3629\tFraser-2380\n",
      "Murdoch-514\tfemale\t1899--\t1932-Jul-01\tMurdoch-513;Hutchinson-2956\tM-1000\t\t\n",
      "M-1000\tmale\t\t\tMurdoch-513;Hutchinson-2956\tMurdoch-514\t\tP-445\n",
      "___GENERATION__\n",
      "Murdoch-679\tfemale\t1916-Oct-19\t2013-Oct-09\tMurdoch-678;Fletcher-5489\t\tHarvey-6695\t\n",
      "P-445\tfemale\t\t\tM-1000\t\t\t\n"
     ]
    }
   ],
   "source": [
    "# Пробный вывод для лучшего понимания происходящего\n",
    "# str(processes[0])\n",
    "for generation in processes[0].generations:\n",
    "    print(\"___GENERATION__\")\n",
    "    for man in generation:\n",
    "        print(man)"
   ]
  },
  {
   "cell_type": "code",
   "execution_count": 20,
   "metadata": {
    "collapsed": false,
    "deletable": true,
    "editable": true
   },
   "outputs": [
    {
     "name": "stdout",
     "output_type": "stream",
     "text": [
      "Минимальное число поколений в роду: 2\n",
      "Максимальное число поколений в роду: 81\n",
      "Среднее число поколений в роду: 3.4\n",
      "Год рождения самого старого: 1\n",
      "Год рождения самого молодого: 2000\n"
     ]
    }
   ],
   "source": [
    "generation_counts = []\n",
    "years = []\n",
    "\n",
    "for pedigree in processes:\n",
    "    generation_counts.append(len(pedigree.generations))\n",
    "    \n",
    "    for generation in pedigree.generations:\n",
    "        for person in generation:\n",
    "            if person.birthday != '':\n",
    "                years.append(person.birthday.split('-')[0])\n",
    "\n",
    "years = np.array(years, dtype=int)\n",
    "print('Минимальное число поколений в роду:', min(generation_counts))\n",
    "print('Максимальное число поколений в роду:', max(generation_counts))\n",
    "print('Среднее число поколений в роду:', round(np.mean(generation_counts), 1))\n",
    "print('Год рождения самого старого:', min(years))\n",
    "print('Год рождения самого молодого:', max(years))"
   ]
  },
  {
   "cell_type": "markdown",
   "metadata": {
    "deletable": true,
    "editable": true
   },
   "source": [
    "Постройте гистограмму зависимости количества поколений в родословной от количества родословных.\n",
    "На следующем графике отложите на временной оси года рождения всех людей."
   ]
  },
  {
   "cell_type": "code",
   "execution_count": 21,
   "metadata": {
    "collapsed": false,
    "deletable": true,
    "editable": true
   },
   "outputs": [
    {
     "data": {
      "image/png": "[encoded data removed]",
      "text/plain": [
       "<matplotlib.figure.Figure at 0x7f2a0d19f160>"
      ]
     },
     "metadata": {},
     "output_type": "display_data"
    },
    {
     "data": {
      "image/png": "[encoded data removed]",
      "text/plain": [
       "<matplotlib.figure.Figure at 0x7f2a0d216a58>"
      ]
     },
     "metadata": {},
     "output_type": "display_data"
    }
   ],
   "source": [
    "plt.figure(figsize=(10, 4))\n",
    "plt.hist(generation_counts, bins=80)\n",
    "plt.xlabel('generations count in pedigree')\n",
    "plt.ylabel('count of pedigree') # было pedogree\n",
    "plt.show()\n",
    "\n",
    "plt.figure(figsize=(15, 1))\n",
    "plt.scatter(years, np.zeros_like(years), alpha=0.2)\n",
    "plt.xlabel('years')\n",
    "plt.show()"
   ]
  },
  {
   "cell_type": "code",
   "execution_count": 22,
   "metadata": {
    "collapsed": false,
    "deletable": true,
    "editable": true
   },
   "outputs": [
    {
     "data": {
      "image/png": "[encoded data removed]",
      "text/plain": [
       "<matplotlib.figure.Figure at 0x7f2a0c4a1f28>"
      ]
     },
     "metadata": {},
     "output_type": "display_data"
    },
    {
     "data": {
      "image/png": "[encoded data removed]",
      "text/plain": [
       "<matplotlib.figure.Figure at 0x7f2a0d23fa90>"
      ]
     },
     "metadata": {},
     "output_type": "display_data"
    }
   ],
   "source": [
    "plt.figure(figsize=(14, 6)) # was figsize=(10,4)\n",
    "plt.ylim(ymax=1000)\n",
    "plt.hist(generation_counts, bins=80)\n",
    "plt.xlabel('generations count in pedigree')\n",
    "plt.ylabel('count of pedigree') # было pedogree\n",
    "\n",
    "plt.show()\n",
    "\n",
    "plt.figure(figsize=(15, 1))\n",
    "plt.scatter(years, np.zeros_like(years), alpha=0.025) # was alpha=0.2\n",
    "plt.xlabel('years')\n",
    "plt.show()"
   ]
  },
  {
   "cell_type": "markdown",
   "metadata": {
    "deletable": true,
    "editable": true
   },
   "source": [
    "Посчитайте среднюю продолжительность жизни."
   ]
  },
  {
   "cell_type": "code",
   "execution_count": 23,
   "metadata": {
    "collapsed": false,
    "deletable": true,
    "editable": true
   },
   "outputs": [
    {
     "name": "stdout",
     "output_type": "stream",
     "text": [
      "56.56\n"
     ]
    }
   ],
   "source": [
    "ages = []\n",
    "for pedigree in processes:\n",
    "    for generation in pedigree.generations:\n",
    "        for person in generation:\n",
    "            if person.birthday != '' and person.deathdate != '':\n",
    "                ages.append(int(person.deathdate.split('-')[0]) - \\\n",
    "                            int(person.birthday.split('-')[0]))\n",
    "\n",
    "### !  В коде выше мы берём разность года рождения и года смерти, \n",
    "### ! т.е. продолжительности жизни оценена с ошибкой до года,\n",
    "### ! хотя среднее должно пострадать не сильно\n",
    "\n",
    "mean_age = np.mean(ages)\n",
    "print(round(mean_age, 2))"
   ]
  },
  {
   "cell_type": "markdown",
   "metadata": {
    "deletable": true,
    "editable": true
   },
   "source": [
    "## 2. Оценка закона размножения\n",
    "\n",
    "Для начала предположим, что все выданные вам процессы являются частью одного большого процесса с общим предком. В следующем задании рассмотрим так же случай, когда все процессы являются разными.\n",
    "\n",
    "Чтобы проводить какой-либо анализ ветвящегося процесса нужно некоторым образом оценить закон размножения. Кажется,  что для этого достаточно посчитать количество сыновей у каждого человека, получив тем самым выборку неотрицательных целых чисел. Однако, проблема в том, что данные неполные, в частности, некоторые поля могут быть не заполнены. Тем не менее обычно у человека указаны либо все дети, либо не указаны вообще. \n",
    "Таким образом, условно мы можем разделить выборку на две части: поле детей заполнено (в т.ч. если у человека на самом деле нет детей), поле детей незаполнено. Если бы первая часть выборки была бы полностью известна, что распределение можно оценить по ней. Нам же неизвестен размер выборки и количество нулевых элементов в ней. Количество положительных элементов известно.\n",
    "\n",
    "\n",
    "**Математическая постановка задачи**\n",
    "\n",
    "$\\mathsf{P}_\\theta$ --- неизвестное распределение из некоторого класса распределений $\\mathcal{P}$ на $\\mathbb{Z}_+$.\n",
    "\n",
    "$X_1, ..., X_n$ --- выборка из распределения $\\mathsf{P}_\\theta$, причем $n$ и количество нулей в выборке неизвестны. \n",
    "\n",
    "$Y_1, ..., Y_s$ --- положительная подвыборка, которая полностью нам известна. В нашей задаче $Y_j$ --- количество сыновей у $j$-го человека среди тех, у кого есть хотя бы один сын.\n",
    "\n",
    "Оценку параметра $\\theta$ можно найти методом максимального правдоподобия:\n",
    "\n",
    "$$\\prod_{i=1}^s \\mathsf{P}_\\theta (Y_i \\left| Y_i > 0 \\right) \\to \\max_\\theta$$ \n",
    "\n",
    "В качестве классов распределений $\\mathcal{P}$ рассмотрите пуассоновское и геометрическое распределения. По желанию можете рассмотреть другие классы распределений, осмысленные в данной задаче\n",
    "\n",
    "**Внимание!** Применение метода `fit` из `scipy.stats` является некорректным в данной задаче, поскольку рассматривается усеченная выборка. Задачу максимизации нужно решить явно, выписав все формулы (которые тоже нужно прислать вместе с кодом).\n",
    "\n",
    "После оценки параметров проведите проверку принадлежности неизвестного распределения рассматриваемому семейству распределений $\\mathcal{P}$ с помощью критерия хи-квадрат, взяв для для него то распределение из $\\mathcal{P}$, которое соответствует оценке максимального правдоподобия. Постарайтесь учесть все особенности проверки гипотез, которые обсуждались на семинаре. Для каждого класса постройте также график частот и функции $\\mathsf{P}_\\theta (y \\left| Y > 0 \\right).$"
   ]
  },
  {
   "cell_type": "markdown",
   "metadata": {
    "deletable": true,
    "editable": true
   },
   "source": [
    "____________________"
   ]
  },
  {
   "cell_type": "markdown",
   "metadata": {
    "deletable": true,
    "editable": true
   },
   "source": [
    "### Оценка ММП"
   ]
  },
  {
   "cell_type": "markdown",
   "metadata": {
    "deletable": true,
    "editable": true
   },
   "source": [
    "#### 1.Геометрическое распределение\n",
    "\n",
    "$P_p(X = n) = (1 - p)^n p$ (Геометрическое распределение с нулём, $X \\in \\{0, 1, 2, ...\\}$)\n",
    "\n",
    "Для положительных $Y_i$ имеем:\n",
    "$P_p(Y_i | Y_i > 0) = \\frac{P(Y_i)}{P(Y_i > 0)} = \\frac{P(Y_i)}{1 - P(Y_i = 0)} \n",
    "= \\frac{(1 - p)^n p}{1 - p} = (1 - p)^{n - 1} p $, т.е. положительные $Y_i$ распределены по геометрическому распределению без нуля.\n",
    "\n",
    "$$\\prod\\limits_{i=1}^s P_p(Y_i | Y_i > 0) = \\prod\\limits_{i=1}^s (1 - p)^{Y_i - 1} p \n",
    "= (1-p) ^ {\\sum\\limits_{i=1}^s{Y_i} - s} p^s $$\n",
    "\n",
    "$$\\Rightarrow (\\sum\\limits_{i=1}^s{Y_i} - s) \\ln{(1-p)} + s \\ln{p}$$\n",
    "Возьмём производную для нахождения точки максимума (из вида логарифмической функции правдоподобия ясно, что при $p \\in [0, 1]$ и положительных $Y_i$ (коэффициенты при логарифмах неотрицательны) наблюдается один максимум):\n",
    "\n",
    "$$ (\\sum\\limits_{i=1}^s{Y_i} - s) \\frac{-1}{1-p} + \\frac{s}{p} =: 0 $$\n",
    "$$ \\frac{s}{1-p} - \\frac{\\sum\\limits_{i=1}^s{Y_i}}{1-p} + \\frac{s}{p} = 0$$ \n",
    "$$ \\frac{sp + s - sp}{(1-p)p} = \\frac{\\sum\\limits_{i=1}^s{Y_i}}{1-p}$$ \n",
    "$$ p = \\frac{s}{\\sum\\limits_{i=1}^s{Y_i}} = \\frac{1}{\\overline{Y}}$$"
   ]
  },
  {
   "cell_type": "markdown",
   "metadata": {
    "deletable": true,
    "editable": true
   },
   "source": [
    "**Итого:** $ p^* = 1/\\overline{Y}$ - оценка по ММП для геометрического распределения"
   ]
  },
  {
   "cell_type": "markdown",
   "metadata": {
    "deletable": true,
    "editable": true
   },
   "source": [
    "#### 2.Пуассоновское распределение\n",
    "\n",
    "$P_\\lambda(X = k) = \\frac{\\lambda^k}{k!} e^{-\\lambda}$; $P_\\lambda(X = 0) = e^{-\\lambda}$; $P_\\lambda(X > 0) = 1 - e^{-\\lambda}$\n",
    "\n",
    "$$\\prod\\limits_{i=1}^s P_\\lambda(Y_i | Y_i > 0)\n",
    "= \\prod\\limits_{i=1}^s \\frac{\\frac{\\lambda^{Y_i}}{{Y_i}!} e^{-\\lambda}}{1 - e^{-\\lambda}}\n",
    "= \\frac{\\frac{\\lambda^{\\sum\\limits_{i=1}^s{Y_i}}}{\\prod\\limits_{i=1}^s {Y_i}!} e^{-\\lambda n}}{(1 - e^{-\\lambda})^n}$$\n",
    "\n",
    "$$\\Rightarrow L(\\lambda, Y) = \\sum\\limits_{i=1}^s{Y_i} \\ln{\\lambda} - n \\lambda - \\ln(\\prod\\limits_{i=1}^s {Y_i}!) - n \\ln(1 - e^{-\\lambda})$$\n",
    "\n",
    "$$\\Rightarrow L'(\\lambda, Y) = \\sum\\limits_{i=1}^s{Y_i} \\frac{1}{\\lambda} - n - n \\frac{e^{-\\lambda}}{(1 - e^{-\\lambda})} \n",
    "= \\sum\\limits_{i=1}^s{Y_i} \\frac{1}{\\lambda} - \\frac{n}{(1 - e^{-\\lambda})} =: 0$$\n",
    "Оценка по ММП достигается в корне:\n",
    "$$ \\overline{Y} = \\frac{\\lambda}{(1 - e^{-\\lambda})}$$"
   ]
  },
  {
   "cell_type": "markdown",
   "metadata": {
    "deletable": true,
    "editable": true
   },
   "source": [
    "Получена возрастающая на $\\lambda \\in (0, + \\infty)$ функция ($\\frac{d}{dx} \\frac{x}{(1 - e^{-x})} = \\frac{e^x (-x + e^x - 1)}{(e^x - 1)^2} > 0$), при этом $\\overline{Y} \\geq s \\geq 1$, а $\\lim\\limits_{\\lambda \\rightarrow +0} (\\frac{\\lambda}{(1 - e^{-\\lambda})}) = 1$ (по Тейлору), значит у этого уравнения есть корень, при том один. Его можно найти двоичным поиском или поиском по сетке."
   ]
  },
  {
   "cell_type": "markdown",
   "metadata": {
    "deletable": true,
    "editable": true
   },
   "source": [
    "**Итого:** Оценка по ММП достигается в корне (он выражается только через страшные функции и его предлагается искать численными методами, благо функция хорошо для этого подходит):\n",
    "$$ \\overline{Y} = \\frac{\\lambda}{(1 - e^{-\\lambda})}$$"
   ]
  },
  {
   "cell_type": "markdown",
   "metadata": {
    "deletable": true,
    "editable": true
   },
   "source": [
    "_______"
   ]
  },
  {
   "cell_type": "markdown",
   "metadata": {
    "deletable": true,
    "editable": true
   },
   "source": [
    "### Проверка теоретических выкладок практическим методом (самодеятельность)\n",
    "Для проверки предлагается взять числа из некоторых геометрического и пуассоновского распределения и вычислить оценку ММП по сгенерированным данным, сравнить её с исходным параметром \"на глаз\" (разумно было бы провести проверку множество раз с различными параметрами и размерами выборок, проверяя стат. значимость, например, тем же тестом хи-квадрат, но этот раздел не требуется, его просто жалко удалять)"
   ]
  },
  {
   "cell_type": "code",
   "execution_count": 24,
   "metadata": {
    "collapsed": true,
    "deletable": true,
    "editable": true
   },
   "outputs": [],
   "source": [
    "import scipy.stats as sps\n",
    "import scipy.optimize\n",
    "import numpy as np # слишком долго листать на верх"
   ]
  },
  {
   "cell_type": "code",
   "execution_count": 25,
   "metadata": {
    "collapsed": false,
    "deletable": true,
    "editable": true
   },
   "outputs": [
    {
     "name": "stdout",
     "output_type": "stream",
     "text": [
      "[763 822 835 790 718 760 793 730 795 783]\n",
      "[763 822 835 790 718 760 793 730 795 783]\n"
     ]
    },
    {
     "data": {
      "text/plain": [
       "    fjac: array([[-1.]])\n",
       "     fun: array([ 0.])\n",
       " message: 'The solution converged.'\n",
       "    nfev: 5\n",
       "     qtf: array([ 175.348])\n",
       "       r: array([-1.])\n",
       "  status: 1\n",
       " success: True\n",
       "       x: array([ 777.348])"
      ]
     },
     "execution_count": 25,
     "metadata": {},
     "output_type": "execute_result"
    }
   ],
   "source": [
    "X = sps.poisson(mu=777.).rvs(size=1000)\n",
    "Y = np.array([x for x in X if x > 0])\n",
    "\n",
    "print(X[:10])\n",
    "print(Y[:10])\n",
    "\n",
    "def f(x):\n",
    "    return x / (1. - np.exp( - x)) - Y.mean()\n",
    "\n",
    "scipy.optimize.root(f,2.) # найденный x должен ~= mu"
   ]
  },
  {
   "cell_type": "markdown",
   "metadata": {
    "deletable": true,
    "editable": true
   },
   "source": [
    "______________"
   ]
  },
  {
   "cell_type": "code",
   "execution_count": 26,
   "metadata": {
    "collapsed": false,
    "deletable": true,
    "editable": true,
    "scrolled": true
   },
   "outputs": [
    {
     "name": "stdout",
     "output_type": "stream",
     "text": [
      "p =  0.1944609542438851\n"
     ]
    },
    {
     "data": {
      "image/png": "[encoded data removed]",
      "text/plain": [
       "<matplotlib.figure.Figure at 0x7f2a0d2059e8>"
      ]
     },
     "metadata": {},
     "output_type": "display_data"
    },
    {
     "name": "stdout",
     "output_type": "stream",
     "text": [
      "X[:15] = [2 1 2 2 3 1 1 4 7 0 7 5 4 1 0]\n",
      "Y[:10] = [2 1 2 2 3 1 1 4 7 7]\n"
     ]
    }
   ],
   "source": [
    "p = 0.1 + np.random.rand() * 0.8 # ~ U[0.1, 0.9]\n",
    "print(\"p = \", p)\n",
    "X = sps.geom(p=p).rvs(size=10000) - 1\n",
    "Y = np.array([x for x in X if x > 0])\n",
    "plt.ylim(ymax=3500)\n",
    "plt.xlim(xmax=20)\n",
    "plt.hist(X, bins = 40)\n",
    "plt.show()\n",
    "print(\"X[:15] =\", X[:15])\n",
    "print(\"Y[:10] =\", Y[:10])"
   ]
  },
  {
   "cell_type": "code",
   "execution_count": 27,
   "metadata": {
    "collapsed": false,
    "deletable": true,
    "editable": true
   },
   "outputs": [
    {
     "name": "stdout",
     "output_type": "stream",
     "text": [
      "p =  0.1944609542438851\n",
      "theta =  0.194143167028\n"
     ]
    }
   ],
   "source": [
    "theta = 1. / np.array(Y).mean()\n",
    "print(\"p = \", p)\n",
    "print(\"theta = \", theta) # должны быть приблизительно равны"
   ]
  },
  {
   "cell_type": "markdown",
   "metadata": {
    "deletable": true,
    "editable": true
   },
   "source": [
    "_____________________"
   ]
  },
  {
   "cell_type": "markdown",
   "metadata": {
    "deletable": true,
    "editable": true
   },
   "source": [
    "### Обработка данных"
   ]
  },
  {
   "cell_type": "markdown",
   "metadata": {
    "deletable": true,
    "editable": true
   },
   "source": [
    "Составим, для начала Y"
   ]
  },
  {
   "cell_type": "code",
   "execution_count": 28,
   "metadata": {
    "collapsed": false,
    "deletable": true,
    "editable": true
   },
   "outputs": [],
   "source": [
    "male = set()\n",
    "\n",
    "Y_names = list()\n",
    "for pedigree in processes:\n",
    "    for generation in pedigree.generations:\n",
    "        for person in generation:\n",
    "            if person.gender == \"male\":\n",
    "                male.add(person.name)\n",
    "\n",
    "# male"
   ]
  },
  {
   "cell_type": "code",
   "execution_count": 29,
   "metadata": {
    "collapsed": false,
    "deletable": true,
    "editable": true
   },
   "outputs": [
    {
     "name": "stdout",
     "output_type": "stream",
     "text": [
      "[3, 2, 5, 1, 2, 1, 1, 1, 1, 2]\n"
     ]
    }
   ],
   "source": [
    "Y = list()\n",
    "\n",
    "for pedigree in processes:\n",
    "    for generation in pedigree.generations:\n",
    "        for person in generation:\n",
    "            if person.gender == \"male\":\n",
    "                child_cnt = 0\n",
    "                for child in person.children:\n",
    "                    if child in male:\n",
    "                        child_cnt += 1\n",
    "                if (child_cnt > 0):\n",
    "                    Y.append(child_cnt)\n",
    "print(Y[:10])"
   ]
  },
  {
   "cell_type": "code",
   "execution_count": 30,
   "metadata": {
    "collapsed": false,
    "deletable": true,
    "editable": true
   },
   "outputs": [
    {
     "name": "stdout",
     "output_type": "stream",
     "text": [
      "len(Y) 49266\n"
     ]
    }
   ],
   "source": [
    "print(\"len(Y)\", len(Y))\n",
    "Y_data_mean = np.array(Y).mean()"
   ]
  },
  {
   "cell_type": "markdown",
   "metadata": {
    "deletable": true,
    "editable": true
   },
   "source": [
    "_____\n",
    "Найдём оценку ММП для пуассоновского распределения:"
   ]
  },
  {
   "cell_type": "code",
   "execution_count": 31,
   "metadata": {
    "collapsed": false,
    "deletable": true,
    "editable": true
   },
   "outputs": [
    {
     "data": {
      "text/plain": [
       "    fjac: array([[-1.]])\n",
       "     fun: array([  8.88178420e-16])\n",
       " message: 'The solution converged.'\n",
       "    nfev: 8\n",
       "     qtf: array([ -1.01263575e-09])\n",
       "       r: array([-0.77214533])\n",
       "  status: 1\n",
       " success: True\n",
       "       x: array([ 1.80957111])"
      ]
     },
     "execution_count": 31,
     "metadata": {},
     "output_type": "execute_result"
    }
   ],
   "source": [
    "def poiss_tf(x):\n",
    "    assert type(Y) == list # вдруг \n",
    "    return x / (1. - np.exp(-x)) - Y_data_mean\n",
    "result = scipy.optimize.root(poiss_tf, 20.)\n",
    "result"
   ]
  },
  {
   "cell_type": "code",
   "execution_count": 32,
   "metadata": {
    "collapsed": false,
    "deletable": true,
    "editable": true
   },
   "outputs": [
    {
     "data": {
      "text/plain": [
       "1.8095711098638814"
      ]
     },
     "execution_count": 32,
     "metadata": {},
     "output_type": "execute_result"
    }
   ],
   "source": [
    "mu_data = result.x[0]\n",
    "mu_data"
   ]
  },
  {
   "cell_type": "markdown",
   "metadata": {
    "deletable": true,
    "editable": true
   },
   "source": [
    "_____\n",
    "Найдём оценку ММП для геометрического распределения:"
   ]
  },
  {
   "cell_type": "code",
   "execution_count": 33,
   "metadata": {
    "collapsed": false,
    "deletable": true,
    "editable": true
   },
   "outputs": [
    {
     "data": {
      "text/plain": [
       "0.46214025740122316"
      ]
     },
     "execution_count": 33,
     "metadata": {},
     "output_type": "execute_result"
    }
   ],
   "source": [
    "p_data = 1. / Y_data_mean\n",
    "p_data"
   ]
  },
  {
   "cell_type": "markdown",
   "metadata": {
    "deletable": true,
    "editable": true
   },
   "source": [
    "___________"
   ]
  },
  {
   "cell_type": "code",
   "execution_count": 55,
   "metadata": {
    "collapsed": false,
    "deletable": true,
    "editable": true
   },
   "outputs": [
    {
     "name": "stdout",
     "output_type": "stream",
     "text": [
      "49266\n"
     ]
    }
   ],
   "source": [
    "from scipy.stats import chisquare\n",
    "print(len(Y))"
   ]
  },
  {
   "cell_type": "markdown",
   "metadata": {
    "deletable": true,
    "editable": true
   },
   "source": [
    "Применим тест хи-квадрат для полученных данных. Как обсуждалось на семинаре, большой размер выборки нежелателен, в силу ряда причин. Предложено было использовать выборки по сто элементов, что мы и сделаем."
   ]
  },
  {
   "cell_type": "code",
   "execution_count": 56,
   "metadata": {
    "collapsed": true,
    "deletable": true,
    "editable": true
   },
   "outputs": [],
   "source": [
    "from math import factorial"
   ]
  },
  {
   "cell_type": "code",
   "execution_count": 57,
   "metadata": {
    "collapsed": false,
    "deletable": true,
    "editable": true
   },
   "outputs": [
    {
     "name": "stdout",
     "output_type": "stream",
     "text": [
      "Количество отцов с (i+1) детьми =  [ 54.  16.  11.   9.   4.   2.   3.   1.]\n"
     ]
    }
   ],
   "source": [
    "sub_Y = np.array(np.array(Y)[sps.randint.rvs(0, len(Y), size=100)])\n",
    "\n",
    "\n",
    "def to_freq_table(sub_Y, ddof=1):\n",
    "    Y_table = np.zeros(np.array(sub_Y).max() + 1)\n",
    "    for y in sub_Y:\n",
    "        Y_table[y] += 1\n",
    "\n",
    "    \n",
    "    YY = []\n",
    "    for i in range(ddof, len(Y_table)):\n",
    "        if (Y_table[i] < 5):\n",
    "            YY = Y_table[ddof:i]\n",
    "            YY[-1] += Y_table[i:].sum()\n",
    "            break\n",
    "    return YY\n",
    "\n",
    "def sum_up(sub_Y, ddof=1):\n",
    "    Y_table = np.zeros(np.array(sub_Y).max() + 1)\n",
    "    for y in sub_Y:\n",
    "        Y_table[y] += 1\n",
    "    return Y_table[ddof:]\n",
    "\n",
    "def round_up_five(Y):\n",
    "    for i in range(len(Y)):\n",
    "        if Y[i] < 5.:\n",
    "            if (np.array(Y[i:]).sum() >= 5.):\n",
    "                YY = Y[:]\n",
    "                YY[i] = np.array(Y[i:]).sum()\n",
    "                return YY[:(i+1)]\n",
    "            else:\n",
    "                YY = Y[:]\n",
    "                YY[i-1] += np.array(Y[i:]).sum()\n",
    "                return YY[:i]\n",
    "    return Y\n",
    "\n",
    "def round_up(Y, l):\n",
    "    assert len(Y) >= l\n",
    "    YY_temp = np.array(Y)\n",
    "    YY_temp[l-1] += np.array(YY_temp[l:]).sum()\n",
    "    return YY_temp[:l]\n",
    "\n",
    "YY = sum_up(sub_Y)\n",
    "\n",
    "print(\"Количество отцов с (i+1) детьми = \", YY)\n",
    "\n",
    "#print(\"Количество отцов с (i+1) детьми, с увеличенными группами = \", round_up_five(YY))\n",
    "\n",
    "# p_data = 1. / sub_Y.mean()"
   ]
  },
  {
   "cell_type": "code",
   "execution_count": 58,
   "metadata": {
    "collapsed": false,
    "deletable": true,
    "editable": true
   },
   "outputs": [
    {
     "name": "stdout",
     "output_type": "stream",
     "text": [
      "YY (данные выборки для теста) =  [ 54.  16.  11.   9.   4.   2.   3.   1.]\n",
      "YY (укрупнённые для геометрического распределения) =  [ 54.  16.  11.   9.  10.]\n",
      "YY (укрупнённые для пуассоновского распределения) =  [ 54.  16.  11.  19.]\n",
      "geom (теоретическая выборка из геометрического) =  [ 46.21402574  24.85666399  13.3693989    7.19086145   8.36904993]\n",
      "pois (теоретическая выборка из пуассоновского) =  [ 35.42741384  32.05421229  19.33479217  13.1835817 ]\n",
      "[ 54.  16.  11.   9.  10.]\n",
      "\n",
      "Тест для геометрического:\n",
      " Power_divergenceResult(statistic=5.6603802524393227, pvalue=0.22598747921489676)\n",
      "\n",
      "Тест для пуассоновского:\n",
      " Power_divergenceResult(statistic=23.936302833211649, pvalue=2.5756665181733495e-05)\n"
     ]
    }
   ],
   "source": [
    "geom = []\n",
    "pois = []\n",
    "\n",
    "def geom_cond_pmf(x,p):\n",
    "    q = 1. - p\n",
    "    return q ** (x - 1) * p\n",
    "\n",
    "\n",
    "def pois_cond_pmf(x,mu):\n",
    "    e = np.exp(- mu)\n",
    "    return mu ** x * e / (1. - e) / (factorial(x))\n",
    "\n",
    "i = 1\n",
    "while (geom_cond_pmf(x=i, p=p_data)*YY.sum() >= 5.):\n",
    "    geom.append(geom_cond_pmf(x=i, p=p_data))\n",
    "    i += 1\n",
    "    \n",
    "    \n",
    "i = 1\n",
    "while (pois_cond_pmf(x=i, mu=mu_data)*YY.sum() >= 5.):\n",
    "    pois.append(pois_cond_pmf(x=i, mu=mu_data))\n",
    "    i += 1\n",
    "    \n",
    "geom.append(1. - np.array(geom).sum())\n",
    "if (geom[-1]*YY.sum() < 5.):\n",
    "    geom[-2] += geom[-1]\n",
    "    del geom[-1]\n",
    "    \n",
    "pois.append(1. - np.array(pois).sum())\n",
    "if (pois[-1]*YY.sum() < 5.):\n",
    "    pois[-2] += pois[-1]\n",
    "    del pois[-1]\n",
    "    \n",
    "    \n",
    "geom = np.array(geom) * YY.sum()\n",
    "pois = np.array(pois) * YY.sum()\n",
    "print(\"YY (данные выборки для теста) = \", YY)\n",
    "print(\"YY (укрупнённые для геометрического распределения) = \", round_up(YY, len(geom)))\n",
    "print(\"YY (укрупнённые для пуассоновского распределения) = \", round_up(YY, len(pois)))\n",
    "\n",
    "print(\"geom (теоретическая выборка из геометрического) = \", geom)\n",
    "print(\"pois (теоретическая выборка из пуассоновского) = \", pois)\n",
    "\n",
    "print(round_up(YY, len(geom)))\n",
    "print(\"\\nТест для геометрического:\\n\", sps.chisquare(round_up(YY, len(geom)), geom))\n",
    "print(\"\\nТест для пуассоновского:\\n\", sps.chisquare(round_up(YY, len(pois)), pois))"
   ]
  },
  {
   "cell_type": "code",
   "execution_count": 59,
   "metadata": {
    "collapsed": false,
    "deletable": true,
    "editable": true
   },
   "outputs": [
    {
     "data": {
      "text/plain": [
       "5.6603802524393227"
      ]
     },
     "execution_count": 59,
     "metadata": {},
     "output_type": "execute_result"
    }
   ],
   "source": [
    "# вычисленная руками для самопроверки статистика \n",
    "((round_up(YY, len(geom)) - geom) ** 2 / geom).sum()"
   ]
  },
  {
   "cell_type": "markdown",
   "metadata": {
    "collapsed": true,
    "deletable": true,
    "editable": true
   },
   "source": [
    "** Итого: ** при уровне значимости $\\alpha = 0.05$ (он определён заранее, хотя впервые фигурирует здесь) \n",
    "\n",
    "- в первом тесте нулевая гипотеза, состоящая в том, что законом размножения является геометрическое распределение с оценённым выше параметром (на самом деле, некоторое его угрубление), не может быть отвергнута (pvalue > $\\alpha$)\n",
    "\n",
    "- во втором тесте нулевая гипотеза, состоящая в том, что законом размножения является пуассоновское распределение с оценённым выше параметром (на самом деле, некоторое его угрубление), должно быть от вергнуто (pvalue < $\\alpha$)"
   ]
  },
  {
   "cell_type": "markdown",
   "metadata": {
    "deletable": true,
    "editable": true
   },
   "source": [
    "________________________\n",
    "### Графики:"
   ]
  },
  {
   "cell_type": "code",
   "execution_count": 39,
   "metadata": {
    "collapsed": false,
    "deletable": true,
    "editable": true
   },
   "outputs": [
    {
     "data": {
      "image/png": "[encoded data removed]",
      "text/plain": [
       "<matplotlib.figure.Figure at 0x7f2a0b78a470>"
      ]
     },
     "metadata": {},
     "output_type": "display_data"
    },
    {
     "data": {
      "image/png": "[encoded data removed]",
      "text/plain": [
       "<matplotlib.figure.Figure at 0x7f2a0af029b0>"
      ]
     },
     "metadata": {},
     "output_type": "display_data"
    },
    {
     "data": {
      "image/png": "[encoded data removed]",
      "text/plain": [
       "<matplotlib.figure.Figure at 0x7f2a0b8989b0>"
      ]
     },
     "metadata": {},
     "output_type": "display_data"
    },
    {
     "name": "stdout",
     "output_type": "stream",
     "text": [
      "!!! Данные для теста хи-квадрат: !!!\n"
     ]
    },
    {
     "data": {
      "image/png": "[encoded data removed]",
      "text/plain": [
       "<matplotlib.figure.Figure at 0x7f2a0b0dfa58>"
      ]
     },
     "metadata": {},
     "output_type": "display_data"
    },
    {
     "name": "stdout",
     "output_type": "stream",
     "text": [
      "Те же графики наоборот:\n"
     ]
    },
    {
     "data": {
      "image/png": "[encoded data removed]",
      "text/plain": [
       "<matplotlib.figure.Figure at 0x7f2a09f3d6d8>"
      ]
     },
     "metadata": {},
     "output_type": "display_data"
    }
   ],
   "source": [
    "P_geom = [geom_cond_pmf(x,p_data) for x in range(1, 11)]\n",
    "P_pois = [pois_cond_pmf(x,mu_data) for x in range(1, 11)]\n",
    "\n",
    "plt.figure(figsize=(14,7))\n",
    "\n",
    "plt.subplot(221)\n",
    "plt.hist(range(10), weights=P_geom, ls='solid', ec='black')\n",
    "plt.title(\"$\\\\mathsf{P}_\\\\theta (y \\\\left| Y > 0 \\\\right)$ для геометрического\")\n",
    "plt.xticks(np.linspace(0.5, 8.5, 10), range(1, 11))\n",
    "\n",
    "plt.subplot(222)\n",
    "plt.hist(range(10), weights=P_pois, ls='solid', ec='black')\n",
    "plt.title(\"$\\\\mathsf{P}_\\\\theta (y \\\\left| Y > 0 \\\\right)$ для пуассоновского\")\n",
    "plt.xticks(np.linspace(0.5, 8.5, 10), range(1, 11))\n",
    "\n",
    "\n",
    "def top_ten(X):\n",
    "    X = list(X)\n",
    "    while (len(X) < 10):\n",
    "        X.append(0)\n",
    "    return np.array(X[:10])\n",
    "\n",
    "plt.show()\n",
    "plt.figure(figsize=(14,7))\n",
    "\n",
    "plt.subplot(221)\n",
    "FT = top_ten(to_freq_table(Y))\n",
    "FT = FT / FT.sum() * 100.\n",
    "plt.hist(range(10), weights=FT, ls='solid', ec='black')\n",
    "plt.title(\"Частотная таблица (число родителей с k сыновьями\\n \" +\n",
    "          \"на 100 человек, среди тех, у кого они есть) по всей выборке\")\n",
    "plt.xticks(np.linspace(0.5, 8.5, 10), range(1, 11))\n",
    "\n",
    "plt.show()\n",
    "plt.figure(figsize=(14,7))\n",
    "\n",
    "\n",
    "plt.subplot(221)\n",
    "FT = [sps.geom(p=p_data).pmf(i+1)*100 for i in range(0, 10)]\n",
    "plt.hist(range(10), weights=FT, ls='solid', ec='black')\n",
    "plt.title(\"Частотная таблица (число родителей с k сыновьями\\n на\" + \n",
    "          \" 100 человек, среди ВСЕХ) при геометрическом\\n\" +\n",
    "          \"распределении из теории и оценки ММП\")\n",
    "plt.xticks(np.linspace(0.5, 8.5, 10), range(0, 10))\n",
    "\n",
    "plt.subplot(222)\n",
    "FT = [sps.poisson(mu=mu_data).pmf(i)*100 for i in range(0, 10)]\n",
    "plt.hist(range(10), weights=FT, ls='solid', ec='black')\n",
    "plt.title(\"Частотная таблица (число родителей с k сыновьями\\n на 100 человек, \" +\n",
    "          \"среди ВСЕХ) при пуассоновском\\n\" +\n",
    "          \"распределении из теории и оценки ММП\")\n",
    "plt.xticks(np.linspace(0.5, 8.5, 10), range(0, 10))\n",
    "\n",
    "plt.show()\n",
    "\n",
    "print(\"!!! Данные для теста хи-квадрат: !!!\")\n",
    "\n",
    "hor_len = 0.95\n",
    "plt.figure(figsize=(14,7))\n",
    "plt.subplot(221)\n",
    "plt.hist(range(10), weights=top_ten(round_up(YY, len(geom))), ls='solid', ec='black')\n",
    "x_grid = np.linspace(0., 8., 10)\n",
    "plt.hlines(top_ten(geom), x_grid, x_grid+hor_len, color=\"red\")\n",
    "plt.title(\"Частотная таблица (число родителей с k сыновьями\\n\" + \n",
    "          \" на 100 человек, среди тех, у кого они есть) по сокращённой\\n\"\n",
    "          +\" выборке (сжато под геометрическое: последняя\\nгруппа включает все последующие)\" +\n",
    "          \"\\n[теоретическое сжатое геометрическое\\n показано красными полосами]\")\n",
    "plt.xticks(np.linspace(0.5, 8.5, 10), range(1, 11))\n",
    "plt.subplot(222)\n",
    "plt.hist(range(10), weights=top_ten(round_up(YY, len(pois))), ls='solid', ec='black')\n",
    "x_grid = np.linspace(0., 8., 10)\n",
    "plt.hlines(top_ten(pois), x_grid, x_grid+hor_len, color=\"red\")\n",
    "plt.title(\"Частотная таблица (число родителей с k сыновьями\\n\" + \n",
    "          \" на 100 человек, среди тех, у кого они есть) по сокращённой\\n\"\n",
    "          +\" выборке (сжато под пуассоновское: последняя\\nгруппа включает все последующие)\" +\n",
    "          \"\\n[теоретическое сжатое пуассоновское\\n показано красными полосами]\")\n",
    "plt.xticks(np.linspace(0.5, 8.5, 10), range(1, 11))\n",
    "plt.show()\n",
    "\n",
    "print(\"Те же графики наоборот:\")\n",
    "plt.figure(figsize=(14,7))\n",
    "plt.subplot(221)\n",
    "plt.hist(range(10), weights=top_ten(geom), ls='solid', ec='black', color=\"red\")\n",
    "x_grid = np.linspace(0., 8., 10)\n",
    "plt.hlines(top_ten(round_up(YY, len(geom))), x_grid, x_grid+hor_len, color=\"navy\")\n",
    "plt.title(\"Частотная таблица (число родителей с k сыновьями\\n\" +\n",
    "          \" на 100 человек, среди тех, у кого они есть) по теоретическому\\n\"\n",
    "          +\" геометрическому распределению\\n(сокращена до np >= 5:\" +\n",
    "          \" последняя\\nгруппа включает все последующие)\" +\n",
    "          \"\\n[укрупнённая выборка\\n показана синими полосами]\")\n",
    "plt.xticks(np.linspace(0.5, 8.5, 10), range(1, 11))\n",
    "plt.subplot(222)\n",
    "plt.hist(range(10), weights=top_ten(pois), ls='solid', ec='black', color=\"red\")\n",
    "x_grid = np.linspace(0., 8., 10)\n",
    "plt.hlines(top_ten(round_up(YY, len(pois))), x_grid, x_grid+hor_len, color=\"navy\")\n",
    "plt.title(\"Частотная таблица (число родителей с k сыновьями\\n\" +\n",
    "          \" на 100 человек, среди тех, у кого они есть) по теоретическому\\n\"\n",
    "          +\" пуассоновскому распределению\\n(сокращена до np >= 5:\" +\n",
    "          \" последняя\\nгруппа включает все последующие)\" +\n",
    "          \"\\n[укрупнённая выборка\\n показана синими полосами]\")\n",
    "plt.xticks(np.linspace(0.5, 8.5, 10), range(1, 11)) \n",
    "plt.show()"
   ]
  },
  {
   "cell_type": "markdown",
   "metadata": {
    "deletable": true,
    "editable": true
   },
   "source": [
    "Комментарий к графикам: видно, что геометрическое распределение приближает лучше, и что условная вероятность подсчитана приблизительно корректно (можно вырезать участок из графика с нулями в детях и растянуть их на относительное изменение числа человек в сумме - получится график для условной вероятности)"
   ]
  },
  {
   "cell_type": "markdown",
   "metadata": {
    "deletable": true,
    "editable": true
   },
   "source": [
    "_________________________\n",
    "Построим графики $P_\\theta(Y | Y>0)$, численно считая, что это функция от действительного, а не натурального (с нулём) числа, отмечая значения при целочисленном аргументе точками. (ещё один график для красоты, чтоб был)"
   ]
  },
  {
   "cell_type": "code",
   "execution_count": 40,
   "metadata": {
    "collapsed": false,
    "deletable": true,
    "editable": true
   },
   "outputs": [
    {
     "data": {
      "image/png": "[encoded data removed]",
      "text/plain": [
       "<matplotlib.figure.Figure at 0x7f2a093d6438>"
      ]
     },
     "metadata": {},
     "output_type": "display_data"
    }
   ],
   "source": [
    "plt.figure(figsize=(14,7))\n",
    "from math import gamma\n",
    "def pois_cond_pmf_gamma(x,mu):\n",
    "    e = np.exp(- mu)\n",
    "    return mu ** x * e / (1. - e) / (gamma(x+1))\n",
    "\n",
    "\n",
    "plt.subplot(211)\n",
    "grid = np.linspace(1, 11, 1000)\n",
    "n_grid = np.arange(1, 11, 1)\n",
    "\n",
    "plt.plot(grid, [geom_cond_pmf(x,p_data) for x in grid], label=\n",
    "         \"$\\\\mathsf{P}_\\\\theta (y \\\\left| Y > 0 \\\\right)$ для геометрического\")\n",
    "plt.scatter(n_grid, [geom_cond_pmf(x,p_data) for x in n_grid], color=\"red\")\n",
    "plt.legend()\n",
    "plt.subplot(212)\n",
    "plt.plot(grid, [pois_cond_pmf_gamma(x,mu_data) for x in grid], label=\n",
    "         \"$\\\\mathsf{P}_\\\\theta (y \\\\left| Y > 0 \\\\right)$ для пуассоновского\\n\" +\n",
    "         \" (при использовании гамма-функции вместо факториала)\")\n",
    "plt.scatter(n_grid, [pois_cond_pmf(x,mu_data) for x in n_grid], color=\"red\")\n",
    "plt.legend()\n",
    "plt.show()"
   ]
  },
  {
   "cell_type": "markdown",
   "metadata": {
    "deletable": true,
    "editable": true
   },
   "source": [
    "### Множественное тестирование"
   ]
  },
  {
   "cell_type": "code",
   "execution_count": 49,
   "metadata": {
    "collapsed": false,
    "deletable": true,
    "editable": true
   },
   "outputs": [
    {
     "name": "stdout",
     "output_type": "stream",
     "text": [
      "[0.58085325817431266, 0.0042193951472472985]\n"
     ]
    },
    {
     "data": {
      "text/plain": [
       "array([[  5.09466066e-02,   1.12116382e-08],\n",
       "       [  2.25331240e-01,   3.03420464e-05],\n",
       "       [  7.87998126e-02,   7.47536415e-06],\n",
       "       [  3.68973349e-01,   1.24193204e-03],\n",
       "       [  2.70471147e-02,   3.47702777e-05],\n",
       "       [  1.87427824e-02,   1.10708749e-13],\n",
       "       [  3.15527033e-02,   2.95550984e-07],\n",
       "       [  1.18377127e-01,   5.82857244e-08]])"
      ]
     },
     "execution_count": 49,
     "metadata": {},
     "output_type": "execute_result"
    }
   ],
   "source": [
    "def get_pval(Y, size=100, text=False):\n",
    "    sub_Y = np.array(np.array(Y)[sps.randint.rvs(0, len(Y), size=100)])\n",
    "    \n",
    "    p_data = 1. / sub_Y.mean()\n",
    "    def f(x):\n",
    "        return x / (1. - np.exp( - x)) - sub_Y.mean()\n",
    "\n",
    "    mu_data = scipy.optimize.root(f,2.).x[0]\n",
    "\n",
    "    \n",
    "    def to_freq_table(sub_Y, ddof=1):\n",
    "        Y_table = np.zeros(np.array(sub_Y).max() + 1)\n",
    "        for y in sub_Y:\n",
    "            Y_table[y] += 1\n",
    "\n",
    "\n",
    "        YY = []\n",
    "        for i in range(ddof, len(Y_table)):\n",
    "            if (Y_table[i] < 5):\n",
    "                YY = Y_table[ddof:i]\n",
    "                YY[-1] += Y_table[i:].sum()\n",
    "                break\n",
    "        return YY\n",
    "\n",
    "    def sum_up(sub_Y, ddof=1):\n",
    "        Y_table = np.zeros(np.array(sub_Y).max() + 1)\n",
    "        for y in sub_Y:\n",
    "            Y_table[y] += 1\n",
    "        return Y_table[ddof:]\n",
    "\n",
    "    def round_up_five(Y):\n",
    "        for i in range(len(Y)):\n",
    "            if Y[i] < 5.:\n",
    "                if (np.array(Y[i:]).sum() >= 5.):\n",
    "                    YY = Y[:]\n",
    "                    YY[i] = np.array(Y[i:]).sum()\n",
    "                    return YY[:(i+1)]\n",
    "                else:\n",
    "                    YY = Y[:]\n",
    "                    YY[i-1] += np.array(Y[i:]).sum()\n",
    "                    return YY[:i]\n",
    "        return Y\n",
    "\n",
    "    def round_up(Y, l):\n",
    "        assert len(Y) >= l\n",
    "        YY_temp = np.array(Y)\n",
    "        YY_temp[l-1] += np.array(YY_temp[l:]).sum()\n",
    "        return YY_temp[:l]\n",
    "\n",
    "    YY = sum_up(sub_Y)\n",
    "\n",
    "    if (text):\n",
    "        print(\"Количество отцов с (i+1) детьми = \", YY)\n",
    "    #print(\"Количество отцов с (i+1) детьми, с увеличенными группами = \", round_up_five(YY))\n",
    "    \n",
    "    geom = []\n",
    "    pois = []\n",
    "\n",
    "    def geom_cond_pmf(x,p):\n",
    "        q = 1. - p\n",
    "        return q ** (x - 1) * p\n",
    "\n",
    "\n",
    "    def pois_cond_pmf(x,mu):\n",
    "        e = np.exp(- mu)\n",
    "        return mu ** x * e / (1. - e) / (factorial(x))\n",
    "\n",
    "    i = 1\n",
    "    while (geom_cond_pmf(x=i, p=p_data)*YY.sum() >= 5.):\n",
    "        geom.append(geom_cond_pmf(x=i, p=p_data))\n",
    "        i += 1\n",
    "\n",
    "\n",
    "    i = 1\n",
    "    while (pois_cond_pmf(x=i, mu=mu_data)*YY.sum() >= 5.):\n",
    "        pois.append(pois_cond_pmf(x=i, mu=mu_data))\n",
    "        i += 1\n",
    "\n",
    "    geom.append(1. - np.array(geom).sum())\n",
    "    if (geom[-1]*YY.sum() < 5.):\n",
    "        geom[-2] += geom[-1]\n",
    "        del geom[-1]\n",
    "\n",
    "    pois.append(1. - np.array(pois).sum())\n",
    "    if (pois[-1]*YY.sum() < 5.):\n",
    "        pois[-2] += pois[-1]\n",
    "        del pois[-1]\n",
    "\n",
    "\n",
    "    geom = np.array(geom) * YY.sum()\n",
    "    pois = np.array(pois) * YY.sum()\n",
    "    if (text):\n",
    "        print(\"YY (данные выборки для теста) = \", YY)\n",
    "        print(\"YY (укрупнённые для геометрического распределения) = \", round_up(YY, len(geom)))\n",
    "        print(\"YY (укрупнённые для пуассоновского распределения) = \", round_up(YY, len(pois)))\n",
    "\n",
    "        print(\"geom (теоретическая выборка из геометрического) = \", geom)\n",
    "        print(\"pois (теоретическая выборка из пуассоновского) = \", pois)\n",
    "\n",
    "        print(round_up(YY, len(geom)))\n",
    "    pval_geom = sps.chisquare(round_up(YY, len(geom)), geom).pvalue\n",
    "    pval_pois = sps.chisquare(round_up(YY, len(pois)), pois).pvalue\n",
    "    \n",
    "    if (text):\n",
    "        print(\"\\nТест для геометрического:\\n\", pval_geom)\n",
    "        print(\"\\nТест для пуассоновского:\\n\", pval_pois)\n",
    "    return [pval_geom, pval_pois]\n",
    "\n",
    "print(get_pval(Y))\n",
    "pvals = np.array([get_pval(Y) for i in range(8)])\n",
    "pvals"
   ]
  },
  {
   "cell_type": "code",
   "execution_count": 50,
   "metadata": {
    "collapsed": false,
    "deletable": true,
    "editable": true
   },
   "outputs": [],
   "source": [
    "pvals_geom = pvals[:, 0]\n",
    "pvals_pois = pvals[:, 1]"
   ]
  },
  {
   "cell_type": "markdown",
   "metadata": {
    "deletable": true,
    "editable": true
   },
   "source": [
    "Протестируем на восьми различных выборках гипотезу о том, что распределение - геометрическое."
   ]
  },
  {
   "cell_type": "code",
   "execution_count": 51,
   "metadata": {
    "collapsed": false,
    "deletable": true,
    "editable": true
   },
   "outputs": [
    {
     "data": {
      "text/plain": [
       "(array([False, False, False, False, False, False, False, False], dtype=bool),\n",
       " array([ 0.40757285,  1.        ,  0.6303985 ,  1.        ,  0.21637692,\n",
       "         0.14994226,  0.25242163,  0.94701701]),\n",
       " 0.0063911509545450107,\n",
       " 0.00625)"
      ]
     },
     "execution_count": 51,
     "metadata": {},
     "output_type": "execute_result"
    }
   ],
   "source": [
    "from statsmodels.sandbox.stats.multicomp import multipletests\n",
    "multipletests(pvals_geom, alpha=0.05, method='bonferroni')"
   ]
  },
  {
   "cell_type": "markdown",
   "metadata": {
    "deletable": true,
    "editable": true
   },
   "source": [
    "Теперь протестируем гипотезу о том, что распределение - пуассоновское."
   ]
  },
  {
   "cell_type": "code",
   "execution_count": 52,
   "metadata": {
    "collapsed": false,
    "deletable": true,
    "editable": true
   },
   "outputs": [
    {
     "data": {
      "text/plain": [
       "(array([ True,  True,  True,  True,  True,  True,  True,  True], dtype=bool),\n",
       " array([  8.96931056e-08,   2.42736371e-04,   5.98029132e-05,\n",
       "          9.93545635e-03,   2.78162221e-04,   8.85669990e-13,\n",
       "          2.36440787e-06,   4.66285795e-07]),\n",
       " 0.0063911509545450107,\n",
       " 0.00625)"
      ]
     },
     "execution_count": 52,
     "metadata": {},
     "output_type": "execute_result"
    }
   ],
   "source": [
    "multipletests(pvals_pois, alpha=0.05, method='bonferroni')"
   ]
  },
  {
   "cell_type": "markdown",
   "metadata": {
    "deletable": true,
    "editable": true
   },
   "source": [
    "Теперь протестируем 16 гипотез одновременно, первые восемь - за геометрическое, последние восемь - за пуассоновское. При этом (в методе Бонферрони) гипотезы, которые не отвергались будут не отвергаться, но те, что отвергались могут начать не отвергаться. При проверке большого числа гипотез этим методом падает мощность и использование этого метода не рекомендуется."
   ]
  },
  {
   "cell_type": "code",
   "execution_count": 53,
   "metadata": {
    "collapsed": false,
    "deletable": true,
    "editable": true
   },
   "outputs": [
    {
     "data": {
      "text/plain": [
       "(array([False, False, False, False, False, False, False, False,  True,\n",
       "         True,  True,  True,  True,  True,  True,  True], dtype=bool),\n",
       " array([  8.15145706e-01,   1.00000000e+00,   1.00000000e+00,\n",
       "          1.00000000e+00,   4.32753836e-01,   2.99884518e-01,\n",
       "          5.04843253e-01,   1.00000000e+00,   1.79386211e-07,\n",
       "          4.85472742e-04,   1.19605826e-04,   1.98709127e-02,\n",
       "          5.56324443e-04,   1.77133998e-12,   4.72881575e-06,\n",
       "          9.32571590e-07]),\n",
       " 0.0032006977101884937,\n",
       " 0.003125)"
      ]
     },
     "execution_count": 53,
     "metadata": {},
     "output_type": "execute_result"
    }
   ],
   "source": [
    "pvals_all = list(pvals_geom) + list(pvals_pois)\n",
    "multipletests(pvals_all, alpha=0.05, method='bonferroni')"
   ]
  },
  {
   "cell_type": "markdown",
   "metadata": {
    "deletable": true,
    "editable": true
   },
   "source": [
    "**Вывод:** множественное тестирование по варианту, предложенному на семинаре, демонстрирует аналогичный ответ:\n",
    "- в первом тесте нулевая гипотеза, соответствующая геометрическому распределению **не** отвергается на данном $\\alpha$ (все 8 тестов на различных подвыборках не отвергают гипотезу)\n",
    "- во втором тесте нулевая гипотеза, соответствующая пуассоновскому распределению отвергается на данном $\\alpha$\n",
    "(единогласно отвергнута всеми 8 тестами)\n",
    "- при одновременной проверке 16 гипотез с поправкой по методу Бонферрони результаты не меняются.\n",
    "\n",
    "Замечание: число гипотез для множественного тестирования выбрано 8, т.к. метод Бонферрони не рекомендуется использовать при большем числе гипотез из-за потери мощности (сложно отвергнуть неверные гипотезы)."
   ]
  },
  {
   "cell_type": "markdown",
   "metadata": {
    "deletable": true,
    "editable": true
   },
   "source": [
    "________________________________________"
   ]
  },
  {
   "cell_type": "markdown",
   "metadata": {
    "collapsed": true,
    "deletable": true,
    "editable": true
   },
   "source": [
    "<h1><font color = \"red\">Ниже идёт Практическое задание 2.</font></h1>"
   ]
  },
  {
   "cell_type": "markdown",
   "metadata": {
    "deletable": true,
    "editable": true
   },
   "source": [
    "**Часть 1.**\n",
    "Используя оценку закона размножения, посчитайте вероятность вырождения процесса (ее оценку, если говорить строго). Если эта вероятность равна 1, посчитайте математическое ожидание общего числа частиц в процессе (его оценку, если говорить строго).\n",
    "\n",
    "Предположим теперь, что каждый род является самостоятельным процессом (а не частью одного большого) и имеет свой закон размножения. Сделайте оценку закона размножения каждого рода геометрическим распределением. Если в роду имеются данные\n",
    "о менее 10 мужчинах, то в качестве оценки закона размножения возьмите общую оценку закона размножения, полученную ранее (в случае одного большого процесса). Если в роду нет мужчин, то закон размножения должен быть вырожденным: значение 0 принимается с вероятностью 1. Посчитайте вероятность вырождения каждого процесса. Сколько процессов выродится с вероятностью 1? Сколько процессов имеют вероятность\n",
    "вырождения менее 0.5?"
   ]
  },
  {
   "cell_type": "markdown",
   "metadata": {
    "deletable": true,
    "editable": true
   },
   "source": [
    "____________________"
   ]
  },
  {
   "cell_type": "markdown",
   "metadata": {
    "deletable": true,
    "editable": true
   },
   "source": [
    "Оценим вероятность вырождения процесса (считаем данные одним процессом)"
   ]
  },
  {
   "cell_type": "markdown",
   "metadata": {
    "deletable": true,
    "editable": true
   },
   "source": [
    "$P(\\xi = k) = p (1 - p)^k; k \\in Z_{+, 0}$\n",
    "\n",
    "$\\varphi_\\xi(z) = E z^\\xi = \\sum\\limits_{k=0}^{\\infty} z^k P(\\xi = k) =  \\sum\\limits_{k=0}^{\\infty} z^k p (1 - p)^k\n",
    "= \\frac{p}{1 - z (1 - p)}$ \n",
    "\n",
    "Решим уравнение $\\varphi_\\xi(z)=z$\n",
    "\n",
    "$z = \\frac{p}{1 - z (1 - p)} \\Leftrightarrow z - z^2(1-p) = p \\Leftrightarrow z^2 (1-p) - z + p = 0$\n",
    "\n",
    "Имеем корни: $z_1 = 1, z_0 = \\frac{p}{1-p}$; Заметим (вспоним или подсчитаем аналогично подсчёту выше) математическое ожидание $E \\xi = \\frac{1 - p}{p}$ \n",
    "\n",
    "Таким образом, по теореме о вырождении вероятность вырождения равна:\n",
    "\n",
    "$q = \\min(1, \\frac{p}{1-p})$"
   ]
  },
  {
   "cell_type": "code",
   "execution_count": 69,
   "metadata": {
    "collapsed": false,
    "deletable": true,
    "editable": true
   },
   "outputs": [
    {
     "name": "stdout",
     "output_type": "stream",
     "text": [
      "p* = 1 / mean(Y) =  0.462140257401\n"
     ]
    }
   ],
   "source": [
    "p_data = 1. / np.array(Y).mean()\n",
    "print(\"p* = 1 / mean(Y) = \", p_data)"
   ]
  },
  {
   "cell_type": "code",
   "execution_count": 126,
   "metadata": {
    "collapsed": false,
    "deletable": true,
    "editable": true
   },
   "outputs": [
    {
     "name": "stdout",
     "output_type": "stream",
     "text": [
      "Вероятность вымирания =  0.859220761101\n"
     ]
    }
   ],
   "source": [
    "q_extinction = lambda p : min(p / (1. - p), 1.) if p != 1 else 1.\n",
    "\n",
    "print(\"Вероятность вымирания = \", q_extinction(p_data))"
   ]
  },
  {
   "cell_type": "markdown",
   "metadata": {
    "deletable": true,
    "editable": true
   },
   "source": [
    "Вероятность не равна единице, было бы странно если все аристократы вдруг выродились..\n",
    "Если бы она была равна, то для вычисления матожидания предлагалось бы вычислить производящую функцию суммарного числа элементов процесса и взять значение её производной в единице."
   ]
  },
  {
   "cell_type": "markdown",
   "metadata": {
    "deletable": true,
    "editable": true
   },
   "source": [
    "________________"
   ]
  },
  {
   "cell_type": "markdown",
   "metadata": {
    "deletable": true,
    "editable": true
   },
   "source": [
    "Оценим теперь параметры каждого процесса в отдельности. Нужно помнить, что мы выкинули плохие записи в первом практикуме. Будем считать, что люди, у которых не указан пол, не могут представлять фамилию."
   ]
  },
  {
   "cell_type": "code",
   "execution_count": 98,
   "metadata": {
    "collapsed": false,
    "deletable": true,
    "editable": true
   },
   "outputs": [
    {
     "name": "stdout",
     "output_type": "stream",
     "text": [
      "___GENERATION__\n",
      "Phares-187\tmale\t1900-Sep-29\t1977-Jul-01\t\t\t\tPhares-186\n",
      "___GENERATION__\n",
      "Phares-186\tmale\t\t\tPhares-187\t\t\tP-597\n",
      "___GENERATION__\n",
      "P-597\tunknown\t\t\tPhares-186\t\t\t\n"
     ]
    }
   ],
   "source": [
    "# Пробный вывод для лучшего понимания происходящего\n",
    "# str(processes[0])\n",
    "for generation in processes[2].generations:\n",
    "    print(\"___GENERATION__\")\n",
    "    for man in generation:\n",
    "        print(man)"
   ]
  },
  {
   "cell_type": "markdown",
   "metadata": {
    "deletable": true,
    "editable": true
   },
   "source": [
    "Оценим число родов, в которых в первом поколении число людей не равно одному и в которых этот человек - не мужчина."
   ]
  },
  {
   "cell_type": "code",
   "execution_count": 107,
   "metadata": {
    "collapsed": false,
    "deletable": true,
    "editable": true
   },
   "outputs": [],
   "source": [
    "for i, house in enumerate(processes):\n",
    "    sons = []\n",
    "    if (len(house.generations[0]) != 1):\n",
    "        print(\"len(house.generations[0]) != 1 at i = \", i)\n",
    "    if (house.generations[0][0].gender != \"male\"):\n",
    "        print(\"house.generations[0][0].gender != male\", i)"
   ]
  },
  {
   "cell_type": "markdown",
   "metadata": {
    "deletable": true,
    "editable": true
   },
   "source": [
    "Их НЕТ!"
   ]
  },
  {
   "cell_type": "code",
   "execution_count": 162,
   "metadata": {
    "collapsed": false,
    "deletable": true,
    "editable": true
   },
   "outputs": [
    {
     "data": {
      "text/plain": [
       "array([[3, 2, 5, 1, 2, 1], [1, 1, 1, 2, 1], [1], [1], [1], [], []], dtype=object)"
      ]
     },
     "execution_count": 162,
     "metadata": {},
     "output_type": "execute_result"
    }
   ],
   "source": [
    "sons_in_family = []\n",
    "\n",
    "for i, house in enumerate(processes):\n",
    "    sons = []\n",
    "    if (len(house.generations[0]) != 1):\n",
    "        print(i)\n",
    "\n",
    "    for generation in house.generations:\n",
    "        for person in generation:\n",
    "            if person.gender == \"male\":\n",
    "                child_cnt = 0\n",
    "                for child in person.children:\n",
    "                    if child in male:\n",
    "                        child_cnt += 1\n",
    "                if (child_cnt > 0):\n",
    "                    sons.append(child_cnt)\n",
    "    sons_in_family.append(sons)\n",
    "\n",
    "assert len(sons_in_family) == len(processes)\n",
    "sons_in_family = np.array(sons_in_family)\n",
    "sons_in_family[:7]\n",
    "# pedigrees"
   ]
  },
  {
   "cell_type": "code",
   "execution_count": 163,
   "metadata": {
    "collapsed": false,
    "deletable": true,
    "editable": true
   },
   "outputs": [
    {
     "name": "stdout",
     "output_type": "stream",
     "text": [
      "p_for_family[:30] =  [0.46214025740122316, 0.46214025740122316, 0.46214025740122316, 0.46214025740122316, 0.46214025740122316, 1.0, 1.0, 0.46214025740122316, 0.46214025740122316, 0.46214025740122316, 0.46214025740122316, 0.46214025740122316, 0.46214025740122316, 0.46214025740122316, 1.0, 1.0, 1.0, 0.46214025740122316, 1.0, 0.46214025740122316, 0.46214025740122316, 0.46214025740122316, 0.52500000000000002, 0.46214025740122316, 0.46214025740122316, 0.46214025740122316, 0.46214025740122316, 0.46214025740122316, 0.46214025740122316, 0.46214025740122316]\n"
     ]
    }
   ],
   "source": [
    "def evaluate_p_for_family(sons):\n",
    "    t = np.array(sons)\n",
    "    if (len(t) == 0): ### ?\n",
    "        return 1.\n",
    "    elif (len(t) < 10):\n",
    "        return p_data\n",
    "    else:\n",
    "        return 1. / t.mean()\n",
    "    \n",
    "p_for_family = list(map(evaluate_p_for_family, sons_in_family))\n",
    "print(\"p_for_family[:30] = \", p_for_family[:30])\n",
    "    "
   ]
  },
  {
   "cell_type": "markdown",
   "metadata": {
    "deletable": true,
    "editable": true
   },
   "source": [
    "Очень много родов оценено или единицей или средним по массиву значением..."
   ]
  },
  {
   "cell_type": "code",
   "execution_count": 160,
   "metadata": {
    "collapsed": false,
    "deletable": true,
    "editable": true
   },
   "outputs": [
    {
     "name": "stdout",
     "output_type": "stream",
     "text": [
      "q_ext_for_family[:30] =  [ 0.85922076  0.85922076  0.85922076  0.85922076  0.85922076  1.          1.\n",
      "  0.85922076  0.85922076  0.85922076  0.85922076  0.85922076  0.85922076\n",
      "  0.85922076  1.          1.          1.          0.85922076  1.\n",
      "  0.85922076  0.85922076  0.85922076  1.          0.85922076  0.85922076\n",
      "  0.85922076  0.85922076  0.85922076  0.85922076  0.85922076]\n"
     ]
    }
   ],
   "source": [
    "q_ext_for_family = np.array(list(map(q_extinction, p_for_family)))\n",
    "print(\"q_ext_for_family[:30] = \", q_ext_for_family[:30])"
   ]
  },
  {
   "cell_type": "code",
   "execution_count": 164,
   "metadata": {
    "collapsed": false,
    "deletable": true,
    "editable": true
   },
   "outputs": [
    {
     "name": "stdout",
     "output_type": "stream",
     "text": [
      "Всего процессов 15841\n",
      "Из них вероятность вырождения меньше 0.5 у 129 процессов ( 0.8143425288807524 %)\n",
      "Из них выродятся П.Н. 5361 процессов ( 33.842560444416385 %)\n"
     ]
    }
   ],
   "source": [
    "total = len(q_ext_for_family)\n",
    "print(\"Всего процессов\", total)\n",
    "lessthanhalf = q_ext_for_family[q_ext_for_family < 0.5].size\n",
    "print(\"Из них вероятность вырождения меньше 0.5 у\", lessthanhalf,\n",
    "      \"процессов (\", float(lessthanhalf) / total * 100., \"%)\")\n",
    "absolutely = q_ext_for_family[q_ext_for_family == 1.0].size\n",
    "print(\"Из них выродятся П.Н.\", absolutely,\n",
    "      \"процессов (\", float(absolutely) / total * 100., \"%)\")\n"
   ]
  },
  {
   "cell_type": "markdown",
   "metadata": {
    "deletable": true,
    "editable": true
   },
   "source": [
    "**Вывод:** Ничто не вечно...\n",
    "    \n",
    "Наши данные дают очень пессимистичную оценку, т.к. многие люди отсутствуют в базе или их записи настолько неточны, что мы их удалили. Но даже при этом > 65% родов имеют шанс не выродиться."
   ]
  },
  {
   "cell_type": "markdown",
   "metadata": {
    "collapsed": true,
    "deletable": true,
    "editable": true
   },
   "source": [
    "**Часть 2.**\n",
    "Вопрос: Как будет меняться численность населения и количество фамилий в течении ближайших 200 лет от текущего момента времени? Помимо оценок требуется построить доверительные интервалы.\n",
    "\n",
    "Условие данного задания не предполагает какого-либо конкретного алгоритма решения, поэтому вам нужно его придумать самим. Вместе с решением вам нужно прислать достаточно подробное текстовое описание вашего способа решения задачи. В этом описании должны быть пояснения, почему вы выбрали такой метод решения. Оцениваться\n",
    "будет не только оригинальность решения, но и его логическая или научная обоснованность. Если вы хотите использовать какие-либо модели, о которых вы узнали из дополнительных источников (спецкурсы, онлайн-курсы, книги, научные статьи и т.д.), приведите описание этих моделей.\n",
    "\n",
    "Идеи решения с обсуждения на семинаре:\n",
    "1. Моделирование процесса на несколько поколений, то есть генерирование новых\n",
    "поколений в соответствии с найденным законом размножения. При генерации сто-\n",
    "ит генерировать только количество потомков, а не самих людей, иначе не хватит\n",
    "оперативной памяти.\n",
    "2. Для построения доверительных интервалов можно провести моделирование несколько раз (100-200).\n",
    "3. Количество поколений, которое нужно сгенерировать, можно определить, оценив\n",
    "среднее время между поколениями.\n",
    "4. Для каждого рода количество поколений, которое нужно сгенерировать, может\n",
    "быть разным в зависимости от времени жизни последнего известного поколения.\n",
    "5. Длина временного интервала между поколениями может меняться во времени.\n",
    "Можно попробовать применить регрессию.\n",
    "6. Закон размножения так же может меняться со временем."
   ]
  },
  {
   "cell_type": "code",
   "execution_count": 172,
   "metadata": {
    "collapsed": false,
    "deletable": true,
    "editable": true
   },
   "outputs": [
    {
     "data": {
      "text/plain": [
       "'Oak-105\\tunknown\\t1912-Nov-04\\t1925-Dec-04\\tOak-110;Erickson-1125\\tOak-106;Oak-100;Oak-99;Oak-97;Oak-94;Oak-84;Oak-101;Oak-90\\t\\t'"
      ]
     },
     "execution_count": 172,
     "metadata": {},
     "output_type": "execute_result"
    }
   ],
   "source": [
    "human_data = dict()\n",
    "for process in processes:\n",
    "    for generation in process.generations:\n",
    "        for man in generation:\n",
    "            human_data[man.name] = man\n",
    "            \n",
    "str(human_data[\"Oak-105\"])"
   ]
  },
  {
   "cell_type": "code",
   "execution_count": 204,
   "metadata": {
    "collapsed": false,
    "deletable": true,
    "editable": true
   },
   "outputs": [
    {
     "name": "stdout",
     "output_type": "stream",
     "text": [
      "Oak-105: 13\n",
      "Murdoch-740: nan\n"
     ]
    }
   ],
   "source": [
    "def birthyear(person):\n",
    "    if (person.birthday != \"\"):\n",
    "        return int(person.birthday[:4]);\n",
    "    else:\n",
    "        return np.NaN\n",
    "    \n",
    "def deathyear(person):\n",
    "    if (person.deathdate != \"\"):\n",
    "        return int(person.deathdate[:4]);\n",
    "    else:\n",
    "        return np.NaN\n",
    "    \n",
    "def lifetime(person):\n",
    "    return deathyear(person) - birthyear(person)\n",
    "    \n",
    "pp = human_data[\"Oak-105\"]\n",
    "get_birthyear(pp)\n",
    "get_deathyear(pp)\n",
    "print(\"Oak-105:\", lifetime(pp))\n",
    "print(\"Murdoch-740:\", lifetime(human_data[\"Murdoch-740\"]))"
   ]
  },
  {
   "cell_type": "markdown",
   "metadata": {
    "deletable": true,
    "editable": true
   },
   "source": [
    "**Замечание:** в процессе построения графиков было обнаружено, встретить человека, прожившего больше тысячи лет, (-1000) лет, или одну и ту же персону три раза - норма жизни. (это сильно влияет на среднюю продолжительность жизни, особенно во втором веке)"
   ]
  },
  {
   "cell_type": "code",
   "execution_count": 275,
   "metadata": {
    "collapsed": false,
    "deletable": true,
    "editable": true
   },
   "outputs": [
    {
     "name": "stdout",
     "output_type": "stream",
     "text": [
      "369 Este-37\tmale\t1190--\t2015--\tEste-38;Aldobrandini-1\tEste-60;Este-62;Este-61\t\t\n",
      "1538 Este-37\tmale\t1190--\t2015--\tEste-38;Aldobrandini-1\tEste-60;Este-62;Este-61\t\t\n",
      "2969 Nabors-259\tmale\t1894-Mar-01\t0166-Apr-01\tNabors-248;Gray-13132\tNabors-136;Nabors-267;Nabors-246;Nabors-264;Nabors-262;Nabors-261;Nabors-260;Nabors-266;Nabors-268;Nabors-263\t\t\n",
      "4830 Champagne-46\tfemale\t0100--\t1230--\tChampagne-135;Capet-107\tBlois-132;Ponthieu-7\tAvesnes-25;Hohenstaufen-23\tAvesnes-68\n",
      "6931 Ap_Meuric-5\tmale\t1070--\t1995--\tAp Jestyn-2\t\t\tVerch Morgan-5\n",
      "10343 Taille-3\tmale\t1843-Jun-16\t0192-Jan-23\t\t\t\tTailly-1\n",
      "10347 FitzRandolph-114\tfemale\t1787-Jul-16\t0184-Apr-05\tFitz Randolph-340;Vance-365\tFitz Randolph-102;Randolph-372;Randolph-518;Fitzrandolph-35;Fitzrandolph-36;FitzRandolph-113;FitzRandolph-112;Randolph-375;FitzRandolph-111\t\t\n",
      "10349 Taylor-31395\tunknown\t1854-Jan-17\t0185--\tTaylor-27693;Kuykendall-726\tTaylor-31392;Taylor-31394;Taylor-30046;Taylor-31396;Taylor-31397;Taylor-31398\t\t\n",
      "10953 Este-37\tmale\t1190--\t2015--\tEste-38;Aldobrandini-1\tEste-60;Este-62;Este-61\t\t\n",
      "11028 Sackett-709\tmale\t1979-Mar-24\t0199-Mar-24\tSackett-470\t\t\t\n",
      "11426 Sage-519\tfemale\t1694-Dec-21\t0175-Jan-22\tSage-17;Starr-56\tSage-203;Sage-520;Sage-668;Sage-669;Sage-670;Sage-130;Sage-425;Sage-671;Sage-672;Sage-23;Sage-673;Sage-101;Sage-674;Sage-675\tLewis-17148;Wilcox-3098\t\n",
      "11815 Saint_Remy-1\tmale\t1360-Nov-10\t1750--\tRemy-30\t\t\tRemy-29\n",
      "12177 Sayles-280\tfemale\t1628-Jul-27\t1968--\tSayles-232;Soales-4\tSayles-7;Sayles-281\t\t\n",
      "12233 Champagne-46\tfemale\t0100--\t1230--\tChampagne-135;Capet-107\tBlois-132;Ponthieu-7\tAvesnes-25;Hohenstaufen-23\tAvesnes-68\n",
      "13516 Sage-519\tfemale\t1694-Dec-21\t0175-Jan-22\tSage-17;Starr-56\tSage-203;Sage-520;Sage-668;Sage-669;Sage-670;Sage-130;Sage-425;Sage-671;Sage-672;Sage-23;Sage-673;Sage-101;Sage-674;Sage-675\tLewis-17148;Wilcox-3098\t\n",
      "13970 Eanes-67\tunknown\t1904--\t0193--\tEanes-66;Giles-2779\tEanes-68\t\t\n",
      "14757 Easterling-207\tmale\t1700--\t2012-Jan-15\t\t\t\tEaster-569\n",
      "15210 Eaton-3472\tmale\t1777-Sep-08\t0186-Feb-20\tEaton-2160;Emerson-1350\tEaton-3464;Eaton-3465;Eaton-3466;Eaton-3467;Eaton-3468;Eaton-3469;Eaton-3470;Eaton-3471\tGordon-5145\t\n"
     ]
    }
   ],
   "source": [
    "for i, process in enumerate(processes):\n",
    "    for generation in process.generations:\n",
    "        for man in generation:\n",
    "            if (not np.isnan(lifetime(man))):\n",
    "                if (lifetime(man) > 300) or (lifetime(man) < -1000):\n",
    "                    print(i, man)"
   ]
  },
  {
   "cell_type": "markdown",
   "metadata": {},
   "source": [
    "Будем считать, что больше MAX_LIFETIME = 137 или отрицательное число лет люди не живут и удалим всех, у кого указано иное."
   ]
  },
  {
   "cell_type": "code",
   "execution_count": 382,
   "metadata": {
    "collapsed": false
   },
   "outputs": [
    {
     "name": "stdout",
     "output_type": "stream",
     "text": [
      "lifetimes[:7] =  [[1740   82    3   60]\n",
      " [1792   60    2   30]\n",
      " [1806   57    0    0]\n",
      " [1816   48    5   38]\n",
      " [1828   45    0    0]\n",
      " [1849   76    1   35]\n",
      " [1852   26    0    0]\n",
      " [1854   31    2   25]\n",
      " [1856   13    0    0]\n",
      " [1858   73    1    0]\n",
      " [1884   75    0    0]\n",
      " [1880   65    0    0]\n",
      " [1886   61    0    0]\n",
      " [1899   33    0    0]\n",
      " [1916   97    0    0]\n",
      " [1788   72    1   33]\n",
      " [1821   77    1   22]]\n",
      "Average lifetime (all the years) = 56.8023032777\n",
      "Average lifetime (birth after 1900 year) = 60.2749785285\n",
      "Average lifetime (birth before 1900 year) = 56.3869565595\n"
     ]
    }
   ],
   "source": [
    "lifetimes = []\n",
    "MAX_LIFETIME = 137\n",
    "for i, process in enumerate(processes):\n",
    "    for generation in process.generations:\n",
    "        for man in generation:\n",
    "            has_son = 0\n",
    "            son_birthyears = []\n",
    "            for son in man.children:\n",
    "                if (son in male):\n",
    "                    has_son += 1\n",
    "                    if (not np.isnan(birthyear(human_data[son]))):\n",
    "                        son_birthyears.append(birthyear(human_data[son]))\n",
    "                        \n",
    "            if (len(son_birthyears) > 0):\n",
    "                ssb = int(np.median(np.array(son_birthyears))) - birthyear(man)\n",
    "            else:\n",
    "                ssb = 0\n",
    "                \n",
    "            if (not np.isnan(lifetime(man))):\n",
    "                if (0 <= lifetime(man)) and(lifetime(man) <= MAX_LIFETIME):\n",
    "                              lifetimes.append((birthyear(man), lifetime(man), has_son, ssb))\n",
    "                \n",
    "lifetimes = np.array(lifetimes)\n",
    "print(\"lifetimes[:7] = \", lifetimes[:17])\n",
    "print(\"Average lifetime (all the years) =\", lifetimes[:, 1].mean())\n",
    "print(\"Average lifetime (birth after 1900 year) =\", lifetimes[lifetimes[:, 0] > 1900, 1].mean())\n",
    "print(\"Average lifetime (birth before 1900 year) =\", lifetimes[lifetimes[:, 0] < 1900, 1].mean())"
   ]
  },
  {
   "cell_type": "code",
   "execution_count": 309,
   "metadata": {
    "collapsed": false,
    "deletable": true,
    "editable": true
   },
   "outputs": [
    {
     "name": "stdout",
     "output_type": "stream",
     "text": [
      "lifetimes_100_year =  [ 41.55        55.29411765  49.52631579  63.79207921  57.2         53.4\n",
      "  46.56198347  59.36271186  53.76145038  52.88709677  51.27677625\n",
      "  49.56953154  47.40567327  46.51272593  51.56417216  50.99618321\n",
      "  54.95649862  57.52591109  58.14804225  60.03754312]\n",
      "lifetimes_100_year_size =  [   20    34    38   101   140   130   242   295   524   992  1886  2711\n",
      "  2926  2711  2579  3930  9402 27961 58409 14783]\n"
     ]
    }
   ],
   "source": [
    "lifetimes_100_year = np.array(\n",
    "    [lifetimes[(i*100 <= lifetimes[:, 0]) & (lifetimes[:, 0] < (i+1)*100), 1].mean() for i in range(20)]\n",
    ")\n",
    "\n",
    "lifetimes_100_year_size = np.array(\n",
    "    [lifetimes[(i*100 <= lifetimes[:, 0]) & (lifetimes[:, 0] < (i+1)*100), 1].size for i in range(20)]\n",
    ")\n",
    "print(\"lifetimes_100_year = \", lifetimes_100_year)\n",
    "print(\"lifetimes_100_year_size = \", lifetimes_100_year_size)"
   ]
  },
  {
   "cell_type": "code",
   "execution_count": 310,
   "metadata": {
    "collapsed": false,
    "deletable": true,
    "editable": true
   },
   "outputs": [
    {
     "data": {
      "image/png": "[encoded data removed]",
      "text/plain": [
       "<matplotlib.figure.Figure at 0x7f2a09c7b198>"
      ]
     },
     "metadata": {},
     "output_type": "display_data"
    },
    {
     "data": {
      "image/png": "[encoded data removed]",
      "text/plain": [
       "<matplotlib.figure.Figure at 0x7f2a09978160>"
      ]
     },
     "metadata": {},
     "output_type": "display_data"
    },
    {
     "data": {
      "text/plain": [
       "array([ 45,  79,  60,  29,  56, 105, 105,  55,  80,  69,  38,  24,  43,\n",
       "        71,  30,  45,  79,  60,  29,  56,  50,  45,  79,  60,  29,  56,\n",
       "        30,  59,  45,  45,  79,  60,  29,  56])"
      ]
     },
     "execution_count": 310,
     "metadata": {},
     "output_type": "execute_result"
    }
   ],
   "source": [
    "plt.figure(figsize=(14,7))\n",
    "plt.title(\"Средняя продолжительность жизни среди родившихся в один век\")\n",
    "plt.plot(np.arange(0, 2000, 100), lifetimes_100_year)\n",
    "plt.show()\n",
    "\n",
    "plt.figure(figsize=(14,3))\n",
    "plt.title(\"Число исследованных людей, родившихся в один век\")\n",
    "plt.plot(np.arange(0, 2000, 100), lifetimes_100_year_size)\n",
    "plt.show()\n",
    "\n",
    "lifetimes[(100 <= lifetimes[:, 0]) & (lifetimes[:, 0] < 200), 1]"
   ]
  },
  {
   "cell_type": "markdown",
   "metadata": {
    "collapsed": true,
    "deletable": true,
    "editable": true
   },
   "source": [
    "На графиках видны результаты эпидемии оспы (\"С ХV века Европа уже представляла как бы сплошную оспенную больницу\" - https://ru.wikipedia.org/wiki/Натуральная_оспа ) и/или сифилиса (1493 по 1543) (им болели даже папы римские (>=3)).\n",
    "\n",
    "При этом, есть мнение, что эпидемия чёрной чумы (1346—1353) слабо влияла на аристократию, ибо переносчиками заболевания были крысы и низкий уровень жизни способствовал распространению заболевания, тогда как богатые люди, имея лучшее питание, возможность скрыться в удалённом от городов поместье, и изолированные от основной массы населения, мало болели(в сравнении с другими эпидемиями); эта гипотеза подтверждается нашими данными. "
   ]
  },
  {
   "cell_type": "markdown",
   "metadata": {},
   "source": [
    "При этом, начиная с 1300  (или 1500, если выкидывать скачок) года прослеживается рост продолжительности жизни, похожий на линейный, что мы и собираемся использовать для прогнозирования продолжительности жизни."
   ]
  },
  {
   "cell_type": "code",
   "execution_count": 304,
   "metadata": {
    "collapsed": false
   },
   "outputs": [
    {
     "name": "stdout",
     "output_type": "stream",
     "text": [
      "0\n"
     ]
    },
    {
     "data": {
      "image/png": "[encoded data removed]",
      "text/plain": [
       "<matplotlib.figure.Figure at 0x7f2a090d9908>"
      ]
     },
     "metadata": {},
     "output_type": "display_data"
    }
   ],
   "source": [
    "plt.figure(figsize=(14,4))\n",
    "lifetime_in_1800 = lifetimes[(1800 <= lifetimes[:, 0]) & (lifetimes[:, 0] < 1900), 1]\n",
    "print(lifetime_in_1800.min())\n",
    "\n",
    "plt.hist(np.hstack(lifetime_in_1800),  bins='auto') \n",
    "#plt.scatter(lifetime_in_1800, np.zeros(len(lifetime_in_1800)), alpha=0.2)\n",
    "plt.show()"
   ]
  },
  {
   "cell_type": "code",
   "execution_count": 421,
   "metadata": {
    "collapsed": false
   },
   "outputs": [
    {
     "name": "stdout",
     "output_type": "stream",
     "text": [
      "Iteration\n",
      "Iteration\n",
      "(3, 2) [[('Stalin', 1900, 1960.0375431238585), ('Putin', 1901, 1961.0375431238585)], [('Stalin', 1932.6951585880179, 1992.7327017118764), ('Putin', 1933.6951585880179, 1993.7327017118764), ('Putin', 1933.6951585880179, 1993.7327017118764)]]\n"
     ]
    }
   ],
   "source": [
    "mean_child_age = lifetimes[lifetimes[:, 3] != 0, 3].mean() # средний возраст, появления среднего сына в семье\n",
    "avg_lifetime = lifetimes[(1900 <= lifetimes[:, 0]) & (lifetimes[:, 0] < 2000), 1].mean()\n",
    "def get_child_age(age, sons):\n",
    "    return mean_child_age\n",
    "\n",
    "def get_lifetime(age, sons):\n",
    "    return avg_lifetime\n",
    "\n",
    "def iteration(arr):\n",
    "    print(\"Iteration\")\n",
    "    new_arr = []\n",
    "    old_arr = []\n",
    "    xis = sps.geom(p=p_data).rvs(size=len(arr)) - 1\n",
    "    for man_i, man in enumerate(arr):\n",
    "        family, birth = man\n",
    "        xi = xis[man_i]\n",
    "        for i in range(xi):\n",
    "            new_arr.append((family, birth + get_child_age(birth, xi)))\n",
    "        death = birth + get_lifetime(birth, sons)\n",
    "        old_arr.append((family, birth, death))\n",
    "    return old_arr, new_arr\n",
    "        \n",
    "def iterate(arr, update):\n",
    "    generations = []\n",
    "    old = None\n",
    "    new = None\n",
    "    exit = False\n",
    "    new = list(arr)[:]\n",
    "    while (not exit):\n",
    "        old, new = iteration(new)\n",
    "        generations.append(old)\n",
    "        for i in range(len(new))[::-1]:\n",
    "            if new[i][1] > update:\n",
    "                del new[i]\n",
    "        if (len(new) == 0):\n",
    "            exit = True\n",
    "    return generations\n",
    "        \n",
    "def slice(generations, year):\n",
    "    total = 0\n",
    "    families = set()\n",
    "    for generation in generations:\n",
    "        for man in generation:\n",
    "            family, birth, death = man\n",
    "            if ((birth <= year) and (year < death)):\n",
    "                total += 1\n",
    "                families.add(family)\n",
    "    return total, len(families)\n",
    "                \n",
    "g = iterate([(\"Stalin\", 1900), (\"Putin\", 1901)], 1950)\n",
    "print(slice(g, 1970), g)"
   ]
  },
  {
   "cell_type": "code",
   "execution_count": 422,
   "metadata": {
    "collapsed": false
   },
   "outputs": [
    {
     "name": "stdout",
     "output_type": "stream",
     "text": [
      "0.462140257401\n"
     ]
    }
   ],
   "source": [
    "print(p_data)"
   ]
  },
  {
   "cell_type": "code",
   "execution_count": 443,
   "metadata": {
    "collapsed": false
   },
   "outputs": [
    {
     "name": "stdout",
     "output_type": "stream",
     "text": [
      "data_set[:10] =  [(0, 1884), (0, 1879), (0, 1880), (1, 1874), (1, 1900), (2, 1900), (4, 1900), (7, 1878), (7, 1883), (7, 1889)]\n"
     ]
    },
    {
     "data": {
      "text/plain": [
       "21423"
      ]
     },
     "execution_count": 443,
     "metadata": {},
     "output_type": "execute_result"
    }
   ],
   "source": [
    "data_set = []\n",
    "year_split = 1900\n",
    "max_years_old = 40\n",
    "for i, process in enumerate(processes):\n",
    "    for generation in process.generations:\n",
    "        for man in generation:\n",
    "            if (man.gender == \"male\"):\n",
    "                bd = birthyear(man)\n",
    "                dd = deathyear(man)\n",
    "                if (not np.isnan(bd)):\n",
    "                    if (np.isnan(dd)):\n",
    "                        dd = bd  + max_years_old\n",
    "                    if (year_split < dd) and (0 <= year_split - bd < max_years_old):\n",
    "                        data_set.append((i, bd))\n",
    "                        \n",
    "print(\"data_set[:10] = \", data_set[:10])\n",
    "len(data_set)"
   ]
  },
  {
   "cell_type": "code",
   "execution_count": 444,
   "metadata": {
    "collapsed": false
   },
   "outputs": [
    {
     "name": "stdout",
     "output_type": "stream",
     "text": [
      "Iteration\n",
      "Iteration\n",
      "Iteration\n",
      "Iteration\n",
      "Iteration\n",
      "Iteration\n",
      "Iteration\n",
      "Iteration\n",
      "Iteration\n",
      "Iteration\n",
      "Iteration\n",
      "CPU times: user 1.76 s, sys: 40 ms, total: 1.8 s\n",
      "Wall time: 1.8 s\n"
     ]
    }
   ],
   "source": [
    "%%time\n",
    "g = iterate(data_set, 2200)"
   ]
  },
  {
   "cell_type": "code",
   "execution_count": 445,
   "metadata": {
    "collapsed": false
   },
   "outputs": [
    {
     "data": {
      "image/png": "[encoded data removed]",
      "text/plain": [
       "<matplotlib.figure.Figure at 0x7f2a0b72fdd8>"
      ]
     },
     "metadata": {},
     "output_type": "display_data"
    }
   ],
   "source": [
    "grid = range(1900, 2200, 10)\n",
    "model = np.array([slice(g, year) for year in grid])\n",
    "plt.figure(figsize=(14,7))\n",
    "plt.plot(grid, model[:, 0])\n",
    "plt.plot(grid, model[:, 1])\n",
    "plt.show()"
   ]
  },
  {
   "cell_type": "code",
   "execution_count": 446,
   "metadata": {
    "collapsed": false
   },
   "outputs": [
    {
     "data": {
      "image/png": "[encoded data removed]",
      "text/plain": [
       "<matplotlib.figure.Figure at 0x7f2a067a94e0>"
      ]
     },
     "metadata": {},
     "output_type": "display_data"
    }
   ],
   "source": [
    "peoples_predict_100 = []\n",
    "for i in range(1900, 2200, 100):\n",
    "    total = 0.\n",
    "    for generation in g:\n",
    "        for man in generation:\n",
    "            f, bd, dd = man;\n",
    "            if (i <= bd < i + 100):\n",
    "                total += 1\n",
    "    peoples_predict_100.append(total)\n",
    "    \n",
    "peoples_data_100 = []\n",
    "for i in range(0, 2000, 100):\n",
    "    total = 0.\n",
    "    for process in processes:\n",
    "        for generation in process.generations:\n",
    "            for man in generation:\n",
    "                if (man.gender == \"male\"):\n",
    "                    if (not np.isnan(birthyear(man))):\n",
    "                        if (i <= birthyear(man) < i + 100):\n",
    "                            total += 1\n",
    "    peoples_data_100.append(total)\n",
    "                        \n",
    "plt.figure(figsize=(7,4))\n",
    "plt.title(\"Число аристократов, родившихся в каждом веке (данные и предсказание)\")\n",
    "plt.scatter(range(0, 2000, 100), peoples_data_100)\n",
    "plt.scatter([1900], peoples_data_100[-1])\n",
    "plt.scatter(range(1900, 2200, 100), peoples_predict_100, color=\"red\")\n",
    "plt.show()"
   ]
  },
  {
   "cell_type": "markdown",
   "metadata": {},
   "source": [
    "Да это же экспонента, закон размножения живых организмов!"
   ]
  },
  {
   "cell_type": "code",
   "execution_count": null,
   "metadata": {
    "collapsed": true
   },
   "outputs": [],
   "source": []
  }
 ],
 "metadata": {
  "kernelspec": {
   "display_name": "Python 3",
   "language": "python",
   "name": "python3"
  },
  "language_info": {
   "codemirror_mode": {
    "name": "ipython",
    "version": 3
   },
   "file_extension": ".py",
   "mimetype": "text/x-python",
   "name": "python",
   "nbconvert_exporter": "python",
   "pygments_lexer": "ipython3",
   "version": "3.5.2"
  }
 },
 "nbformat": 4,
 "nbformat_minor": 0
}
