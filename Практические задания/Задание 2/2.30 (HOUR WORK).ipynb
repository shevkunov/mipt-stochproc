{
 "cells": [
  {
   "cell_type": "markdown",
   "metadata": {
    "deletable": true,
    "editable": true
   },
   "source": [
    "# Случайные процессы. Прикладной поток.\n",
    "## Практическое задание 2\n",
    "\n",
    "**Правила:**\n",
    "\n",
    "* Выполненную работу нужно отправить на почту `probability.diht@yandex.ru`, указав тему письма `\"[СП17] Фамилия Имя - Задание 2\"`. Квадратные скобки обязательны. Вместо `Фамилия Имя` нужно подставить свои фамилию и имя.\n",
    "* Прислать нужно ноутбук и его pdf-версию. Названия файлов должны быть такими: `2.N.ipynb` и `2.N.pdf`, где `N` - ваш номер из таблицы с оценками.\n",
    "* Никакой код из данного задания при проверке запускаться не будет.\n",
    "* Дедлайн и система оценивания будут объявлены позже."
   ]
  },
  {
   "cell_type": "markdown",
   "metadata": {
    "deletable": true,
    "editable": true
   },
   "source": [
    "<h1><font color = \"red\">Ниже идёт Практическое задание 1. Практическое задание 2 является его продолжением и начинается с аналогичного, выделенного красным, заголовка. Не успевал очистить старый, ненужный код, просто пролистайте вниз до такой же красной надписи :(</font></h1>"
   ]
  },
  {
   "cell_type": "markdown",
   "metadata": {
    "deletable": true,
    "editable": true
   },
   "source": [
    "<IMG SRC=\"https://www.wikitree.com/images/wikitree-logo.png\">\n",
    "\n",
    "\n",
    "В Британской империи в Викторианскую эпоху (1837—1901) было обращено внимание на вымирание аристократических фамилий. В связи с этим в своей статье в The Educational Times в 1873 году Гальтон поставил вопрос о вероятности вымирания фамилии. Решение этого вопроса нашел Ватсон и вместе в 1874 году они написали статью \"On the probability of the extinction of families\".\n",
    "На сайте <a href=\"http://wikitree.com\">wikitree.com</a> в свободно распространяемом формате собрано большое количество данных о родословных различных людей. В коллекции есть как люди, жившие во времена поздней античности, так и наши современники. На основе некоторой части этих данных вам предстоит провести исследование о вымирании фамилий.\n",
    "\n",
    "Вам предоставляются несколько файлов, в которых содержатся данные о некоторых родословных. Вам предстоит проводить исследование на нескольких из этих файлов (каких именно, см. в таблице). Формат файлов следующий:\n",
    "\n",
    "`generation \\t name \\t gender \\t birthday \\t deathdate \\t parents \\t siblings \\t spouses \\t children`\n",
    "\n",
    "Эти данные означают номер поколения, фамилию, пол, дату рождения, дату смерти, родителей, братьев и сестер, супруг, детей соответственно. Если какая-то характеристика неизвестна (кроме номера поколения и фамилии), вместо нее ставится пустая подстрока. Если каких-то характеристик несколько, то они разделены через \";\". Все люди представлены некоторым идентификатором `<id>`, который соответствует адресу `http://www.wikitree.com/wiki/<id>`. Например, идентификатор `Romanov-29` соответствует адресу <a href=\"http://www.wikitree.com/wiki/Romanov-29\">`http://www.wikitree.com/wiki/Romanov-29`</a>. В файле родословные отделяются друг от друга пустой строкой.\n",
    "\n",
    "Для облегчения вашей работы мы предоставляем вам код, который считывает данные из этого файла и преобразует их в список ветвящихся процессов. Каждый ветвящийся процесс содержит список списков, в каждом из которых содержатся все люди из соответствующего поколения. Обратите внимание, что одни и те же родословные могут попасть в разные файлы. В таком случае их можно считать разными, но при желании вы можете удалить копии.\n",
    "\n",
    "В предоставленных данных в каждой родословной для каждого мужчины на следующем поколении содержатся все его дети, которые были указаны на сайте. Для женщин дети в данной родословной не указаны. Это связано с тем, что женщины обычно меняют свою фамилию, когда выходят замуж, тем самым, они переходят в другую ветку. С точки зрения ветвящихся процессов, нужно иметь в виду, что если у мужчины родилось 3 мальчика и 4 девочки, то у него 3 потомка как продолжателя фамилии.\n",
    "\n",
    "Ваша задача --- исследовать процесс вымирания фамилий на основе предложенных данных. В данном задании вам предстоит сделать оценку закона размножения, а в следующем задании --- провести остальной анализ."
   ]
  },
  {
   "cell_type": "code",
   "execution_count": 1,
   "metadata": {
    "collapsed": false,
    "deletable": true,
    "editable": true
   },
   "outputs": [],
   "source": [
    "import numpy as np\n",
    "import scipy.stats as sps\n",
    "from collections import Counter  # это может пригодиться\n",
    "from BranchingProcess import Person, BranchingProcess, read_from_files\n",
    "\n",
    "import matplotlib.pyplot as plt\n",
    "from matplotlib import rcParams\n",
    "rcParams.update({'font.size': 16})\n",
    "%matplotlib inline\n",
    "\n",
    "## часто исользуемый код вынесен в начало\n",
    "\n",
    "# линейная регрессия из прошлого семестра\n",
    "# (а вдруг, LinearRegression из sklearn не сходится?)\n",
    "class LinearRegression:\n",
    "    def __init__(self):\n",
    "        super()\n",
    "        \n",
    "    def fit(self, X, Y, alpha=0.95):\n",
    "        ''' Обучение модели. Предполагается модель Y = X * theta + epsilon, \n",
    "            где X --- регрессор, Y --- отклик,\n",
    "            а epsilon имеет нормальное распределение с параметрами N(0, sigma^2 * I_n).\n",
    "            alpha --- уровень доверия для доверительного интервала.\n",
    "        '''\n",
    "        \n",
    "        self.n, self.k = X.shape\n",
    "\n",
    "        self.theta = np.linalg.inv(X.T @ X) @ (X.T) @ Y\n",
    "            # МНК-оценка = (Z.T * Z)^-1 * Z.T * Y\n",
    "\n",
    "        vector = Y - X @ self.theta\n",
    "        self.sigma_sq = 1. / (self.n - self.k) * (vector @ vector.T)\n",
    "            # несмещенная оценка для sigma^2 = 1 / (n - k) * || Y - X * self.theta || ^2 \n",
    "\n",
    "        a = np.linalg.inv(X.T @ X)\n",
    "        u_upper = sps.t.ppf((1. + alpha) / 2., self.n - self.k)\n",
    "        u_lower = sps.t.ppf((1. - alpha) / 2., self.n - self.k)\n",
    "        ci = [\n",
    "            [self.theta[i] - np.sqrt(abs(a[i][i] * self.sigma_sq)) * u_upper,\n",
    "             self.theta[i] - np.sqrt(abs(a[i][i] * self.sigma_sq)) * u_lower]\n",
    "            for i in range(self.k)\n",
    "        ]\n",
    "        self.conf_int = np.array(ci)\n",
    "        \n",
    "        return self\n",
    "    \n",
    "    def summary(self):\n",
    "        print('Linear regression on %d features and %d examples' % (self.k, self.n))\n",
    "        print('Sigma: %.6f' % self.sigma_sq)\n",
    "        print('\\t\\tLower\\t\\tEstimation\\tUpper')\n",
    "        for j in range(self.k):\n",
    "            print('theta_%d:\\t%.6f\\t%.6f\\t%.6f' % (j, self.conf_int[j, 0], \n",
    "                                                   self.theta[j], self.conf_int[j, 1]))\n",
    "        \n",
    "    def predict(self, X):\n",
    "        ''' Возвращает предсказание отклика на новых объектах X. '''\n",
    "        \n",
    "        Y_pred = X @ self.theta\n",
    "        return Y_pred\n",
    "    \n",
    "# сделаем удобоваримый интерфейс\n",
    "def make_linear_regression_like_polyfit(X, Y):\n",
    "    LR = LinearRegression()\n",
    "    LR_X = np.array([np.ones(len(X)), X]).T\n",
    "    LR.fit(LR_X, np.array(Y).reshape(len(Y), 1))\n",
    "    return LR\n",
    "\n",
    "# сделаем удобоваримый интерфейс\n",
    "def predict_linear_regression_like_polyfit(LR, X):\n",
    "    return LR.predict(np.array([np.ones(len(X)), X]).T)\n",
    "\n",
    "\n",
    "# ниже - код с первого семинара\n",
    "from sklearn.neighbors import KernelDensity as KDE\n",
    "\n",
    "def norm_plot(x, bins=10, bandwidth=1):\n",
    "    plt.figure(figsize=(10, 6))\n",
    "    plt.hist(x, label=\"hist\", bins=bins, normed=True, color='turquoise')\n",
    "\n",
    "    xmin, xmax = plt.xlim()\n",
    "    x_axis = np.linspace(xmin, xmax, 300)\n",
    "\n",
    "    n_params = sps.norm.fit(x)\n",
    "    plt.plot(x_axis,\n",
    "             sps.norm.pdf(x_axis, loc=n_params[0], scale=n_params[1]),\n",
    "             label=\"norm_pdf\")\n",
    "\n",
    "    kernel_density = KDE(bandwidth=bandwidth).fit(x[:, np.newaxis])\n",
    "    plt.plot(x_axis, np.exp(kernel_density.score_samples(x_axis[:, np.newaxis])), label='kde')\n",
    "\n",
    "    plt.legend()\n",
    "    plt.show()\n",
    "    \n",
    "def check_norm(x, bins=10, alpha=0.05):    \n",
    "    print(\"Гипотеза: распределение нормальное.\\n\")\n",
    "    \n",
    "    shtest = sps.shapiro(x)\n",
    "    print(\"Статистика критерия Шапиро-Уилка:\", round(shtest[0], 5))\n",
    "    print(\"p-value: \", round(shtest[1], 5))\n",
    "    if shtest[1] < alpha:\n",
    "        print(\"Гипотеза отвергается.\\n\")\n",
    "    else:\n",
    "        print(\"Гипотеза не отвергается.\\n\")\n",
    "\n",
    "    n_params = sps.norm.fit(x)  # ОМП для нормального распределения\n",
    "    norm = sps.norm(loc=n_params[0], scale=n_params[1])\n",
    "    \n",
    "    kstest = sps.kstest(x, 'norm', args=n_params)\n",
    "    print(\"Статистика критерия Колмогорова:\", round(kstest.statistic, 5))\n",
    "    print(\"p-value: \", round(kstest.pvalue, 5))\n",
    "    if kstest.pvalue < alpha:\n",
    "        print(\"Гипотеза отвергается.\\n\")\n",
    "    else:\n",
    "        print(\"Гипотеза не отвергается.\\n\")\n",
    "    \n",
    "    # Вспомогательная функция, подсчитывающая число элементов выборки,\n",
    "    # лежащих в подмножествах разбиения.\n",
    "    def count_data(x, delim):\n",
    "        res = []\n",
    "        res.append((x < delim[0]).sum())\n",
    "        for i in range(1, len(delim)):\n",
    "            res.append(((delim[i-1] <= x) & (x < delim[i])).sum())\n",
    "        res.append((delim[-1] <= x).sum())\n",
    "        return res\n",
    "    \n",
    "    # Критерий хи-квадрат.\n",
    "    if len(x) < 50:\n",
    "        return\n",
    "    \n",
    "    if 5 > float(len(x)) / bins:\n",
    "        bins = int(len(x) / 5)\n",
    "    \n",
    "    # Разбиение на интервалы, равные по вероятностной мере.\n",
    "    f_exp = np.ones(bins, dtype=np.float64) / bins\n",
    "    delim = list(map(lambda y: norm.ppf(y), f_exp.cumsum()))\n",
    "    delim = delim[:-1]\n",
    "    ctest = sps.chisquare(count_data(x, delim), f_exp=f_exp * len(x))\n",
    "    print (\"Статистика критерия хи-квадрат при разбиении на интервалы, \"\\\n",
    "           \"равные по вероятностной мере:\",\n",
    "           round(ctest.statistic, 5))\n",
    "    print (\"p-value: \", round(ctest.pvalue, 5))\n",
    "    if ctest.pvalue < alpha:\n",
    "        print (\"Гипотеза отвергается.\\n\")\n",
    "    else:\n",
    "        print (\"Гипотеза не отвергается.\\n\")"
   ]
  },
  {
   "cell_type": "code",
   "execution_count": null,
   "metadata": {
    "collapsed": true
   },
   "outputs": [],
   "source": []
  },
  {
   "cell_type": "markdown",
   "metadata": {
    "deletable": true,
    "editable": true
   },
   "source": [
    "## 1. Описательный анализ\n",
    "\n",
    "Большая часть кода, необходимая для проведения данного анализа, является технической и основывается на работе с пакетом `BranchingProcess`. Поэтому данный код полностью вам выдается, вам нужно только выполнить его, подставить имена файлов. Кроме того, код анализа позволит вам лучше понять структуру данных.\n",
    "\n",
    "Считайте данные с помощью предложенного кода. Посчитайте количество родословных."
   ]
  },
  {
   "cell_type": "code",
   "execution_count": 2,
   "metadata": {
    "collapsed": false,
    "deletable": true,
    "editable": true
   },
   "outputs": [
    {
     "name": "stdout",
     "output_type": "stream",
     "text": [
      "594 Шевкунов Кирилл Сергеевич АД\t-=-\tP O N I C R T J S E\n",
      "\n"
     ]
    }
   ],
   "source": [
    "with open(\"Варианты.txt\", \"r\") as f:\n",
    "    for s in f.readlines():\n",
    "        if (\"Шевкунов\" in s):\n",
    "            print(s)"
   ]
  },
  {
   "cell_type": "code",
   "execution_count": 3,
   "metadata": {
    "collapsed": false,
    "deletable": true,
    "editable": true
   },
   "outputs": [
    {
     "name": "stdout",
     "output_type": "stream",
     "text": [
      "./data/P.txt\n",
      "./data/O.txt\n",
      "./data/N.txt\n",
      "./data/I.txt\n",
      "./data/C.txt\n",
      "./data/R.txt\n",
      "./data/T.txt\n",
      "./data/J.txt\n",
      "./data/S.txt\n",
      "./data/E.txt\n"
     ]
    }
   ],
   "source": [
    "first_letters = \"P O N I C R T J S E\"\n",
    "fn_prefix = \"./data/\"\n",
    "fn_postfix = \".txt\"\n",
    "file_names = []\n",
    "for c in first_letters:\n",
    "    if c != \" \":\n",
    "        file_names.append(fn_prefix + c + fn_postfix)\n",
    "\n",
    "for v in file_names:\n",
    "    print(v)"
   ]
  },
  {
   "cell_type": "code",
   "execution_count": 4,
   "metadata": {
    "collapsed": false,
    "deletable": true,
    "editable": true,
    "scrolled": true
   },
   "outputs": [
    {
     "name": "stdout",
     "output_type": "stream",
     "text": [
      "55337\n"
     ]
    }
   ],
   "source": [
    "processes = read_from_files(file_names)\n",
    "print(len(processes))"
   ]
  },
  {
   "cell_type": "markdown",
   "metadata": {
    "deletable": true,
    "editable": true
   },
   "source": [
    "В имеющихся данных очень много людей, про которых известно лишь то, что они когда-то существовали. Обычно их фамилия неизвестна (вместо фамилии у них может стоять, к примеру, `B-290`), а у некоторых из них неизвестен даже пол, не говоря уже о родителях и детях. Такие данные стоит удалить.\n",
    "\n",
    "Удалите все процессы, состоящие только из одного поколения (в котором, естественно, будет только один человек).\n",
    "Сколько осталось процессов?"
   ]
  },
  {
   "cell_type": "code",
   "execution_count": 5,
   "metadata": {
    "collapsed": false,
    "deletable": true,
    "editable": true
   },
   "outputs": [
    {
     "name": "stdout",
     "output_type": "stream",
     "text": [
      "15841\n"
     ]
    }
   ],
   "source": [
    "for i in range(len(processes))[::-1]:\n",
    "    if len(processes[i].generations) < 2:\n",
    "        del processes[i]\n",
    "\n",
    "print(len(processes))"
   ]
  },
  {
   "cell_type": "markdown",
   "metadata": {
    "deletable": true,
    "editable": true
   },
   "source": [
    "Для лучшего понимания задачи и предложенных данных посчитайте следующие характеристики: минимальное, максимальное и среднее число поколений в роду, год рождения самого старого и самого молодого человека, среднюю продолжительность жизни."
   ]
  },
  {
   "cell_type": "code",
   "execution_count": 6,
   "metadata": {
    "collapsed": false,
    "deletable": true,
    "editable": true
   },
   "outputs": [
    {
     "name": "stdout",
     "output_type": "stream",
     "text": [
      "___GENERATION__\n",
      "Murdoch-533\tmale\t1740--\t1822-Feb-18\t\t\tRodger-269;Ross-7636\tMurdoch-527;Murdoch-534;Murdoch-535;Murdoch-536;Murdoch-537;Murdoch-538\n",
      "___GENERATION__\n",
      "Murdoch-527\tmale\t1792-Mar-28\t1852-Jun-05\tMurdoch-533;Rodger-269\tMurdoch-534;Murdoch-535;Murdoch-536;Murdoch-537;Murdoch-538\tRichardson-9305\tMurdoch-515;Murdoch-528\n",
      "Murdoch-534\tmale\t1800-Mar-08\t\tMurdoch-533;Ross-7636\tMurdoch-527;Murdoch-535;Murdoch-536;Murdoch-537;Murdoch-538\t\t\n",
      "Murdoch-535\tfemale\t1804-Feb-11\t\tMurdoch-533;Ross-7636\tMurdoch-527;Murdoch-534;Murdoch-536;Murdoch-537;Murdoch-538\t\t\n",
      "Murdoch-536\tfemale\t1806-Jan-26\t1863--\tMurdoch-533;Ross-7636\tMurdoch-527;Murdoch-534;Murdoch-535;Murdoch-537;Murdoch-538\tJamieson-955\tJamieson-956;Jamieson-957;Jamieson-958;Jamieson-959;Jamieson-960;Jamieson-961;Jamieson-962\n",
      "Murdoch-537\tfemale\t1807-Dec-13\t\tMurdoch-533;Ross-7636\tMurdoch-527;Murdoch-534;Murdoch-535;Murdoch-536;Murdoch-538\t\t\n",
      "Murdoch-538\tmale\t1809-Oct-12\t\tMurdoch-533;Ross-7636\tMurdoch-527;Murdoch-534;Murdoch-535;Murdoch-536;Murdoch-537\t\t\n",
      "___GENERATION__\n",
      "Murdoch-515\tmale\t1816-Feb-09\t1864-Jul-24\tMurdoch-527;McWhinnie-15\tMurdoch-528\tMcConnell-1855\tMurdoch-529;Murdoch-530;Murdoch-531;Murdoch-532;Murdoch-513\n",
      "Murdoch-528\tmale\t1828--\t1873-Jun-17\tMurdoch-527;Richardson-9305\tMurdoch-515\t\t\n",
      "___GENERATION__\n",
      "Murdoch-529\tmale\t1849--\t1925-Dec-26\tMurdoch-515;McConnell-1855\tMurdoch-530;Murdoch-531;Murdoch-532;Murdoch-513\tWallace-7710\tMurdoch-678\n",
      "Murdoch-530\tmale\t1852--\t1878-Aug-07\tMurdoch-515;McConnell-1855\tMurdoch-529;Murdoch-531;Murdoch-532;Murdoch-513\t\t\n",
      "Murdoch-531\tmale\t1854--\t1885-Jun-22\tMurdoch-515;McConnell-1855\tMurdoch-529;Murdoch-530;Murdoch-532;Murdoch-513\tWilson-35755;Wilson-34382\tMurdoch-740;Murdoch-742;Murdoch-743;Murdoch-716\n",
      "Murdoch-532\tmale\t1856-Jan-28\t1869-Sep-28\tMurdoch-515;McConnell-1855\tMurdoch-529;Murdoch-530;Murdoch-531;Murdoch-513\t\t\n",
      "Murdoch-513\tmale\t1858-Dec-09\t1931-Dec-13\tMurdoch-515;McConnell-1855\tMurdoch-529;Murdoch-530;Murdoch-531;Murdoch-532\tHutchinson-2956\tMurdoch-514;M-1000\n",
      "___GENERATION__\n",
      "Murdoch-678\tmale\t1884--\t1959-Apr-26\tMurdoch-529;Wallace-7710\t\tFletcher-5489\tMurdoch-679\n",
      "Murdoch-740\tmale\t1879--\t\tMurdoch-531;Wilson-34382\tMurdoch-742;Murdoch-743;Murdoch-716\t\t\n",
      "Murdoch-742\tfemale\t1879--\t\tMurdoch-531;Wilson-34382\tMurdoch-740;Murdoch-743;Murdoch-716\tGeorge-4712\t\n",
      "Murdoch-743\tmale\t1880--\t1945--\tMurdoch-531;Wilson-34382\tMurdoch-740;Murdoch-742;Murdoch-716\tWebb-9670\t\n",
      "Murdoch-716\tfemale\t1886-Jan-07\t1947-Sep-22\tMurdoch-531;Wilson-34382\tMurdoch-740;Murdoch-742;Murdoch-743\tFraser-3629\tFraser-2380\n",
      "Murdoch-514\tfemale\t1899--\t1932-Jul-01\tMurdoch-513;Hutchinson-2956\tM-1000\t\t\n",
      "M-1000\tmale\t\t\tMurdoch-513;Hutchinson-2956\tMurdoch-514\t\tP-445\n",
      "___GENERATION__\n",
      "Murdoch-679\tfemale\t1916-Oct-19\t2013-Oct-09\tMurdoch-678;Fletcher-5489\t\tHarvey-6695\t\n",
      "P-445\tfemale\t\t\tM-1000\t\t\t\n"
     ]
    }
   ],
   "source": [
    "# Пробный вывод для лучшего понимания происходящего\n",
    "# str(processes[0])\n",
    "for generation in processes[0].generations:\n",
    "    print(\"___GENERATION__\")\n",
    "    for man in generation:\n",
    "        print(man)"
   ]
  },
  {
   "cell_type": "code",
   "execution_count": 7,
   "metadata": {
    "collapsed": false,
    "deletable": true,
    "editable": true
   },
   "outputs": [
    {
     "name": "stdout",
     "output_type": "stream",
     "text": [
      "Минимальное число поколений в роду: 2\n",
      "Максимальное число поколений в роду: 81\n",
      "Среднее число поколений в роду: 3.4\n",
      "Год рождения самого старого: 1\n",
      "Год рождения самого молодого: 2000\n"
     ]
    }
   ],
   "source": [
    "generation_counts = []\n",
    "years = []\n",
    "\n",
    "for pedigree in processes:\n",
    "    generation_counts.append(len(pedigree.generations))\n",
    "    \n",
    "    for generation in pedigree.generations:\n",
    "        for person in generation:\n",
    "            if person.birthday != '':\n",
    "                years.append(person.birthday.split('-')[0])\n",
    "\n",
    "years = np.array(years, dtype=int)\n",
    "print('Минимальное число поколений в роду:', min(generation_counts))\n",
    "print('Максимальное число поколений в роду:', max(generation_counts))\n",
    "print('Среднее число поколений в роду:', round(np.mean(generation_counts), 1))\n",
    "print('Год рождения самого старого:', min(years))\n",
    "print('Год рождения самого молодого:', max(years))"
   ]
  },
  {
   "cell_type": "markdown",
   "metadata": {
    "deletable": true,
    "editable": true
   },
   "source": [
    "Постройте гистограмму зависимости количества поколений в родословной от количества родословных.\n",
    "На следующем графике отложите на временной оси года рождения всех людей."
   ]
  },
  {
   "cell_type": "code",
   "execution_count": 8,
   "metadata": {
    "collapsed": false,
    "deletable": true,
    "editable": true
   },
   "outputs": [
    {
     "data": {
      "image/png": "[encoded data removed]",
      "text/plain": [
       "<matplotlib.figure.Figure at 0x7f60baa29400>"
      ]
     },
     "metadata": {},
     "output_type": "display_data"
    },
    {
     "data": {
      "image/png": "[encoded data removed]",
      "text/plain": [
       "<matplotlib.figure.Figure at 0x7f60883bc748>"
      ]
     },
     "metadata": {},
     "output_type": "display_data"
    }
   ],
   "source": [
    "plt.figure(figsize=(10, 4))\n",
    "plt.hist(generation_counts, bins=80)\n",
    "plt.xlabel('generations count in pedigree')\n",
    "plt.ylabel('count of pedigree') # было pedogree\n",
    "plt.show()\n",
    "\n",
    "plt.figure(figsize=(15, 1))\n",
    "plt.scatter(years, np.zeros_like(years), alpha=0.2)\n",
    "plt.xlabel('years')\n",
    "plt.show()"
   ]
  },
  {
   "cell_type": "code",
   "execution_count": 9,
   "metadata": {
    "collapsed": false,
    "deletable": true,
    "editable": true
   },
   "outputs": [
    {
     "data": {
      "image/png": "[encoded data removed]",
      "text/plain": [
       "<matplotlib.figure.Figure at 0x7f60881da710>"
      ]
     },
     "metadata": {},
     "output_type": "display_data"
    },
    {
     "data": {
      "image/png": "[encoded data removed]",
      "text/plain": [
       "<matplotlib.figure.Figure at 0x7f60883ae4e0>"
      ]
     },
     "metadata": {},
     "output_type": "display_data"
    }
   ],
   "source": [
    "plt.figure(figsize=(14, 6)) # was figsize=(10,4)\n",
    "plt.ylim(ymax=1000)\n",
    "plt.hist(generation_counts, bins=80)\n",
    "plt.xlabel('generations count in pedigree')\n",
    "plt.ylabel('count of pedigree') # было pedogree\n",
    "\n",
    "plt.show()\n",
    "\n",
    "plt.figure(figsize=(15, 1))\n",
    "plt.scatter(years, np.zeros_like(years), alpha=0.025) # was alpha=0.2\n",
    "plt.xlabel('years')\n",
    "plt.show()"
   ]
  },
  {
   "cell_type": "markdown",
   "metadata": {
    "deletable": true,
    "editable": true
   },
   "source": [
    "Посчитайте среднюю продолжительность жизни."
   ]
  },
  {
   "cell_type": "code",
   "execution_count": 10,
   "metadata": {
    "collapsed": false,
    "deletable": true,
    "editable": true
   },
   "outputs": [
    {
     "name": "stdout",
     "output_type": "stream",
     "text": [
      "56.56\n"
     ]
    }
   ],
   "source": [
    "ages = []\n",
    "for pedigree in processes:\n",
    "    for generation in pedigree.generations:\n",
    "        for person in generation:\n",
    "            if person.birthday != '' and person.deathdate != '':\n",
    "                ages.append(int(person.deathdate.split('-')[0]) - \\\n",
    "                            int(person.birthday.split('-')[0]))\n",
    "\n",
    "### !  В коде выше мы берём разность года рождения и года смерти, \n",
    "### ! т.е. продолжительности жизни оценена с ошибкой до года,\n",
    "### ! хотя среднее должно пострадать не сильно\n",
    "\n",
    "mean_age = np.mean(ages)\n",
    "print(round(mean_age, 2))"
   ]
  },
  {
   "cell_type": "markdown",
   "metadata": {
    "deletable": true,
    "editable": true
   },
   "source": [
    "## 2. Оценка закона размножения\n",
    "\n",
    "Для начала предположим, что все выданные вам процессы являются частью одного большого процесса с общим предком. В следующем задании рассмотрим так же случай, когда все процессы являются разными.\n",
    "\n",
    "Чтобы проводить какой-либо анализ ветвящегося процесса нужно некоторым образом оценить закон размножения. Кажется,  что для этого достаточно посчитать количество сыновей у каждого человека, получив тем самым выборку неотрицательных целых чисел. Однако, проблема в том, что данные неполные, в частности, некоторые поля могут быть не заполнены. Тем не менее обычно у человека указаны либо все дети, либо не указаны вообще. \n",
    "Таким образом, условно мы можем разделить выборку на две части: поле детей заполнено (в т.ч. если у человека на самом деле нет детей), поле детей незаполнено. Если бы первая часть выборки была бы полностью известна, что распределение можно оценить по ней. Нам же неизвестен размер выборки и количество нулевых элементов в ней. Количество положительных элементов известно.\n",
    "\n",
    "\n",
    "**Математическая постановка задачи**\n",
    "\n",
    "$\\mathsf{P}_\\theta$ --- неизвестное распределение из некоторого класса распределений $\\mathcal{P}$ на $\\mathbb{Z}_+$.\n",
    "\n",
    "$X_1, ..., X_n$ --- выборка из распределения $\\mathsf{P}_\\theta$, причем $n$ и количество нулей в выборке неизвестны. \n",
    "\n",
    "$Y_1, ..., Y_s$ --- положительная подвыборка, которая полностью нам известна. В нашей задаче $Y_j$ --- количество сыновей у $j$-го человека среди тех, у кого есть хотя бы один сын.\n",
    "\n",
    "Оценку параметра $\\theta$ можно найти методом максимального правдоподобия:\n",
    "\n",
    "$$\\prod_{i=1}^s \\mathsf{P}_\\theta (Y_i \\left| Y_i > 0 \\right) \\to \\max_\\theta$$ \n",
    "\n",
    "В качестве классов распределений $\\mathcal{P}$ рассмотрите пуассоновское и геометрическое распределения. По желанию можете рассмотреть другие классы распределений, осмысленные в данной задаче\n",
    "\n",
    "**Внимание!** Применение метода `fit` из `scipy.stats` является некорректным в данной задаче, поскольку рассматривается усеченная выборка. Задачу максимизации нужно решить явно, выписав все формулы (которые тоже нужно прислать вместе с кодом).\n",
    "\n",
    "После оценки параметров проведите проверку принадлежности неизвестного распределения рассматриваемому семейству распределений $\\mathcal{P}$ с помощью критерия хи-квадрат, взяв для для него то распределение из $\\mathcal{P}$, которое соответствует оценке максимального правдоподобия. Постарайтесь учесть все особенности проверки гипотез, которые обсуждались на семинаре. Для каждого класса постройте также график частот и функции $\\mathsf{P}_\\theta (y \\left| Y > 0 \\right).$"
   ]
  },
  {
   "cell_type": "markdown",
   "metadata": {
    "deletable": true,
    "editable": true
   },
   "source": [
    "____________________"
   ]
  },
  {
   "cell_type": "markdown",
   "metadata": {
    "deletable": true,
    "editable": true
   },
   "source": [
    "### Оценка ММП"
   ]
  },
  {
   "cell_type": "markdown",
   "metadata": {
    "deletable": true,
    "editable": true
   },
   "source": [
    "#### 1.Геометрическое распределение\n",
    "\n",
    "$P_p(X = n) = (1 - p)^n p$ (Геометрическое распределение с нулём, $X \\in \\{0, 1, 2, ...\\}$)\n",
    "\n",
    "Для положительных $Y_i$ имеем:\n",
    "$P_p(Y_i | Y_i > 0) = \\frac{P(Y_i)}{P(Y_i > 0)} = \\frac{P(Y_i)}{1 - P(Y_i = 0)} \n",
    "= \\frac{(1 - p)^n p}{1 - p} = (1 - p)^{n - 1} p $, т.е. положительные $Y_i$ распределены по геометрическому распределению без нуля.\n",
    "\n",
    "$$\\prod\\limits_{i=1}^s P_p(Y_i | Y_i > 0) = \\prod\\limits_{i=1}^s (1 - p)^{Y_i - 1} p \n",
    "= (1-p) ^ {\\sum\\limits_{i=1}^s{Y_i} - s} p^s $$\n",
    "\n",
    "$$\\Rightarrow (\\sum\\limits_{i=1}^s{Y_i} - s) \\ln{(1-p)} + s \\ln{p}$$\n",
    "Возьмём производную для нахождения точки максимума (из вида логарифмической функции правдоподобия ясно, что при $p \\in [0, 1]$ и положительных $Y_i$ (коэффициенты при логарифмах неотрицательны) наблюдается один максимум):\n",
    "\n",
    "$$ (\\sum\\limits_{i=1}^s{Y_i} - s) \\frac{-1}{1-p} + \\frac{s}{p} =: 0 $$\n",
    "$$ \\frac{s}{1-p} - \\frac{\\sum\\limits_{i=1}^s{Y_i}}{1-p} + \\frac{s}{p} = 0$$ \n",
    "$$ \\frac{sp + s - sp}{(1-p)p} = \\frac{\\sum\\limits_{i=1}^s{Y_i}}{1-p}$$ \n",
    "$$ p = \\frac{s}{\\sum\\limits_{i=1}^s{Y_i}} = \\frac{1}{\\overline{Y}}$$"
   ]
  },
  {
   "cell_type": "markdown",
   "metadata": {
    "deletable": true,
    "editable": true
   },
   "source": [
    "**Итого:** $ p^* = 1/\\overline{Y}$ - оценка по ММП для геометрического распределения"
   ]
  },
  {
   "cell_type": "markdown",
   "metadata": {
    "deletable": true,
    "editable": true
   },
   "source": [
    "#### 2.Пуассоновское распределение\n",
    "\n",
    "$P_\\lambda(X = k) = \\frac{\\lambda^k}{k!} e^{-\\lambda}$; $P_\\lambda(X = 0) = e^{-\\lambda}$; $P_\\lambda(X > 0) = 1 - e^{-\\lambda}$\n",
    "\n",
    "$$\\prod\\limits_{i=1}^s P_\\lambda(Y_i | Y_i > 0)\n",
    "= \\prod\\limits_{i=1}^s \\frac{\\frac{\\lambda^{Y_i}}{{Y_i}!} e^{-\\lambda}}{1 - e^{-\\lambda}}\n",
    "= \\frac{\\frac{\\lambda^{\\sum\\limits_{i=1}^s{Y_i}}}{\\prod\\limits_{i=1}^s {Y_i}!} e^{-\\lambda n}}{(1 - e^{-\\lambda})^n}$$\n",
    "\n",
    "$$\\Rightarrow L(\\lambda, Y) = \\sum\\limits_{i=1}^s{Y_i} \\ln{\\lambda} - n \\lambda - \\ln(\\prod\\limits_{i=1}^s {Y_i}!) - n \\ln(1 - e^{-\\lambda})$$\n",
    "\n",
    "$$\\Rightarrow L'(\\lambda, Y) = \\sum\\limits_{i=1}^s{Y_i} \\frac{1}{\\lambda} - n - n \\frac{e^{-\\lambda}}{(1 - e^{-\\lambda})} \n",
    "= \\sum\\limits_{i=1}^s{Y_i} \\frac{1}{\\lambda} - \\frac{n}{(1 - e^{-\\lambda})} =: 0$$\n",
    "Оценка по ММП достигается в корне:\n",
    "$$ \\overline{Y} = \\frac{\\lambda}{(1 - e^{-\\lambda})}$$"
   ]
  },
  {
   "cell_type": "markdown",
   "metadata": {
    "deletable": true,
    "editable": true
   },
   "source": [
    "Получена возрастающая на $\\lambda \\in (0, + \\infty)$ функция ($\\frac{d}{dx} \\frac{x}{(1 - e^{-x})} = \\frac{e^x (-x + e^x - 1)}{(e^x - 1)^2} > 0$), при этом $\\overline{Y} \\geq s \\geq 1$, а $\\lim\\limits_{\\lambda \\rightarrow +0} (\\frac{\\lambda}{(1 - e^{-\\lambda})}) = 1$ (по Тейлору), значит у этого уравнения есть корень, при том один. Его можно найти двоичным поиском или поиском по сетке."
   ]
  },
  {
   "cell_type": "markdown",
   "metadata": {
    "deletable": true,
    "editable": true
   },
   "source": [
    "**Итого:** Оценка по ММП достигается в корне (он выражается только через страшные функции и его предлагается искать численными методами, благо функция хорошо для этого подходит):\n",
    "$$ \\overline{Y} = \\frac{\\lambda}{(1 - e^{-\\lambda})}$$"
   ]
  },
  {
   "cell_type": "markdown",
   "metadata": {
    "deletable": true,
    "editable": true
   },
   "source": [
    "_______"
   ]
  },
  {
   "cell_type": "markdown",
   "metadata": {
    "deletable": true,
    "editable": true
   },
   "source": [
    "### Проверка теоретических выкладок практическим методом (самодеятельность)\n",
    "Для проверки предлагается взять числа из некоторых геометрического и пуассоновского распределения и вычислить оценку ММП по сгенерированным данным, сравнить её с исходным параметром \"на глаз\" (разумно было бы провести проверку множество раз с различными параметрами и размерами выборок, проверяя стат. значимость, например, тем же тестом хи-квадрат, но этот раздел не требуется, его просто жалко удалять)"
   ]
  },
  {
   "cell_type": "code",
   "execution_count": 11,
   "metadata": {
    "collapsed": true,
    "deletable": true,
    "editable": true
   },
   "outputs": [],
   "source": [
    "import scipy.stats as sps\n",
    "import scipy.optimize\n",
    "import numpy as np # слишком долго листать на верх"
   ]
  },
  {
   "cell_type": "code",
   "execution_count": 12,
   "metadata": {
    "collapsed": false,
    "deletable": true,
    "editable": true
   },
   "outputs": [
    {
     "name": "stdout",
     "output_type": "stream",
     "text": [
      "[767 818 817 783 787 773 740 796 789 760]\n",
      "[767 818 817 783 787 773 740 796 789 760]\n"
     ]
    },
    {
     "data": {
      "text/plain": [
       "    fjac: array([[-1.]])\n",
       "     fun: array([ 0.])\n",
       " message: 'The solution converged.'\n",
       "    nfev: 5\n",
       "     qtf: array([ 174.659])\n",
       "       r: array([-1.])\n",
       "  status: 1\n",
       " success: True\n",
       "       x: array([ 776.659])"
      ]
     },
     "execution_count": 12,
     "metadata": {},
     "output_type": "execute_result"
    }
   ],
   "source": [
    "X = sps.poisson(mu=777.).rvs(size=1000)\n",
    "Y = np.array([x for x in X if x > 0])\n",
    "\n",
    "print(X[:10])\n",
    "print(Y[:10])\n",
    "\n",
    "def f(x):\n",
    "    return x / (1. - np.exp( - x)) - Y.mean()\n",
    "\n",
    "scipy.optimize.root(f,2.) # найденный x должен ~= mu"
   ]
  },
  {
   "cell_type": "markdown",
   "metadata": {
    "deletable": true,
    "editable": true
   },
   "source": [
    "______________"
   ]
  },
  {
   "cell_type": "code",
   "execution_count": 13,
   "metadata": {
    "collapsed": false,
    "deletable": true,
    "editable": true,
    "scrolled": true
   },
   "outputs": [
    {
     "name": "stdout",
     "output_type": "stream",
     "text": [
      "p =  0.42885700091157164\n"
     ]
    },
    {
     "data": {
      "image/png": "[encoded data removed]",
      "text/plain": [
       "<matplotlib.figure.Figure at 0x7f6087b75cc0>"
      ]
     },
     "metadata": {},
     "output_type": "display_data"
    },
    {
     "name": "stdout",
     "output_type": "stream",
     "text": [
      "X[:15] = [0 1 0 4 0 0 0 0 0 3 0 1 1 0 4]\n",
      "Y[:10] = [1 4 3 1 1 4 4 2 1 1]\n"
     ]
    }
   ],
   "source": [
    "p = 0.1 + np.random.rand() * 0.8 # ~ U[0.1, 0.9]\n",
    "print(\"p = \", p)\n",
    "X = sps.geom(p=p).rvs(size=10000) - 1\n",
    "Y = np.array([x for x in X if x > 0])\n",
    "plt.ylim(ymax=3500)\n",
    "plt.xlim(xmax=20)\n",
    "plt.hist(X, bins = 40)\n",
    "plt.show()\n",
    "print(\"X[:15] =\", X[:15])\n",
    "print(\"Y[:10] =\", Y[:10])"
   ]
  },
  {
   "cell_type": "code",
   "execution_count": 14,
   "metadata": {
    "collapsed": false,
    "deletable": true,
    "editable": true
   },
   "outputs": [
    {
     "name": "stdout",
     "output_type": "stream",
     "text": [
      "p =  0.42885700091157164\n",
      "theta =  0.430306621241\n"
     ]
    }
   ],
   "source": [
    "theta = 1. / np.array(Y).mean()\n",
    "print(\"p = \", p)\n",
    "print(\"theta = \", theta) # должны быть приблизительно равны"
   ]
  },
  {
   "cell_type": "markdown",
   "metadata": {
    "deletable": true,
    "editable": true
   },
   "source": [
    "_____________________"
   ]
  },
  {
   "cell_type": "markdown",
   "metadata": {
    "deletable": true,
    "editable": true
   },
   "source": [
    "### Обработка данных"
   ]
  },
  {
   "cell_type": "markdown",
   "metadata": {
    "deletable": true,
    "editable": true
   },
   "source": [
    "Составим, для начала Y"
   ]
  },
  {
   "cell_type": "code",
   "execution_count": 15,
   "metadata": {
    "collapsed": false,
    "deletable": true,
    "editable": true
   },
   "outputs": [],
   "source": [
    "male = set()\n",
    "\n",
    "Y_names = list()\n",
    "for pedigree in processes:\n",
    "    for generation in pedigree.generations:\n",
    "        for person in generation:\n",
    "            if person.gender == \"male\":\n",
    "                male.add(person.name)\n",
    "\n",
    "# male"
   ]
  },
  {
   "cell_type": "code",
   "execution_count": 16,
   "metadata": {
    "collapsed": false,
    "deletable": true,
    "editable": true
   },
   "outputs": [
    {
     "name": "stdout",
     "output_type": "stream",
     "text": [
      "[3, 2, 5, 1, 2, 1, 1, 1, 1, 2]\n"
     ]
    }
   ],
   "source": [
    "Y = list()\n",
    "\n",
    "for pedigree in processes:\n",
    "    for generation in pedigree.generations:\n",
    "        for person in generation:\n",
    "            if person.gender == \"male\":\n",
    "                child_cnt = 0\n",
    "                for child in person.children:\n",
    "                    if child in male:\n",
    "                        child_cnt += 1\n",
    "                if (child_cnt > 0):\n",
    "                    Y.append(child_cnt)\n",
    "print(Y[:10])"
   ]
  },
  {
   "cell_type": "code",
   "execution_count": 17,
   "metadata": {
    "collapsed": false,
    "deletable": true,
    "editable": true
   },
   "outputs": [
    {
     "name": "stdout",
     "output_type": "stream",
     "text": [
      "len(Y) 49266\n"
     ]
    }
   ],
   "source": [
    "print(\"len(Y)\", len(Y))\n",
    "Y_data_mean = np.array(Y).mean()"
   ]
  },
  {
   "cell_type": "markdown",
   "metadata": {
    "deletable": true,
    "editable": true
   },
   "source": [
    "_____\n",
    "Найдём оценку ММП для пуассоновского распределения:"
   ]
  },
  {
   "cell_type": "code",
   "execution_count": 18,
   "metadata": {
    "collapsed": false,
    "deletable": true,
    "editable": true
   },
   "outputs": [
    {
     "data": {
      "text/plain": [
       "    fjac: array([[-1.]])\n",
       "     fun: array([  8.88178420e-16])\n",
       " message: 'The solution converged.'\n",
       "    nfev: 8\n",
       "     qtf: array([ -1.01263575e-09])\n",
       "       r: array([-0.77214533])\n",
       "  status: 1\n",
       " success: True\n",
       "       x: array([ 1.80957111])"
      ]
     },
     "execution_count": 18,
     "metadata": {},
     "output_type": "execute_result"
    }
   ],
   "source": [
    "def poiss_tf(x):\n",
    "    assert type(Y) == list # вдруг \n",
    "    return x / (1. - np.exp(-x)) - Y_data_mean\n",
    "result = scipy.optimize.root(poiss_tf, 20.)\n",
    "result"
   ]
  },
  {
   "cell_type": "code",
   "execution_count": 19,
   "metadata": {
    "collapsed": false,
    "deletable": true,
    "editable": true
   },
   "outputs": [
    {
     "data": {
      "text/plain": [
       "1.8095711098638814"
      ]
     },
     "execution_count": 19,
     "metadata": {},
     "output_type": "execute_result"
    }
   ],
   "source": [
    "mu_data = result.x[0]\n",
    "mu_data"
   ]
  },
  {
   "cell_type": "markdown",
   "metadata": {
    "deletable": true,
    "editable": true
   },
   "source": [
    "_____\n",
    "Найдём оценку ММП для геометрического распределения:"
   ]
  },
  {
   "cell_type": "code",
   "execution_count": 20,
   "metadata": {
    "collapsed": false,
    "deletable": true,
    "editable": true
   },
   "outputs": [
    {
     "data": {
      "text/plain": [
       "0.46214025740122316"
      ]
     },
     "execution_count": 20,
     "metadata": {},
     "output_type": "execute_result"
    }
   ],
   "source": [
    "p_data = 1. / Y_data_mean\n",
    "p_data"
   ]
  },
  {
   "cell_type": "markdown",
   "metadata": {
    "deletable": true,
    "editable": true
   },
   "source": [
    "___________"
   ]
  },
  {
   "cell_type": "code",
   "execution_count": 21,
   "metadata": {
    "collapsed": false,
    "deletable": true,
    "editable": true
   },
   "outputs": [
    {
     "name": "stdout",
     "output_type": "stream",
     "text": [
      "49266\n"
     ]
    }
   ],
   "source": [
    "from scipy.stats import chisquare\n",
    "print(len(Y))"
   ]
  },
  {
   "cell_type": "markdown",
   "metadata": {
    "deletable": true,
    "editable": true
   },
   "source": [
    "Применим тест хи-квадрат для полученных данных. Как обсуждалось на семинаре, большой размер выборки нежелателен, в силу ряда причин. Предложено было использовать выборки по сто элементов, что мы и сделаем."
   ]
  },
  {
   "cell_type": "code",
   "execution_count": 22,
   "metadata": {
    "collapsed": true,
    "deletable": true,
    "editable": true
   },
   "outputs": [],
   "source": [
    "from math import factorial"
   ]
  },
  {
   "cell_type": "code",
   "execution_count": 77,
   "metadata": {
    "collapsed": false,
    "deletable": true,
    "editable": true
   },
   "outputs": [
    {
     "name": "stdout",
     "output_type": "stream",
     "text": [
      "Количество отцов с (i+1) детьми =  [ 56.  20.  11.   6.   6.   1.]\n"
     ]
    }
   ],
   "source": [
    "sub_Y = np.array(np.array(Y)[sps.randint.rvs(0, len(Y), size=100)])\n",
    "\n",
    "\n",
    "def to_freq_table(sub_Y, ddof=1):\n",
    "    Y_table = np.zeros(np.array(sub_Y).max() + 1)\n",
    "    for y in sub_Y:\n",
    "        Y_table[y] += 1\n",
    "\n",
    "    \n",
    "    YY = []\n",
    "    for i in range(ddof, len(Y_table)):\n",
    "        if (Y_table[i] < 5):\n",
    "            YY = Y_table[ddof:i]\n",
    "            YY[-1] += Y_table[i:].sum()\n",
    "            break\n",
    "    return YY\n",
    "\n",
    "def sum_up(sub_Y, ddof=1):\n",
    "    Y_table = np.zeros(np.array(sub_Y).max() + 1)\n",
    "    for y in sub_Y:\n",
    "        Y_table[y] += 1\n",
    "    return Y_table[ddof:]\n",
    "\n",
    "def round_up_five(Y):\n",
    "    for i in range(len(Y)):\n",
    "        if Y[i] < 5.:\n",
    "            if (np.array(Y[i:]).sum() >= 5.):\n",
    "                YY = Y[:]\n",
    "                YY[i] = np.array(Y[i:]).sum()\n",
    "                return YY[:(i+1)]\n",
    "            else:\n",
    "                YY = Y[:]\n",
    "                YY[i-1] += np.array(Y[i:]).sum()\n",
    "                return YY[:i]\n",
    "    return Y\n",
    "\n",
    "def round_up(Y, l):\n",
    "    assert len(Y) >= l\n",
    "    YY_temp = np.array(Y)\n",
    "    YY_temp[l-1] += np.array(YY_temp[l:]).sum()\n",
    "    return YY_temp[:l]\n",
    "\n",
    "YY = sum_up(sub_Y)\n",
    "\n",
    "print(\"Количество отцов с (i+1) детьми = \", YY)\n",
    "\n",
    "#print(\"Количество отцов с (i+1) детьми, с увеличенными группами = \", round_up_five(YY))\n",
    "\n",
    "# p_data = 1. / sub_Y.mean()"
   ]
  },
  {
   "cell_type": "code",
   "execution_count": 78,
   "metadata": {
    "collapsed": false,
    "deletable": true,
    "editable": true
   },
   "outputs": [
    {
     "name": "stdout",
     "output_type": "stream",
     "text": [
      "YY (данные выборки для теста) =  [ 56.  20.  11.   6.   6.   1.]\n",
      "YY (укрупнённые для геометрического распределения) =  [ 56.  20.  11.   6.   7.]\n",
      "YY (укрупнённые для пуассоновского распределения) =  [ 56.  20.  11.  13.]\n",
      "geom (теоретическая выборка из геометрического) =  [ 46.21402574  24.85666399  13.3693989    7.19086145   8.36904993]\n",
      "pois (теоретическая выборка из пуассоновского) =  [ 35.42741384  32.05421229  19.33479217  13.1835817 ]\n",
      "[ 56.  20.  11.   6.   7.]\n",
      "\n",
      "Тест для геометрического:\n",
      " Power_divergenceResult(statistic=3.8622303239317479, pvalue=0.42497190845565191)\n",
      "\n",
      "Тест для пуассоновского:\n",
      " Power_divergenceResult(statistic=20.0750035809636, pvalue=0.00016377416547257043)\n"
     ]
    }
   ],
   "source": [
    "geom = []\n",
    "pois = []\n",
    "\n",
    "def geom_cond_pmf(x,p):\n",
    "    q = 1. - p\n",
    "    return q ** (x - 1) * p\n",
    "\n",
    "\n",
    "def pois_cond_pmf(x,mu):\n",
    "    e = np.exp(- mu)\n",
    "    return mu ** x * e / (1. - e) / (factorial(x))\n",
    "\n",
    "i = 1\n",
    "while (geom_cond_pmf(x=i, p=p_data)*YY.sum() >= 5.):\n",
    "    geom.append(geom_cond_pmf(x=i, p=p_data))\n",
    "    i += 1\n",
    "    \n",
    "    \n",
    "i = 1\n",
    "while (pois_cond_pmf(x=i, mu=mu_data)*YY.sum() >= 5.):\n",
    "    pois.append(pois_cond_pmf(x=i, mu=mu_data))\n",
    "    i += 1\n",
    "    \n",
    "geom.append(1. - np.array(geom).sum())\n",
    "if (geom[-1]*YY.sum() < 5.):\n",
    "    geom[-2] += geom[-1]\n",
    "    del geom[-1]\n",
    "    \n",
    "pois.append(1. - np.array(pois).sum())\n",
    "if (pois[-1]*YY.sum() < 5.):\n",
    "    pois[-2] += pois[-1]\n",
    "    del pois[-1]\n",
    "    \n",
    "    \n",
    "geom = np.array(geom) * YY.sum()\n",
    "pois = np.array(pois) * YY.sum()\n",
    "print(\"YY (данные выборки для теста) = \", YY)\n",
    "print(\"YY (укрупнённые для геометрического распределения) = \", round_up(YY, len(geom)))\n",
    "print(\"YY (укрупнённые для пуассоновского распределения) = \", round_up(YY, len(pois)))\n",
    "\n",
    "print(\"geom (теоретическая выборка из геометрического) = \", geom)\n",
    "print(\"pois (теоретическая выборка из пуассоновского) = \", pois)\n",
    "\n",
    "print(round_up(YY, len(geom)))\n",
    "print(\"\\nТест для геометрического:\\n\", sps.chisquare(round_up(YY, len(geom)), geom))\n",
    "print(\"\\nТест для пуассоновского:\\n\", sps.chisquare(round_up(YY, len(pois)), pois))"
   ]
  },
  {
   "cell_type": "code",
   "execution_count": 25,
   "metadata": {
    "collapsed": false,
    "deletable": true,
    "editable": true
   },
   "outputs": [
    {
     "data": {
      "text/plain": [
       "16.451208431732606"
      ]
     },
     "execution_count": 25,
     "metadata": {},
     "output_type": "execute_result"
    }
   ],
   "source": [
    "# вычисленная руками для самопроверки статистика \n",
    "((round_up(YY, len(geom)) - geom) ** 2 / geom).sum()"
   ]
  },
  {
   "cell_type": "markdown",
   "metadata": {
    "collapsed": true,
    "deletable": true,
    "editable": true
   },
   "source": [
    "** Итого: ** при уровне значимости $\\alpha = 0.05$ (он определён заранее, хотя впервые фигурирует здесь) \n",
    "\n",
    "- в первом тесте нулевая гипотеза, состоящая в том, что законом размножения является геометрическое распределение с оценённым выше параметром (на самом деле, некоторое его угрубление), не может быть отвергнута (pvalue > $\\alpha$)\n",
    "\n",
    "- во втором тесте нулевая гипотеза, состоящая в том, что законом размножения является пуассоновское распределение с оценённым выше параметром (на самом деле, некоторое его угрубление), должно быть от вергнуто (pvalue < $\\alpha$)"
   ]
  },
  {
   "cell_type": "markdown",
   "metadata": {
    "deletable": true,
    "editable": true
   },
   "source": [
    "________________________\n",
    "### Графики:"
   ]
  },
  {
   "cell_type": "code",
   "execution_count": 26,
   "metadata": {
    "collapsed": false,
    "deletable": true,
    "editable": true
   },
   "outputs": [
    {
     "data": {
      "image/png": "[encoded data removed]",
      "text/plain": [
       "<matplotlib.figure.Figure at 0x7f6087466470>"
      ]
     },
     "metadata": {},
     "output_type": "display_data"
    },
    {
     "data": {
      "image/png": "[encoded data removed]",
      "text/plain": [
       "<matplotlib.figure.Figure at 0x7f6086dc0128>"
      ]
     },
     "metadata": {},
     "output_type": "display_data"
    },
    {
     "data": {
      "image/png": "[encoded data removed]",
      "text/plain": [
       "<matplotlib.figure.Figure at 0x7f6086adfcf8>"
      ]
     },
     "metadata": {},
     "output_type": "display_data"
    },
    {
     "name": "stdout",
     "output_type": "stream",
     "text": [
      "!!! Данные для теста хи-квадрат: !!!\n"
     ]
    },
    {
     "data": {
      "image/png": "[encoded data removed]",
      "text/plain": [
       "<matplotlib.figure.Figure at 0x7f6086736cc0>"
      ]
     },
     "metadata": {},
     "output_type": "display_data"
    },
    {
     "name": "stdout",
     "output_type": "stream",
     "text": [
      "Те же графики наоборот:\n"
     ]
    },
    {
     "data": {
      "image/png": "[encoded data removed]",
      "text/plain": [
       "<matplotlib.figure.Figure at 0x7f6085be4048>"
      ]
     },
     "metadata": {},
     "output_type": "display_data"
    }
   ],
   "source": [
    "P_geom = [geom_cond_pmf(x,p_data) for x in range(1, 11)]\n",
    "P_pois = [pois_cond_pmf(x,mu_data) for x in range(1, 11)]\n",
    "\n",
    "plt.figure(figsize=(14,7))\n",
    "\n",
    "plt.subplot(221)\n",
    "plt.hist(range(10), weights=P_geom, ls='solid', ec='black')\n",
    "plt.title(\"$\\\\mathsf{P}_\\\\theta (y \\\\left| Y > 0 \\\\right)$ для геометрического\")\n",
    "plt.xticks(np.linspace(0.5, 8.5, 10), range(1, 11))\n",
    "\n",
    "plt.subplot(222)\n",
    "plt.hist(range(10), weights=P_pois, ls='solid', ec='black')\n",
    "plt.title(\"$\\\\mathsf{P}_\\\\theta (y \\\\left| Y > 0 \\\\right)$ для пуассоновского\")\n",
    "plt.xticks(np.linspace(0.5, 8.5, 10), range(1, 11))\n",
    "\n",
    "\n",
    "def top_ten(X):\n",
    "    X = list(X)\n",
    "    while (len(X) < 10):\n",
    "        X.append(0)\n",
    "    return np.array(X[:10])\n",
    "\n",
    "plt.show()\n",
    "plt.figure(figsize=(14,7))\n",
    "\n",
    "plt.subplot(221)\n",
    "FT = top_ten(to_freq_table(Y))\n",
    "FT = FT / FT.sum() * 100.\n",
    "plt.hist(range(10), weights=FT, ls='solid', ec='black')\n",
    "plt.title(\"Частотная таблица (число родителей с k сыновьями\\n \" +\n",
    "          \"на 100 человек, среди тех, у кого они есть) по всей выборке\")\n",
    "plt.xticks(np.linspace(0.5, 8.5, 10), range(1, 11))\n",
    "\n",
    "plt.show()\n",
    "plt.figure(figsize=(14,7))\n",
    "\n",
    "\n",
    "plt.subplot(221)\n",
    "FT = [sps.geom(p=p_data).pmf(i+1)*100 for i in range(0, 10)]\n",
    "plt.hist(range(10), weights=FT, ls='solid', ec='black')\n",
    "plt.title(\"Частотная таблица (число родителей с k сыновьями\\n на\" + \n",
    "          \" 100 человек, среди ВСЕХ) при геометрическом\\n\" +\n",
    "          \"распределении из теории и оценки ММП\")\n",
    "plt.xticks(np.linspace(0.5, 8.5, 10), range(0, 10))\n",
    "\n",
    "plt.subplot(222)\n",
    "FT = [sps.poisson(mu=mu_data).pmf(i)*100 for i in range(0, 10)]\n",
    "plt.hist(range(10), weights=FT, ls='solid', ec='black')\n",
    "plt.title(\"Частотная таблица (число родителей с k сыновьями\\n на 100 человек, \" +\n",
    "          \"среди ВСЕХ) при пуассоновском\\n\" +\n",
    "          \"распределении из теории и оценки ММП\")\n",
    "plt.xticks(np.linspace(0.5, 8.5, 10), range(0, 10))\n",
    "\n",
    "plt.show()\n",
    "\n",
    "print(\"!!! Данные для теста хи-квадрат: !!!\")\n",
    "\n",
    "hor_len = 0.95\n",
    "plt.figure(figsize=(14,7))\n",
    "plt.subplot(221)\n",
    "plt.hist(range(10), weights=top_ten(round_up(YY, len(geom))), ls='solid', ec='black')\n",
    "x_grid = np.linspace(0., 8., 10)\n",
    "plt.hlines(top_ten(geom), x_grid, x_grid+hor_len, color=\"red\")\n",
    "plt.title(\"Частотная таблица (число родителей с k сыновьями\\n\" + \n",
    "          \" на 100 человек, среди тех, у кого они есть) по сокращённой\\n\"\n",
    "          +\" выборке (сжато под геометрическое: последняя\\nгруппа включает все последующие)\" +\n",
    "          \"\\n[теоретическое сжатое геометрическое\\n показано красными полосами]\")\n",
    "plt.xticks(np.linspace(0.5, 8.5, 10), range(1, 11))\n",
    "plt.subplot(222)\n",
    "plt.hist(range(10), weights=top_ten(round_up(YY, len(pois))), ls='solid', ec='black')\n",
    "x_grid = np.linspace(0., 8., 10)\n",
    "plt.hlines(top_ten(pois), x_grid, x_grid+hor_len, color=\"red\")\n",
    "plt.title(\"Частотная таблица (число родителей с k сыновьями\\n\" + \n",
    "          \" на 100 человек, среди тех, у кого они есть) по сокращённой\\n\"\n",
    "          +\" выборке (сжато под пуассоновское: последняя\\nгруппа включает все последующие)\" +\n",
    "          \"\\n[теоретическое сжатое пуассоновское\\n показано красными полосами]\")\n",
    "plt.xticks(np.linspace(0.5, 8.5, 10), range(1, 11))\n",
    "plt.show()\n",
    "\n",
    "print(\"Те же графики наоборот:\")\n",
    "plt.figure(figsize=(14,7))\n",
    "plt.subplot(221)\n",
    "plt.hist(range(10), weights=top_ten(geom), ls='solid', ec='black', color=\"red\")\n",
    "x_grid = np.linspace(0., 8., 10)\n",
    "plt.hlines(top_ten(round_up(YY, len(geom))), x_grid, x_grid+hor_len, color=\"navy\")\n",
    "plt.title(\"Частотная таблица (число родителей с k сыновьями\\n\" +\n",
    "          \" на 100 человек, среди тех, у кого они есть) по теоретическому\\n\"\n",
    "          +\" геометрическому распределению\\n(сокращена до np >= 5:\" +\n",
    "          \" последняя\\nгруппа включает все последующие)\" +\n",
    "          \"\\n[укрупнённая выборка\\n показана синими полосами]\")\n",
    "plt.xticks(np.linspace(0.5, 8.5, 10), range(1, 11))\n",
    "plt.subplot(222)\n",
    "plt.hist(range(10), weights=top_ten(pois), ls='solid', ec='black', color=\"red\")\n",
    "x_grid = np.linspace(0., 8., 10)\n",
    "plt.hlines(top_ten(round_up(YY, len(pois))), x_grid, x_grid+hor_len, color=\"navy\")\n",
    "plt.title(\"Частотная таблица (число родителей с k сыновьями\\n\" +\n",
    "          \" на 100 человек, среди тех, у кого они есть) по теоретическому\\n\"\n",
    "          +\" пуассоновскому распределению\\n(сокращена до np >= 5:\" +\n",
    "          \" последняя\\nгруппа включает все последующие)\" +\n",
    "          \"\\n[укрупнённая выборка\\n показана синими полосами]\")\n",
    "plt.xticks(np.linspace(0.5, 8.5, 10), range(1, 11)) \n",
    "plt.show()"
   ]
  },
  {
   "cell_type": "markdown",
   "metadata": {
    "deletable": true,
    "editable": true
   },
   "source": [
    "Комментарий к графикам: видно, что геометрическое распределение приближает лучше, и что условная вероятность подсчитана приблизительно корректно (можно вырезать участок из графика с нулями в детях и растянуть их на относительное изменение числа человек в сумме - получится график для условной вероятности)"
   ]
  },
  {
   "cell_type": "markdown",
   "metadata": {
    "deletable": true,
    "editable": true
   },
   "source": [
    "_________________________\n",
    "Построим графики $P_\\theta(Y | Y>0)$, численно считая, что это функция от действительного, а не натурального (с нулём) числа, отмечая значения при целочисленном аргументе точками. (ещё один график для красоты, чтоб был)"
   ]
  },
  {
   "cell_type": "code",
   "execution_count": 27,
   "metadata": {
    "collapsed": false,
    "deletable": true,
    "editable": true
   },
   "outputs": [
    {
     "data": {
      "image/png": "[encoded data removed]",
      "text/plain": [
       "<matplotlib.figure.Figure at 0x7f6084fe0e80>"
      ]
     },
     "metadata": {},
     "output_type": "display_data"
    }
   ],
   "source": [
    "plt.figure(figsize=(14,7))\n",
    "from math import gamma\n",
    "def pois_cond_pmf_gamma(x,mu):\n",
    "    e = np.exp(- mu)\n",
    "    return mu ** x * e / (1. - e) / (gamma(x+1))\n",
    "\n",
    "\n",
    "plt.subplot(211)\n",
    "grid = np.linspace(1, 11, 1000)\n",
    "n_grid = np.arange(1, 11, 1)\n",
    "\n",
    "plt.plot(grid, [geom_cond_pmf(x,p_data) for x in grid], label=\n",
    "         \"$\\\\mathsf{P}_\\\\theta (y \\\\left| Y > 0 \\\\right)$ для геометрического\")\n",
    "plt.scatter(n_grid, [geom_cond_pmf(x,p_data) for x in n_grid], color=\"red\")\n",
    "plt.legend()\n",
    "plt.subplot(212)\n",
    "plt.plot(grid, [pois_cond_pmf_gamma(x,mu_data) for x in grid], label=\n",
    "         \"$\\\\mathsf{P}_\\\\theta (y \\\\left| Y > 0 \\\\right)$ для пуассоновского\\n\" +\n",
    "         \" (при использовании гамма-функции вместо факториала)\")\n",
    "plt.scatter(n_grid, [pois_cond_pmf(x,mu_data) for x in n_grid], color=\"red\")\n",
    "plt.legend()\n",
    "plt.show()"
   ]
  },
  {
   "cell_type": "markdown",
   "metadata": {
    "deletable": true,
    "editable": true
   },
   "source": [
    "### Множественное тестирование"
   ]
  },
  {
   "cell_type": "code",
   "execution_count": 69,
   "metadata": {
    "collapsed": false,
    "deletable": true,
    "editable": true,
    "scrolled": false
   },
   "outputs": [
    {
     "name": "stdout",
     "output_type": "stream",
     "text": [
      "[0.81589737469117696, 0.00027692790498076058]\n"
     ]
    },
    {
     "data": {
      "text/plain": [
       "array([[  7.13941536e-02,   3.27294101e-08],\n",
       "       [  1.20700592e-01,   5.96570755e-09],\n",
       "       [  2.55500869e-01,   7.24007061e-04],\n",
       "       [  1.47073218e-01,   4.31046922e-07],\n",
       "       [  4.09874966e-01,   1.00168316e-04],\n",
       "       [  4.66964371e-01,   3.02156180e-04],\n",
       "       [  2.73949228e-02,   6.29352211e-09],\n",
       "       [  6.42735329e-02,   9.29305323e-08]])"
      ]
     },
     "execution_count": 69,
     "metadata": {},
     "output_type": "execute_result"
    }
   ],
   "source": [
    "def get_pval(Y, size=100, text=False):\n",
    "    sub_Y = np.array(np.array(Y)[sps.randint.rvs(0, len(Y), size=100)])\n",
    "    \n",
    "    p_data = 1. / sub_Y.mean()\n",
    "    def f(x):\n",
    "        return x / (1. - np.exp( - x)) - sub_Y.mean()\n",
    "\n",
    "    mu_data = scipy.optimize.root(f,2.).x[0]\n",
    "\n",
    "    \n",
    "    def to_freq_table(sub_Y, ddof=1):\n",
    "        Y_table = np.zeros(np.array(sub_Y).max() + 1)\n",
    "        for y in sub_Y:\n",
    "            Y_table[y] += 1\n",
    "\n",
    "\n",
    "        YY = []\n",
    "        for i in range(ddof, len(Y_table)):\n",
    "            if (Y_table[i] < 5):\n",
    "                YY = Y_table[ddof:i]\n",
    "                YY[-1] += Y_table[i:].sum()\n",
    "                break\n",
    "        return YY\n",
    "\n",
    "    def sum_up(sub_Y, ddof=1):\n",
    "        Y_table = np.zeros(np.array(sub_Y).max() + 1)\n",
    "        for y in sub_Y:\n",
    "            Y_table[y] += 1\n",
    "        return Y_table[ddof:]\n",
    "\n",
    "    def round_up_five(Y):\n",
    "        for i in range(len(Y)):\n",
    "            if Y[i] < 5.:\n",
    "                if (np.array(Y[i:]).sum() >= 5.):\n",
    "                    YY = Y[:]\n",
    "                    YY[i] = np.array(Y[i:]).sum()\n",
    "                    return YY[:(i+1)]\n",
    "                else:\n",
    "                    YY = Y[:]\n",
    "                    YY[i-1] += np.array(Y[i:]).sum()\n",
    "                    return YY[:i]\n",
    "        return Y\n",
    "\n",
    "    def round_up(Y, l):\n",
    "        assert len(Y) >= l\n",
    "        YY_temp = np.array(Y)\n",
    "        YY_temp[l-1] += np.array(YY_temp[l:]).sum()\n",
    "        return YY_temp[:l]\n",
    "\n",
    "    YY = sum_up(sub_Y)\n",
    "\n",
    "    if (text):\n",
    "        print(\"Количество отцов с (i+1) детьми = \", YY)\n",
    "    #print(\"Количество отцов с (i+1) детьми, с увеличенными группами = \", round_up_five(YY))\n",
    "    \n",
    "    geom = []\n",
    "    pois = []\n",
    "\n",
    "    def geom_cond_pmf(x,p):\n",
    "        q = 1. - p\n",
    "        return q ** (x - 1) * p\n",
    "\n",
    "\n",
    "    def pois_cond_pmf(x,mu):\n",
    "        e = np.exp(- mu)\n",
    "        return mu ** x * e / (1. - e) / (factorial(x))\n",
    "\n",
    "    i = 1\n",
    "    while (geom_cond_pmf(x=i, p=p_data)*YY.sum() >= 5.):\n",
    "        geom.append(geom_cond_pmf(x=i, p=p_data))\n",
    "        i += 1\n",
    "\n",
    "\n",
    "    i = 1\n",
    "    while (pois_cond_pmf(x=i, mu=mu_data)*YY.sum() >= 5.):\n",
    "        pois.append(pois_cond_pmf(x=i, mu=mu_data))\n",
    "        i += 1\n",
    "\n",
    "    geom.append(1. - np.array(geom).sum())\n",
    "    if (geom[-1]*YY.sum() < 5.):\n",
    "        geom[-2] += geom[-1]\n",
    "        del geom[-1]\n",
    "\n",
    "    pois.append(1. - np.array(pois).sum())\n",
    "    if (pois[-1]*YY.sum() < 5.):\n",
    "        pois[-2] += pois[-1]\n",
    "        del pois[-1]\n",
    "\n",
    "\n",
    "    geom = np.array(geom) * YY.sum()\n",
    "    pois = np.array(pois) * YY.sum()\n",
    "    if (text):\n",
    "        print(\"YY (данные выборки для теста) = \", YY)\n",
    "        print(\"YY (укрупнённые для геометрического распределения) = \", round_up(YY, len(geom)))\n",
    "        print(\"YY (укрупнённые для пуассоновского распределения) = \", round_up(YY, len(pois)))\n",
    "\n",
    "        print(\"geom (теоретическая выборка из геометрического) = \", geom)\n",
    "        print(\"pois (теоретическая выборка из пуассоновского) = \", pois)\n",
    "\n",
    "        print(round_up(YY, len(geom)))\n",
    "    pval_geom = sps.chisquare(round_up(YY, len(geom)), geom).pvalue\n",
    "    pval_pois = sps.chisquare(round_up(YY, len(pois)), pois).pvalue\n",
    "    \n",
    "    if (text):\n",
    "        print(\"\\nТест для геометрического:\\n\", pval_geom)\n",
    "        print(\"\\nТест для пуассоновского:\\n\", pval_pois)\n",
    "    return [pval_geom, pval_pois]\n",
    "\n",
    "print(get_pval(Y))\n",
    "pvals = np.array([get_pval(Y) for i in range(8)])\n",
    "pvals"
   ]
  },
  {
   "cell_type": "code",
   "execution_count": 70,
   "metadata": {
    "collapsed": false,
    "deletable": true,
    "editable": true
   },
   "outputs": [],
   "source": [
    "pvals_geom = pvals[:, 0]\n",
    "pvals_pois = pvals[:, 1]"
   ]
  },
  {
   "cell_type": "markdown",
   "metadata": {
    "deletable": true,
    "editable": true
   },
   "source": [
    "Протестируем на восьми различных выборках гипотезу о том, что распределение - геометрическое."
   ]
  },
  {
   "cell_type": "code",
   "execution_count": 71,
   "metadata": {
    "collapsed": false,
    "deletable": true,
    "editable": true,
    "scrolled": true
   },
   "outputs": [
    {
     "data": {
      "text/plain": [
       "(array([False, False, False, False, False, False, False, False], dtype=bool),\n",
       " array([ 0.57115323,  0.96560473,  1.        ,  1.        ,  1.        ,\n",
       "         1.        ,  0.21915938,  0.51418826]),\n",
       " 0.0063911509545450107,\n",
       " 0.00625)"
      ]
     },
     "execution_count": 71,
     "metadata": {},
     "output_type": "execute_result"
    }
   ],
   "source": [
    "from statsmodels.sandbox.stats.multicomp import multipletests\n",
    "multipletests(pvals_geom, alpha=0.05, method='bonferroni')"
   ]
  },
  {
   "cell_type": "markdown",
   "metadata": {
    "deletable": true,
    "editable": true
   },
   "source": [
    "Теперь протестируем гипотезу о том, что распределение - пуассоновское."
   ]
  },
  {
   "cell_type": "code",
   "execution_count": 72,
   "metadata": {
    "collapsed": false,
    "deletable": true,
    "editable": true
   },
   "outputs": [
    {
     "data": {
      "text/plain": [
       "(array([ True,  True,  True,  True,  True,  True,  True,  True], dtype=bool),\n",
       " array([  2.61835281e-07,   4.77256604e-08,   5.79205649e-03,\n",
       "          3.44837538e-06,   8.01346530e-04,   2.41724944e-03,\n",
       "          5.03481769e-08,   7.43444258e-07]),\n",
       " 0.0063911509545450107,\n",
       " 0.00625)"
      ]
     },
     "execution_count": 72,
     "metadata": {},
     "output_type": "execute_result"
    }
   ],
   "source": [
    "multipletests(pvals_pois, alpha=0.05, method='bonferroni')"
   ]
  },
  {
   "cell_type": "markdown",
   "metadata": {
    "deletable": true,
    "editable": true
   },
   "source": [
    "Теперь протестируем 16 гипотез одновременно, первые восемь - за геометрическое, последние восемь - за пуассоновское. При этом (в методе Бонферрони) гипотезы, которые не отвергались будут не отвергаться, но те, что отвергались могут начать не отвергаться. При проверке большого числа гипотез этим методом падает мощность и использование этого метода не рекомендуется."
   ]
  },
  {
   "cell_type": "code",
   "execution_count": 73,
   "metadata": {
    "collapsed": false,
    "deletable": true,
    "editable": true
   },
   "outputs": [
    {
     "data": {
      "text/plain": [
       "(array([False, False, False, False, False, False, False, False,  True,\n",
       "         True,  True,  True,  True,  True,  True,  True], dtype=bool),\n",
       " array([  1.00000000e+00,   1.00000000e+00,   1.00000000e+00,\n",
       "          1.00000000e+00,   1.00000000e+00,   1.00000000e+00,\n",
       "          4.38318764e-01,   1.00000000e+00,   5.23670561e-07,\n",
       "          9.54513208e-08,   1.15841130e-02,   6.89675075e-06,\n",
       "          1.60269306e-03,   4.83449888e-03,   1.00696354e-07,\n",
       "          1.48688852e-06]),\n",
       " 0.0032006977101884937,\n",
       " 0.003125)"
      ]
     },
     "execution_count": 73,
     "metadata": {},
     "output_type": "execute_result"
    }
   ],
   "source": [
    "pvals_all = list(pvals_geom) + list(pvals_pois)\n",
    "multipletests(pvals_all, alpha=0.05, method='bonferroni')"
   ]
  },
  {
   "cell_type": "markdown",
   "metadata": {
    "deletable": true,
    "editable": true
   },
   "source": [
    "**Вывод:** множественное тестирование по варианту, предложенному на семинаре, демонстрирует аналогичный ответ:\n",
    "- в первом тесте нулевая гипотеза, соответствующая геометрическому распределению **не** отвергается на данном $\\alpha$ (все 8 тестов на различных подвыборках не отвергают гипотезу)\n",
    "- во втором тесте нулевая гипотеза, соответствующая пуассоновскому распределению отвергается на данном $\\alpha$\n",
    "(единогласно отвергнута всеми 8 тестами)\n",
    "- при одновременной проверке 16 гипотез с поправкой по методу Бонферрони результаты не меняются.\n",
    "\n",
    "Замечание: число гипотез для множественного тестирования выбрано 8, т.к. метод Бонферрони не рекомендуется использовать при большем числе гипотез из-за потери мощности (сложно отвергнуть неверные гипотезы)."
   ]
  },
  {
   "cell_type": "markdown",
   "metadata": {
    "deletable": true,
    "editable": true
   },
   "source": [
    "________________________________________"
   ]
  },
  {
   "cell_type": "markdown",
   "metadata": {
    "collapsed": true,
    "deletable": true,
    "editable": true
   },
   "source": [
    "<h1><font color = \"red\">Ниже идёт Практическое задание 2.</font></h1>"
   ]
  },
  {
   "cell_type": "markdown",
   "metadata": {
    "deletable": true,
    "editable": true
   },
   "source": [
    "**Часть 1.**\n",
    "Используя оценку закона размножения, посчитайте вероятность вырождения процесса (ее оценку, если говорить строго). Если эта вероятность равна 1, посчитайте математическое ожидание общего числа частиц в процессе (его оценку, если говорить строго).\n",
    "\n",
    "Предположим теперь, что каждый род является самостоятельным процессом (а не частью одного большого) и имеет свой закон размножения. Сделайте оценку закона размножения каждого рода геометрическим распределением. Если в роду имеются данные\n",
    "о менее 10 мужчинах, то в качестве оценки закона размножения возьмите общую оценку закона размножения, полученную ранее (в случае одного большого процесса). Если в роду нет мужчин, то закон размножения должен быть вырожденным: значение 0 принимается с вероятностью 1. Посчитайте вероятность вырождения каждого процесса. Сколько процессов выродится с вероятностью 1? Сколько процессов имеют вероятность\n",
    "вырождения менее 0.5?"
   ]
  },
  {
   "cell_type": "markdown",
   "metadata": {
    "deletable": true,
    "editable": true
   },
   "source": [
    "____________________"
   ]
  },
  {
   "cell_type": "markdown",
   "metadata": {
    "deletable": true,
    "editable": true
   },
   "source": [
    "Оценим вероятность вырождения процесса (считаем данные одним процессом)"
   ]
  },
  {
   "cell_type": "markdown",
   "metadata": {
    "deletable": true,
    "editable": true
   },
   "source": [
    "$P(\\xi = k) = p (1 - p)^k; k \\in Z_{+, 0}$\n",
    "\n",
    "$\\varphi_\\xi(z) = E z^\\xi = \\sum\\limits_{k=0}^{\\infty} z^k P(\\xi = k) =  \\sum\\limits_{k=0}^{\\infty} z^k p (1 - p)^k\n",
    "= \\frac{p}{1 - z (1 - p)}$ \n",
    "\n",
    "Решим уравнение $\\varphi_\\xi(z)=z$\n",
    "\n",
    "$z = \\frac{p}{1 - z (1 - p)} \\Leftrightarrow z - z^2(1-p) = p \\Leftrightarrow z^2 (1-p) - z + p = 0$\n",
    "\n",
    "Имеем корни: $z_1 = 1, z_0 = \\frac{p}{1-p}$; Заметим (вспоним или подсчитаем аналогично подсчёту выше) математическое ожидание $E \\xi = \\frac{1 - p}{p}$ \n",
    "\n",
    "Таким образом, по теореме о вырождении вероятность вырождения равна:\n",
    "\n",
    "$q = \\min(1, \\frac{p}{1-p})$"
   ]
  },
  {
   "cell_type": "code",
   "execution_count": 33,
   "metadata": {
    "collapsed": false,
    "deletable": true,
    "editable": true
   },
   "outputs": [
    {
     "name": "stdout",
     "output_type": "stream",
     "text": [
      "p* = 1 / mean(Y) =  0.462140257401\n"
     ]
    }
   ],
   "source": [
    "p_data = 1. / np.array(Y).mean()\n",
    "print(\"p* = 1 / mean(Y) = \", p_data)"
   ]
  },
  {
   "cell_type": "code",
   "execution_count": 34,
   "metadata": {
    "collapsed": false,
    "deletable": true,
    "editable": true
   },
   "outputs": [
    {
     "name": "stdout",
     "output_type": "stream",
     "text": [
      "Вероятность вымирания =  0.859220761101\n"
     ]
    }
   ],
   "source": [
    "q_extinction = lambda p : min(p / (1. - p), 1.) if p != 1 else 1.\n",
    "\n",
    "print(\"Вероятность вымирания = \", q_extinction(p_data))"
   ]
  },
  {
   "cell_type": "markdown",
   "metadata": {
    "deletable": true,
    "editable": true
   },
   "source": [
    "Вероятность не равна единице, было бы странно если все аристократы вдруг выродились..\n",
    "Если бы она была равна, то для вычисления матожидания предлагалось бы вычислить производящую функцию суммарного числа элементов процесса и взять значение её производной в единице."
   ]
  },
  {
   "cell_type": "markdown",
   "metadata": {
    "deletable": true,
    "editable": true
   },
   "source": [
    "________________"
   ]
  },
  {
   "cell_type": "markdown",
   "metadata": {
    "deletable": true,
    "editable": true
   },
   "source": [
    "Оценим теперь параметры каждого процесса в отдельности. Нужно помнить, что мы выкинули плохие записи в первом практикуме. Будем считать, что люди, у которых не указан пол, не могут представлять фамилию."
   ]
  },
  {
   "cell_type": "code",
   "execution_count": 35,
   "metadata": {
    "collapsed": false,
    "deletable": true,
    "editable": true
   },
   "outputs": [
    {
     "name": "stdout",
     "output_type": "stream",
     "text": [
      "___GENERATION__\n",
      "Phares-187\tmale\t1900-Sep-29\t1977-Jul-01\t\t\t\tPhares-186\n",
      "___GENERATION__\n",
      "Phares-186\tmale\t\t\tPhares-187\t\t\tP-597\n",
      "___GENERATION__\n",
      "P-597\tunknown\t\t\tPhares-186\t\t\t\n"
     ]
    }
   ],
   "source": [
    "# Пробный вывод для лучшего понимания происходящего\n",
    "# str(processes[0])\n",
    "for generation in processes[2].generations:\n",
    "    print(\"___GENERATION__\")\n",
    "    for man in generation:\n",
    "        print(man)"
   ]
  },
  {
   "cell_type": "markdown",
   "metadata": {
    "deletable": true,
    "editable": true
   },
   "source": [
    "Оценим число родов, в которых в первом поколении число людей не равно одному и в которых этот человек - не мужчина."
   ]
  },
  {
   "cell_type": "code",
   "execution_count": 36,
   "metadata": {
    "collapsed": false,
    "deletable": true,
    "editable": true
   },
   "outputs": [],
   "source": [
    "for i, house in enumerate(processes):\n",
    "    sons = []\n",
    "    if (len(house.generations[0]) != 1):\n",
    "        print(\"len(house.generations[0]) != 1 at i = \", i)\n",
    "    if (house.generations[0][0].gender != \"male\"):\n",
    "        print(\"house.generations[0][0].gender != male\", i)"
   ]
  },
  {
   "cell_type": "markdown",
   "metadata": {
    "deletable": true,
    "editable": true
   },
   "source": [
    "Их НЕТ!"
   ]
  },
  {
   "cell_type": "code",
   "execution_count": 37,
   "metadata": {
    "collapsed": false,
    "deletable": true,
    "editable": true
   },
   "outputs": [
    {
     "data": {
      "text/plain": [
       "array([[3, 2, 5, 1, 2, 1], [1, 1, 1, 2, 1], [1], [1], [1], [], []], dtype=object)"
      ]
     },
     "execution_count": 37,
     "metadata": {},
     "output_type": "execute_result"
    }
   ],
   "source": [
    "sons_in_family = []\n",
    "\n",
    "for i, house in enumerate(processes):\n",
    "    sons = []\n",
    "    if (len(house.generations[0]) != 1):\n",
    "        print(i)\n",
    "\n",
    "    for generation in house.generations:\n",
    "        for person in generation:\n",
    "            if person.gender == \"male\":\n",
    "                child_cnt = 0\n",
    "                for child in person.children:\n",
    "                    if child in male:\n",
    "                        child_cnt += 1\n",
    "                if (child_cnt > 0):\n",
    "                    sons.append(child_cnt)\n",
    "    sons_in_family.append(sons)\n",
    "\n",
    "assert len(sons_in_family) == len(processes)\n",
    "sons_in_family = np.array(sons_in_family)\n",
    "sons_in_family[:7]\n",
    "# pedigrees"
   ]
  },
  {
   "cell_type": "code",
   "execution_count": 38,
   "metadata": {
    "collapsed": false,
    "deletable": true,
    "editable": true
   },
   "outputs": [
    {
     "name": "stdout",
     "output_type": "stream",
     "text": [
      "p_for_family[:30] =  [0.46214025740122316, 0.46214025740122316, 0.46214025740122316, 0.46214025740122316, 0.46214025740122316, 1.0, 1.0, 0.46214025740122316, 0.46214025740122316, 0.46214025740122316, 0.46214025740122316, 0.46214025740122316, 0.46214025740122316, 0.46214025740122316, 1.0, 1.0, 1.0, 0.46214025740122316, 1.0, 0.46214025740122316, 0.46214025740122316, 0.46214025740122316, 0.52500000000000002, 0.46214025740122316, 0.46214025740122316, 0.46214025740122316, 0.46214025740122316, 0.46214025740122316, 0.46214025740122316, 0.46214025740122316]\n"
     ]
    }
   ],
   "source": [
    "def evaluate_p_for_family(sons):\n",
    "    t = np.array(sons)\n",
    "    if (len(t) == 0): ### ?\n",
    "        return 1.\n",
    "    elif (len(t) < 10):\n",
    "        return p_data\n",
    "    else:\n",
    "        return 1. / t.mean()\n",
    "    \n",
    "p_for_family = list(map(evaluate_p_for_family, sons_in_family))\n",
    "print(\"p_for_family[:30] = \", p_for_family[:30])\n",
    "    "
   ]
  },
  {
   "cell_type": "markdown",
   "metadata": {
    "deletable": true,
    "editable": true
   },
   "source": [
    "Очень много родов оценено или единицей или средним по массиву значением..."
   ]
  },
  {
   "cell_type": "code",
   "execution_count": 39,
   "metadata": {
    "collapsed": false,
    "deletable": true,
    "editable": true
   },
   "outputs": [
    {
     "name": "stdout",
     "output_type": "stream",
     "text": [
      "q_ext_for_family[:30] =  [ 0.85922076  0.85922076  0.85922076  0.85922076  0.85922076  1.          1.\n",
      "  0.85922076  0.85922076  0.85922076  0.85922076  0.85922076  0.85922076\n",
      "  0.85922076  1.          1.          1.          0.85922076  1.\n",
      "  0.85922076  0.85922076  0.85922076  1.          0.85922076  0.85922076\n",
      "  0.85922076  0.85922076  0.85922076  0.85922076  0.85922076]\n"
     ]
    }
   ],
   "source": [
    "q_ext_for_family = np.array(list(map(q_extinction, p_for_family)))\n",
    "print(\"q_ext_for_family[:30] = \", q_ext_for_family[:30])\n",
    "plt.figure(figsize=(14,7))\n",
    "plt.hist(q_ext_for_family, bins = 30)\n",
    "plt.title(\"Вероятности вымирания\")\n",
    "plt.show()"
   ]
  },
  {
   "cell_type": "code",
   "execution_count": 40,
   "metadata": {
    "collapsed": false,
    "deletable": true,
    "editable": true
   },
   "outputs": [
    {
     "name": "stdout",
     "output_type": "stream",
     "text": [
      "Всего процессов 15841\n",
      "Из них вероятность вырождения меньше 0.5 у 129 процессов ( 0.8143425288807524 %)\n",
      "Из них выродятся П.Н. 5361 процессов ( 33.842560444416385 %)\n"
     ]
    }
   ],
   "source": [
    "total = len(q_ext_for_family)\n",
    "print(\"Всего процессов\", total)\n",
    "lessthanhalf = q_ext_for_family[q_ext_for_family < 0.5].size\n",
    "print(\"Из них вероятность вырождения меньше 0.5 у\", lessthanhalf,\n",
    "      \"процессов (\", float(lessthanhalf) / total * 100., \"%)\")\n",
    "absolutely = q_ext_for_family[q_ext_for_family == 1.0].size\n",
    "print(\"Из них выродятся П.Н.\", absolutely,\n",
    "      \"процессов (\", float(absolutely) / total * 100., \"%)\")\n"
   ]
  },
  {
   "cell_type": "markdown",
   "metadata": {
    "deletable": true,
    "editable": true
   },
   "source": [
    "**Вывод:** Ничто не вечно...\n",
    "    \n",
    "Наши данные дают очень пессимистичную оценку, т.к. многие люди отсутствуют в базе или их записи настолько неточны, что мы их удалили. Но даже при этом > 65% родов имеют шанс не выродиться."
   ]
  },
  {
   "cell_type": "markdown",
   "metadata": {
    "collapsed": true,
    "deletable": true,
    "editable": true
   },
   "source": [
    "**Часть 2.**\n",
    "Вопрос: Как будет меняться численность населения и количество фамилий в течении ближайших 200 лет от текущего момента времени? Помимо оценок требуется построить доверительные интервалы.\n",
    "\n",
    "Условие данного задания не предполагает какого-либо конкретного алгоритма решения, поэтому вам нужно его придумать самим. Вместе с решением вам нужно прислать достаточно подробное текстовое описание вашего способа решения задачи. В этом описании должны быть пояснения, почему вы выбрали такой метод решения. Оцениваться\n",
    "будет не только оригинальность решения, но и его логическая или научная обоснованность. Если вы хотите использовать какие-либо модели, о которых вы узнали из дополнительных источников (спецкурсы, онлайн-курсы, книги, научные статьи и т.д.), приведите описание этих моделей.\n",
    "\n",
    "Идеи решения с обсуждения на семинаре:\n",
    "1. Моделирование процесса на несколько поколений, то есть генерирование новых\n",
    "поколений в соответствии с найденным законом размножения. При генерации сто-\n",
    "ит генерировать только количество потомков, а не самих людей, иначе не хватит\n",
    "оперативной памяти.\n",
    "2. Для построения доверительных интервалов можно провести моделирование несколько раз (100-200).\n",
    "3. Количество поколений, которое нужно сгенерировать, можно определить, оценив\n",
    "среднее время между поколениями.\n",
    "4. Для каждого рода количество поколений, которое нужно сгенерировать, может\n",
    "быть разным в зависимости от времени жизни последнего известного поколения.\n",
    "5. Длина временного интервала между поколениями может меняться во времени.\n",
    "Можно попробовать применить регрессию.\n",
    "6. Закон размножения так же может меняться со временем."
   ]
  },
  {
   "cell_type": "markdown",
   "metadata": {},
   "source": [
    "## Изучение данных"
   ]
  },
  {
   "cell_type": "markdown",
   "metadata": {},
   "source": [
    "Создадим некоторые функции и структуры, которые нам пригодятся в дальнейшем"
   ]
  },
  {
   "cell_type": "code",
   "execution_count": 41,
   "metadata": {
    "collapsed": false,
    "deletable": true,
    "editable": true
   },
   "outputs": [
    {
     "data": {
      "text/plain": [
       "'Oak-105\\tunknown\\t1912-Nov-04\\t1925-Dec-04\\tOak-110;Erickson-1125\\tOak-106;Oak-100;Oak-99;Oak-97;Oak-94;Oak-84;Oak-101;Oak-90\\t\\t'"
      ]
     },
     "execution_count": 41,
     "metadata": {},
     "output_type": "execute_result"
    }
   ],
   "source": [
    "human_data = dict()  # все данные по имени\n",
    "for process in processes:\n",
    "    for generation in process.generations:\n",
    "        for man in generation:\n",
    "            human_data[man.name] = man\n",
    "            \n",
    "str(human_data[\"Oak-105\"])  # пример"
   ]
  },
  {
   "cell_type": "code",
   "execution_count": 42,
   "metadata": {
    "collapsed": false,
    "deletable": true,
    "editable": true
   },
   "outputs": [
    {
     "name": "stdout",
     "output_type": "stream",
     "text": [
      "Oak-105: 13\n",
      "Murdoch-740: nan\n"
     ]
    }
   ],
   "source": [
    "def birthyear(person):  # год рождения по персоне\n",
    "    if (person.birthday != \"\"):\n",
    "        return int(person.birthday[:4]);\n",
    "    else:\n",
    "        return np.NaN\n",
    "    \n",
    "def deathyear(person):  # год смерти по персоне\n",
    "    if (person.deathdate != \"\"):\n",
    "        return int(person.deathdate[:4]);\n",
    "    else:\n",
    "        return np.NaN\n",
    "    \n",
    "def lifetime(person):  # время жизни по персоне\n",
    "    return deathyear(person) - birthyear(person)\n",
    "    \n",
    "pp = human_data[\"Oak-105\"]  # пример\n",
    "birthyear(pp)\n",
    "deathyear(pp)\n",
    "print(\"Oak-105:\", lifetime(pp))\n",
    "print(\"Murdoch-740:\", lifetime(human_data[\"Murdoch-740\"]))"
   ]
  },
  {
   "cell_type": "markdown",
   "metadata": {
    "deletable": true,
    "editable": true
   },
   "source": [
    "**Замечание:** в процессе построения графиков было обнаружено, встретить человека, прожившего больше тысячи лет, (-1000) лет, или одну и ту же персону три раза - норма жизни. (это сильно влияет на среднюю продолжительность жизни, особенно во втором веке)"
   ]
  },
  {
   "cell_type": "code",
   "execution_count": 43,
   "metadata": {
    "collapsed": false,
    "deletable": true,
    "editable": true
   },
   "outputs": [
    {
     "name": "stdout",
     "output_type": "stream",
     "text": [
      "369 Este-37\tmale\t1190--\t2015--\tEste-38;Aldobrandini-1\tEste-60;Este-62;Este-61\t\t\n",
      "1538 Este-37\tmale\t1190--\t2015--\tEste-38;Aldobrandini-1\tEste-60;Este-62;Este-61\t\t\n",
      "2969 Nabors-259\tmale\t1894-Mar-01\t0166-Apr-01\tNabors-248;Gray-13132\tNabors-136;Nabors-267;Nabors-246;Nabors-264;Nabors-262;Nabors-261;Nabors-260;Nabors-266;Nabors-268;Nabors-263\t\t\n",
      "4830 Champagne-46\tfemale\t0100--\t1230--\tChampagne-135;Capet-107\tBlois-132;Ponthieu-7\tAvesnes-25;Hohenstaufen-23\tAvesnes-68\n",
      "6931 Ap_Meuric-5\tmale\t1070--\t1995--\tAp Jestyn-2\t\t\tVerch Morgan-5\n",
      "10343 Taille-3\tmale\t1843-Jun-16\t0192-Jan-23\t\t\t\tTailly-1\n",
      "10347 FitzRandolph-114\tfemale\t1787-Jul-16\t0184-Apr-05\tFitz Randolph-340;Vance-365\tFitz Randolph-102;Randolph-372;Randolph-518;Fitzrandolph-35;Fitzrandolph-36;FitzRandolph-113;FitzRandolph-112;Randolph-375;FitzRandolph-111\t\t\n",
      "10349 Taylor-31395\tunknown\t1854-Jan-17\t0185--\tTaylor-27693;Kuykendall-726\tTaylor-31392;Taylor-31394;Taylor-30046;Taylor-31396;Taylor-31397;Taylor-31398\t\t\n",
      "10953 Este-37\tmale\t1190--\t2015--\tEste-38;Aldobrandini-1\tEste-60;Este-62;Este-61\t\t\n",
      "11028 Sackett-709\tmale\t1979-Mar-24\t0199-Mar-24\tSackett-470\t\t\t\n",
      "11426 Sage-519\tfemale\t1694-Dec-21\t0175-Jan-22\tSage-17;Starr-56\tSage-203;Sage-520;Sage-668;Sage-669;Sage-670;Sage-130;Sage-425;Sage-671;Sage-672;Sage-23;Sage-673;Sage-101;Sage-674;Sage-675\tLewis-17148;Wilcox-3098\t\n",
      "11815 Saint_Remy-1\tmale\t1360-Nov-10\t1750--\tRemy-30\t\t\tRemy-29\n",
      "12177 Sayles-280\tfemale\t1628-Jul-27\t1968--\tSayles-232;Soales-4\tSayles-7;Sayles-281\t\t\n",
      "12233 Champagne-46\tfemale\t0100--\t1230--\tChampagne-135;Capet-107\tBlois-132;Ponthieu-7\tAvesnes-25;Hohenstaufen-23\tAvesnes-68\n",
      "13516 Sage-519\tfemale\t1694-Dec-21\t0175-Jan-22\tSage-17;Starr-56\tSage-203;Sage-520;Sage-668;Sage-669;Sage-670;Sage-130;Sage-425;Sage-671;Sage-672;Sage-23;Sage-673;Sage-101;Sage-674;Sage-675\tLewis-17148;Wilcox-3098\t\n",
      "13970 Eanes-67\tunknown\t1904--\t0193--\tEanes-66;Giles-2779\tEanes-68\t\t\n",
      "14757 Easterling-207\tmale\t1700--\t2012-Jan-15\t\t\t\tEaster-569\n",
      "15210 Eaton-3472\tmale\t1777-Sep-08\t0186-Feb-20\tEaton-2160;Emerson-1350\tEaton-3464;Eaton-3465;Eaton-3466;Eaton-3467;Eaton-3468;Eaton-3469;Eaton-3470;Eaton-3471\tGordon-5145\t\n"
     ]
    }
   ],
   "source": [
    "for i, process in enumerate(processes):\n",
    "    for generation in process.generations:\n",
    "        for man in generation:\n",
    "            if (not np.isnan(lifetime(man))):\n",
    "                if (lifetime(man) > 300) or (lifetime(man) < -1000):\n",
    "                    print(i, man)\n",
    "                    \n",
    "# Смотрите на даты в выводе! "
   ]
  },
  {
   "cell_type": "markdown",
   "metadata": {
    "deletable": true,
    "editable": true
   },
   "source": [
    "Будем считать, что больше MAX_LIFETIME = 137 или отрицательное число лет люди не живут и удалим всех, у кого указано иное.\n",
    "\n",
    "Подсчитаем некоторые параметры для ознакомления"
   ]
  },
  {
   "cell_type": "code",
   "execution_count": 44,
   "metadata": {
    "collapsed": false,
    "deletable": true,
    "editable": true
   },
   "outputs": [
    {
     "name": "stdout",
     "output_type": "stream",
     "text": [
      "lifetimes[:7] =  [[1740   82    3   60]\n",
      " [1792   60    2   30]\n",
      " [1806   57    0    0]\n",
      " [1816   48    5   38]\n",
      " [1828   45    0    0]\n",
      " [1849   76    1   35]\n",
      " [1852   26    0    0]\n",
      " [1854   31    2   25]\n",
      " [1856   13    0    0]\n",
      " [1858   73    1    0]\n",
      " [1884   75    0    0]\n",
      " [1880   65    0    0]\n",
      " [1886   61    0    0]\n",
      " [1899   33    0    0]\n",
      " [1916   97    0    0]\n",
      " [1788   72    1   33]\n",
      " [1821   77    1   22]]\n",
      "Average lifetime (all the years) = 56.8023032777\n",
      "Average lifetime (birth after 1900 year) = 60.2749785285\n",
      "Average lifetime (birth before 1900 year) = 56.3869565595\n"
     ]
    }
   ],
   "source": [
    "lifetimes = [] \n",
    "# здесь лежат кортежи (год рождения,\n",
    "# продолжительность жизни, число сыновей,\n",
    "# год рождения среднего сына)\n",
    "\n",
    "MAX_LIFETIME = 137\n",
    "for i, process in enumerate(processes):\n",
    "    for generation in process.generations:\n",
    "        for man in generation:\n",
    "            has_son = 0\n",
    "            son_birthyears = []\n",
    "            for son in man.children:\n",
    "                if (son in male):\n",
    "                    has_son += 1\n",
    "                    if (not np.isnan(birthyear(human_data[son]))):\n",
    "                        son_birthyears.append(birthyear(human_data[son]))\n",
    "                        \n",
    "            if (len(son_birthyears) > 0):\n",
    "                ssb = int(np.median(np.array(son_birthyears))) - birthyear(man)\n",
    "            else:\n",
    "                ssb = 0\n",
    "                \n",
    "            if (not np.isnan(lifetime(man))):\n",
    "                if (0 <= lifetime(man)) and(lifetime(man) <= MAX_LIFETIME):\n",
    "                              lifetimes.append((birthyear(man), lifetime(man), has_son, ssb))\n",
    "                \n",
    "lifetimes = np.array(lifetimes)\n",
    "print(\"lifetimes[:7] = \", lifetimes[:17])\n",
    "print(\"Average lifetime (all the years) =\", lifetimes[:, 1].mean())\n",
    "print(\"Average lifetime (birth after 1900 year) =\", lifetimes[lifetimes[:, 0] > 1900, 1].mean())\n",
    "print(\"Average lifetime (birth before 1900 year) =\", lifetimes[lifetimes[:, 0] < 1900, 1].mean())"
   ]
  },
  {
   "cell_type": "markdown",
   "metadata": {},
   "source": [
    "Построим зависимости продолжительности жизни от года и числа людей от года"
   ]
  },
  {
   "cell_type": "code",
   "execution_count": 45,
   "metadata": {
    "collapsed": false,
    "deletable": true,
    "editable": true
   },
   "outputs": [
    {
     "name": "stdout",
     "output_type": "stream",
     "text": [
      "lifetimes_100_year =  [ 41.55        55.29411765  49.52631579  63.79207921  57.2         53.4\n",
      "  46.56198347  59.36271186  53.76145038  52.88709677  51.27677625\n",
      "  49.56953154  47.40567327  46.51272593  51.56417216  50.99618321\n",
      "  54.95649862  57.52591109  58.14804225  60.03754312]\n",
      "lifetimes_100_year_size =  [   20    34    38   101   140   130   242   295   524   992  1886  2711\n",
      "  2926  2711  2579  3930  9402 27961 58409 14783]\n"
     ]
    }
   ],
   "source": [
    "lifetimes_100_year = np.array(  # продолжительность жизни по векам\n",
    "    [lifetimes[(i*100 <= lifetimes[:, 0]) & (lifetimes[:, 0] < (i+1)*100), 1].mean()\n",
    "        for i in range(20)]\n",
    ")\n",
    "\n",
    "lifetimes_100_year_size = np.array(   # число людей, по которым составлена статистика выше\n",
    "    [lifetimes[(i*100 <= lifetimes[:, 0]) & (lifetimes[:, 0] < (i+1)*100), 1].size\n",
    "         for i in range(20)]\n",
    ")\n",
    "print(\"lifetimes_100_year = \", lifetimes_100_year)\n",
    "print(\"lifetimes_100_year_size = \", lifetimes_100_year_size)"
   ]
  },
  {
   "cell_type": "code",
   "execution_count": 46,
   "metadata": {
    "collapsed": false,
    "deletable": true,
    "editable": true
   },
   "outputs": [
    {
     "data": {
      "image/png": "[encoded data removed]",
      "text/plain": [
       "<matplotlib.figure.Figure at 0x7f6087a173c8>"
      ]
     },
     "metadata": {},
     "output_type": "display_data"
    },
    {
     "data": {
      "image/png": "[encoded data removed]",
      "text/plain": [
       "<matplotlib.figure.Figure at 0x7f6084f49c50>"
      ]
     },
     "metadata": {},
     "output_type": "display_data"
    },
    {
     "data": {
      "text/plain": [
       "array([ 45,  79,  60,  29,  56, 105, 105,  55,  80,  69,  38,  24,  43,\n",
       "        71,  30,  45,  79,  60,  29,  56,  50,  45,  79,  60,  29,  56,\n",
       "        30,  59,  45,  45,  79,  60,  29,  56])"
      ]
     },
     "execution_count": 46,
     "metadata": {},
     "output_type": "execute_result"
    }
   ],
   "source": [
    "plt.figure(figsize=(14,7))\n",
    "plt.title(\"Средняя продолжительность жизни среди родившихся в один век\")\n",
    "plt.plot(np.arange(0, 2000, 100), lifetimes_100_year)\n",
    "plt.show()\n",
    "\n",
    "plt.figure(figsize=(14,3))\n",
    "plt.title(\"Число исследованных людей, родившихся в один век\")\n",
    "plt.plot(np.arange(0, 2000, 100), lifetimes_100_year_size)\n",
    "plt.show()\n",
    "\n",
    "lifetimes[(100 <= lifetimes[:, 0]) & (lifetimes[:, 0] < 200), 1]"
   ]
  },
  {
   "cell_type": "markdown",
   "metadata": {
    "collapsed": true,
    "deletable": true,
    "editable": true
   },
   "source": [
    "На графиках видны результаты эпидемии оспы (\"С ХV века Европа уже представляла как бы сплошную оспенную больницу\" - https://ru.wikipedia.org/wiki/Натуральная_оспа ) и/или сифилиса (1493 по 1543) (им болели даже папы римские (>=3)).\n",
    "\n",
    "При этом, есть мнение, что эпидемия чёрной чумы (1346—1353) слабо влияла на аристократию (наверное, в наших данных мало простолюдинов, которые никому не интересны), ибо переносчиками заболевания были крысы и низкий уровень жизни способствовал распространению заболевания, тогда как богатые люди, имея лучшее питание, возможность скрыться в удалённом от городов поместье, и изолированные от основной массы населения, мало болели(в сравнении с другими эпидемиями); эта гипотеза подтверждается нашими данными. "
   ]
  },
  {
   "cell_type": "markdown",
   "metadata": {
    "deletable": true,
    "editable": true
   },
   "source": [
    "При этом, начиная с 1300  (или 1500, если выкидывать скачок) года прослеживается рост продолжительности жизни, похожий на линейный, что можно использовать для прогнозирования продолжительности жизни.\n",
    "\n",
    "Из-за малого количества данных до 1500 года, эпидемий, имевших тогда место, в дальнейшем мы не будем рассматривать годы до 1500.\n",
    "\n",
    "Однако, по графику видно, что число рождённых в 20 веке также мало (резкий излом), поэтому данные после ~1950 также использованы не будут. Иначе говоря, мы не будем рассматривать рождённых после рубежа веков. При этом, длительности жизни, например, живших в первой половине 20 века мы учтём."
   ]
  },
  {
   "cell_type": "markdown",
   "metadata": {},
   "source": [
    "_________\n",
    "Попробуем спрогнозировать продолжительность жизни, зная, что она окололинейна. Замеры средней продолжительности жизни будем производить с интервалом, равным среднему возрасту рождения среднего ребёнка. (чтобы сравнивать продолжительности жизни на таком промежутке, когда она успела измениться сильнее, чем влияют \"сезонные\" факторы типа войн.)"
   ]
  },
  {
   "cell_type": "code",
   "execution_count": 653,
   "metadata": {
    "collapsed": false
   },
   "outputs": [
    {
     "data": {
      "text/plain": [
       "(112973,\n",
       " [51.138336347197104,\n",
       "  52.726200505475987,\n",
       "  49.609868421052632,\n",
       "  53.551964196916956,\n",
       "  55.724932769880908,\n",
       "  53.878755364806864,\n",
       "  57.323664402423354,\n",
       "  57.155524546492451,\n",
       "  57.644493923369517,\n",
       "  58.673597574182367,\n",
       "  56.791136072957791,\n",
       "  57.607943504431489,\n",
       "  61.190365431333021],\n",
       " 13)"
      ]
     },
     "execution_count": 653,
     "metadata": {},
     "output_type": "execute_result"
    }
   ],
   "source": [
    "step = int(lifetimes[lifetimes[:, 3] != 0, 3].mean())  # возраст рождения среднего ребёнка, средний\n",
    "lifetimes_data_grid =  range(1500, 1901, step)\n",
    "lifetimes_data = lifetimes[(lifetimes[:, 0] >= 1500) & (lifetimes[:, 0] < 1900 + step), :]\n",
    "lifetimes_data = lifetimes_data[:, :2]\n",
    "lifetimes_mean_data = [lifetimes_data[(lifetimes_data[:, 0] >= year) & (lifetimes_data[:, 0] < year + step), 1].mean()\n",
    "                          for year in lifetimes_data_grid]\n",
    "len(lifetimes_data), lifetimes_mean_data, len(lifetimes_mean_data)"
   ]
  },
  {
   "cell_type": "markdown",
   "metadata": {},
   "source": [
    "Получилось мало значений, но мы всё же проверим остатки на нормальность. Прогнозировать будет с помощью своего класса из прошлого семестра и некоторых функций, обрамляющих его работу "
   ]
  },
  {
   "cell_type": "code",
   "execution_count": 654,
   "metadata": {
    "collapsed": false
   },
   "outputs": [
    {
     "data": {
      "text/plain": [
       "array([  2.76243246e-03,   8.43776307e-01,  -3.01940606e+00,\n",
       "         1.75839430e-01,   1.60195772e+00,  -9.91069971e-01,\n",
       "         1.70698878e+00,   7.91998642e-01,   5.34117735e-01,\n",
       "         8.16371101e-01,  -1.81294068e+00,  -1.74298354e+00,\n",
       "         1.09258811e+00])"
      ]
     },
     "execution_count": 654,
     "metadata": {},
     "output_type": "execute_result"
    }
   ],
   "source": [
    "LR_lifetime =  make_linear_regression_like_polyfit(lifetimes_data_grid, lifetimes_mean_data)\n",
    "ost = lifetimes_mean_data - predict_linear_regression_like_polyfit(LR_lifetime, lifetimes_data_grid)[:, 0]\n",
    "ost"
   ]
  },
  {
   "cell_type": "code",
   "execution_count": 656,
   "metadata": {
    "collapsed": false
   },
   "outputs": [
    {
     "data": {
      "image/png": "[encoded data removed]",
      "text/plain": [
       "<matplotlib.figure.Figure at 0x7f6076d975c0>"
      ]
     },
     "metadata": {},
     "output_type": "display_data"
    },
    {
     "name": "stdout",
     "output_type": "stream",
     "text": [
      "Гипотеза: распределение нормальное.\n",
      "\n",
      "Статистика критерия Шапиро-Уилка: 0.90178\n",
      "p-value:  0.14148\n",
      "Гипотеза не отвергается.\n",
      "\n",
      "Статистика критерия Колмогорова: 0.1931\n",
      "p-value:  0.6727\n",
      "Гипотеза не отвергается.\n",
      "\n"
     ]
    }
   ],
   "source": [
    "norm_plot(ost, bins=30, bandwidth=0.2)\n",
    "check_norm(ost)"
   ]
  },
  {
   "cell_type": "markdown",
   "metadata": {},
   "source": [
    "Ниже построим график данных и прогноза средней продолжительности жизни."
   ]
  },
  {
   "cell_type": "code",
   "execution_count": 663,
   "metadata": {
    "collapsed": false
   },
   "outputs": [
    {
     "data": {
      "image/png": "[encoded data removed]",
      "text/plain": [
       "<matplotlib.figure.Figure at 0x7f60769c3470>"
      ]
     },
     "metadata": {},
     "output_type": "display_data"
    }
   ],
   "source": [
    "plt.figure(figsize=(14,7))\n",
    "grid = range(1500, 2201, 10)\n",
    "plt.plot(grid, predict_linear_regression_like_polyfit(LR_lifetime, grid)[:, 0], label=\"avg. lifetime prediction\")\n",
    "plt.scatter(lifetimes_data_grid, lifetimes_mean_data, label=\"avg. lifetime values\", color=\"red\")\n",
    "plt.show()"
   ]
  },
  {
   "cell_type": "markdown",
   "metadata": {},
   "source": [
    "Новые фамилии (корни процессов) в нашей базе возникают спонтанно, попробуем спрогнозировать, как часто это происходит."
   ]
  },
  {
   "cell_type": "code",
   "execution_count": 665,
   "metadata": {
    "collapsed": false
   },
   "outputs": [
    {
     "data": {
      "image/png": "[encoded data removed]",
      "text/plain": [
       "<matplotlib.figure.Figure at 0x7f6080150f28>"
      ]
     },
     "metadata": {},
     "output_type": "display_data"
    }
   ],
   "source": [
    "def get_new_families(max_lifetime = 137):\n",
    "    ans = []\n",
    "    for process in processes:\n",
    "        for man in process.generations[0]:\n",
    "            if (not(np.isnan(birthyear(man)) or np.isnan(deathyear(man)))):\n",
    "                if (birthyear(man) <= deathyear(man) <= birthyear(man) + max_lifetime):\n",
    "                    ans.append(birthyear(man))\n",
    "    ans.sort()\n",
    "    return np.array(ans)\n",
    "\n",
    "\n",
    "plt.figure(figsize=(14,7))\n",
    "plt.title(\"Возникновение новых фамилий по годам\")\n",
    "plt.hist(get_new_families(), bins=40)\n",
    "plt.show()"
   ]
  },
  {
   "cell_type": "markdown",
   "metadata": {},
   "source": [
    "Мне начинает казаться, что в этой задаче все функции - экспоненциальны.\n",
    "\n",
    "Обратите внимание, что, при том, что в 1800 году население составляет около 15000, из них ~2000 появились из ниоткуда только за последние 20 лет !!! (это без учёта потомком, появившихся из ниоткуда)\n",
    "<font color=\"red\">\n",
    "Таким образом, долговременная симуляция ветвящегося процесса, не учитывающая прибытие \"с низов общества (появление новых фамилий)\", может значимо недооценивать [недооценивала бы при прогнозе с 1800 года, например] прирост популяции. \n",
    "</font>"
   ]
  },
  {
   "cell_type": "markdown",
   "metadata": {},
   "source": [
    "Построим графики."
   ]
  },
  {
   "cell_type": "code",
   "execution_count": 666,
   "metadata": {
    "collapsed": false,
    "scrolled": false
   },
   "outputs": [
    {
     "data": {
      "image/png": "[encoded data removed]",
      "text/plain": [
       "<matplotlib.figure.Figure at 0x7f6077af0208>"
      ]
     },
     "metadata": {},
     "output_type": "display_data"
    }
   ],
   "source": [
    "step = 20\n",
    "\n",
    "lo_year_bound = 1500\n",
    "hi_year_bound = 1900\n",
    "new_families = get_new_families()\n",
    "new_families = new_families[(new_families >= lo_year_bound) & (new_families < hi_year_bound + step)]\n",
    "\n",
    "res = []\n",
    "\n",
    "for year in range(lo_year_bound, hi_year_bound + 1, step):\n",
    "    res.append((year, len(new_families[(year <= new_families) & (new_families < year+step)])))\n",
    "res = np.array(res)\n",
    "\n",
    "plt.figure(figsize=(14,7))\n",
    "plt.title(\"Возникновение новых фамилий по годам (логарифм)\")\n",
    "plt.scatter(res[:, 0], np.log(res[:, 1]))\n",
    "plt.show()"
   ]
  },
  {
   "cell_type": "markdown",
   "metadata": {},
   "source": [
    "Эта функция будет возвращать число рождённых на временном промежутке."
   ]
  },
  {
   "cell_type": "code",
   "execution_count": 667,
   "metadata": {
    "collapsed": false
   },
   "outputs": [],
   "source": [
    "def how_many_was_born(l_year, r_year):\n",
    "    total = 0\n",
    "    for process in processes:\n",
    "        for generation in process.generations:\n",
    "            for man in generation:\n",
    "                if (man.gender == \"male\"):\n",
    "                    if (birthyear(man) <= deathyear(man) <= birthyear(man) + 137): # MAX_LIFETIME\n",
    "                        if (l_year <= birthyear(man) < r_year):\n",
    "                            total += 1\n",
    "    return total"
   ]
  },
  {
   "cell_type": "markdown",
   "metadata": {},
   "source": [
    "Гипотеза: отношение возникновения новых фамилий ко всей рождаемости константно (или имеет другую хорошую зависимость)"
   ]
  },
  {
   "cell_type": "code",
   "execution_count": 736,
   "metadata": {
    "collapsed": false
   },
   "outputs": [
    {
     "data": {
      "image/png": "[encoded data removed]",
      "text/plain": [
       "<matplotlib.figure.Figure at 0x7f607a347d68>"
      ]
     },
     "metadata": {},
     "output_type": "display_data"
    }
   ],
   "source": [
    "step = 20\n",
    "lo_year_bound = 1500\n",
    "hi_year_bound = 1900\n",
    "new_families = get_new_families()\n",
    "new_families = new_families[(new_families >= lo_year_bound) & (new_families < hi_year_bound + step)]\n",
    "\n",
    "res = []\n",
    "for year in range(lo_year_bound, hi_year_bound + 1, step):\n",
    "    new_families_added = len(new_families[(year <= new_families) & (new_families < year+step)])\n",
    "    res.append((year,  new_families_added/how_many_was_born(year, year+step)))\n",
    "res = np.array(res)\n",
    "plt.figure(figsize=(14,7))\n",
    "plt.title(\"Возникновение новых фамилий по годам (отношение ко всей рождаемости)\")\n",
    "plt.scatter(res[:, 0], res[:, 1])\n",
    "plt.show()"
   ]
  },
  {
   "cell_type": "code",
   "execution_count": 737,
   "metadata": {
    "collapsed": false
   },
   "outputs": [
    {
     "name": "stdout",
     "output_type": "stream",
     "text": [
      "Гипотеза: распределение нормальное.\n",
      "\n",
      "Статистика критерия Шапиро-Уилка: 0.95993\n",
      "p-value:  0.51478\n",
      "Гипотеза не отвергается.\n",
      "\n",
      "Статистика критерия Колмогорова: 0.08123\n",
      "p-value:  0.99908\n",
      "Гипотеза не отвергается.\n",
      "\n"
     ]
    }
   ],
   "source": [
    "check_norm(res[:,0])"
   ]
  },
  {
   "cell_type": "markdown",
   "metadata": {},
   "source": [
    "Похоже, что это константа \"с нормальным шумом\", вот оценки его параметров"
   ]
  },
  {
   "cell_type": "code",
   "execution_count": 738,
   "metadata": {
    "collapsed": false
   },
   "outputs": [
    {
     "data": {
      "text/plain": [
       "(0.11343958894979693, 0.02706905852310524, 20)"
      ]
     },
     "execution_count": 738,
     "metadata": {},
     "output_type": "execute_result"
    }
   ],
   "source": [
    "new_families_koff = res[:,1].mean(), res[:,1].std(ddof=1), step\n",
    "new_families_koff"
   ]
  },
  {
   "cell_type": "markdown",
   "metadata": {},
   "source": [
    "Таким образом, для симуляции появления новых фамилий мы можем на каждые 100 спрогнозированных человек добавлять X новых фамилий (так, чтобы X = (X+100) * 0.11343...), ссылаясь на статистику за 1500-1900 года о том, что величина, равная отношению появившихся за 20 лет фамилий к числу всех рождений, распределена нормально со средним в 0.11343... При этом можно попытаться как брать эту константу каждый раз нормального распределения с этими параметрами, так и брать среднее, предположив, что дисперсия имеет место из-за недостаточности данных."
   ]
  },
  {
   "cell_type": "code",
   "execution_count": null,
   "metadata": {
    "collapsed": true
   },
   "outputs": [],
   "source": []
  },
  {
   "cell_type": "markdown",
   "metadata": {},
   "source": [
    "## Метод с симуляцией ветвящегося процесса"
   ]
  },
  {
   "cell_type": "markdown",
   "metadata": {},
   "source": [
    "Алгоритм симуляции: есть некоторое множество людей, хранящихся в массиве new_arr, как пары (номер фамилии, год рождения).\n",
    "Мы проходимся по этому массиву, для каждого человека генерируя число его детей из геометрического распределения, оценённого глобально (ибо малое число родов имеет оценку, отличную от среднего по всем родам). После этого, с помощью линейной регрессии, исходя даты рождения генерируется продолжительность жизни, после чего массив old_arr полученных троек  (номер фамилии, год рождения, год смерти) добавляется к результирующему массиву массивов троек generations, а двойки (номер фамилии, год рождения) сгенерированных сыновей (их дата рождения есть сумма даты рождения отца и среднего возраста рождения среднего сына) составляют новое значения массива new_arr. Если какие-то из сыновей родились после границы рассматриваемого периода update, то они повторяются. \n",
    "\n",
    "При этом, если число рождённых в некоторое двадцатилетие born_in_period[year/20][0] таково, что было добавлено новых (хранится в born_in_period[year/20][1]) фамилий меньше, чем должно было быть добавлено, то добавляется новая фамилия.\n",
    "\n",
    "После этого алгоритм запускается столько раз, сколько нужно чтобы все сыновья родились после (up)date. В итоговом массиве хранится информация о каждом жившем человеке в виде (номер фамилии, год рождения, год смерти).\n",
    "\n",
    "ВНИМАНИЕ: Как и в исходных данных, люди, рождённые в одном массиве new_arr не обязательно жили в пересекющихся временных интервалах! Номер new_arr, в котором были рождены люди определяет только удаление от корня, если он общий (сыновья, внуки, правнуки и т.д.)\n",
    "\n",
    "ЗАМЕЧАНИЕ: люди хранятся явно, а не как колчества, чтобы эмуляция была более подробной, т.е. небыло скачкообразного рождения людей в поколениях, с одинаковыми датами рождения и смерти. Из минусов такого решения - более медленная работа, но этот выбор был сделан осознанно, благо памяти в системе и терпения на рассчёты (в отличие от времени выполнения этого исследовательского задания) хватает."
   ]
  },
  {
   "cell_type": "code",
   "execution_count": 739,
   "metadata": {
    "collapsed": true
   },
   "outputs": [],
   "source": [
    "mean_child_age = lifetimes[lifetimes[:, 3] != 0, 3].mean() \n",
    "# средний возраст, появления среднего сына в семье\n",
    "\n",
    "\n",
    "avg_lifetime = lifetimes[(1900 <= lifetimes[:, 0]) & (lifetimes[:, 0] < 2000), 1].mean()\n",
    "\n",
    "\n",
    "def get_child_age(age, sons):\n",
    "    return mean_child_age\n",
    "\n",
    "def get_lifetime(age, sons):\n",
    "    return predict_linear_regression_like_polyfit(LR_lifetime, [age])[0, 0]\n",
    "\n",
    "def get_new_families_kofficient():  # см. определение new_families_koff\n",
    "    return new_families_koff\n",
    "\n",
    "born_in_period = dict()  # здесь хранятся данные о двадцатилетиях\n",
    "max_family_id = -999\n",
    "\n",
    "def iteration(arr, log=False):  # одна итерация \n",
    "    if log:\n",
    "        print(\"Iteration\")\n",
    "    new_arr = []\n",
    "    old_arr = []\n",
    "    global born_in_period  # здесь хранятся данные о двадцатилетиях\n",
    "    global max_family_id\n",
    "    xis = sps.geom(p=p_data).rvs(size=len(arr)) - 1\n",
    "    for man_i, man in enumerate(arr):\n",
    "        family, birth = man\n",
    "        xi = xis[man_i]\n",
    "        for i in range(xi):\n",
    "            bithdate = birth + get_child_age(birth, xi)\n",
    "            new_arr.append((family, bithdate))\n",
    "            \n",
    "            bd_period = int(bithdate) // int(get_new_families_kofficient()[2])\n",
    "            # двадцатилетка\n",
    "            \n",
    "            \n",
    "            if (log):\n",
    "                print(\"Birthday in bd_period = \", bd_period)\n",
    "            if (not (bd_period in born_in_period.keys())):\n",
    "                born_in_period[bd_period] = np.array((0, 0))\n",
    "            born_in_period[bd_period] += np.array([1, 0])\n",
    "            \n",
    "            if (born_in_period[bd_period][0] * get_new_families_kofficient()[0]\n",
    "                    - born_in_period[bd_period][1] >= 0.5): \n",
    "                ## new family\n",
    "                born_in_period[bd_period] += np.array([1, 1])\n",
    "                max_family_id += 1\n",
    "                if (log):\n",
    "                    print(\"New family\", (max_family_id, bithdate))\n",
    "                new_arr.append((max_family_id, bithdate))\n",
    "            \n",
    "        death = birth + get_lifetime(birth, sons)\n",
    "        old_arr.append((family, birth, death))\n",
    "    return old_arr, new_arr\n",
    "        \n",
    "def iterate(arr, update, log=False):  # все итерации\n",
    "    global born_in_period  # здесь хранятся данные о двадцатилетиях\n",
    "    global max_family_id\n",
    "    \n",
    "    born_in_period = dict()\n",
    "    max_family_id = len(arr)\n",
    "    \n",
    "    generations = []\n",
    "    old = None\n",
    "    new = None\n",
    "    exit = False\n",
    "    new = list(arr)[:]\n",
    "    while (not exit):\n",
    "        old, new = iteration(new, log=log)\n",
    "        generations.append(old)\n",
    "        for i in range(len(new))[::-1]:\n",
    "            if new[i][1] > update:\n",
    "                del new[i]\n",
    "        if (len(new) == 0):\n",
    "            exit = True\n",
    "    return generations\n",
    "        \n",
    "def slice_new_data(generations, year):\n",
    "    # даёт данные о численности населения и фамилий\n",
    "    total = 0\n",
    "    families = set()\n",
    "    for generation in generations:\n",
    "        for man in generation:\n",
    "            family, birth, death = man\n",
    "            if ((birth <= year) and (year < death)):\n",
    "                total += 1\n",
    "                families.add(family)\n",
    "    return total, len(families)\n",
    "\n",
    "\n",
    "\n",
    "def slice_old_data(year):\n",
    "    # даёт данные о численности населения и фамилий\n",
    "    total = 0\n",
    "    families = set()\n",
    "    for i, process in enumerate(processes):\n",
    "        for generation in process.generations:\n",
    "            for man in generation:\n",
    "                if (man.gender == \"male\"):\n",
    "                    if (not np.isnan(birthyear(man))):\n",
    "                        if (birthyear(man) <= year < deathyear(man)):\n",
    "                            total += 1\n",
    "                            families.add(i)\n",
    "    return total, len(families)"
   ]
  },
  {
   "cell_type": "code",
   "execution_count": 743,
   "metadata": {
    "collapsed": false,
    "deletable": true,
    "editable": true,
    "scrolled": false
   },
   "outputs": [
    {
     "name": "stdout",
     "output_type": "stream",
     "text": [
      "Iteration\n",
      "Birthday in bd_period =  96\n",
      "Birthday in bd_period =  96\n",
      "Birthday in bd_period =  96\n",
      "Birthday in bd_period =  96\n",
      "Birthday in bd_period =  96\n",
      "New family (3, 1932.6951585880179)\n",
      "Birthday in bd_period =  96\n",
      "Birthday in bd_period =  96\n",
      "Birthday in bd_period =  96\n",
      "Iteration\n",
      "Birthday in bd_period =  98\n",
      "Birthday in bd_period =  98\n",
      "Birthday in bd_period =  98\n",
      "Birthday in bd_period =  98\n",
      "Birthday in bd_period =  98\n",
      "New family (4, 1966.3903171760358)\n",
      "Iteration\n",
      "Birthday in bd_period =  99\n",
      "Birthday in bd_period =  99\n",
      "(15, 4) [[('Stalin', 1900, 1960.471202467457), ('Putin', 1901, 1961.4945415388388)], [('Stalin', 1932.6951585880179, 1993.9294356956002), ('Stalin', 1932.6951585880179, 1993.9294356956002), ('Stalin', 1932.6951585880179, 1993.9294356956002), ('Stalin', 1932.6951585880179, 1993.9294356956002), ('Stalin', 1932.6951585880179, 1993.9294356956002), (3, 1932.6951585880179, 1993.9294356956002), ('Putin', 1933.6951585880179, 1994.952774766982), ('Putin', 1933.6951585880179, 1994.952774766982), ('Putin', 1933.6951585880179, 1994.952774766982)], [('Stalin', 1965.3903171760358, 2027.3876689237436), ('Stalin', 1965.3903171760358, 2027.3876689237436), (3, 1965.3903171760358, 2027.3876689237436), ('Putin', 1966.3903171760358, 2028.4110079951254), ('Putin', 1966.3903171760358, 2028.4110079951254), (4, 1966.3903171760358, 2028.4110079951254)]]\n",
      "{96: array([9, 1]), 98: array([6, 1]), 99: array([2, 0])}\n"
     ]
    }
   ],
   "source": [
    "# Sample  \n",
    "g = iterate([(\"Stalin\", 1900), (\"Putin\", 1901)], 1970, log=True)\n",
    "print(slice(g, 1970), g)\n",
    "print(born_in_period)"
   ]
  },
  {
   "cell_type": "code",
   "execution_count": 744,
   "metadata": {
    "collapsed": false,
    "deletable": true,
    "editable": true,
    "scrolled": true
   },
   "outputs": [
    {
     "name": "stdout",
     "output_type": "stream",
     "text": [
      "0.462140257401\n"
     ]
    }
   ],
   "source": [
    "print(p_data)"
   ]
  },
  {
   "cell_type": "markdown",
   "metadata": {},
   "source": [
    "Выделим людей, которых мы поместим в первую итерацию - это люди, которые жили в year_split, при том такие, что никто из их отцов не жил в year_split. Таким образом, не будет ситуации, когда для человека с сыновьями в массиве было сгенерировано число сыновей, т.к. если мы добавляет человека, то его сыновей - нет."
   ]
  },
  {
   "cell_type": "code",
   "execution_count": 745,
   "metadata": {
    "collapsed": false,
    "deletable": true,
    "editable": true
   },
   "outputs": [
    {
     "name": "stdout",
     "output_type": "stream",
     "text": [
      "data_set[:10] =  [(2, 1900), (4, 1900), (6, 1855), (7, 1849), (47, 1814), (52, 1852), (66, 1854), (110, 1888), (115, 1865), (121, 1832)]\n"
     ]
    },
    {
     "data": {
      "text/plain": [
       "11174"
      ]
     },
     "execution_count": 745,
     "metadata": {},
     "output_type": "execute_result"
    }
   ],
   "source": [
    "data_set = []\n",
    "year_split = 1900\n",
    "\n",
    "bfs_layer_old = []\n",
    "bfs_layer_new = []\n",
    "for i, process in enumerate(processes):\n",
    "    for man in process.generations[0]:\n",
    "        if (man.gender == \"male\"):\n",
    "            bfs_layer_new.append((i, man))\n",
    "while (len(bfs_layer_new) > 0):\n",
    "    bfs_layer_old = bfs_layer_new\n",
    "    bfs_layer_new = []\n",
    "    for (i, man) in bfs_layer_old:\n",
    "        if (birthyear(man) <= year_split) and (year_split < deathyear(man)):\n",
    "            data_set.append((i, birthyear(man)))\n",
    "        else:\n",
    "            for name in man.children:\n",
    "                if (name in male):\n",
    "                    bfs_layer_new.append((i, human_data[name]))\n",
    "# END BFS\n",
    "\n",
    "print(\"data_set[:10] = \", data_set[:10])\n",
    "len(data_set)"
   ]
  },
  {
   "cell_type": "markdown",
   "metadata": {},
   "source": [
    "Число людей, которых мы выбрали"
   ]
  },
  {
   "cell_type": "code",
   "execution_count": 746,
   "metadata": {
    "collapsed": false
   },
   "outputs": [
    {
     "data": {
      "text/plain": [
       "11174"
      ]
     },
     "execution_count": 746,
     "metadata": {},
     "output_type": "execute_result"
    }
   ],
   "source": [
    "len(data_set)"
   ]
  },
  {
   "cell_type": "markdown",
   "metadata": {},
   "source": [
    "Смоделируем процесс один раз."
   ]
  },
  {
   "cell_type": "code",
   "execution_count": 747,
   "metadata": {
    "collapsed": false,
    "deletable": true,
    "editable": true
   },
   "outputs": [
    {
     "name": "stdout",
     "output_type": "stream",
     "text": [
      "CPU times: user 31.1 s, sys: 76 ms, total: 31.2 s\n",
      "Wall time: 31.2 s\n"
     ]
    }
   ],
   "source": [
    "%%time\n",
    "g = iterate(data_set, 2200)"
   ]
  },
  {
   "cell_type": "code",
   "execution_count": 748,
   "metadata": {
    "collapsed": false,
    "deletable": true,
    "editable": true
   },
   "outputs": [
    {
     "data": {
      "image/png": "[encoded data removed]",
      "text/plain": [
       "<matplotlib.figure.Figure at 0x7f607a347dd8>"
      ]
     },
     "metadata": {},
     "output_type": "display_data"
    },
    {
     "data": {
      "text/plain": [
       "array([20285,  5599])"
      ]
     },
     "execution_count": 748,
     "metadata": {},
     "output_type": "execute_result"
    }
   ],
   "source": [
    "data_grid = range(1500, 1951, 10)\n",
    "pred_grid = range(1900, 2201, 10)\n",
    "\n",
    "data = np.array([slice_old_data(year) for year in data_grid])\n",
    "pred = np.array([slice_new_data(g, year) for year in pred_grid])\n",
    "\n",
    "plt.figure(figsize=(14,7))\n",
    "\n",
    "plt.plot(data_grid, data[:, 0], label=\"data, men\")\n",
    "plt.plot(data_grid, data[:, 1], label=\"data, families\")\n",
    "\n",
    "plt.plot(pred_grid, pred[:, 0], label=\"prediction, men\")\n",
    "plt.plot(pred_grid, pred[:, 1], label=\"prediction, families\")\n",
    "\n",
    "plt.legend()\n",
    "plt.grid()\n",
    "\n",
    "plt.show()\n",
    "model[0, :]"
   ]
  },
  {
   "cell_type": "code",
   "execution_count": 749,
   "metadata": {
    "collapsed": false,
    "deletable": true,
    "editable": true
   },
   "outputs": [
    {
     "data": {
      "image/png": "[encoded data removed]",
      "text/plain": [
       "<matplotlib.figure.Figure at 0x7f607a347f98>"
      ]
     },
     "metadata": {},
     "output_type": "display_data"
    }
   ],
   "source": [
    "peoples_predict_100 = [slice_new_data(g, year)[0] for year in range(1900, 2210, 100)]\n",
    "peoples_data_100 = [slice_old_data(year)[0] for year in range(0, 2010, 100)]\n",
    "                        \n",
    "plt.figure(figsize=(14,7))\n",
    "plt.title(\"Число аристократов, родившихся в каждом веке (данные и предсказание)\")\n",
    "plt.scatter(range(0, 2010, 100), peoples_data_100)\n",
    "plt.scatter([2000], peoples_data_100[-1])\n",
    "plt.scatter(range(1900, 2210, 100), peoples_predict_100, color=\"red\")\n",
    "plt.grid()\n",
    "plt.show()"
   ]
  },
  {
   "cell_type": "markdown",
   "metadata": {
    "deletable": true,
    "editable": true
   },
   "source": [
    "Да это же экспонента, закон размножения живых организмов! Жёлтая точка - данные о 20 веке, для того, чтобы ещё раз показать недостаточность данных о людях из этого времени."
   ]
  },
  {
   "cell_type": "markdown",
   "metadata": {},
   "source": [
    "________\n",
    "Построим доверительные интервалы, смоделировав процесс 100 раз и выкинув 5% выбросов. (уровень доверия 95%)"
   ]
  },
  {
   "cell_type": "code",
   "execution_count": 750,
   "metadata": {
    "collapsed": true
   },
   "outputs": [],
   "source": [
    "def make_CI(data_set, future_year, years_to_slice, n):\n",
    "    res = []\n",
    "    for n_i in range(n):\n",
    "        print(\"CI : stage %d of %d\" % (n_i+1, n))\n",
    "        g = iterate(data_set, 2200)\n",
    "        res.append(tuple(map(lambda year: slice_new_data(g, year), years_to_slice)))\n",
    "    return np.array(res)"
   ]
  },
  {
   "cell_type": "markdown",
   "metadata": {},
   "source": [
    "Процесс генерации"
   ]
  },
  {
   "cell_type": "code",
   "execution_count": 798,
   "metadata": {
    "collapsed": false,
    "scrolled": false
   },
   "outputs": [
    {
     "name": "stdout",
     "output_type": "stream",
     "text": [
      "CI : stage 1 of 100\n",
      "CI : stage 2 of 100\n",
      "CI : stage 3 of 100\n",
      "CI : stage 4 of 100\n",
      "CI : stage 5 of 100\n",
      "CI : stage 6 of 100\n",
      "CI : stage 7 of 100\n",
      "CI : stage 8 of 100\n",
      "CI : stage 9 of 100\n",
      "CI : stage 10 of 100\n",
      "CI : stage 11 of 100\n",
      "CI : stage 12 of 100\n",
      "CI : stage 13 of 100\n",
      "CI : stage 14 of 100\n",
      "CI : stage 15 of 100\n",
      "CI : stage 16 of 100\n",
      "CI : stage 17 of 100\n",
      "CI : stage 18 of 100\n",
      "CI : stage 19 of 100\n",
      "CI : stage 20 of 100\n",
      "CI : stage 21 of 100\n",
      "CI : stage 22 of 100\n",
      "CI : stage 23 of 100\n",
      "CI : stage 24 of 100\n",
      "CI : stage 25 of 100\n",
      "CI : stage 26 of 100\n",
      "CI : stage 27 of 100\n",
      "CI : stage 28 of 100\n",
      "CI : stage 29 of 100\n",
      "CI : stage 30 of 100\n",
      "CI : stage 31 of 100\n",
      "CI : stage 32 of 100\n",
      "CI : stage 33 of 100\n",
      "CI : stage 34 of 100\n",
      "CI : stage 35 of 100\n",
      "CI : stage 36 of 100\n",
      "CI : stage 37 of 100\n",
      "CI : stage 38 of 100\n",
      "CI : stage 39 of 100\n",
      "CI : stage 40 of 100\n",
      "CI : stage 41 of 100\n",
      "CI : stage 42 of 100\n",
      "CI : stage 43 of 100\n",
      "CI : stage 44 of 100\n",
      "CI : stage 45 of 100\n",
      "CI : stage 46 of 100\n",
      "CI : stage 47 of 100\n",
      "CI : stage 48 of 100\n",
      "CI : stage 49 of 100\n",
      "CI : stage 50 of 100\n",
      "CI : stage 51 of 100\n",
      "CI : stage 52 of 100\n",
      "CI : stage 53 of 100\n",
      "CI : stage 54 of 100\n",
      "CI : stage 55 of 100\n",
      "CI : stage 56 of 100\n",
      "CI : stage 57 of 100\n",
      "CI : stage 58 of 100\n",
      "CI : stage 59 of 100\n",
      "CI : stage 60 of 100\n",
      "CI : stage 61 of 100\n",
      "CI : stage 62 of 100\n",
      "CI : stage 63 of 100\n",
      "CI : stage 64 of 100\n",
      "CI : stage 65 of 100\n",
      "CI : stage 66 of 100\n",
      "CI : stage 67 of 100\n",
      "CI : stage 68 of 100\n",
      "CI : stage 69 of 100\n",
      "CI : stage 70 of 100\n",
      "CI : stage 71 of 100\n",
      "CI : stage 72 of 100\n",
      "CI : stage 73 of 100\n",
      "CI : stage 74 of 100\n",
      "CI : stage 75 of 100\n",
      "CI : stage 76 of 100\n",
      "CI : stage 77 of 100\n",
      "CI : stage 78 of 100\n",
      "CI : stage 79 of 100\n",
      "CI : stage 80 of 100\n",
      "CI : stage 81 of 100\n",
      "CI : stage 82 of 100\n",
      "CI : stage 83 of 100\n",
      "CI : stage 84 of 100\n",
      "CI : stage 85 of 100\n",
      "CI : stage 86 of 100\n",
      "CI : stage 87 of 100\n",
      "CI : stage 88 of 100\n",
      "CI : stage 89 of 100\n",
      "CI : stage 90 of 100\n",
      "CI : stage 91 of 100\n",
      "CI : stage 92 of 100\n",
      "CI : stage 93 of 100\n",
      "CI : stage 94 of 100\n",
      "CI : stage 95 of 100\n",
      "CI : stage 96 of 100\n",
      "CI : stage 97 of 100\n",
      "CI : stage 98 of 100\n",
      "CI : stage 99 of 100\n",
      "CI : stage 100 of 100\n",
      "CPU times: user 56min 55s, sys: 15.8 s, total: 57min 11s\n",
      "Wall time: 57min 16s\n"
     ]
    }
   ],
   "source": [
    "%%time\n",
    "runs = 100\n",
    "CI_year_grid = range(1900, 2210, 50)\n",
    "CI = make_CI(data_set, 2200, CI_year_grid, runs)"
   ]
  },
  {
   "cell_type": "code",
   "execution_count": 799,
   "metadata": {
    "collapsed": false
   },
   "outputs": [
    {
     "name": "stdout",
     "output_type": "stream",
     "text": [
      "(100, 7, 2)\n"
     ]
    },
    {
     "data": {
      "text/plain": [
       "array([[  1900,  21519,  28783,   6521,   7707],\n",
       "       [  1950,  34280,  47441,   7019,   9231],\n",
       "       [  2000,  53488,  72383,   9857,  12950],\n",
       "       [  2050,  80610, 111376,  14402,  19505],\n",
       "       [  2100, 125180, 168319,  21619,  28704],\n",
       "       [  2150, 190094, 262897,  32418,  44296],\n",
       "       [  2200, 295265, 394796,  49238,  65700]])"
      ]
     },
     "execution_count": 799,
     "metadata": {},
     "output_type": "execute_result"
    }
   ],
   "source": [
    "CI_Model_Ready = []\n",
    "print(CI.shape)\n",
    "ddof_left = int(runs  * 0.025)\n",
    "ddof_right = int(runs * 0.025)\n",
    "for i in range(CI.shape[1]):\n",
    "    men = CI[:, i, 0]\n",
    "    men.sort()\n",
    "    \n",
    "    fam = CI[:, i, 1]\n",
    "    fam.sort()\n",
    "    CI_Model_Ready.append((CI_year_grid[i],\n",
    "                           men[ddof_left], men[-ddof_right - 1],\n",
    "                           fam[ddof_left], fam[-ddof_right -1]))\n",
    "CI_Model_Ready = np.array(CI_Model_Ready)\n",
    "# CI, CI.min(axis=0), CI.max(axis=0)\n",
    "CI_Model_Ready"
   ]
  },
  {
   "cell_type": "markdown",
   "metadata": {},
   "source": [
    "Нанесём доверительные интервалы на графики:"
   ]
  },
  {
   "cell_type": "code",
   "execution_count": 800,
   "metadata": {
    "collapsed": false
   },
   "outputs": [
    {
     "data": {
      "image/png": "[encoded data removed]",
      "text/plain": [
       "<matplotlib.figure.Figure at 0x7f60baa3d7b8>"
      ]
     },
     "metadata": {},
     "output_type": "display_data"
    },
    {
     "data": {
      "text/plain": [
       "array([20285,  5599])"
      ]
     },
     "execution_count": 800,
     "metadata": {},
     "output_type": "execute_result"
    }
   ],
   "source": [
    "data_grid = range(1500, 1951, 10)\n",
    "pred_grid = range(1900, 2201, 10)\n",
    "\n",
    "data = np.array([slice_old_data(year) for year in data_grid])\n",
    "pred = np.array([slice_new_data(g, year) for year in pred_grid])\n",
    "\n",
    "plt.figure(figsize=(14,7))\n",
    "\n",
    "plt.plot(data_grid, data[:, 0], label=\"data, men\")\n",
    "plt.plot(data_grid, data[:, 1], label=\"data, families\")\n",
    "\n",
    "plt.plot(pred_grid, pred[:, 0], label=\"prediction (one), men\")\n",
    "plt.fill_between(CI_Model_Ready[:, 0], CI_Model_Ready[:, 1], CI_Model_Ready[:, 2], alpha=0.25)\n",
    "\n",
    "plt.plot(pred_grid, pred[:, 1], label=\"prediction (one), families\")\n",
    "plt.fill_between(CI_Model_Ready[:, 0], CI_Model_Ready[:, 3], CI_Model_Ready[:, 4], alpha=0.25)\n",
    "\n",
    "plt.legend(loc=2)\n",
    "plt.grid()\n",
    "\n",
    "plt.show()\n",
    "model[0, :]"
   ]
  },
  {
   "cell_type": "markdown",
   "metadata": {},
   "source": [
    "## Метод с линейной легрессией"
   ]
  },
  {
   "cell_type": "markdown",
   "metadata": {},
   "source": [
    "Используем класс для линейной регрессии из прошлого семестра"
   ]
  },
  {
   "cell_type": "code",
   "execution_count": 801,
   "metadata": {
    "collapsed": true
   },
   "outputs": [],
   "source": [
    "class LinearRegression:\n",
    "    def __init__(self):\n",
    "        super()\n",
    "        \n",
    "    def fit(self, X, Y, alpha=0.95):\n",
    "        ''' Обучение модели. Предполагается модель Y = X * theta + epsilon, \n",
    "            где X --- регрессор, Y --- отклик,\n",
    "            а epsilon имеет нормальное распределение с параметрами N(0, sigma^2 * I_n).\n",
    "            alpha --- уровень доверия для доверительного интервала.\n",
    "        '''\n",
    "        \n",
    "        self.n, self.k = X.shape\n",
    "\n",
    "        self.theta = np.linalg.inv(X.T @ X) @ (X.T) @ Y\n",
    "            # МНК-оценка = (Z.T * Z)^-1 * Z.T * Y\n",
    "\n",
    "        vector = Y - X @ self.theta\n",
    "        self.sigma_sq = 1. / (self.n - self.k) * (vector @ vector.T)\n",
    "            # несмещенная оценка для sigma^2 = 1 / (n - k) * || Y - X * self.theta || ^2 \n",
    "\n",
    "        a = np.linalg.inv(X.T @ X)\n",
    "        u_upper = sps.t.ppf((1. + alpha) / 2., self.n - self.k)\n",
    "        u_lower = sps.t.ppf((1. - alpha) / 2., self.n - self.k)\n",
    "        ci = [\n",
    "            [self.theta[i] - np.sqrt(abs(a[i][i] * self.sigma_sq)) * u_upper,\n",
    "             self.theta[i] - np.sqrt(abs(a[i][i] * self.sigma_sq)) * u_lower]\n",
    "            for i in range(self.k)\n",
    "        ]\n",
    "        self.conf_int = np.array(ci)\n",
    "        \n",
    "        return self\n",
    "    \n",
    "    def summary(self):\n",
    "        print('Linear regression on %d features and %d examples' % (self.k, self.n))\n",
    "        print('Sigma: %.6f' % self.sigma_sq)\n",
    "        print('\\t\\tLower\\t\\tEstimation\\tUpper')\n",
    "        for j in range(self.k):\n",
    "            print('theta_%d:\\t%.6f\\t%.6f\\t%.6f' % (j, self.conf_int[j, 0], \n",
    "                                                   self.theta[j], self.conf_int[j, 1]))\n",
    "        \n",
    "    def predict(self, X):\n",
    "        ''' Возвращает предсказание отклика на новых объектах X. '''\n",
    "        \n",
    "        Y_pred = X @ self.theta\n",
    "        return Y_pred\n",
    "    \n",
    "def make_linear_regression_like_polyfit(X, Y):\n",
    "    LR = LinearRegression()\n",
    "    LR_X = np.array([np.ones(len(X)), X]).T\n",
    "    LR.fit(LR_X, np.array(Y).reshape(len(Y), 1))\n",
    "    return LR\n",
    "\n",
    "def predict_linear_regression_like_polyfit(LR, X):\n",
    "    return LR.predict(np.array([np.ones(len(X)), X]).T)"
   ]
  },
  {
   "cell_type": "markdown",
   "metadata": {},
   "source": [
    "Известно, количество людей растёт по экспоненциальному закону. Было сделано предположение, что это верно и для наших данных. Как оказалось, это похоже на правду на временном промежутке с 1500 года и до 1900 (далее число аристократов падает раза в три, что, скорее всего, объясняется неполными данными (учёт аристократов и их потомков после революций и падений империй затруднён, возможно). Если рассматривать число аристократов за каждые 20 лет, получаем выборку размера 21 элемент, при этом, применяя линейную регрессию, получаем, что остатки распределены нормально (критерий Шапиро-Уилка и Колмогорова из ноутбука с первого семинара не отвергают гипотезу). Будем использовать линейную регрессию для построения прогноза численности , а доверительный интервал строить, как написано в этой (Фёрстер Э., Рёнц Б. Методы корреляционного и регрессионного анализа, ссылка для чтения в браузере: http://edu.alnam.ru/book_mkor.php?id=50 ) на 190ой странице, или здесь (https://studfiles.net/preview/3616903/page:41/ , в учебном пособии Тульского Государственного Университета) \n",
    "\n",
    "Времени на персказ доказательства, к сожалению, не осталось."
   ]
  },
  {
   "cell_type": "code",
   "execution_count": 802,
   "metadata": {
    "collapsed": false,
    "deletable": true,
    "editable": true
   },
   "outputs": [
    {
     "name": "stdout",
     "output_type": "stream",
     "text": [
      "[847.0, 929.0, 1176.0, 1295.0, 1559.0, 1715.0, 1952.0, 2215.0, 2986.0, 3583.0, 4304.0, 5360.0, 6817.0, 8603.0, 10549.0, 12700.0, 15006.0, 17125.0, 19104.0, 20356.0, 21558.0]\n"
     ]
    }
   ],
   "source": [
    "peoples_data_50 = []\n",
    "# число мужчин в двадцатилетия, соответствующие датам в date_grid\n",
    "\n",
    "start_year = 1500\n",
    "date_grid = range(start_year, 1910, 20)\n",
    "lr_x = date_grid\n",
    "for i in date_grid:\n",
    "    total = 0.\n",
    "    for process in processes:\n",
    "        for generation in process.generations:\n",
    "            for man in generation:\n",
    "                if (man.gender == \"male\"):\n",
    "                    if (not np.isnan(birthyear(man))):\n",
    "                        if (birthyear(man) <= i < deathyear(man)):\n",
    "                            total += 1\n",
    "    peoples_data_50.append(total)\n",
    "\n",
    "print(peoples_data_50)"
   ]
  },
  {
   "cell_type": "code",
   "execution_count": 803,
   "metadata": {
    "collapsed": false,
    "deletable": true,
    "editable": true
   },
   "outputs": [
    {
     "data": {
      "image/png": "[encoded data removed]",
      "text/plain": [
       "<matplotlib.figure.Figure at 0x7f6081195cc0>"
      ]
     },
     "metadata": {},
     "output_type": "display_data"
    }
   ],
   "source": [
    "peoples_data_50 = np.array(peoples_data_50)\n",
    "\n",
    "plt.figure(figsize=(14,4))\n",
    "plt.title(\"log(Число аристократов) от времени\")\n",
    "plt.scatter(date_grid, np.log(peoples_data_50))\n",
    "\n",
    "d = np.polyfit(date_grid, np.log(peoples_data_50), deg=1)\n",
    "p = np.poly1d(d)\n",
    "# в качестве альтернативы, можно использовать polyfit, который работает при deg=1 точно так же\n",
    "# (обратите внимание, что графики совпадают)\n",
    "\n",
    "def make_linear_regression_like_polyfit(X, Y):\n",
    "    LR = LinearRegression()\n",
    "    LR_X = np.array([np.ones(len(X)), X]).T\n",
    "    LR.fit(LR_X, np.array(Y).reshape(len(Y), 1))\n",
    "    return LR\n",
    "\n",
    "def predict_linear_regression_like_polyfit(LR, X):\n",
    "    return LR.predict(np.array([np.ones(len(X)), X]).T)\n",
    "\n",
    "\n",
    "#plt.plot(date_grid, list(map(p, date_grid)), color=\"yellow\")\n",
    "\n",
    "LR_men =  make_linear_regression_like_polyfit(date_grid, np.log(peoples_data_50))\n",
    "plt.plot(date_grid, predict_linear_regression_like_polyfit(LR_men, date_grid), color=\"red\")\n",
    "\n",
    "plt.plot(date_grid, predict_linear_regression_like_polyfit(LR_men, date_grid), color=\"red\")\n",
    "plt.show()\n"
   ]
  },
  {
   "cell_type": "markdown",
   "metadata": {},
   "source": [
    "Проверяем остатки на нормальность"
   ]
  },
  {
   "cell_type": "code",
   "execution_count": 804,
   "metadata": {
    "collapsed": false,
    "deletable": true,
    "editable": true
   },
   "outputs": [
    {
     "data": {
      "text/plain": [
       "(array([ 0.10412597,  0.01861448,  0.07646034, -0.00506735,  0.00254701,\n",
       "        -0.08000403, -0.12848216, -0.18000378, -0.05924101, -0.05489481,\n",
       "        -0.04946996, -0.00797034,  0.05456565,  0.1093376 ,  0.13533816,\n",
       "         0.14298955,  0.13191814,  0.08608787,  0.01752669, -0.09691487,\n",
       "        -0.21746314]), 21)"
      ]
     },
     "execution_count": 804,
     "metadata": {},
     "output_type": "execute_result"
    }
   ],
   "source": [
    "ost = np.log(peoples_data_50) - predict_linear_regression_like_polyfit(LR_men, date_grid)[:, 0]\n",
    "ost, len(ost)"
   ]
  },
  {
   "cell_type": "code",
   "execution_count": 805,
   "metadata": {
    "collapsed": false,
    "deletable": true,
    "editable": true
   },
   "outputs": [
    {
     "data": {
      "text/plain": [
       "array([ 302312.22351111,  494005.12583393])"
      ]
     },
     "execution_count": 805,
     "metadata": {},
     "output_type": "execute_result"
    }
   ],
   "source": [
    "def ret_CI(X, X0, Y0, ost):  # строит доверительный интервал в общем виде\n",
    "    X = np.array(X)\n",
    "    n = len(ost)\n",
    "    sq = 1. + (1./n) + (X0 - X.mean())**2 / ((X-X.mean())**2).sum()\n",
    "    ost_disp = ost.std(ddof=1)\n",
    "    length = ost_disp * (sq)**0.5\n",
    "    tq = sps.t(n-2).ppf(q=0.95)\n",
    "    return (Y0 - length*tq, Y0 + length*tq)\n",
    "\n",
    "CI = ret_CI(date_grid, 2200, predict_linear_regression_like_polyfit(LR_men, [2200])[0, 0], ost)\n",
    "CI=np.array(CI)\n",
    "np.exp(CI)"
   ]
  },
  {
   "cell_type": "markdown",
   "metadata": {},
   "source": [
    "Построим доверительные интервалы в удобочитаемом виде"
   ]
  },
  {
   "cell_type": "code",
   "execution_count": 806,
   "metadata": {
    "collapsed": false
   },
   "outputs": [
    {
     "data": {
      "text/plain": [
       "array([[   1900.        ,   22038.86863557,   32577.19739139],\n",
       "       [   1950.        ,   34179.84907468,   51130.52273096],\n",
       "       [   2000.        ,   52951.17461534,   80338.20662189],\n",
       "       [   2050.        ,   81950.61155622,  126355.13332407],\n",
       "       [   2100.        ,  126720.21128016,  198905.39309542],\n",
       "       [   2150.        ,  195794.41671481,  313357.07278948],\n",
       "       [   2200.        ,  302312.22351111,  494005.12583393]])"
      ]
     },
     "execution_count": 806,
     "metadata": {},
     "output_type": "execute_result"
    }
   ],
   "source": [
    "CI_Linear_Men_Ready = []\n",
    "for year in CI_year_grid:\n",
    "    pred = predict_linear_regression_like_polyfit(LR_men, [year])[0, 0]\n",
    "    CI_ret = np.exp(np.array(ret_CI(date_grid, year, pred, ost)))\n",
    "    CI_Linear_Men_Ready.append((year, CI_ret[0], CI_ret[1]))\n",
    "    \n",
    "CI_Linear_Men_Ready = np.array(CI_Linear_Men_Ready)\n",
    "CI_Linear_Men_Ready"
   ]
  },
  {
   "cell_type": "markdown",
   "metadata": {},
   "source": [
    "В ячейке ниже - код с первого семинара."
   ]
  },
  {
   "cell_type": "code",
   "execution_count": 807,
   "metadata": {
    "collapsed": false,
    "deletable": true,
    "editable": true
   },
   "outputs": [
    {
     "data": {
      "image/png": "[encoded data removed]",
      "text/plain": [
       "<matplotlib.figure.Figure at 0x7f6085507d68>"
      ]
     },
     "metadata": {},
     "output_type": "display_data"
    },
    {
     "name": "stdout",
     "output_type": "stream",
     "text": [
      "Гипотеза: распределение нормальное.\n",
      "\n",
      "Статистика критерия Шапиро-Уилка: 0.95607\n",
      "p-value:  0.44077\n",
      "Гипотеза не отвергается.\n",
      "\n",
      "Статистика критерия Колмогорова: 0.10741\n",
      "p-value:  0.96872\n",
      "Гипотеза не отвергается.\n",
      "\n"
     ]
    }
   ],
   "source": [
    "from sklearn.neighbors import KernelDensity as KDE\n",
    "\n",
    "def norm_plot(x, bins=10, bandwidth=1):\n",
    "    plt.figure(figsize=(10, 6))\n",
    "    plt.hist(x, label=\"hist\", bins=bins, normed=True, color='turquoise')\n",
    "\n",
    "    xmin, xmax = plt.xlim()\n",
    "    x_axis = np.linspace(xmin, xmax, 300)\n",
    "\n",
    "    n_params = sps.norm.fit(x)\n",
    "    plt.plot(x_axis,\n",
    "             sps.norm.pdf(x_axis, loc=n_params[0], scale=n_params[1]),\n",
    "             label=\"norm_pdf\")\n",
    "\n",
    "    kernel_density = KDE(bandwidth=bandwidth).fit(x[:, np.newaxis])\n",
    "    plt.plot(x_axis, np.exp(kernel_density.score_samples(x_axis[:, np.newaxis])), label='kde')\n",
    "\n",
    "    plt.legend()\n",
    "    plt.show()\n",
    "    \n",
    "def check_norm(x, bins=10, alpha=0.05):    \n",
    "    print(\"Гипотеза: распределение нормальное.\\n\")\n",
    "    \n",
    "    shtest = sps.shapiro(x)\n",
    "    print(\"Статистика критерия Шапиро-Уилка:\", round(shtest[0], 5))\n",
    "    print(\"p-value: \", round(shtest[1], 5))\n",
    "    if shtest[1] < alpha:\n",
    "        print(\"Гипотеза отвергается.\\n\")\n",
    "    else:\n",
    "        print(\"Гипотеза не отвергается.\\n\")\n",
    "\n",
    "    n_params = sps.norm.fit(x)  # ОМП для нормального распределения\n",
    "    norm = sps.norm(loc=n_params[0], scale=n_params[1])\n",
    "    \n",
    "    kstest = sps.kstest(x, 'norm', args=n_params)\n",
    "    print(\"Статистика критерия Колмогорова:\", round(kstest.statistic, 5))\n",
    "    print(\"p-value: \", round(kstest.pvalue, 5))\n",
    "    if kstest.pvalue < alpha:\n",
    "        print(\"Гипотеза отвергается.\\n\")\n",
    "    else:\n",
    "        print(\"Гипотеза не отвергается.\\n\")\n",
    "    \n",
    "    # Вспомогательная функция, подсчитывающая число элементов выборки,\n",
    "    # лежащих в подмножествах разбиения.\n",
    "    def count_data(x, delim):\n",
    "        res = []\n",
    "        res.append((x < delim[0]).sum())\n",
    "        for i in range(1, len(delim)):\n",
    "            res.append(((delim[i-1] <= x) & (x < delim[i])).sum())\n",
    "        res.append((delim[-1] <= x).sum())\n",
    "        return res\n",
    "    \n",
    "    # Критерий хи-квадрат.\n",
    "    if len(x) < 50:\n",
    "        return\n",
    "    \n",
    "    if 5 > float(len(x)) / bins:\n",
    "        bins = int(len(x) / 5)\n",
    "    \n",
    "    # Разбиение на интервалы, равные по вероятностной мере.\n",
    "    f_exp = np.ones(bins, dtype=np.float64) / bins\n",
    "    delim = list(map(lambda y: norm.ppf(y), f_exp.cumsum()))\n",
    "    delim = delim[:-1]\n",
    "    ctest = sps.chisquare(count_data(x, delim), f_exp=f_exp * len(x))\n",
    "    print (\"Статистика критерия хи-квадрат при разбиении на интервалы, \"\\\n",
    "           \"равные по вероятностной мере:\",\n",
    "           round(ctest.statistic, 5))\n",
    "    print (\"p-value: \", round(ctest.pvalue, 5))\n",
    "    if ctest.pvalue < alpha:\n",
    "        print (\"Гипотеза отвергается.\\n\")\n",
    "    else:\n",
    "        print (\"Гипотеза не отвергается.\\n\")\n",
    "        \n",
    "norm_plot(ost, bins=30, bandwidth=0.2)\n",
    "check_norm(ost)"
   ]
  },
  {
   "cell_type": "code",
   "execution_count": 808,
   "metadata": {
    "collapsed": false,
    "deletable": true,
    "editable": true
   },
   "outputs": [
    {
     "data": {
      "image/png": "[encoded data removed]",
      "text/plain": [
       "<matplotlib.figure.Figure at 0x7f60805d9588>"
      ]
     },
     "metadata": {},
     "output_type": "display_data"
    }
   ],
   "source": [
    "predictions =  np.exp(\n",
    "    predict_linear_regression_like_polyfit(LR_men, range(1500, 2210, 20))\n",
    ")\n",
    "\n",
    "plt.figure(figsize=(14,7))\n",
    "plt.title(\"Численность населения: данные и прогноз\")\n",
    "plt.scatter(range(1500, 2210, 20), predictions)\n",
    "plt.scatter(date_grid, peoples_data_50)\n",
    "plt.grid()\n",
    "plt.show()"
   ]
  },
  {
   "cell_type": "markdown",
   "metadata": {
    "deletable": true,
    "editable": true
   },
   "source": [
    "#### Семьи"
   ]
  },
  {
   "cell_type": "markdown",
   "metadata": {},
   "source": [
    "Как оказалось, данный метод применим и для числа фамилий. Ниже идёт повторение всех действий, сделанных для количества мужчин в будущем."
   ]
  },
  {
   "cell_type": "code",
   "execution_count": 809,
   "metadata": {
    "collapsed": false,
    "deletable": true,
    "editable": true
   },
   "outputs": [],
   "source": [
    "def get_families(year):\n",
    "    res = 0\n",
    "    for process in processes:\n",
    "        found = False\n",
    "        for generation in process.generations:\n",
    "            for man in generation:\n",
    "                if (man.gender==\"male\"):\n",
    "                    if (birthyear(man) <= year < deathyear(man)):\n",
    "                        found = True\n",
    "                        break;\n",
    "            if (found):\n",
    "                break;\n",
    "        if (found):\n",
    "            res += 1\n",
    "    return res\n",
    "\n",
    "year_grid = range(1200, 1950, 20)\n",
    "families_25 = np.array([get_families(year) for year in year_grid])"
   ]
  },
  {
   "cell_type": "code",
   "execution_count": 810,
   "metadata": {
    "collapsed": false,
    "deletable": true,
    "editable": true
   },
   "outputs": [
    {
     "data": {
      "image/png": "[encoded data removed]",
      "text/plain": [
       "<matplotlib.figure.Figure at 0x7f607756a4e0>"
      ]
     },
     "metadata": {},
     "output_type": "display_data"
    }
   ],
   "source": [
    "plt.figure(figsize=(14, 7))\n",
    "plt.title(\"Число ещё живых фамилий\")\n",
    "plt.scatter(year_grid, families_25)\n",
    "plt.grid()\n",
    "plt.show()"
   ]
  },
  {
   "cell_type": "code",
   "execution_count": 811,
   "metadata": {
    "collapsed": false,
    "deletable": true,
    "editable": true
   },
   "outputs": [
    {
     "data": {
      "image/png": "[encoded data removed]",
      "text/plain": [
       "<matplotlib.figure.Figure at 0x7f60770ef4a8>"
      ]
     },
     "metadata": {},
     "output_type": "display_data"
    }
   ],
   "source": [
    "plt.figure(figsize=(14, 7))\n",
    "plt.title(\"Число ещё живых фамилий\")\n",
    "plt.scatter(year_grid, np.log(families_25))\n",
    "plt.grid()\n",
    "plt.show()"
   ]
  },
  {
   "cell_type": "code",
   "execution_count": 812,
   "metadata": {
    "collapsed": false,
    "deletable": true,
    "editable": true
   },
   "outputs": [],
   "source": [
    "year_grid = range(1500, 1900, 20)\n",
    "families_20 = np.array([get_families(year) for year in year_grid])\n",
    "            "
   ]
  },
  {
   "cell_type": "code",
   "execution_count": 813,
   "metadata": {
    "collapsed": false,
    "deletable": true,
    "editable": true
   },
   "outputs": [
    {
     "data": {
      "image/png": "[encoded data removed]",
      "text/plain": [
       "<matplotlib.figure.Figure at 0x7f60769bcc50>"
      ]
     },
     "metadata": {},
     "output_type": "display_data"
    }
   ],
   "source": [
    "            \n",
    "plt.figure(figsize=(14, 7))\n",
    "plt.title(\"Число ещё живых фамилий\")\n",
    "plt.scatter(year_grid, np.log(families_20))\n",
    "\n",
    "LR_family =  make_linear_regression_like_polyfit(year_grid, np.log(families_20))\n",
    "plt.plot(year_grid, predict_linear_regression_like_polyfit(LR_family, year_grid), color =\"red\")\n",
    "\n",
    "plt.grid()\n",
    "plt.show()"
   ]
  },
  {
   "cell_type": "code",
   "execution_count": 814,
   "metadata": {
    "collapsed": false,
    "deletable": true,
    "editable": true
   },
   "outputs": [
    {
     "data": {
      "text/plain": [
       "array([-0.0564081 , -0.01195764,  0.1134176 ,  0.03055842, -0.0115512 ,\n",
       "       -0.03180858, -0.03814801, -0.03725124,  0.0033853 ,  0.00887968,\n",
       "       -0.02262378, -0.00629649,  0.01047057,  0.0182204 ,  0.00730378,\n",
       "        0.02660408,  0.05146157,  0.04224494, -0.00499055, -0.09151073])"
      ]
     },
     "execution_count": 814,
     "metadata": {},
     "output_type": "execute_result"
    }
   ],
   "source": [
    "ost = np.log(families_20) - predict_linear_regression_like_polyfit(LR_family, year_grid)[:, 0]\n",
    "ost"
   ]
  },
  {
   "cell_type": "code",
   "execution_count": 815,
   "metadata": {
    "collapsed": false,
    "deletable": true,
    "editable": true
   },
   "outputs": [
    {
     "data": {
      "image/png": "[encoded data removed]",
      "text/plain": [
       "<matplotlib.figure.Figure at 0x7f6076c406a0>"
      ]
     },
     "metadata": {},
     "output_type": "display_data"
    },
    {
     "name": "stdout",
     "output_type": "stream",
     "text": [
      "Гипотеза: распределение нормальное.\n",
      "\n",
      "Статистика критерия Шапиро-Уилка: 0.96801\n",
      "p-value:  0.71235\n",
      "Гипотеза не отвергается.\n",
      "\n",
      "Статистика критерия Колмогорова: 0.10225\n",
      "p-value:  0.98498\n",
      "Гипотеза не отвергается.\n",
      "\n"
     ]
    }
   ],
   "source": [
    "norm_plot(ost, bins=25, bandwidth=0.2)\n",
    "check_norm(ost)"
   ]
  },
  {
   "cell_type": "code",
   "execution_count": 816,
   "metadata": {
    "collapsed": false,
    "deletable": true,
    "editable": true,
    "scrolled": false
   },
   "outputs": [
    {
     "data": {
      "image/png": "[encoded data removed]",
      "text/plain": [
       "<matplotlib.figure.Figure at 0x7f6076980400>"
      ]
     },
     "metadata": {},
     "output_type": "display_data"
    }
   ],
   "source": [
    "\n",
    "predictions =  np.exp(\n",
    "    predict_linear_regression_like_polyfit(LR_family, range(1500, 2210, 20))\n",
    ")\n",
    "\n",
    "#predictions = [np.exp(p(year)) for year in range(1500, 2210, 20)]\n",
    "plt.figure(figsize=(14,7))\n",
    "plt.title(\"Количество фамилий: данные и прогноз\")\n",
    "plt.scatter(range(1500, 2210, 20), predictions)\n",
    "plt.scatter(year_grid, families_20)\n",
    "plt.show()"
   ]
  },
  {
   "cell_type": "code",
   "execution_count": 817,
   "metadata": {
    "collapsed": false,
    "deletable": true,
    "editable": true
   },
   "outputs": [
    {
     "data": {
      "text/plain": [
       "array([  98375.59519171,  121891.19389933])"
      ]
     },
     "execution_count": 817,
     "metadata": {},
     "output_type": "execute_result"
    }
   ],
   "source": [
    "CI = ret_CI(year_grid, 2200, predict_linear_regression_like_polyfit(LR_family, [2200])[0, 0], ost)\n",
    "CI = np.array(CI)\n",
    "np.exp(CI)"
   ]
  },
  {
   "cell_type": "code",
   "execution_count": 818,
   "metadata": {
    "collapsed": false,
    "deletable": true,
    "editable": true
   },
   "outputs": [
    {
     "data": {
      "text/plain": [
       "array([[   1900.        ,    7206.40680808,    8486.38312609],\n",
       "       [   1950.        ,   11160.17699297,   13208.09070677],\n",
       "       [   2000.        ,   17275.26943843,   20566.29263969],\n",
       "       [   2050.        ,   26730.02824074,   32036.94819624],\n",
       "       [   2100.        ,   41344.14448577,   49923.64227457],\n",
       "       [   2150.        ,   63927.36620522,   77822.14125474],\n",
       "       [   2200.        ,   98817.67430198,  121345.89113918]])"
      ]
     },
     "execution_count": 818,
     "metadata": {},
     "output_type": "execute_result"
    }
   ],
   "source": [
    "CI_Linear_Family_Ready = []\n",
    "for year in CI_year_grid:\n",
    "    pred = predict_linear_regression_like_polyfit(LR_family, [year])[0, 0]\n",
    "    CI_ret = np.exp(np.array(ret_CI(date_grid, year, pred, ost)))\n",
    "    CI_Linear_Family_Ready.append((year, CI_ret[0], CI_ret[1]))\n",
    "    \n",
    "CI_Linear_Family_Ready = np.array(CI_Linear_Family_Ready)\n",
    "CI_Linear_Family_Ready"
   ]
  },
  {
   "cell_type": "markdown",
   "metadata": {},
   "source": [
    "Построим все доверительные интервалы на одном графике:"
   ]
  },
  {
   "cell_type": "code",
   "execution_count": 819,
   "metadata": {
    "collapsed": false
   },
   "outputs": [
    {
     "data": {
      "image/png": "[encoded data removed]",
      "text/plain": [
       "<matplotlib.figure.Figure at 0x7f60820ac160>"
      ]
     },
     "metadata": {},
     "output_type": "display_data"
    }
   ],
   "source": [
    "plt.figure(figsize=(14, 7))\n",
    "plt.fill_between(CI_Model_Ready[:, 0], CI_Model_Ready[:, 1],\n",
    "                 CI_Model_Ready[:, 2], alpha=0.5,\n",
    "                 label = \"simulation model, men CI\", color=\"blue\")\n",
    "plt.fill_between(CI_Model_Ready[:, 0], CI_Model_Ready[:, 3],\n",
    "                 CI_Model_Ready[:, 4], alpha=0.5,\n",
    "                 label = \"simulation model, family CI\", color=\"green\")\n",
    "\n",
    "plt.fill_between(CI_Linear_Men_Ready[:, 0], CI_Linear_Men_Ready[:, 1],\n",
    "                 CI_Linear_Men_Ready[:, 2], alpha=0.5,\n",
    "                 label = \"linear model, men CI\", color=\"red\")\n",
    "plt.fill_between(CI_Linear_Family_Ready[:, 0], CI_Linear_Family_Ready[:, 1],\n",
    "                 CI_Linear_Family_Ready[:, 2], alpha=0.5,\n",
    "                 label = \"linear model, family CI\", color=\"yellow\")\n",
    "plt.grid()\n",
    "plt.legend(loc=2)\n",
    "plt.show()"
   ]
  },
  {
   "cell_type": "markdown",
   "metadata": {},
   "source": [
    "**Вывод:** Были смоделированы количества мужчин (женщин мы условились не учитывать нигде в пределая данной задачи, посколько роды представляют мужчины) до 2200 года при помощи моделирования ветвящегося процесса и с помощью линейной регрессии, а так же сделаны дополнительные выводы.\n",
    "\n",
    "Видно, что доверительные интервалы числа людей пересекаются, тогда как для числа фамилий, возможно, имеет место недооценка числа фамилий, появляющихся \"из ниоткуда\""
   ]
  },
  {
   "cell_type": "code",
   "execution_count": null,
   "metadata": {
    "collapsed": true
   },
   "outputs": [],
   "source": []
  }
 ],
 "metadata": {
  "kernelspec": {
   "display_name": "Python 3",
   "language": "python",
   "name": "python3"
  },
  "language_info": {
   "codemirror_mode": {
    "name": "ipython",
    "version": 3
   },
   "file_extension": ".py",
   "mimetype": "text/x-python",
   "name": "python",
   "nbconvert_exporter": "python",
   "pygments_lexer": "ipython3",
   "version": "3.5.2"
  }
 },
 "nbformat": 4,
 "nbformat_minor": 0
}
